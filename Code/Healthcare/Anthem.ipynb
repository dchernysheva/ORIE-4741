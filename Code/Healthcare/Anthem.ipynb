{
 "cells": [
  {
   "cell_type": "code",
   "execution_count": 1,
   "metadata": {},
   "outputs": [],
   "source": [
    "using CSV, Plots, Random, LinearAlgebra, Statistics, DataFrames, ARFIMA"
   ]
  },
  {
   "cell_type": "code",
   "execution_count": 2,
   "metadata": {},
   "outputs": [
    {
     "data": {
      "text/html": [
       "<table class=\"data-frame\"><thead><tr><th></th><th>TotalSentimentScore</th><th>Vaccine</th><th>Death</th><th>Shut</th><th>Date</th></tr><tr><th></th><th>Float64</th><th>Int64</th><th>Int64</th><th>Int64</th><th>String</th></tr></thead><tbody><p>263 rows × 5 columns</p><tr><th>1</th><td>0.0858615</td><td>0</td><td>0</td><td>0</td><td>02/11/2020</td></tr><tr><th>2</th><td>-0.0980214</td><td>2</td><td>3</td><td>1</td><td>02/12/2020</td></tr><tr><th>3</th><td>-0.0931667</td><td>0</td><td>3</td><td>0</td><td>02/13/2020</td></tr><tr><th>4</th><td>0.00919</td><td>0</td><td>1</td><td>2</td><td>02/14/2020</td></tr><tr><th>5</th><td>0.0</td><td>1</td><td>0</td><td>0</td><td>02/15/2020</td></tr><tr><th>6</th><td>-0.1998</td><td>0</td><td>0</td><td>1</td><td>02/16/2020</td></tr><tr><th>7</th><td>-0.190725</td><td>1</td><td>0</td><td>0</td><td>02/17/2020</td></tr><tr><th>8</th><td>-0.0343133</td><td>0</td><td>2</td><td>0</td><td>02/18/2020</td></tr><tr><th>9</th><td>-0.144262</td><td>0</td><td>0</td><td>0</td><td>02/19/2020</td></tr><tr><th>10</th><td>-0.0162727</td><td>0</td><td>1</td><td>0</td><td>02/20/2020</td></tr><tr><th>11</th><td>-0.1702</td><td>0</td><td>0</td><td>0</td><td>02/21/2020</td></tr><tr><th>12</th><td>-0.0222375</td><td>3</td><td>1</td><td>1</td><td>02/22/2020</td></tr><tr><th>13</th><td>0.0131182</td><td>0</td><td>0</td><td>0</td><td>02/23/2020</td></tr><tr><th>14</th><td>-0.218642</td><td>1</td><td>1</td><td>0</td><td>02/24/2020</td></tr><tr><th>15</th><td>0.00606364</td><td>0</td><td>0</td><td>1</td><td>02/25/2020</td></tr><tr><th>16</th><td>-0.0903647</td><td>1</td><td>2</td><td>0</td><td>02/26/2020</td></tr><tr><th>17</th><td>0.0432111</td><td>2</td><td>0</td><td>1</td><td>02/27/2020</td></tr><tr><th>18</th><td>-0.0194889</td><td>2</td><td>1</td><td>1</td><td>02/28/2020</td></tr><tr><th>19</th><td>-0.131395</td><td>0</td><td>9</td><td>0</td><td>02/29/2020</td></tr><tr><th>20</th><td>-0.0813222</td><td>0</td><td>0</td><td>1</td><td>03/01/2020</td></tr><tr><th>21</th><td>-0.117297</td><td>2</td><td>1</td><td>2</td><td>03/02/2020</td></tr><tr><th>22</th><td>-0.11209</td><td>0</td><td>3</td><td>0</td><td>03/03/2020</td></tr><tr><th>23</th><td>-0.173153</td><td>1</td><td>4</td><td>2</td><td>03/04/2020</td></tr><tr><th>24</th><td>-0.0402525</td><td>0</td><td>5</td><td>0</td><td>03/05/2020</td></tr><tr><th>25</th><td>-0.103</td><td>0</td><td>4</td><td>2</td><td>03/06/2020</td></tr><tr><th>26</th><td>-0.1122</td><td>0</td><td>2</td><td>1</td><td>03/07/2020</td></tr><tr><th>27</th><td>-0.0177</td><td>1</td><td>1</td><td>0</td><td>03/08/2020</td></tr><tr><th>28</th><td>-0.099588</td><td>0</td><td>3</td><td>3</td><td>03/09/2020</td></tr><tr><th>29</th><td>-0.128652</td><td>3</td><td>1</td><td>4</td><td>03/10/2020</td></tr><tr><th>30</th><td>0.018477</td><td>2</td><td>6</td><td>7</td><td>03/11/2020</td></tr><tr><th>&vellip;</th><td>&vellip;</td><td>&vellip;</td><td>&vellip;</td><td>&vellip;</td><td>&vellip;</td></tr></tbody></table>"
      ],
      "text/latex": [
       "\\begin{tabular}{r|ccccc}\n",
       "\t& TotalSentimentScore & Vaccine & Death & Shut & Date\\\\\n",
       "\t\\hline\n",
       "\t& Float64 & Int64 & Int64 & Int64 & String\\\\\n",
       "\t\\hline\n",
       "\t1 & 0.0858615 & 0 & 0 & 0 & 02/11/2020 \\\\\n",
       "\t2 & -0.0980214 & 2 & 3 & 1 & 02/12/2020 \\\\\n",
       "\t3 & -0.0931667 & 0 & 3 & 0 & 02/13/2020 \\\\\n",
       "\t4 & 0.00919 & 0 & 1 & 2 & 02/14/2020 \\\\\n",
       "\t5 & 0.0 & 1 & 0 & 0 & 02/15/2020 \\\\\n",
       "\t6 & -0.1998 & 0 & 0 & 1 & 02/16/2020 \\\\\n",
       "\t7 & -0.190725 & 1 & 0 & 0 & 02/17/2020 \\\\\n",
       "\t8 & -0.0343133 & 0 & 2 & 0 & 02/18/2020 \\\\\n",
       "\t9 & -0.144262 & 0 & 0 & 0 & 02/19/2020 \\\\\n",
       "\t10 & -0.0162727 & 0 & 1 & 0 & 02/20/2020 \\\\\n",
       "\t11 & -0.1702 & 0 & 0 & 0 & 02/21/2020 \\\\\n",
       "\t12 & -0.0222375 & 3 & 1 & 1 & 02/22/2020 \\\\\n",
       "\t13 & 0.0131182 & 0 & 0 & 0 & 02/23/2020 \\\\\n",
       "\t14 & -0.218642 & 1 & 1 & 0 & 02/24/2020 \\\\\n",
       "\t15 & 0.00606364 & 0 & 0 & 1 & 02/25/2020 \\\\\n",
       "\t16 & -0.0903647 & 1 & 2 & 0 & 02/26/2020 \\\\\n",
       "\t17 & 0.0432111 & 2 & 0 & 1 & 02/27/2020 \\\\\n",
       "\t18 & -0.0194889 & 2 & 1 & 1 & 02/28/2020 \\\\\n",
       "\t19 & -0.131395 & 0 & 9 & 0 & 02/29/2020 \\\\\n",
       "\t20 & -0.0813222 & 0 & 0 & 1 & 03/01/2020 \\\\\n",
       "\t21 & -0.117297 & 2 & 1 & 2 & 03/02/2020 \\\\\n",
       "\t22 & -0.11209 & 0 & 3 & 0 & 03/03/2020 \\\\\n",
       "\t23 & -0.173153 & 1 & 4 & 2 & 03/04/2020 \\\\\n",
       "\t24 & -0.0402525 & 0 & 5 & 0 & 03/05/2020 \\\\\n",
       "\t25 & -0.103 & 0 & 4 & 2 & 03/06/2020 \\\\\n",
       "\t26 & -0.1122 & 0 & 2 & 1 & 03/07/2020 \\\\\n",
       "\t27 & -0.0177 & 1 & 1 & 0 & 03/08/2020 \\\\\n",
       "\t28 & -0.099588 & 0 & 3 & 3 & 03/09/2020 \\\\\n",
       "\t29 & -0.128652 & 3 & 1 & 4 & 03/10/2020 \\\\\n",
       "\t30 & 0.018477 & 2 & 6 & 7 & 03/11/2020 \\\\\n",
       "\t$\\dots$ & $\\dots$ & $\\dots$ & $\\dots$ & $\\dots$ & $\\dots$ \\\\\n",
       "\\end{tabular}\n"
      ],
      "text/plain": [
       "263×5 DataFrame\n",
       "│ Row │ TotalSentimentScore │ Vaccine │ Death │ Shut  │ Date       │\n",
       "│     │ \u001b[90mFloat64\u001b[39m             │ \u001b[90mInt64\u001b[39m   │ \u001b[90mInt64\u001b[39m │ \u001b[90mInt64\u001b[39m │ \u001b[90mString\u001b[39m     │\n",
       "├─────┼─────────────────────┼─────────┼───────┼───────┼────────────┤\n",
       "│ 1   │ 0.0858615           │ 0       │ 0     │ 0     │ 02/11/2020 │\n",
       "│ 2   │ -0.0980214          │ 2       │ 3     │ 1     │ 02/12/2020 │\n",
       "│ 3   │ -0.0931667          │ 0       │ 3     │ 0     │ 02/13/2020 │\n",
       "│ 4   │ 0.00919             │ 0       │ 1     │ 2     │ 02/14/2020 │\n",
       "│ 5   │ 0.0                 │ 1       │ 0     │ 0     │ 02/15/2020 │\n",
       "│ 6   │ -0.1998             │ 0       │ 0     │ 1     │ 02/16/2020 │\n",
       "│ 7   │ -0.190725           │ 1       │ 0     │ 0     │ 02/17/2020 │\n",
       "│ 8   │ -0.0343133          │ 0       │ 2     │ 0     │ 02/18/2020 │\n",
       "│ 9   │ -0.144262           │ 0       │ 0     │ 0     │ 02/19/2020 │\n",
       "│ 10  │ -0.0162727          │ 0       │ 1     │ 0     │ 02/20/2020 │\n",
       "⋮\n",
       "│ 253 │ -0.0074186          │ 5       │ 2     │ 4     │ 10/20/2020 │\n",
       "│ 254 │ -0.0994814          │ 16      │ 17    │ 0     │ 10/21/2020 │\n",
       "│ 255 │ 0.0726509           │ 4       │ 1     │ 3     │ 10/22/2020 │\n",
       "│ 256 │ -0.0800933          │ 4       │ 7     │ 3     │ 10/23/2020 │\n",
       "│ 257 │ -0.0457233          │ 1       │ 1     │ 1     │ 10/24/2020 │\n",
       "│ 258 │ -0.0489087          │ 3       │ 1     │ 3     │ 10/25/2020 │\n",
       "│ 259 │ -0.0450962          │ 6       │ 4     │ 3     │ 10/26/2020 │\n",
       "│ 260 │ -0.109511           │ 5       │ 8     │ 2     │ 10/27/2020 │\n",
       "│ 261 │ -0.0308831          │ 4       │ 4     │ 8     │ 10/28/2020 │\n",
       "│ 262 │ -0.0524837          │ 3       │ 1     │ 6     │ 10/29/2020 │\n",
       "│ 263 │ 0.143944            │ 1       │ 0     │ 0     │ 10/30/2020 │"
      ]
     },
     "execution_count": 2,
     "metadata": {},
     "output_type": "execute_result"
    }
   ],
   "source": [
    "sentiment = CSV.read(\"sentiment1.csv\")"
   ]
  },
  {
   "cell_type": "code",
   "execution_count": 19,
   "metadata": {},
   "outputs": [
    {
     "data": {
      "text/html": [
       "<table class=\"data-frame\"><thead><tr><th></th><th>Column1</th></tr><tr><th></th><th>Float64</th></tr></thead><tbody><p>263 rows × 1 columns</p><tr><th>1</th><td>279.91</td></tr><tr><th>2</th><td>296.0</td></tr><tr><th>3</th><td>298.87</td></tr><tr><th>4</th><td>297.82</td></tr><tr><th>5</th><td>298.978</td></tr><tr><th>6</th><td>300.135</td></tr><tr><th>7</th><td>301.293</td></tr><tr><th>8</th><td>302.45</td></tr><tr><th>9</th><td>304.06</td></tr><tr><th>10</th><td>293.94</td></tr><tr><th>11</th><td>294.71</td></tr><tr><th>12</th><td>288.973</td></tr><tr><th>13</th><td>283.237</td></tr><tr><th>14</th><td>277.5</td></tr><tr><th>15</th><td>267.4</td></tr><tr><th>16</th><td>268.15</td></tr><tr><th>17</th><td>257.86</td></tr><tr><th>18</th><td>257.09</td></tr><tr><th>19</th><td>261.817</td></tr><tr><th>20</th><td>266.543</td></tr><tr><th>21</th><td>271.27</td></tr><tr><th>22</th><td>256.38</td></tr><tr><th>23</th><td>296.42</td></tr><tr><th>24</th><td>287.16</td></tr><tr><th>25</th><td>282.19</td></tr><tr><th>26</th><td>278.067</td></tr><tr><th>27</th><td>273.943</td></tr><tr><th>28</th><td>269.82</td></tr><tr><th>29</th><td>286.05</td></tr><tr><th>30</th><td>281.69</td></tr><tr><th>&vellip;</th><td>&vellip;</td></tr></tbody></table>"
      ],
      "text/latex": [
       "\\begin{tabular}{r|c}\n",
       "\t& Column1\\\\\n",
       "\t\\hline\n",
       "\t& Float64\\\\\n",
       "\t\\hline\n",
       "\t1 & 279.91 \\\\\n",
       "\t2 & 296.0 \\\\\n",
       "\t3 & 298.87 \\\\\n",
       "\t4 & 297.82 \\\\\n",
       "\t5 & 298.978 \\\\\n",
       "\t6 & 300.135 \\\\\n",
       "\t7 & 301.293 \\\\\n",
       "\t8 & 302.45 \\\\\n",
       "\t9 & 304.06 \\\\\n",
       "\t10 & 293.94 \\\\\n",
       "\t11 & 294.71 \\\\\n",
       "\t12 & 288.973 \\\\\n",
       "\t13 & 283.237 \\\\\n",
       "\t14 & 277.5 \\\\\n",
       "\t15 & 267.4 \\\\\n",
       "\t16 & 268.15 \\\\\n",
       "\t17 & 257.86 \\\\\n",
       "\t18 & 257.09 \\\\\n",
       "\t19 & 261.817 \\\\\n",
       "\t20 & 266.543 \\\\\n",
       "\t21 & 271.27 \\\\\n",
       "\t22 & 256.38 \\\\\n",
       "\t23 & 296.42 \\\\\n",
       "\t24 & 287.16 \\\\\n",
       "\t25 & 282.19 \\\\\n",
       "\t26 & 278.067 \\\\\n",
       "\t27 & 273.943 \\\\\n",
       "\t28 & 269.82 \\\\\n",
       "\t29 & 286.05 \\\\\n",
       "\t30 & 281.69 \\\\\n",
       "\t$\\dots$ & $\\dots$ \\\\\n",
       "\\end{tabular}\n"
      ],
      "text/plain": [
       "263×1 DataFrame\n",
       "│ Row │ Column1 │\n",
       "│     │ \u001b[90mFloat64\u001b[39m │\n",
       "├─────┼─────────┤\n",
       "│ 1   │ 279.91  │\n",
       "│ 2   │ 296.0   │\n",
       "│ 3   │ 298.87  │\n",
       "│ 4   │ 297.82  │\n",
       "│ 5   │ 298.978 │\n",
       "│ 6   │ 300.135 │\n",
       "│ 7   │ 301.293 │\n",
       "│ 8   │ 302.45  │\n",
       "│ 9   │ 304.06  │\n",
       "│ 10  │ 293.94  │\n",
       "⋮\n",
       "│ 253 │ 291.19  │\n",
       "│ 254 │ 296.16  │\n",
       "│ 255 │ 305.17  │\n",
       "│ 256 │ 310.76  │\n",
       "│ 257 │ 307.09  │\n",
       "│ 258 │ 303.42  │\n",
       "│ 259 │ 299.75  │\n",
       "│ 260 │ 298.88  │\n",
       "│ 261 │ 285.8   │\n",
       "│ 262 │ 273.26  │\n",
       "│ 263 │ 272.8   │"
      ]
     },
     "execution_count": 19,
     "metadata": {},
     "output_type": "execute_result"
    }
   ],
   "source": [
    "stock = CSV.read(\"Anthem.csv\",header = false)"
   ]
  },
  {
   "cell_type": "code",
   "execution_count": 20,
   "metadata": {},
   "outputs": [
    {
     "data": {
      "text/plain": [
       "6-element Array{Int64,1}:\n",
       "  43\n",
       "  87\n",
       " 131\n",
       " 175\n",
       " 219\n",
       " 263"
      ]
     },
     "execution_count": 20,
     "metadata": {},
     "output_type": "execute_result"
    }
   ],
   "source": [
    "# index for 5-fold\n",
    "split = [43,43 + 44,43+ 44*2,43 + 44*3, 43 + 44*4,43 + 44*5]"
   ]
  },
  {
   "cell_type": "code",
   "execution_count": 24,
   "metadata": {},
   "outputs": [
    {
     "data": {
      "text/plain": [
       "263-element Array{Float64,1}:\n",
       " 279.910004\n",
       " 296.0\n",
       " 298.869995\n",
       " 297.820007\n",
       " 298.9775083\n",
       " 300.1350095\n",
       " 301.2925108\n",
       " 302.450012\n",
       " 304.059998\n",
       " 293.940002\n",
       " 294.709991\n",
       " 288.9733273\n",
       " 283.2366637\n",
       "   ⋮\n",
       " 292.209991\n",
       " 291.190002\n",
       " 296.160004\n",
       " 305.170013\n",
       " 310.76001\n",
       " 307.0900067\n",
       " 303.4200033\n",
       " 299.75\n",
       " 298.880005\n",
       " 285.799988\n",
       " 273.26001\n",
       " 272.799988"
      ]
     },
     "execution_count": 24,
     "metadata": {},
     "output_type": "execute_result"
    }
   ],
   "source": [
    "stock[1]"
   ]
  },
  {
   "cell_type": "code",
   "execution_count": 22,
   "metadata": {},
   "outputs": [
    {
     "data": {
      "text/plain": [
       "abs_err (generic function with 1 method)"
      ]
     },
     "execution_count": 22,
     "metadata": {},
     "output_type": "execute_result"
    }
   ],
   "source": [
    "function abs_err(y,pred)\n",
    "    return mean(abs.(y-pred))\n",
    "end"
   ]
  },
  {
   "cell_type": "code",
   "execution_count": 91,
   "metadata": {},
   "outputs": [
    {
     "data": {
      "text/plain": [
       "18×5 Array{Any,2}:\n",
       " -41.0863    -72.6368     -60.825      -57.3763    -44.9457\n",
       "  -1.27415    -1.67175     -1.36378     -1.30473    -1.235\n",
       "  -0.717599   -1.11343      0.824359     0.474992   -0.0328206\n",
       "  -2.23546    -3.51709     -3.42203     -3.52183    -3.28443\n",
       " 283.844     279.604      281.103      283.482     283.589\n",
       " -58.7764    -49.3443     -42.4971     -22.1353    -16.8618\n",
       "   0.798971    0.917244     0.94198      0.932849    0.926236\n",
       "   0.425684    0.14459      0.119088     0.144864    0.123007\n",
       "   2.58301    -0.796817    -0.219538    -0.287652   -0.0710162\n",
       "  -1.76057    -0.295788    -0.207644    -0.317783   -0.382502\n",
       "  50.9202     18.5899      12.4788      16.9648     19.2438\n",
       " -51.3606    -44.1143     -38.2162     -19.3594    -14.5296\n",
       "   0.637825    0.840094     0.860508     0.843534    0.855381\n",
       "   0.233002    0.0923892    0.0947904    0.103499    0.0810018\n",
       "   0.744642    0.231554     0.190977     0.218054    0.179482\n",
       "   1.84023    -0.924623    -0.282466    -0.341573   -0.0779934\n",
       "  -1.71911    -0.226419    -0.160507    -0.275303   -0.358565\n",
       "  30.6347     14.0193       8.49569     12.6542     16.108"
      ]
     },
     "execution_count": 91,
     "metadata": {},
     "output_type": "execute_result"
    }
   ],
   "source": [
    "num_of_model = 3\n",
    "mse = zeros(num_of_model,5)\n",
    "w = zeros(18)\n",
    "for i in 1:5\n",
    "    w_set = []\n",
    "    # setting train and validation set\n",
    "    split_cur = split[i]\n",
    "    split2 = Int(round(split_cur*4/5))\n",
    "        \n",
    "    stock_train = stock[1][1:split2]\n",
    "    stock_val = stock[1][split2 + 1:split_cur]\n",
    "        \n",
    "    sent_train = sentiment[1][1:split2]\n",
    "    sent_val = sentiment[1][split2 + 1:split_cur]\n",
    "        \n",
    "    death_train = sentiment[3][1:split2]\n",
    "    death_val = sentiment[3][split2 + 1:split_cur]\n",
    "        \n",
    "    vac_train = sentiment[2][1:split2]\n",
    "    vac_val = sentiment[2][split2 + 1:split_cur]\n",
    "        \n",
    "    shut_train = sentiment[4][1:split2]\n",
    "    shut_val = sentiment[4][split2 + 1:split_cur]\n",
    "    \n",
    "    #Naive Model, w[1:5]\n",
    "    Xtrain = [sent_train death_train vac_train shut_train ones(length(sent_train))]\n",
    "    Xval = [sent_val death_val vac_val shut_val ones(length(sent_val))]\n",
    "    Ytrain = stock_train\n",
    "    Yval = stock_val\n",
    "    \n",
    "    w_cur = Xtrain\\Ytrain\n",
    "    w_set = vcat(w_set, w_cur)\n",
    "    pred = Xval*w_cur\n",
    "    mse[1,i] = abs_err(Yval,pred)\n",
    "    \n",
    "    #AR1 Model, w[6:11]\n",
    "    Xtrain = [sent_train[2:end] stock_train[1:end-1] death_train[2:end] vac_train[2:end] shut_train[2:end] ones(length(sent_train)-1)]\n",
    "    Xval = [sent_val[2:end] stock_val[1:end-1] death_val[2:end] vac_val[2:end] shut_val[2:end] ones(length(sent_val)-1)]\n",
    "    Ytrain = stock_train[2:end]\n",
    "    Yval = stock_val[2:end]\n",
    "    \n",
    "    w_cur = Xtrain\\Ytrain\n",
    "    w_set = vcat(w_set, w_cur)\n",
    "    pred = Xval*w_cur\n",
    "    mse[2,i] = abs_err(Yval,pred)\n",
    "    \n",
    "    # AR2 Model, w[12:18]\n",
    "    Xtrain = [sent_train[3:end] stock_train[2:end-1] stock_train[1:end-2] death_train[3:end] vac_train[3:end] shut_train[3:end] ones(length(sent_train)-2)]\n",
    "    Xval = [sent_val[3:end] stock_val[2:end-1] stock_val[1:end-2] death_val[3:end] vac_val[3:end] shut_val[3:end] ones(length(sent_val)-2)]\n",
    "    Ytrain = stock_train[3:end]\n",
    "    Yval = stock_val[3:end]\n",
    "    \n",
    "    w_cur = Xtrain\\Ytrain\n",
    "    w_set = vcat(w_set, w_cur)\n",
    "    pred = Xval*w_cur\n",
    "    mse[3,i] = abs_err(Yval,pred)\n",
    "    w = hcat(w,w_set)\n",
    "end\n",
    "w = w[:,2:6]"
   ]
  },
  {
   "cell_type": "code",
   "execution_count": 92,
   "metadata": {},
   "outputs": [
    {
     "data": {
      "text/plain": [
       "3×5 Array{Float64,2}:\n",
       " 51.9352  28.0873   13.6328   9.45674  9.12706\n",
       " 18.501    6.01871   5.02105  3.52973  3.36717\n",
       " 17.9895   5.52168   4.81623  3.65989  3.3327"
      ]
     },
     "execution_count": 92,
     "metadata": {},
     "output_type": "execute_result"
    }
   ],
   "source": [
    "mse"
   ]
  },
  {
   "cell_type": "code",
   "execution_count": 93,
   "metadata": {},
   "outputs": [
    {
     "data": {
      "text/plain": [
       "3×1 Array{Float64,2}:\n",
       " 22.44780794130933\n",
       "  7.287525197851982\n",
       "  7.0639976249576435"
      ]
     },
     "execution_count": 93,
     "metadata": {},
     "output_type": "execute_result"
    }
   ],
   "source": [
    "avg_mse = mean(mse, dims=2)"
   ]
  },
  {
   "cell_type": "code",
   "execution_count": 106,
   "metadata": {},
   "outputs": [
    {
     "name": "stdout",
     "output_type": "stream",
     "text": [
      "Selected: model 3, estimated error is: 4.992996840622437, Validation Error is :7.0639976249576435"
     ]
    }
   ],
   "source": [
    "final_model = findmin(avg_mse)[2][1]\n",
    "test_mse = zeros(5)\n",
    "model = [\"model 1\", \"model 2\", \"model 3\"]\n",
    "model_length = [5, 6, 7]\n",
    "fig = plot(linestyle = :dot, title = \"Test predictions from 9/17 to 10/30\")\n",
    "w_test = zeros(model_length[final_model])\n",
    "for i in 1:5\n",
    "    #Fixed index\n",
    "    stock_train = stock[1][1:split[i]]\n",
    "    sent_train = sentiment[1][1:split[i]]\n",
    "    death_train = sentiment[3][1:split[i]]\n",
    "    vac_train = sentiment[2][1:split[i]]\n",
    "    shut_train = sentiment[4][1:split[i]]\n",
    "    \n",
    "    stock_test = stock[1][split[i]+1:split[i+1]]\n",
    "    sent_test = sentiment[1][split[i]+1:split[i+1]]\n",
    "    death_test = sentiment[3][split[i]+1:split[i+1]]\n",
    "    vac_test = sentiment[2][split[i]+1:split[i+1]]\n",
    "    shut_test = sentiment[4][split[i]+1:split[i+1]]\n",
    "    \n",
    "    if final_model == 1\n",
    "        Xtrain = [sent_train death_train vac_train shut_train ones(length(sent_train))]\n",
    "        Xtest = [sent_test death_test vac_test shut_test ones(length(sent_test))]\n",
    "        Ytrain = stock_train\n",
    "        Ytest = stock_test\n",
    "    \n",
    "        w_cur = Xtrain\\Ytrain\n",
    "        w_test = hcat(w_test, w_cur)\n",
    "        pred = Xtest*w_cur\n",
    "        test_mse[i] = abs_err(Ytest,pred)\n",
    "        #plot\n",
    "        if i == 5\n",
    "            date = [1:44]\n",
    "            plot!(date, Ytest, color = :red,  label = \"Actual Stock Price\")\n",
    "            plot!(date, pred, color = :blue, label = \"Naive Model\")\n",
    "        end\n",
    "        \n",
    "    elseif final_model == 2\n",
    "        Xtrain = [sent_train[2:end] stock_train[1:end-1] death_train[2:end] vac_train[2:end] shut_train[2:end] ones(length(stock_train)-1)]\n",
    "        Xtest = [sent_test[2:end] stock_test[1:end-1] death_test[2:end] vac_test[2:end] shut_test[2:end] ones(length(stock_test)-1)]\n",
    "        Ytrain = stock_train[2:end]\n",
    "        Ytest = stock_test[2:end]\n",
    "        \n",
    "        w_cur = Xtrain\\Ytrain\n",
    "        w_test = hcat(w_test, w_cur)\n",
    "        pred = Xtest*w_cur\n",
    "        test_mse[i] = abs_err(Ytest,pred)\n",
    "        #plot\n",
    "        if i == 5\n",
    "            date = [3:44]\n",
    "            plot!(date, Ytest, color = :red,  label = \"Actual Stock Price\")\n",
    "            plot!(date, pred, color = :blue, label = \"AR1 Model\")\n",
    "        end\n",
    "        \n",
    "    elseif final_model == 3\n",
    "        Xtrain = [sent_train[3:end] stock_train[2:end-1] stock_train[1:end-2] death_train[3:end] vac_train[3:end] shut_train[3:end] ones(length(sent_train)-2)]\n",
    "        Xtest = [sent_test[3:end] stock_test[2:end-1] stock_test[1:end-2] death_test[3:end] vac_test[3:end] shut_test[3:end] ones(length(stock_test)-2)]\n",
    "        Ytrain = stock_train[3:end]\n",
    "        Ytest = stock_test[3:end]\n",
    "        \n",
    "        w_cur = Xtrain\\Ytrain\n",
    "        w_test = hcat(w_test, w_cur)\n",
    "        pred = Xtest*w_cur\n",
    "        test_mse[i] = abs_err(Ytest,pred) \n",
    "        #plot\n",
    "        if i == 5\n",
    "            date = [3:44]\n",
    "            plot!(date, Ytest, color = :red, label = \"Actual Stock Price\")\n",
    "            plot!(date, pred, color = :blue, label = \"AR2 Model\")\n",
    "        end\n",
    "    else\n",
    "        print(\"error\")\n",
    "    end  \n",
    "end\n",
    "w_test = w_test[:,2:6]\n",
    "print(\"Selected: \", model[final_model], \", estimated error is: \",mean(test_mse), \", Validation Error is :\", findmin(avg_mse)[1])"
   ]
  },
  {
   "cell_type": "code",
   "execution_count": 103,
   "metadata": {},
   "outputs": [
    {
     "data": {
      "image/svg+xml": [
       "<?xml version=\"1.0\" encoding=\"utf-8\"?>\n",
       "<svg xmlns=\"http://www.w3.org/2000/svg\" xmlns:xlink=\"http://www.w3.org/1999/xlink\" width=\"600\" height=\"400\" viewBox=\"0 0 2400 1600\">\n",
       "<defs>\n",
       "  <clipPath id=\"clip540\">\n",
       "    <rect x=\"0\" y=\"0\" width=\"2400\" height=\"1600\"/>\n",
       "  </clipPath>\n",
       "</defs>\n",
       "<path clip-path=\"url(#clip540)\" d=\"\n",
       "M0 1600 L2400 1600 L2400 0 L0 0  Z\n",
       "  \" fill=\"#ffffff\" fill-rule=\"evenodd\" fill-opacity=\"1\"/>\n",
       "<defs>\n",
       "  <clipPath id=\"clip541\">\n",
       "    <rect x=\"480\" y=\"0\" width=\"1681\" height=\"1600\"/>\n",
       "  </clipPath>\n",
       "</defs>\n",
       "<path clip-path=\"url(#clip540)\" d=\"\n",
       "M163.774 1486.45 L2352.76 1486.45 L2352.76 123.472 L163.774 123.472  Z\n",
       "  \" fill=\"#ffffff\" fill-rule=\"evenodd\" fill-opacity=\"1\"/>\n",
       "<defs>\n",
       "  <clipPath id=\"clip542\">\n",
       "    <rect x=\"163\" y=\"123\" width=\"2190\" height=\"1364\"/>\n",
       "  </clipPath>\n",
       "</defs>\n",
       "<polyline clip-path=\"url(#clip542)\" style=\"stroke:#000000; stroke-width:2; stroke-opacity:0.1; fill:none\" points=\"\n",
       "  578.301,1486.45 578.301,123.472 \n",
       "  \"/>\n",
       "<polyline clip-path=\"url(#clip542)\" style=\"stroke:#000000; stroke-width:2; stroke-opacity:0.1; fill:none\" points=\"\n",
       "  1081.98,1486.45 1081.98,123.472 \n",
       "  \"/>\n",
       "<polyline clip-path=\"url(#clip542)\" style=\"stroke:#000000; stroke-width:2; stroke-opacity:0.1; fill:none\" points=\"\n",
       "  1585.66,1486.45 1585.66,123.472 \n",
       "  \"/>\n",
       "<polyline clip-path=\"url(#clip542)\" style=\"stroke:#000000; stroke-width:2; stroke-opacity:0.1; fill:none\" points=\"\n",
       "  2089.33,1486.45 2089.33,123.472 \n",
       "  \"/>\n",
       "<polyline clip-path=\"url(#clip540)\" style=\"stroke:#000000; stroke-width:4; stroke-opacity:1; fill:none\" points=\"\n",
       "  163.774,1486.45 2352.76,1486.45 \n",
       "  \"/>\n",
       "<polyline clip-path=\"url(#clip540)\" style=\"stroke:#000000; stroke-width:4; stroke-opacity:1; fill:none\" points=\"\n",
       "  578.301,1486.45 578.301,1470.09 \n",
       "  \"/>\n",
       "<polyline clip-path=\"url(#clip540)\" style=\"stroke:#000000; stroke-width:4; stroke-opacity:1; fill:none\" points=\"\n",
       "  1081.98,1486.45 1081.98,1470.09 \n",
       "  \"/>\n",
       "<polyline clip-path=\"url(#clip540)\" style=\"stroke:#000000; stroke-width:4; stroke-opacity:1; fill:none\" points=\"\n",
       "  1585.66,1486.45 1585.66,1470.09 \n",
       "  \"/>\n",
       "<polyline clip-path=\"url(#clip540)\" style=\"stroke:#000000; stroke-width:4; stroke-opacity:1; fill:none\" points=\"\n",
       "  2089.33,1486.45 2089.33,1470.09 \n",
       "  \"/>\n",
       "<path clip-path=\"url(#clip540)\" d=\"M 0 0 M555.176 1543.18 L562.815 1543.18 L562.815 1516.82 L554.504 1518.49 L554.504 1514.23 L562.768 1512.56 L567.444 1512.56 L567.444 1543.18 L575.083 1543.18 L575.083 1547.12 L555.176 1547.12 L555.176 1543.18 Z\" fill=\"#000000\" fill-rule=\"evenodd\" fill-opacity=\"1\" /><path clip-path=\"url(#clip540)\" d=\"M 0 0 M590.152 1515.64 Q586.541 1515.64 584.713 1519.2 Q582.907 1522.75 582.907 1529.87 Q582.907 1536.98 584.713 1540.55 Q586.541 1544.09 590.152 1544.09 Q593.787 1544.09 595.592 1540.55 Q597.421 1536.98 597.421 1529.87 Q597.421 1522.75 595.592 1519.2 Q593.787 1515.64 590.152 1515.64 M590.152 1511.93 Q595.963 1511.93 599.018 1516.54 Q602.097 1521.12 602.097 1529.87 Q602.097 1538.6 599.018 1543.21 Q595.963 1547.79 590.152 1547.79 Q584.342 1547.79 581.264 1543.21 Q578.208 1538.6 578.208 1529.87 Q578.208 1521.12 581.264 1516.54 Q584.342 1511.93 590.152 1511.93 Z\" fill=\"#000000\" fill-rule=\"evenodd\" fill-opacity=\"1\" /><path clip-path=\"url(#clip540)\" d=\"M 0 0 M1063.12 1543.18 L1079.44 1543.18 L1079.44 1547.12 L1057.5 1547.12 L1057.5 1543.18 Q1060.16 1540.43 1064.74 1535.8 Q1069.35 1531.15 1070.53 1529.81 Q1072.78 1527.28 1073.66 1525.55 Q1074.56 1523.79 1074.56 1522.1 Q1074.56 1519.34 1072.61 1517.61 Q1070.69 1515.87 1067.59 1515.87 Q1065.39 1515.87 1062.94 1516.63 Q1060.51 1517.4 1057.73 1518.95 L1057.73 1514.23 Q1060.55 1513.09 1063.01 1512.51 Q1065.46 1511.93 1067.5 1511.93 Q1072.87 1511.93 1076.06 1514.62 Q1079.26 1517.31 1079.26 1521.8 Q1079.26 1523.93 1078.45 1525.85 Q1077.66 1527.74 1075.55 1530.34 Q1074.98 1531.01 1071.87 1534.23 Q1068.77 1537.42 1063.12 1543.18 Z\" fill=\"#000000\" fill-rule=\"evenodd\" fill-opacity=\"1\" /><path clip-path=\"url(#clip540)\" d=\"M 0 0 M1094.51 1515.64 Q1090.9 1515.64 1089.07 1519.2 Q1087.27 1522.75 1087.27 1529.87 Q1087.27 1536.98 1089.07 1540.55 Q1090.9 1544.09 1094.51 1544.09 Q1098.15 1544.09 1099.95 1540.55 Q1101.78 1536.98 1101.78 1529.87 Q1101.78 1522.75 1099.95 1519.2 Q1098.15 1515.64 1094.51 1515.64 M1094.51 1511.93 Q1100.32 1511.93 1103.38 1516.54 Q1106.46 1521.12 1106.46 1529.87 Q1106.46 1538.6 1103.38 1543.21 Q1100.32 1547.79 1094.51 1547.79 Q1088.7 1547.79 1085.62 1543.21 Q1082.57 1538.6 1082.57 1529.87 Q1082.57 1521.12 1085.62 1516.54 Q1088.7 1511.93 1094.51 1511.93 Z\" fill=\"#000000\" fill-rule=\"evenodd\" fill-opacity=\"1\" /><path clip-path=\"url(#clip540)\" d=\"M 0 0 M1576.4 1528.49 Q1579.75 1529.2 1581.63 1531.47 Q1583.53 1533.74 1583.53 1537.07 Q1583.53 1542.19 1580.01 1544.99 Q1576.49 1547.79 1570.01 1547.79 Q1567.83 1547.79 1565.52 1547.35 Q1563.22 1546.93 1560.77 1546.08 L1560.77 1541.56 Q1562.72 1542.7 1565.03 1543.28 Q1567.35 1543.86 1569.87 1543.86 Q1574.27 1543.86 1576.56 1542.12 Q1578.87 1540.38 1578.87 1537.07 Q1578.87 1534.02 1576.72 1532.31 Q1574.59 1530.57 1570.77 1530.57 L1566.74 1530.57 L1566.74 1526.73 L1570.96 1526.73 Q1574.41 1526.73 1576.23 1525.36 Q1578.06 1523.97 1578.06 1521.38 Q1578.06 1518.72 1576.16 1517.31 Q1574.29 1515.87 1570.77 1515.87 Q1568.85 1515.87 1566.65 1516.29 Q1564.45 1516.7 1561.81 1517.58 L1561.81 1513.42 Q1564.47 1512.68 1566.79 1512.31 Q1569.13 1511.93 1571.19 1511.93 Q1576.51 1511.93 1579.61 1514.37 Q1582.72 1516.77 1582.72 1520.89 Q1582.72 1523.76 1581.07 1525.75 Q1579.43 1527.72 1576.4 1528.49 Z\" fill=\"#000000\" fill-rule=\"evenodd\" fill-opacity=\"1\" /><path clip-path=\"url(#clip540)\" d=\"M 0 0 M1598.6 1515.64 Q1594.98 1515.64 1593.16 1519.2 Q1591.35 1522.75 1591.35 1529.87 Q1591.35 1536.98 1593.16 1540.55 Q1594.98 1544.09 1598.6 1544.09 Q1602.23 1544.09 1604.03 1540.55 Q1605.86 1536.98 1605.86 1529.87 Q1605.86 1522.75 1604.03 1519.2 Q1602.23 1515.64 1598.6 1515.64 M1598.6 1511.93 Q1604.41 1511.93 1607.46 1516.54 Q1610.54 1521.12 1610.54 1529.87 Q1610.54 1538.6 1607.46 1543.21 Q1604.41 1547.79 1598.6 1547.79 Q1592.78 1547.79 1589.71 1543.21 Q1586.65 1538.6 1586.65 1529.87 Q1586.65 1521.12 1589.71 1516.54 Q1592.78 1511.93 1598.6 1511.93 Z\" fill=\"#000000\" fill-rule=\"evenodd\" fill-opacity=\"1\" /><path clip-path=\"url(#clip540)\" d=\"M 0 0 M2078.84 1516.63 L2067.03 1535.08 L2078.84 1535.08 L2078.84 1516.63 M2077.61 1512.56 L2083.49 1512.56 L2083.49 1535.08 L2088.42 1535.08 L2088.42 1538.97 L2083.49 1538.97 L2083.49 1547.12 L2078.84 1547.12 L2078.84 1538.97 L2063.23 1538.97 L2063.23 1534.46 L2077.61 1512.56 Z\" fill=\"#000000\" fill-rule=\"evenodd\" fill-opacity=\"1\" /><path clip-path=\"url(#clip540)\" d=\"M 0 0 M2103.49 1515.64 Q2099.88 1515.64 2098.05 1519.2 Q2096.24 1522.75 2096.24 1529.87 Q2096.24 1536.98 2098.05 1540.55 Q2099.88 1544.09 2103.49 1544.09 Q2107.12 1544.09 2108.93 1540.55 Q2110.76 1536.98 2110.76 1529.87 Q2110.76 1522.75 2108.93 1519.2 Q2107.12 1515.64 2103.49 1515.64 M2103.49 1511.93 Q2109.3 1511.93 2112.35 1516.54 Q2115.43 1521.12 2115.43 1529.87 Q2115.43 1538.6 2112.35 1543.21 Q2109.3 1547.79 2103.49 1547.79 Q2097.68 1547.79 2094.6 1543.21 Q2091.54 1538.6 2091.54 1529.87 Q2091.54 1521.12 2094.6 1516.54 Q2097.68 1511.93 2103.49 1511.93 Z\" fill=\"#000000\" fill-rule=\"evenodd\" fill-opacity=\"1\" /><polyline clip-path=\"url(#clip542)\" style=\"stroke:#000000; stroke-width:2; stroke-opacity:0.1; fill:none\" points=\"\n",
       "  163.774,1363.44 2352.76,1363.44 \n",
       "  \"/>\n",
       "<polyline clip-path=\"url(#clip542)\" style=\"stroke:#000000; stroke-width:2; stroke-opacity:0.1; fill:none\" points=\"\n",
       "  163.774,1165.71 2352.76,1165.71 \n",
       "  \"/>\n",
       "<polyline clip-path=\"url(#clip542)\" style=\"stroke:#000000; stroke-width:2; stroke-opacity:0.1; fill:none\" points=\"\n",
       "  163.774,967.987 2352.76,967.987 \n",
       "  \"/>\n",
       "<polyline clip-path=\"url(#clip542)\" style=\"stroke:#000000; stroke-width:2; stroke-opacity:0.1; fill:none\" points=\"\n",
       "  163.774,770.259 2352.76,770.259 \n",
       "  \"/>\n",
       "<polyline clip-path=\"url(#clip542)\" style=\"stroke:#000000; stroke-width:2; stroke-opacity:0.1; fill:none\" points=\"\n",
       "  163.774,572.531 2352.76,572.531 \n",
       "  \"/>\n",
       "<polyline clip-path=\"url(#clip542)\" style=\"stroke:#000000; stroke-width:2; stroke-opacity:0.1; fill:none\" points=\"\n",
       "  163.774,374.803 2352.76,374.803 \n",
       "  \"/>\n",
       "<polyline clip-path=\"url(#clip542)\" style=\"stroke:#000000; stroke-width:2; stroke-opacity:0.1; fill:none\" points=\"\n",
       "  163.774,177.074 2352.76,177.074 \n",
       "  \"/>\n",
       "<polyline clip-path=\"url(#clip540)\" style=\"stroke:#000000; stroke-width:4; stroke-opacity:1; fill:none\" points=\"\n",
       "  163.774,1486.45 163.774,123.472 \n",
       "  \"/>\n",
       "<polyline clip-path=\"url(#clip540)\" style=\"stroke:#000000; stroke-width:4; stroke-opacity:1; fill:none\" points=\"\n",
       "  163.774,1363.44 190.042,1363.44 \n",
       "  \"/>\n",
       "<polyline clip-path=\"url(#clip540)\" style=\"stroke:#000000; stroke-width:4; stroke-opacity:1; fill:none\" points=\"\n",
       "  163.774,1165.71 190.042,1165.71 \n",
       "  \"/>\n",
       "<polyline clip-path=\"url(#clip540)\" style=\"stroke:#000000; stroke-width:4; stroke-opacity:1; fill:none\" points=\"\n",
       "  163.774,967.987 190.042,967.987 \n",
       "  \"/>\n",
       "<polyline clip-path=\"url(#clip540)\" style=\"stroke:#000000; stroke-width:4; stroke-opacity:1; fill:none\" points=\"\n",
       "  163.774,770.259 190.042,770.259 \n",
       "  \"/>\n",
       "<polyline clip-path=\"url(#clip540)\" style=\"stroke:#000000; stroke-width:4; stroke-opacity:1; fill:none\" points=\"\n",
       "  163.774,572.531 190.042,572.531 \n",
       "  \"/>\n",
       "<polyline clip-path=\"url(#clip540)\" style=\"stroke:#000000; stroke-width:4; stroke-opacity:1; fill:none\" points=\"\n",
       "  163.774,374.803 190.042,374.803 \n",
       "  \"/>\n",
       "<polyline clip-path=\"url(#clip540)\" style=\"stroke:#000000; stroke-width:4; stroke-opacity:1; fill:none\" points=\"\n",
       "  163.774,177.074 190.042,177.074 \n",
       "  \"/>\n",
       "<path clip-path=\"url(#clip540)\" d=\"M 0 0 M58.4226 1376.79 L74.742 1376.79 L74.742 1380.72 L52.7977 1380.72 L52.7977 1376.79 Q55.4597 1374.03 60.043 1369.4 Q64.6495 1364.75 65.83 1363.41 Q68.0754 1360.89 68.955 1359.15 Q69.8578 1357.39 69.8578 1355.7 Q69.8578 1352.95 67.9133 1351.21 Q65.992 1349.47 62.8902 1349.47 Q60.6911 1349.47 58.2375 1350.24 Q55.8069 1351 53.0292 1352.55 L53.0292 1347.83 Q55.8532 1346.7 58.3069 1346.12 Q60.7606 1345.54 62.7976 1345.54 Q68.168 1345.54 71.3624 1348.22 Q74.5568 1350.91 74.5568 1355.4 Q74.5568 1357.53 73.7466 1359.45 Q72.9596 1361.35 70.8531 1363.94 Q70.2744 1364.61 67.1726 1367.83 Q64.0708 1371.02 58.4226 1376.79 Z\" fill=\"#000000\" fill-rule=\"evenodd\" fill-opacity=\"1\" /><path clip-path=\"url(#clip540)\" d=\"M 0 0 M79.8577 1346.16 L98.2141 1346.16 L98.2141 1350.1 L84.1401 1350.1 L84.1401 1358.57 Q85.1586 1358.22 86.1771 1358.06 Q87.1956 1357.88 88.2141 1357.88 Q94.0012 1357.88 97.3808 1361.05 Q100.76 1364.22 100.76 1369.64 Q100.76 1375.21 97.2882 1378.32 Q93.816 1381.39 87.4966 1381.39 Q85.3206 1381.39 83.0521 1381.02 Q80.8068 1380.65 78.3994 1379.91 L78.3994 1375.21 Q80.4827 1376.35 82.7049 1376.9 Q84.9271 1377.46 87.404 1377.46 Q91.4086 1377.46 93.7465 1375.35 Q96.0845 1373.25 96.0845 1369.64 Q96.0845 1366.02 93.7465 1363.92 Q91.4086 1361.81 87.404 1361.81 Q85.529 1361.81 83.654 1362.23 Q81.8021 1362.64 79.8577 1363.52 L79.8577 1346.16 Z\" fill=\"#000000\" fill-rule=\"evenodd\" fill-opacity=\"1\" /><path clip-path=\"url(#clip540)\" d=\"M 0 0 M115.83 1349.24 Q112.219 1349.24 110.39 1352.81 Q108.584 1356.35 108.584 1363.48 Q108.584 1370.58 110.39 1374.15 Q112.219 1377.69 115.83 1377.69 Q119.464 1377.69 121.27 1374.15 Q123.098 1370.58 123.098 1363.48 Q123.098 1356.35 121.27 1352.81 Q119.464 1349.24 115.83 1349.24 M115.83 1345.54 Q121.64 1345.54 124.695 1350.14 Q127.774 1354.73 127.774 1363.48 Q127.774 1372.2 124.695 1376.81 Q121.64 1381.39 115.83 1381.39 Q110.02 1381.39 106.941 1376.81 Q103.885 1372.2 103.885 1363.48 Q103.885 1354.73 106.941 1350.14 Q110.02 1345.54 115.83 1345.54 Z\" fill=\"#000000\" fill-rule=\"evenodd\" fill-opacity=\"1\" /><path clip-path=\"url(#clip540)\" d=\"M 0 0 M57.2652 1179.06 L73.5846 1179.06 L73.5846 1182.99 L51.6403 1182.99 L51.6403 1179.06 Q54.3023 1176.31 58.8856 1171.68 Q63.4921 1167.02 64.6726 1165.68 Q66.918 1163.16 67.7976 1161.42 Q68.7004 1159.66 68.7004 1157.97 Q68.7004 1155.22 66.7559 1153.48 Q64.8346 1151.75 61.7328 1151.75 Q59.5337 1151.75 57.0801 1152.51 Q54.6495 1153.27 51.8718 1154.82 L51.8718 1150.1 Q54.6958 1148.97 57.1495 1148.39 Q59.6032 1147.81 61.6402 1147.81 Q67.0106 1147.81 70.205 1150.5 Q73.3994 1153.18 73.3994 1157.67 Q73.3994 1159.8 72.5892 1161.72 Q71.8022 1163.62 69.6957 1166.21 Q69.117 1166.88 66.0152 1170.1 Q62.9134 1173.3 57.2652 1179.06 Z\" fill=\"#000000\" fill-rule=\"evenodd\" fill-opacity=\"1\" /><path clip-path=\"url(#clip540)\" d=\"M 0 0 M89.2327 1163.85 Q86.0845 1163.85 84.2327 1166 Q82.404 1168.16 82.404 1171.91 Q82.404 1175.63 84.2327 1177.81 Q86.0845 1179.96 89.2327 1179.96 Q92.3808 1179.96 94.2095 1177.81 Q96.0613 1175.63 96.0613 1171.91 Q96.0613 1168.16 94.2095 1166 Q92.3808 1163.85 89.2327 1163.85 M98.515 1149.2 L98.515 1153.46 Q96.7558 1152.62 94.9502 1152.18 Q93.1678 1151.75 91.4086 1151.75 Q86.779 1151.75 84.3253 1154.87 Q81.8947 1158 81.5475 1164.31 Q82.9133 1162.3 84.9734 1161.24 Q87.0336 1160.15 89.5104 1160.15 Q94.7187 1160.15 97.728 1163.32 Q100.76 1166.47 100.76 1171.91 Q100.76 1177.23 97.6122 1180.45 Q94.4641 1183.67 89.2327 1183.67 Q83.2373 1183.67 80.066 1179.08 Q76.8948 1174.48 76.8948 1165.75 Q76.8948 1157.56 80.7836 1152.69 Q84.6725 1147.81 91.2234 1147.81 Q92.9826 1147.81 94.765 1148.16 Q96.5706 1148.5 98.515 1149.2 Z\" fill=\"#000000\" fill-rule=\"evenodd\" fill-opacity=\"1\" /><path clip-path=\"url(#clip540)\" d=\"M 0 0 M115.83 1151.51 Q112.219 1151.51 110.39 1155.08 Q108.584 1158.62 108.584 1165.75 Q108.584 1172.86 110.39 1176.42 Q112.219 1179.96 115.83 1179.96 Q119.464 1179.96 121.27 1176.42 Q123.098 1172.86 123.098 1165.75 Q123.098 1158.62 121.27 1155.08 Q119.464 1151.51 115.83 1151.51 M115.83 1147.81 Q121.64 1147.81 124.695 1152.42 Q127.774 1157 127.774 1165.75 Q127.774 1174.48 124.695 1179.08 Q121.64 1183.67 115.83 1183.67 Q110.02 1183.67 106.941 1179.08 Q103.885 1174.48 103.885 1165.75 Q103.885 1157 106.941 1152.42 Q110.02 1147.81 115.83 1147.81 Z\" fill=\"#000000\" fill-rule=\"evenodd\" fill-opacity=\"1\" /><path clip-path=\"url(#clip540)\" d=\"M 0 0 M58.33 981.332 L74.6494 981.332 L74.6494 985.267 L52.7051 985.267 L52.7051 981.332 Q55.3671 978.577 59.9504 973.948 Q64.5569 969.295 65.7374 967.952 Q67.9828 965.429 68.8624 963.693 Q69.7652 961.934 69.7652 960.244 Q69.7652 957.489 67.8207 955.753 Q65.8995 954.017 62.7976 954.017 Q60.5986 954.017 58.1449 954.781 Q55.7143 955.545 52.9366 957.096 L52.9366 952.374 Q55.7606 951.239 58.2143 950.661 Q60.668 950.082 62.705 950.082 Q68.0754 950.082 71.2698 952.767 Q74.4642 955.452 74.4642 959.943 Q74.4642 962.073 73.654 963.994 Q72.867 965.892 70.7605 968.485 Q70.1818 969.156 67.08 972.373 Q63.9782 975.568 58.33 981.332 Z\" fill=\"#000000\" fill-rule=\"evenodd\" fill-opacity=\"1\" /><path clip-path=\"url(#clip540)\" d=\"M 0 0 M78.5383 950.707 L100.76 950.707 L100.76 952.698 L88.2141 985.267 L83.3299 985.267 L95.1354 954.642 L78.5383 954.642 L78.5383 950.707 Z\" fill=\"#000000\" fill-rule=\"evenodd\" fill-opacity=\"1\" /><path clip-path=\"url(#clip540)\" d=\"M 0 0 M115.83 953.786 Q112.219 953.786 110.39 957.35 Q108.584 960.892 108.584 968.022 Q108.584 975.128 110.39 978.693 Q112.219 982.234 115.83 982.234 Q119.464 982.234 121.27 978.693 Q123.098 975.128 123.098 968.022 Q123.098 960.892 121.27 957.35 Q119.464 953.786 115.83 953.786 M115.83 950.082 Q121.64 950.082 124.695 954.688 Q127.774 959.272 127.774 968.022 Q127.774 976.748 124.695 981.355 Q121.64 985.938 115.83 985.938 Q110.02 985.938 106.941 981.355 Q103.885 976.748 103.885 968.022 Q103.885 959.272 106.941 954.688 Q110.02 950.082 115.83 950.082 Z\" fill=\"#000000\" fill-rule=\"evenodd\" fill-opacity=\"1\" /><path clip-path=\"url(#clip540)\" d=\"M 0 0 M57.5199 783.604 L73.8392 783.604 L73.8392 787.539 L51.8949 787.539 L51.8949 783.604 Q54.5569 780.849 59.1402 776.219 Q63.7467 771.567 64.9272 770.224 Q67.1726 767.701 68.0522 765.965 Q68.955 764.206 68.955 762.516 Q68.955 759.761 67.0106 758.025 Q65.0893 756.289 61.9874 756.289 Q59.7884 756.289 57.3347 757.053 Q54.9041 757.817 52.1264 759.368 L52.1264 754.645 Q54.9504 753.511 57.4041 752.932 Q59.8578 752.354 61.8948 752.354 Q67.2652 752.354 70.4596 755.039 Q73.654 757.724 73.654 762.215 Q73.654 764.344 72.8439 766.266 Q72.0568 768.164 69.9504 770.756 Q69.3717 771.428 66.2698 774.645 Q63.168 777.84 57.5199 783.604 Z\" fill=\"#000000\" fill-rule=\"evenodd\" fill-opacity=\"1\" /><path clip-path=\"url(#clip540)\" d=\"M 0 0 M88.9086 771.127 Q85.5753 771.127 83.654 772.909 Q81.7559 774.692 81.7559 777.817 Q81.7559 780.942 83.654 782.724 Q85.5753 784.506 88.9086 784.506 Q92.2419 784.506 94.1632 782.724 Q96.0845 780.918 96.0845 777.817 Q96.0845 774.692 94.1632 772.909 Q92.2651 771.127 88.9086 771.127 M84.2327 769.136 Q81.2234 768.395 79.5336 766.335 Q77.867 764.275 77.867 761.312 Q77.867 757.169 80.8068 754.761 Q83.7697 752.354 88.9086 752.354 Q94.0706 752.354 97.0104 754.761 Q99.9502 757.169 99.9502 761.312 Q99.9502 764.275 98.2604 766.335 Q96.5937 768.395 93.6076 769.136 Q96.9872 769.923 98.8622 772.215 Q100.76 774.506 100.76 777.817 Q100.76 782.84 97.6817 785.525 Q94.6262 788.21 88.9086 788.21 Q83.191 788.21 80.1123 785.525 Q77.0568 782.84 77.0568 777.817 Q77.0568 774.506 78.9549 772.215 Q80.8531 769.923 84.2327 769.136 M82.5197 761.752 Q82.5197 764.437 84.1864 765.942 Q85.8762 767.446 88.9086 767.446 Q91.9178 767.446 93.6076 765.942 Q95.3206 764.437 95.3206 761.752 Q95.3206 759.067 93.6076 757.562 Q91.9178 756.057 88.9086 756.057 Q85.8762 756.057 84.1864 757.562 Q82.5197 759.067 82.5197 761.752 Z\" fill=\"#000000\" fill-rule=\"evenodd\" fill-opacity=\"1\" /><path clip-path=\"url(#clip540)\" d=\"M 0 0 M115.83 756.057 Q112.219 756.057 110.39 759.622 Q108.584 763.164 108.584 770.293 Q108.584 777.4 110.39 780.965 Q112.219 784.506 115.83 784.506 Q119.464 784.506 121.27 780.965 Q123.098 777.4 123.098 770.293 Q123.098 763.164 121.27 759.622 Q119.464 756.057 115.83 756.057 M115.83 752.354 Q121.64 752.354 124.695 756.96 Q127.774 761.544 127.774 770.293 Q127.774 779.02 124.695 783.627 Q121.64 788.21 115.83 788.21 Q110.02 788.21 106.941 783.627 Q103.885 779.02 103.885 770.293 Q103.885 761.544 106.941 756.96 Q110.02 752.354 115.83 752.354 Z\" fill=\"#000000\" fill-rule=\"evenodd\" fill-opacity=\"1\" /><path clip-path=\"url(#clip540)\" d=\"M 0 0 M57.6125 585.876 L73.9318 585.876 L73.9318 589.811 L51.9875 589.811 L51.9875 585.876 Q54.6495 583.121 59.2328 578.491 Q63.8393 573.839 65.0198 572.496 Q67.2652 569.973 68.1448 568.237 Q69.0476 566.477 69.0476 564.788 Q69.0476 562.033 67.1032 560.297 Q65.1819 558.561 62.08 558.561 Q59.881 558.561 57.4273 559.325 Q54.9967 560.089 52.219 561.64 L52.219 556.917 Q55.043 555.783 57.4967 555.204 Q59.9504 554.626 61.9874 554.626 Q67.3578 554.626 70.5522 557.311 Q73.7466 559.996 73.7466 564.487 Q73.7466 566.616 72.9365 568.538 Q72.1494 570.436 70.0429 573.028 Q69.4642 573.7 66.3624 576.917 Q63.2606 580.112 57.6125 585.876 Z\" fill=\"#000000\" fill-rule=\"evenodd\" fill-opacity=\"1\" /><path clip-path=\"url(#clip540)\" d=\"M 0 0 M79.1401 589.093 L79.1401 584.834 Q80.8994 585.667 82.7049 586.107 Q84.5105 586.547 86.2466 586.547 Q90.8762 586.547 93.3067 583.445 Q95.7604 580.32 96.1076 573.977 Q94.765 575.968 92.7049 577.033 Q90.6447 578.098 88.1447 578.098 Q82.9595 578.098 79.9272 574.973 Q76.9179 571.825 76.9179 566.385 Q76.9179 561.061 80.066 557.843 Q83.2142 554.626 88.4456 554.626 Q94.441 554.626 97.5891 559.232 Q100.76 563.815 100.76 572.565 Q100.76 580.737 96.8715 585.621 Q93.0058 590.482 86.4549 590.482 Q84.6956 590.482 82.8901 590.135 Q81.0846 589.788 79.1401 589.093 M88.4456 574.44 Q91.5938 574.44 93.4225 572.288 Q95.2743 570.135 95.2743 566.385 Q95.2743 562.658 93.4225 560.505 Q91.5938 558.329 88.4456 558.329 Q85.2975 558.329 83.4457 560.505 Q81.617 562.658 81.617 566.385 Q81.617 570.135 83.4457 572.288 Q85.2975 574.44 88.4456 574.44 Z\" fill=\"#000000\" fill-rule=\"evenodd\" fill-opacity=\"1\" /><path clip-path=\"url(#clip540)\" d=\"M 0 0 M115.83 558.329 Q112.219 558.329 110.39 561.894 Q108.584 565.436 108.584 572.565 Q108.584 579.672 110.39 583.237 Q112.219 586.778 115.83 586.778 Q119.464 586.778 121.27 583.237 Q123.098 579.672 123.098 572.565 Q123.098 565.436 121.27 561.894 Q119.464 558.329 115.83 558.329 M115.83 554.626 Q121.64 554.626 124.695 559.232 Q127.774 563.815 127.774 572.565 Q127.774 581.292 124.695 585.899 Q121.64 590.482 115.83 590.482 Q110.02 590.482 106.941 585.899 Q103.885 581.292 103.885 572.565 Q103.885 563.815 106.941 559.232 Q110.02 554.626 115.83 554.626 Z\" fill=\"#000000\" fill-rule=\"evenodd\" fill-opacity=\"1\" /><path clip-path=\"url(#clip540)\" d=\"M 0 0 M66.617 373.448 Q69.9735 374.166 71.8485 376.434 Q73.7466 378.703 73.7466 382.036 Q73.7466 387.152 70.2281 389.953 Q66.7096 392.754 60.2282 392.754 Q58.0523 392.754 55.7375 392.314 Q53.4458 391.897 50.9921 391.041 L50.9921 386.527 Q52.9366 387.661 55.2514 388.24 Q57.5662 388.819 60.0893 388.819 Q64.4874 388.819 66.7791 387.083 Q69.0939 385.346 69.0939 382.036 Q69.0939 378.981 66.9411 377.268 Q64.8115 375.532 60.9921 375.532 L56.9643 375.532 L56.9643 371.689 L61.1773 371.689 Q64.6263 371.689 66.455 370.323 Q68.2837 368.935 68.2837 366.342 Q68.2837 363.68 66.3856 362.268 Q64.5106 360.833 60.9921 360.833 Q59.0708 360.833 56.8717 361.249 Q54.6727 361.666 52.0338 362.546 L52.0338 358.379 Q54.6958 357.638 57.0106 357.268 Q59.3486 356.898 61.4087 356.898 Q66.7328 356.898 69.8346 359.328 Q72.9365 361.735 72.9365 365.856 Q72.9365 368.726 71.2929 370.717 Q69.6494 372.685 66.617 373.448 Z\" fill=\"#000000\" fill-rule=\"evenodd\" fill-opacity=\"1\" /><path clip-path=\"url(#clip540)\" d=\"M 0 0 M88.816 360.601 Q85.2049 360.601 83.3762 364.166 Q81.5707 367.708 81.5707 374.837 Q81.5707 381.944 83.3762 385.509 Q85.2049 389.05 88.816 389.05 Q92.4502 389.05 94.2558 385.509 Q96.0845 381.944 96.0845 374.837 Q96.0845 367.708 94.2558 364.166 Q92.4502 360.601 88.816 360.601 M88.816 356.898 Q94.6262 356.898 97.6817 361.504 Q100.76 366.087 100.76 374.837 Q100.76 383.564 97.6817 388.171 Q94.6262 392.754 88.816 392.754 Q83.0058 392.754 79.9272 388.171 Q76.8716 383.564 76.8716 374.837 Q76.8716 366.087 79.9272 361.504 Q83.0058 356.898 88.816 356.898 Z\" fill=\"#000000\" fill-rule=\"evenodd\" fill-opacity=\"1\" /><path clip-path=\"url(#clip540)\" d=\"M 0 0 M115.83 360.601 Q112.219 360.601 110.39 364.166 Q108.584 367.708 108.584 374.837 Q108.584 381.944 110.39 385.509 Q112.219 389.05 115.83 389.05 Q119.464 389.05 121.27 385.509 Q123.098 381.944 123.098 374.837 Q123.098 367.708 121.27 364.166 Q119.464 360.601 115.83 360.601 M115.83 356.898 Q121.64 356.898 124.695 361.504 Q127.774 366.087 127.774 374.837 Q127.774 383.564 124.695 388.171 Q121.64 392.754 115.83 392.754 Q110.02 392.754 106.941 388.171 Q103.885 383.564 103.885 374.837 Q103.885 366.087 106.941 361.504 Q110.02 356.898 115.83 356.898 Z\" fill=\"#000000\" fill-rule=\"evenodd\" fill-opacity=\"1\" /><path clip-path=\"url(#clip540)\" d=\"M 0 0 M67.8439 175.72 Q71.2004 176.438 73.0753 178.706 Q74.9735 180.975 74.9735 184.308 Q74.9735 189.424 71.455 192.225 Q67.9365 195.026 61.455 195.026 Q59.2791 195.026 56.9643 194.586 Q54.6727 194.169 52.219 193.313 L52.219 188.799 Q54.1634 189.933 56.4782 190.512 Q58.793 191.091 61.3161 191.091 Q65.7143 191.091 68.0059 189.354 Q70.3207 187.618 70.3207 184.308 Q70.3207 181.253 68.168 179.54 Q66.0383 177.804 62.2189 177.804 L58.1912 177.804 L58.1912 173.961 L62.4041 173.961 Q65.8532 173.961 67.6819 172.595 Q69.5105 171.206 69.5105 168.614 Q69.5105 165.952 67.6124 164.54 Q65.7374 163.105 62.2189 163.105 Q60.2976 163.105 58.0986 163.521 Q55.8995 163.938 53.2606 164.818 L53.2606 160.651 Q55.9227 159.91 58.2375 159.54 Q60.5754 159.169 62.6356 159.169 Q67.9596 159.169 71.0615 161.6 Q74.1633 164.007 74.1633 168.128 Q74.1633 170.998 72.5198 172.989 Q70.8763 174.956 67.8439 175.72 Z\" fill=\"#000000\" fill-rule=\"evenodd\" fill-opacity=\"1\" /><path clip-path=\"url(#clip540)\" d=\"M 0 0 M80.8531 190.419 L88.4919 190.419 L88.4919 164.054 L80.1818 165.72 L80.1818 161.461 L88.4456 159.794 L93.1215 159.794 L93.1215 190.419 L100.76 190.419 L100.76 194.354 L80.8531 194.354 L80.8531 190.419 Z\" fill=\"#000000\" fill-rule=\"evenodd\" fill-opacity=\"1\" /><path clip-path=\"url(#clip540)\" d=\"M 0 0 M115.83 162.873 Q112.219 162.873 110.39 166.438 Q108.584 169.98 108.584 177.109 Q108.584 184.216 110.39 187.78 Q112.219 191.322 115.83 191.322 Q119.464 191.322 121.27 187.78 Q123.098 184.216 123.098 177.109 Q123.098 169.98 121.27 166.438 Q119.464 162.873 115.83 162.873 M115.83 159.169 Q121.64 159.169 124.695 163.776 Q127.774 168.359 127.774 177.109 Q127.774 185.836 124.695 190.442 Q121.64 195.026 115.83 195.026 Q110.02 195.026 106.941 190.442 Q103.885 185.836 103.885 177.109 Q103.885 168.359 106.941 163.776 Q110.02 159.169 115.83 159.169 Z\" fill=\"#000000\" fill-rule=\"evenodd\" fill-opacity=\"1\" /><path clip-path=\"url(#clip540)\" d=\"M 0 0 M593.653 12.096 L644.816 12.096 L644.816 18.9825 L623.347 18.9825 L623.347 72.576 L615.123 72.576 L615.123 18.9825 L593.653 18.9825 L593.653 12.096 Z\" fill=\"#000000\" fill-rule=\"evenodd\" fill-opacity=\"1\" /><path clip-path=\"url(#clip540)\" d=\"M 0 0 M677.345 48.0275 L677.345 51.6733 L643.074 51.6733 Q643.561 59.3701 647.692 63.421 Q651.865 67.4314 659.278 67.4314 Q663.572 67.4314 667.582 66.3781 Q671.633 65.3249 675.603 63.2184 L675.603 70.267 Q671.593 71.9684 667.38 72.8596 Q663.167 73.7508 658.832 73.7508 Q647.976 73.7508 641.616 67.4314 Q635.297 61.1119 635.297 50.3365 Q635.297 39.1965 641.292 32.6746 Q647.328 26.1121 657.536 26.1121 Q666.691 26.1121 671.998 32.0264 Q677.345 37.9003 677.345 48.0275 M669.891 45.84 Q669.81 39.7232 666.448 36.0774 Q663.126 32.4315 657.617 32.4315 Q651.379 32.4315 647.611 35.9558 Q643.885 39.4801 643.317 45.8805 L669.891 45.84 Z\" fill=\"#000000\" fill-rule=\"evenodd\" fill-opacity=\"1\" /><path clip-path=\"url(#clip540)\" d=\"M 0 0 M714.087 28.5427 L714.087 35.5912 Q710.927 33.9709 707.524 33.1607 Q704.122 32.3505 700.476 32.3505 Q694.926 32.3505 692.131 34.0519 Q689.376 35.7533 689.376 39.156 Q689.376 41.7486 691.361 43.2475 Q693.346 44.7058 699.342 46.0426 L701.894 46.6097 Q709.833 48.3111 713.155 51.4303 Q716.517 54.509 716.517 60.0587 Q716.517 66.3781 711.494 70.0644 Q706.512 73.7508 697.762 73.7508 Q694.116 73.7508 690.146 73.0216 Q686.217 72.3329 681.842 70.9151 L681.842 63.2184 Q685.974 65.3654 689.984 66.4591 Q693.994 67.5124 697.924 67.5124 Q703.19 67.5124 706.025 65.73 Q708.861 63.9071 708.861 60.6258 Q708.861 57.5877 706.795 55.9673 Q704.77 54.3469 697.843 52.8481 L695.25 52.2405 Q688.323 50.7821 685.244 47.7845 Q682.166 44.7463 682.166 39.4801 Q682.166 33.0797 686.703 29.5959 Q691.24 26.1121 699.585 26.1121 Q703.716 26.1121 707.362 26.7198 Q711.008 27.3274 714.087 28.5427 Z\" fill=\"#000000\" fill-rule=\"evenodd\" fill-opacity=\"1\" /><path clip-path=\"url(#clip540)\" d=\"M 0 0 M731.708 14.324 L731.708 27.2059 L747.061 27.2059 L747.061 32.9987 L731.708 32.9987 L731.708 57.6282 Q731.708 63.1779 733.207 64.7578 Q734.746 66.3376 739.405 66.3376 L747.061 66.3376 L747.061 72.576 L739.405 72.576 Q730.777 72.576 727.495 69.3758 Q724.214 66.1351 724.214 57.6282 L724.214 32.9987 L718.745 32.9987 L718.745 27.2059 L724.214 27.2059 L724.214 14.324 L731.708 14.324 Z\" fill=\"#000000\" fill-rule=\"evenodd\" fill-opacity=\"1\" /><path clip-path=\"url(#clip540)\" d=\"M 0 0 M788.461 65.7705 L788.461 89.8329 L780.967 89.8329 L780.967 27.2059 L788.461 27.2059 L788.461 34.0924 Q790.811 30.0415 794.376 28.0971 Q797.981 26.1121 802.964 26.1121 Q811.227 26.1121 816.372 32.6746 Q821.557 39.2371 821.557 49.9314 Q821.557 60.6258 816.372 67.1883 Q811.227 73.7508 802.964 73.7508 Q797.981 73.7508 794.376 71.8063 Q790.811 69.8214 788.461 65.7705 M813.82 49.9314 Q813.82 41.7081 810.417 37.0496 Q807.055 32.3505 801.141 32.3505 Q795.226 32.3505 791.824 37.0496 Q788.461 41.7081 788.461 49.9314 Q788.461 58.1548 791.824 62.8538 Q795.226 67.5124 801.141 67.5124 Q807.055 67.5124 810.417 62.8538 Q813.82 58.1548 813.82 49.9314 Z\" fill=\"#000000\" fill-rule=\"evenodd\" fill-opacity=\"1\" /><path clip-path=\"url(#clip540)\" d=\"M 0 0 M855.666 34.1734 Q854.41 33.4443 852.911 33.1202 Q851.453 32.7556 849.671 32.7556 Q843.351 32.7556 839.948 36.8875 Q836.586 40.9789 836.586 48.6757 L836.586 72.576 L829.092 72.576 L829.092 27.2059 L836.586 27.2059 L836.586 34.2544 Q838.936 30.1225 842.703 28.1376 Q846.47 26.1121 851.858 26.1121 Q852.628 26.1121 853.559 26.2337 Q854.491 26.3147 855.625 26.5172 L855.666 34.1734 Z\" fill=\"#000000\" fill-rule=\"evenodd\" fill-opacity=\"1\" /><path clip-path=\"url(#clip540)\" d=\"M 0 0 M900.469 48.0275 L900.469 51.6733 L866.198 51.6733 Q866.684 59.3701 870.816 63.421 Q874.989 67.4314 882.402 67.4314 Q886.696 67.4314 890.706 66.3781 Q894.757 65.3249 898.727 63.2184 L898.727 70.267 Q894.717 71.9684 890.504 72.8596 Q886.291 73.7508 881.956 73.7508 Q871.1 73.7508 864.74 67.4314 Q858.421 61.1119 858.421 50.3365 Q858.421 39.1965 864.416 32.6746 Q870.452 26.1121 880.66 26.1121 Q889.815 26.1121 895.122 32.0264 Q900.469 37.9003 900.469 48.0275 M893.015 45.84 Q892.934 39.7232 889.572 36.0774 Q886.25 32.4315 880.741 32.4315 Q874.503 32.4315 870.735 35.9558 Q867.008 39.4801 866.441 45.8805 L893.015 45.84 Z\" fill=\"#000000\" fill-rule=\"evenodd\" fill-opacity=\"1\" /><path clip-path=\"url(#clip540)\" d=\"M 0 0 M938.142 34.0924 L938.142 9.54393 L945.596 9.54393 L945.596 72.576 L938.142 72.576 L938.142 65.7705 Q935.793 69.8214 932.187 71.8063 Q928.623 73.7508 923.6 73.7508 Q915.376 73.7508 910.191 67.1883 Q905.046 60.6258 905.046 49.9314 Q905.046 39.2371 910.191 32.6746 Q915.376 26.1121 923.6 26.1121 Q928.623 26.1121 932.187 28.0971 Q935.793 30.0415 938.142 34.0924 M912.743 49.9314 Q912.743 58.1548 916.105 62.8538 Q919.508 67.5124 925.422 67.5124 Q931.337 67.5124 934.74 62.8538 Q938.142 58.1548 938.142 49.9314 Q938.142 41.7081 934.74 37.0496 Q931.337 32.3505 925.422 32.3505 Q919.508 32.3505 916.105 37.0496 Q912.743 41.7081 912.743 49.9314 Z\" fill=\"#000000\" fill-rule=\"evenodd\" fill-opacity=\"1\" /><path clip-path=\"url(#clip540)\" d=\"M 0 0 M953.414 27.2059 L960.868 27.2059 L960.868 72.576 L953.414 72.576 L953.414 27.2059 M953.414 9.54393 L960.868 9.54393 L960.868 18.9825 L953.414 18.9825 L953.414 9.54393 Z\" fill=\"#000000\" fill-rule=\"evenodd\" fill-opacity=\"1\" /><path clip-path=\"url(#clip540)\" d=\"M 0 0 M1001.34 28.9478 L1001.34 35.9153 Q998.177 34.1734 994.976 33.3227 Q991.817 32.4315 988.576 32.4315 Q981.325 32.4315 977.315 37.0496 Q973.304 41.6271 973.304 49.9314 Q973.304 58.2358 977.315 62.8538 Q981.325 67.4314 988.576 67.4314 Q991.817 67.4314 994.976 66.5807 Q998.177 65.6895 1001.34 63.9476 L1001.34 70.8341 Q998.217 72.2924 994.855 73.0216 Q991.533 73.7508 987.766 73.7508 Q977.517 73.7508 971.481 67.3098 Q965.445 60.8689 965.445 49.9314 Q965.445 38.832 971.522 32.472 Q977.639 26.1121 988.252 26.1121 Q991.695 26.1121 994.976 26.8413 Q998.258 27.5299 1001.34 28.9478 Z\" fill=\"#000000\" fill-rule=\"evenodd\" fill-opacity=\"1\" /><path clip-path=\"url(#clip540)\" d=\"M 0 0 M1016.53 14.324 L1016.53 27.2059 L1031.88 27.2059 L1031.88 32.9987 L1016.53 32.9987 L1016.53 57.6282 Q1016.53 63.1779 1018.03 64.7578 Q1019.57 66.3376 1024.22 66.3376 L1031.88 66.3376 L1031.88 72.576 L1024.22 72.576 Q1015.6 72.576 1012.31 69.3758 Q1009.03 66.1351 1009.03 57.6282 L1009.03 32.9987 L1003.56 32.9987 L1003.56 27.2059 L1009.03 27.2059 L1009.03 14.324 L1016.53 14.324 Z\" fill=\"#000000\" fill-rule=\"evenodd\" fill-opacity=\"1\" /><path clip-path=\"url(#clip540)\" d=\"M 0 0 M1039.7 27.2059 L1047.15 27.2059 L1047.15 72.576 L1039.7 72.576 L1039.7 27.2059 M1039.7 9.54393 L1047.15 9.54393 L1047.15 18.9825 L1039.7 18.9825 L1039.7 9.54393 Z\" fill=\"#000000\" fill-rule=\"evenodd\" fill-opacity=\"1\" /><path clip-path=\"url(#clip540)\" d=\"M 0 0 M1072.55 32.4315 Q1066.56 32.4315 1063.07 37.1306 Q1059.59 41.7891 1059.59 49.9314 Q1059.59 58.0738 1063.03 62.7728 Q1066.52 67.4314 1072.55 67.4314 Q1078.51 67.4314 1081.99 62.7323 Q1085.47 58.0333 1085.47 49.9314 Q1085.47 41.8701 1081.99 37.1711 Q1078.51 32.4315 1072.55 32.4315 M1072.55 26.1121 Q1082.27 26.1121 1087.82 32.4315 Q1093.37 38.7509 1093.37 49.9314 Q1093.37 61.0714 1087.82 67.4314 Q1082.27 73.7508 1072.55 73.7508 Q1062.79 73.7508 1057.24 67.4314 Q1051.73 61.0714 1051.73 49.9314 Q1051.73 38.7509 1057.24 32.4315 Q1062.79 26.1121 1072.55 26.1121 Z\" fill=\"#000000\" fill-rule=\"evenodd\" fill-opacity=\"1\" /><path clip-path=\"url(#clip540)\" d=\"M 0 0 M1138.91 45.1919 L1138.91 72.576 L1131.45 72.576 L1131.45 45.4349 Q1131.45 38.994 1128.94 35.7938 Q1126.43 32.5936 1121.41 32.5936 Q1115.37 32.5936 1111.89 36.4419 Q1108.4 40.2903 1108.4 46.9338 L1108.4 72.576 L1100.91 72.576 L1100.91 27.2059 L1108.4 27.2059 L1108.4 34.2544 Q1111.08 30.163 1114.68 28.1376 Q1118.33 26.1121 1123.07 26.1121 Q1130.88 26.1121 1134.89 30.9732 Q1138.91 35.7938 1138.91 45.1919 Z\" fill=\"#000000\" fill-rule=\"evenodd\" fill-opacity=\"1\" /><path clip-path=\"url(#clip540)\" d=\"M 0 0 M1175.65 28.5427 L1175.65 35.5912 Q1172.49 33.9709 1169.08 33.1607 Q1165.68 32.3505 1162.04 32.3505 Q1156.49 32.3505 1153.69 34.0519 Q1150.94 35.7533 1150.94 39.156 Q1150.94 41.7486 1152.92 43.2475 Q1154.91 44.7058 1160.9 46.0426 L1163.45 46.6097 Q1171.39 48.3111 1174.72 51.4303 Q1178.08 54.509 1178.08 60.0587 Q1178.08 66.3781 1173.05 70.0644 Q1168.07 73.7508 1159.32 73.7508 Q1155.68 73.7508 1151.71 73.0216 Q1147.78 72.3329 1143.4 70.9151 L1143.4 63.2184 Q1147.53 65.3654 1151.54 66.4591 Q1155.55 67.5124 1159.48 67.5124 Q1164.75 67.5124 1167.59 65.73 Q1170.42 63.9071 1170.42 60.6258 Q1170.42 57.5877 1168.36 55.9673 Q1166.33 54.3469 1159.4 52.8481 L1156.81 52.2405 Q1149.88 50.7821 1146.8 47.7845 Q1143.73 44.7463 1143.73 39.4801 Q1143.73 33.0797 1148.26 29.5959 Q1152.8 26.1121 1161.14 26.1121 Q1165.28 26.1121 1168.92 26.7198 Q1172.57 27.3274 1175.65 28.5427 Z\" fill=\"#000000\" fill-rule=\"evenodd\" fill-opacity=\"1\" /><path clip-path=\"url(#clip540)\" d=\"M 0 0 M1235.24 9.54393 L1235.24 15.7418 L1228.11 15.7418 Q1224.1 15.7418 1222.52 17.3622 Q1220.98 18.9825 1220.98 23.1955 L1220.98 27.2059 L1233.25 27.2059 L1233.25 32.9987 L1220.98 32.9987 L1220.98 72.576 L1213.48 72.576 L1213.48 32.9987 L1206.35 32.9987 L1206.35 27.2059 L1213.48 27.2059 L1213.48 24.0462 Q1213.48 16.471 1217.01 13.0277 Q1220.53 9.54393 1228.19 9.54393 L1235.24 9.54393 Z\" fill=\"#000000\" fill-rule=\"evenodd\" fill-opacity=\"1\" /><path clip-path=\"url(#clip540)\" d=\"M 0 0 M1269.34 34.1734 Q1268.09 33.4443 1266.59 33.1202 Q1265.13 32.7556 1263.35 32.7556 Q1257.03 32.7556 1253.63 36.8875 Q1250.26 40.9789 1250.26 48.6757 L1250.26 72.576 L1242.77 72.576 L1242.77 27.2059 L1250.26 27.2059 L1250.26 34.2544 Q1252.61 30.1225 1256.38 28.1376 Q1260.15 26.1121 1265.54 26.1121 Q1266.31 26.1121 1267.24 26.2337 Q1268.17 26.3147 1269.3 26.5172 L1269.34 34.1734 Z\" fill=\"#000000\" fill-rule=\"evenodd\" fill-opacity=\"1\" /><path clip-path=\"url(#clip540)\" d=\"M 0 0 M1292.92 32.4315 Q1286.93 32.4315 1283.44 37.1306 Q1279.96 41.7891 1279.96 49.9314 Q1279.96 58.0738 1283.4 62.7728 Q1286.88 67.4314 1292.92 67.4314 Q1298.88 67.4314 1302.36 62.7323 Q1305.84 58.0333 1305.84 49.9314 Q1305.84 41.8701 1302.36 37.1711 Q1298.88 32.4315 1292.92 32.4315 M1292.92 26.1121 Q1302.64 26.1121 1308.19 32.4315 Q1313.74 38.7509 1313.74 49.9314 Q1313.74 61.0714 1308.19 67.4314 Q1302.64 73.7508 1292.92 73.7508 Q1283.16 73.7508 1277.61 67.4314 Q1272.1 61.0714 1272.1 49.9314 Q1272.1 38.7509 1277.61 32.4315 Q1283.16 26.1121 1292.92 26.1121 Z\" fill=\"#000000\" fill-rule=\"evenodd\" fill-opacity=\"1\" /><path clip-path=\"url(#clip540)\" d=\"M 0 0 M1356.88 35.9153 Q1359.68 30.8922 1363.57 28.5022 Q1367.46 26.1121 1372.72 26.1121 Q1379.81 26.1121 1383.66 31.0947 Q1387.51 36.0368 1387.51 45.1919 L1387.51 72.576 L1380.01 72.576 L1380.01 45.4349 Q1380.01 38.913 1377.71 35.7533 Q1375.4 32.5936 1370.66 32.5936 Q1364.86 32.5936 1361.5 36.4419 Q1358.14 40.2903 1358.14 46.9338 L1358.14 72.576 L1350.65 72.576 L1350.65 45.4349 Q1350.65 38.8725 1348.34 35.7533 Q1346.03 32.5936 1341.21 32.5936 Q1335.5 32.5936 1332.13 36.4824 Q1328.77 40.3308 1328.77 46.9338 L1328.77 72.576 L1321.28 72.576 L1321.28 27.2059 L1328.77 27.2059 L1328.77 34.2544 Q1331.32 30.082 1334.89 28.0971 Q1338.45 26.1121 1343.35 26.1121 Q1348.3 26.1121 1351.74 28.6237 Q1355.22 31.1352 1356.88 35.9153 Z\" fill=\"#000000\" fill-rule=\"evenodd\" fill-opacity=\"1\" /><path clip-path=\"url(#clip540)\" d=\"M 0 0 M1423 71.3202 L1423 63.8666 Q1426.07 65.3249 1429.23 66.0946 Q1432.39 66.8642 1435.43 66.8642 Q1443.53 66.8642 1447.79 61.436 Q1452.08 55.9673 1452.69 44.8678 Q1450.34 48.3516 1446.73 50.215 Q1443.13 52.0784 1438.75 52.0784 Q1429.68 52.0784 1424.37 46.6097 Q1419.11 41.1005 1419.11 31.5808 Q1419.11 22.2638 1424.62 16.633 Q1430.12 11.0023 1439.28 11.0023 Q1449.77 11.0023 1455.28 19.0636 Q1460.83 27.0843 1460.83 42.3968 Q1460.83 56.6965 1454.02 65.2439 Q1447.26 73.7508 1435.8 73.7508 Q1432.72 73.7508 1429.56 73.1431 Q1426.4 72.5355 1423 71.3202 M1439.28 45.678 Q1444.79 45.678 1447.99 41.9107 Q1451.23 38.1433 1451.23 31.5808 Q1451.23 25.0589 1447.99 21.2916 Q1444.79 17.4837 1439.28 17.4837 Q1433.77 17.4837 1430.53 21.2916 Q1427.33 25.0589 1427.33 31.5808 Q1427.33 38.1433 1430.53 41.9107 Q1433.77 45.678 1439.28 45.678 Z\" fill=\"#000000\" fill-rule=\"evenodd\" fill-opacity=\"1\" /><path clip-path=\"url(#clip540)\" d=\"M 0 0 M1481.9 12.096 L1488.78 12.096 L1467.72 80.2727 L1460.83 80.2727 L1481.9 12.096 Z\" fill=\"#000000\" fill-rule=\"evenodd\" fill-opacity=\"1\" /><path clip-path=\"url(#clip540)\" d=\"M 0 0 M1499.07 65.6895 L1512.44 65.6895 L1512.44 19.5497 L1497.9 22.4663 L1497.9 15.0127 L1512.36 12.096 L1520.54 12.096 L1520.54 65.6895 L1533.91 65.6895 L1533.91 72.576 L1499.07 72.576 L1499.07 65.6895 Z\" fill=\"#000000\" fill-rule=\"evenodd\" fill-opacity=\"1\" /><path clip-path=\"url(#clip540)\" d=\"M 0 0 M1540.71 12.096 L1579.6 12.096 L1579.6 15.5798 L1557.65 72.576 L1549.1 72.576 L1569.76 18.9825 L1540.71 18.9825 L1540.71 12.096 Z\" fill=\"#000000\" fill-rule=\"evenodd\" fill-opacity=\"1\" /><path clip-path=\"url(#clip540)\" d=\"M 0 0 M1621.17 14.324 L1621.17 27.2059 L1636.52 27.2059 L1636.52 32.9987 L1621.17 32.9987 L1621.17 57.6282 Q1621.17 63.1779 1622.66 64.7578 Q1624.2 66.3376 1628.86 66.3376 L1636.52 66.3376 L1636.52 72.576 L1628.86 72.576 Q1620.23 72.576 1616.95 69.3758 Q1613.67 66.1351 1613.67 57.6282 L1613.67 32.9987 L1608.2 32.9987 L1608.2 27.2059 L1613.67 27.2059 L1613.67 14.324 L1621.17 14.324 Z\" fill=\"#000000\" fill-rule=\"evenodd\" fill-opacity=\"1\" /><path clip-path=\"url(#clip540)\" d=\"M 0 0 M1661.92 32.4315 Q1655.92 32.4315 1652.44 37.1306 Q1648.95 41.7891 1648.95 49.9314 Q1648.95 58.0738 1652.4 62.7728 Q1655.88 67.4314 1661.92 67.4314 Q1667.87 67.4314 1671.36 62.7323 Q1674.84 58.0333 1674.84 49.9314 Q1674.84 41.8701 1671.36 37.1711 Q1667.87 32.4315 1661.92 32.4315 M1661.92 26.1121 Q1671.64 26.1121 1677.19 32.4315 Q1682.74 38.7509 1682.74 49.9314 Q1682.74 61.0714 1677.19 67.4314 Q1671.64 73.7508 1661.92 73.7508 Q1652.15 73.7508 1646.6 67.4314 Q1641.1 61.0714 1641.1 49.9314 Q1641.1 38.7509 1646.6 32.4315 Q1652.15 26.1121 1661.92 26.1121 Z\" fill=\"#000000\" fill-rule=\"evenodd\" fill-opacity=\"1\" /><path clip-path=\"url(#clip540)\" d=\"M 0 0 M1719.4 65.6895 L1732.77 65.6895 L1732.77 19.5497 L1718.22 22.4663 L1718.22 15.0127 L1732.69 12.096 L1740.87 12.096 L1740.87 65.6895 L1754.24 65.6895 L1754.24 72.576 L1719.4 72.576 L1719.4 65.6895 Z\" fill=\"#000000\" fill-rule=\"evenodd\" fill-opacity=\"1\" /><path clip-path=\"url(#clip540)\" d=\"M 0 0 M1780.61 17.4837 Q1774.29 17.4837 1771.09 23.7221 Q1767.93 29.92 1767.93 42.3968 Q1767.93 54.833 1771.09 61.0714 Q1774.29 67.2693 1780.61 67.2693 Q1786.97 67.2693 1790.13 61.0714 Q1793.33 54.833 1793.33 42.3968 Q1793.33 29.92 1790.13 23.7221 Q1786.97 17.4837 1780.61 17.4837 M1780.61 11.0023 Q1790.78 11.0023 1796.12 19.0636 Q1801.51 27.0843 1801.51 42.3968 Q1801.51 57.6687 1796.12 65.73 Q1790.78 73.7508 1780.61 73.7508 Q1770.44 73.7508 1765.05 65.73 Q1759.71 57.6687 1759.71 42.3968 Q1759.71 27.0843 1765.05 19.0636 Q1770.44 11.0023 1780.61 11.0023 Z\" fill=\"#000000\" fill-rule=\"evenodd\" fill-opacity=\"1\" /><path clip-path=\"url(#clip540)\" d=\"M 0 0 M1822.58 12.096 L1829.46 12.096 L1808.4 80.2727 L1801.51 80.2727 L1822.58 12.096 Z\" fill=\"#000000\" fill-rule=\"evenodd\" fill-opacity=\"1\" /><path clip-path=\"url(#clip540)\" d=\"M 0 0 M1863.13 39.9662 Q1869 41.222 1872.28 45.1919 Q1875.6 49.1618 1875.6 54.9951 Q1875.6 63.9476 1869.45 68.8492 Q1863.29 73.7508 1851.95 73.7508 Q1848.14 73.7508 1844.09 72.9811 Q1840.08 72.2519 1835.78 70.7531 L1835.78 62.8538 Q1839.18 64.8388 1843.24 65.8515 Q1847.29 66.8642 1851.7 66.8642 Q1859.4 66.8642 1863.41 63.826 Q1867.46 60.7879 1867.46 54.9951 Q1867.46 49.6479 1863.69 46.6502 Q1859.97 43.612 1853.28 43.612 L1846.23 43.612 L1846.23 36.8875 L1853.61 36.8875 Q1859.64 36.8875 1862.84 34.4975 Q1866.04 32.067 1866.04 27.5299 Q1866.04 22.8714 1862.72 20.4004 Q1859.44 17.8888 1853.28 17.8888 Q1849.92 17.8888 1846.07 18.618 Q1842.22 19.3471 1837.61 20.8865 L1837.61 13.5948 Q1842.26 12.2985 1846.31 11.6504 Q1850.41 11.0023 1854.01 11.0023 Q1863.33 11.0023 1868.76 15.2557 Q1874.18 19.4686 1874.18 26.6793 Q1874.18 31.7024 1871.31 35.1862 Q1868.43 38.6294 1863.13 39.9662 Z\" fill=\"#000000\" fill-rule=\"evenodd\" fill-opacity=\"1\" /><path clip-path=\"url(#clip540)\" d=\"M 0 0 M1901.97 17.4837 Q1895.65 17.4837 1892.45 23.7221 Q1889.29 29.92 1889.29 42.3968 Q1889.29 54.833 1892.45 61.0714 Q1895.65 67.2693 1901.97 67.2693 Q1908.33 67.2693 1911.49 61.0714 Q1914.69 54.833 1914.69 42.3968 Q1914.69 29.92 1911.49 23.7221 Q1908.33 17.4837 1901.97 17.4837 M1901.97 11.0023 Q1912.14 11.0023 1917.49 19.0636 Q1922.88 27.0843 1922.88 42.3968 Q1922.88 57.6687 1917.49 65.73 Q1912.14 73.7508 1901.97 73.7508 Q1891.81 73.7508 1886.42 65.73 Q1881.07 57.6687 1881.07 42.3968 Q1881.07 27.0843 1886.42 19.0636 Q1891.81 11.0023 1901.97 11.0023 Z\" fill=\"#000000\" fill-rule=\"evenodd\" fill-opacity=\"1\" /><polyline clip-path=\"url(#clip542)\" style=\"stroke:#ff0000; stroke-width:4; stroke-opacity:1; fill:none\" points=\"\n",
       "  225.726,1125.58 276.094,1168.29 326.462,1210.99 376.83,1414.06 427.197,1447.87 477.565,1387.57 527.933,1259.64 578.301,1247.71 628.668,1235.78 679.036,1223.85 \n",
       "  729.404,1169.87 779.772,995.867 830.139,964.625 880.507,868.925 930.875,804.466 981.242,740.006 1031.61,675.547 1081.98,698.285 1132.35,510.84 1182.71,507.478 \n",
       "  1233.08,485.332 1283.45,457.914 1333.82,430.496 1384.18,403.078 1434.55,425.421 1484.92,526.262 1535.29,475.644 1585.66,436.692 1636.02,467.405 1686.39,498.119 \n",
       "  1736.76,528.833 1787.13,549.001 1837.49,450.73 1887.86,272.577 1938.23,162.047 1988.6,234.613 2038.96,307.179 2089.33,379.746 2139.7,396.948 2190.07,655.577 \n",
       "  2240.44,903.527 2290.8,912.623 \n",
       "  \"/>\n",
       "<polyline clip-path=\"url(#clip542)\" style=\"stroke:#0000ff; stroke-width:4; stroke-opacity:1; fill:none\" points=\"\n",
       "  225.726,1084.2 276.094,1129.48 326.462,1194.03 376.83,1179.33 427.197,1362.05 477.565,1436.66 527.933,1367.35 578.301,1255.15 628.668,1227 679.036,1228.92 \n",
       "  729.404,1180.53 779.772,1198.07 830.139,1042.07 880.507,1065.36 930.875,896.271 981.242,813.708 1031.61,794.972 1081.98,700.61 1132.35,772.052 1182.71,567.427 \n",
       "  1233.08,552.525 1283.45,531.732 1333.82,510.925 1384.18,465.798 1434.55,441.014 1484.92,484.643 1535.29,574.844 1585.66,487.525 1636.02,483.545 1686.39,464.91 \n",
       "  1736.76,598.846 1787.13,582.835 1837.49,499.644 1887.86,533.14 1938.23,327.02 1988.6,232.956 2038.96,294.641 2089.33,350.233 2139.7,389.791 2190.07,476.912 \n",
       "  2240.44,692.691 2290.8,929.545 \n",
       "  \"/>\n",
       "<path clip-path=\"url(#clip540)\" d=\"\n",
       "M1649.93 350.345 L2279.79 350.345 L2279.79 168.905 L1649.93 168.905  Z\n",
       "  \" fill=\"#ffffff\" fill-rule=\"evenodd\" fill-opacity=\"1\"/>\n",
       "<polyline clip-path=\"url(#clip540)\" style=\"stroke:#000000; stroke-width:4; stroke-opacity:1; fill:none\" points=\"\n",
       "  1649.93,350.345 2279.79,350.345 2279.79,168.905 1649.93,168.905 1649.93,350.345 \n",
       "  \"/>\n",
       "<polyline clip-path=\"url(#clip540)\" style=\"stroke:#ff0000; stroke-width:4; stroke-opacity:1; fill:none\" points=\"\n",
       "  1674.25,229.385 1820.18,229.385 \n",
       "  \"/>\n",
       "<path clip-path=\"url(#clip540)\" d=\"M 0 0 M1860.34 216.711 L1854 233.91 L1866.7 233.91 L1860.34 216.711 M1857.7 212.105 L1863 212.105 L1876.17 246.665 L1871.31 246.665 L1868.16 237.799 L1852.58 237.799 L1849.43 246.665 L1844.5 246.665 L1857.7 212.105 Z\" fill=\"#000000\" fill-rule=\"evenodd\" fill-opacity=\"1\" /><path clip-path=\"url(#clip540)\" d=\"M 0 0 M1898.46 221.734 L1898.46 225.716 Q1896.66 224.72 1894.83 224.234 Q1893.02 223.725 1891.17 223.725 Q1887.03 223.725 1884.74 226.364 Q1882.44 228.98 1882.44 233.725 Q1882.44 238.47 1884.74 241.109 Q1887.03 243.725 1891.17 243.725 Q1893.02 243.725 1894.83 243.239 Q1896.66 242.729 1898.46 241.734 L1898.46 245.669 Q1896.68 246.503 1894.76 246.919 Q1892.86 247.336 1890.71 247.336 Q1884.85 247.336 1881.4 243.655 Q1877.95 239.975 1877.95 233.725 Q1877.95 227.382 1881.43 223.748 Q1884.92 220.114 1890.99 220.114 Q1892.95 220.114 1894.83 220.531 Q1896.7 220.924 1898.46 221.734 Z\" fill=\"#000000\" fill-rule=\"evenodd\" fill-opacity=\"1\" /><path clip-path=\"url(#clip540)\" d=\"M 0 0 M1907.14 213.378 L1907.14 220.739 L1915.92 220.739 L1915.92 224.049 L1907.14 224.049 L1907.14 238.123 Q1907.14 241.294 1908 242.197 Q1908.88 243.1 1911.54 243.1 L1915.92 243.1 L1915.92 246.665 L1911.54 246.665 Q1906.61 246.665 1904.74 244.836 Q1902.86 242.984 1902.86 238.123 L1902.86 224.049 L1899.74 224.049 L1899.74 220.739 L1902.86 220.739 L1902.86 213.378 L1907.14 213.378 Z\" fill=\"#000000\" fill-rule=\"evenodd\" fill-opacity=\"1\" /><path clip-path=\"url(#clip540)\" d=\"M 0 0 M1919.94 236.433 L1919.94 220.739 L1924.2 220.739 L1924.2 236.271 Q1924.2 239.952 1925.64 241.804 Q1927.07 243.632 1929.94 243.632 Q1933.39 243.632 1935.38 241.433 Q1937.4 239.234 1937.4 235.438 L1937.4 220.739 L1941.66 220.739 L1941.66 246.665 L1937.4 246.665 L1937.4 242.683 Q1935.85 245.044 1933.79 246.202 Q1931.75 247.336 1929.04 247.336 Q1924.57 247.336 1922.26 244.558 Q1919.94 241.78 1919.94 236.433 M1930.66 220.114 L1930.66 220.114 Z\" fill=\"#000000\" fill-rule=\"evenodd\" fill-opacity=\"1\" /><path clip-path=\"url(#clip540)\" d=\"M 0 0 M1957.91 233.632 Q1952.74 233.632 1950.75 234.813 Q1948.76 235.993 1948.76 238.841 Q1948.76 241.109 1950.24 242.452 Q1951.75 243.771 1954.32 243.771 Q1957.86 243.771 1959.99 241.271 Q1962.14 238.748 1962.14 234.581 L1962.14 233.632 L1957.91 233.632 M1966.4 231.873 L1966.4 246.665 L1962.14 246.665 L1962.14 242.729 Q1960.68 245.091 1958.51 246.225 Q1956.33 247.336 1953.18 247.336 Q1949.2 247.336 1946.84 245.114 Q1944.5 242.868 1944.5 239.118 Q1944.5 234.743 1947.42 232.521 Q1950.36 230.299 1956.17 230.299 L1962.14 230.299 L1962.14 229.882 Q1962.14 226.943 1960.2 225.345 Q1958.28 223.725 1954.78 223.725 Q1952.56 223.725 1950.45 224.257 Q1948.35 224.79 1946.4 225.855 L1946.4 221.919 Q1948.74 221.017 1950.94 220.577 Q1953.14 220.114 1955.22 220.114 Q1960.85 220.114 1963.62 223.031 Q1966.4 225.947 1966.4 231.873 Z\" fill=\"#000000\" fill-rule=\"evenodd\" fill-opacity=\"1\" /><path clip-path=\"url(#clip540)\" d=\"M 0 0 M1970.87 210.646 L1975.13 210.646 L1975.13 246.665 L1970.87 246.665 L1970.87 210.646 Z\" fill=\"#000000\" fill-rule=\"evenodd\" fill-opacity=\"1\" /><path clip-path=\"url(#clip540)\" d=\"M 0 0 M2015.57 213.239 L2015.57 217.799 Q2012.91 216.526 2010.55 215.901 Q2008.18 215.276 2005.98 215.276 Q2002.17 215.276 2000.08 216.757 Q1998.02 218.239 1998.02 220.97 Q1998.02 223.262 1999.39 224.443 Q2000.78 225.6 2004.62 226.318 L2007.44 226.896 Q2012.67 227.892 2015.15 230.415 Q2017.65 232.915 2017.65 237.128 Q2017.65 242.151 2014.27 244.743 Q2010.92 247.336 2004.41 247.336 Q2001.96 247.336 1999.18 246.78 Q1996.42 246.225 1993.46 245.137 L1993.46 240.322 Q1996.31 241.919 1999.04 242.729 Q2001.77 243.54 2004.41 243.54 Q2008.42 243.54 2010.59 241.966 Q2012.77 240.392 2012.77 237.475 Q2012.77 234.929 2011.19 233.493 Q2009.64 232.058 2006.08 231.341 L2003.23 230.785 Q1998 229.743 1995.66 227.521 Q1993.32 225.299 1993.32 221.341 Q1993.32 216.757 1996.54 214.119 Q1999.78 211.48 2005.45 211.48 Q2007.88 211.48 2010.41 211.919 Q2012.93 212.359 2015.57 213.239 Z\" fill=\"#000000\" fill-rule=\"evenodd\" fill-opacity=\"1\" /><path clip-path=\"url(#clip540)\" d=\"M 0 0 M2026.33 213.378 L2026.33 220.739 L2035.11 220.739 L2035.11 224.049 L2026.33 224.049 L2026.33 238.123 Q2026.33 241.294 2027.19 242.197 Q2028.07 243.1 2030.73 243.1 L2035.11 243.1 L2035.11 246.665 L2030.73 246.665 Q2025.8 246.665 2023.92 244.836 Q2022.05 242.984 2022.05 238.123 L2022.05 224.049 L2018.92 224.049 L2018.92 220.739 L2022.05 220.739 L2022.05 213.378 L2026.33 213.378 Z\" fill=\"#000000\" fill-rule=\"evenodd\" fill-opacity=\"1\" /><path clip-path=\"url(#clip540)\" d=\"M 0 0 M2049.62 223.725 Q2046.19 223.725 2044.2 226.41 Q2042.21 229.072 2042.21 233.725 Q2042.21 238.378 2044.18 241.063 Q2046.17 243.725 2049.62 243.725 Q2053.02 243.725 2055.01 241.04 Q2057 238.355 2057 233.725 Q2057 229.118 2055.01 226.433 Q2053.02 223.725 2049.62 223.725 M2049.62 220.114 Q2055.17 220.114 2058.35 223.725 Q2061.52 227.336 2061.52 233.725 Q2061.52 240.091 2058.35 243.725 Q2055.17 247.336 2049.62 247.336 Q2044.04 247.336 2040.87 243.725 Q2037.72 240.091 2037.72 233.725 Q2037.72 227.336 2040.87 223.725 Q2044.04 220.114 2049.62 220.114 Z\" fill=\"#000000\" fill-rule=\"evenodd\" fill-opacity=\"1\" /><path clip-path=\"url(#clip540)\" d=\"M 0 0 M2084.64 221.734 L2084.64 225.716 Q2082.84 224.72 2081.01 224.234 Q2079.2 223.725 2077.35 223.725 Q2073.21 223.725 2070.92 226.364 Q2068.62 228.98 2068.62 233.725 Q2068.62 238.47 2070.92 241.109 Q2073.21 243.725 2077.35 243.725 Q2079.2 243.725 2081.01 243.239 Q2082.84 242.729 2084.64 241.734 L2084.64 245.669 Q2082.86 246.503 2080.94 246.919 Q2079.04 247.336 2076.89 247.336 Q2071.03 247.336 2067.58 243.655 Q2064.13 239.975 2064.13 233.725 Q2064.13 227.382 2067.61 223.748 Q2071.1 220.114 2077.17 220.114 Q2079.13 220.114 2081.01 220.531 Q2082.88 220.924 2084.64 221.734 Z\" fill=\"#000000\" fill-rule=\"evenodd\" fill-opacity=\"1\" /><path clip-path=\"url(#clip540)\" d=\"M 0 0 M2088.95 210.646 L2093.23 210.646 L2093.23 231.919 L2105.94 220.739 L2111.38 220.739 L2097.63 232.868 L2111.96 246.665 L2106.4 246.665 L2093.23 234.003 L2093.23 246.665 L2088.95 246.665 L2088.95 210.646 Z\" fill=\"#000000\" fill-rule=\"evenodd\" fill-opacity=\"1\" /><path clip-path=\"url(#clip540)\" d=\"M 0 0 M2136.35 215.947 L2136.35 228.933 L2142.23 228.933 Q2145.5 228.933 2147.28 227.243 Q2149.06 225.554 2149.06 222.429 Q2149.06 219.327 2147.28 217.637 Q2145.5 215.947 2142.23 215.947 L2136.35 215.947 M2131.68 212.105 L2142.23 212.105 Q2148.04 212.105 2151.01 214.744 Q2153.99 217.359 2153.99 222.429 Q2153.99 227.544 2151.01 230.16 Q2148.04 232.776 2142.23 232.776 L2136.35 232.776 L2136.35 246.665 L2131.68 246.665 L2131.68 212.105 Z\" fill=\"#000000\" fill-rule=\"evenodd\" fill-opacity=\"1\" /><path clip-path=\"url(#clip540)\" d=\"M 0 0 M2172.65 224.72 Q2171.93 224.304 2171.08 224.118 Q2170.24 223.91 2169.22 223.91 Q2165.61 223.91 2163.67 226.271 Q2161.75 228.609 2161.75 233.007 L2161.75 246.665 L2157.47 246.665 L2157.47 220.739 L2161.75 220.739 L2161.75 224.767 Q2163.09 222.406 2165.24 221.271 Q2167.4 220.114 2170.47 220.114 Q2170.91 220.114 2171.45 220.183 Q2171.98 220.23 2172.63 220.345 L2172.65 224.72 Z\" fill=\"#000000\" fill-rule=\"evenodd\" fill-opacity=\"1\" /><path clip-path=\"url(#clip540)\" d=\"M 0 0 M2177.12 220.739 L2181.38 220.739 L2181.38 246.665 L2177.12 246.665 L2177.12 220.739 M2177.12 210.646 L2181.38 210.646 L2181.38 216.04 L2177.12 216.04 L2177.12 210.646 Z\" fill=\"#000000\" fill-rule=\"evenodd\" fill-opacity=\"1\" /><path clip-path=\"url(#clip540)\" d=\"M 0 0 M2204.5 221.734 L2204.5 225.716 Q2202.7 224.72 2200.87 224.234 Q2199.06 223.725 2197.21 223.725 Q2193.07 223.725 2190.78 226.364 Q2188.48 228.98 2188.48 233.725 Q2188.48 238.47 2190.78 241.109 Q2193.07 243.725 2197.21 243.725 Q2199.06 243.725 2200.87 243.239 Q2202.7 242.729 2204.5 241.734 L2204.5 245.669 Q2202.72 246.503 2200.8 246.919 Q2198.9 247.336 2196.75 247.336 Q2190.89 247.336 2187.44 243.655 Q2183.99 239.975 2183.99 233.725 Q2183.99 227.382 2187.47 223.748 Q2190.96 220.114 2197.03 220.114 Q2198.99 220.114 2200.87 220.531 Q2202.74 220.924 2204.5 221.734 Z\" fill=\"#000000\" fill-rule=\"evenodd\" fill-opacity=\"1\" /><path clip-path=\"url(#clip540)\" d=\"M 0 0 M2231.15 232.637 L2231.15 234.72 L2211.56 234.72 Q2211.84 239.118 2214.2 241.433 Q2216.59 243.725 2220.82 243.725 Q2223.28 243.725 2225.57 243.123 Q2227.88 242.521 2230.15 241.317 L2230.15 245.345 Q2227.86 246.317 2225.45 246.827 Q2223.04 247.336 2220.57 247.336 Q2214.36 247.336 2210.73 243.725 Q2207.12 240.114 2207.12 233.956 Q2207.12 227.591 2210.54 223.864 Q2213.99 220.114 2219.83 220.114 Q2225.06 220.114 2228.09 223.493 Q2231.15 226.85 2231.15 232.637 M2226.89 231.387 Q2226.84 227.892 2224.92 225.808 Q2223.02 223.725 2219.87 223.725 Q2216.31 223.725 2214.16 225.739 Q2212.03 227.753 2211.7 231.41 L2226.89 231.387 Z\" fill=\"#000000\" fill-rule=\"evenodd\" fill-opacity=\"1\" /><polyline clip-path=\"url(#clip540)\" style=\"stroke:#0000ff; stroke-width:4; stroke-opacity:1; fill:none\" points=\"\n",
       "  1674.25,289.865 1820.18,289.865 \n",
       "  \"/>\n",
       "<path clip-path=\"url(#clip540)\" d=\"M 0 0 M1860.34 277.191 L1854 294.39 L1866.7 294.39 L1860.34 277.191 M1857.7 272.585 L1863 272.585 L1876.17 307.145 L1871.31 307.145 L1868.16 298.279 L1852.58 298.279 L1849.43 307.145 L1844.5 307.145 L1857.7 272.585 Z\" fill=\"#000000\" fill-rule=\"evenodd\" fill-opacity=\"1\" /><path clip-path=\"url(#clip540)\" d=\"M 0 0 M1897.21 290.941 Q1898.72 291.45 1900.13 293.117 Q1901.56 294.784 1903 297.7 L1907.74 307.145 L1902.72 307.145 L1898.3 298.279 Q1896.59 294.807 1894.97 293.673 Q1893.37 292.538 1890.59 292.538 L1885.5 292.538 L1885.5 307.145 L1880.82 307.145 L1880.82 272.585 L1891.38 272.585 Q1897.31 272.585 1900.22 275.061 Q1903.14 277.538 1903.14 282.538 Q1903.14 285.802 1901.61 287.955 Q1900.11 290.108 1897.21 290.941 M1885.5 276.427 L1885.5 288.696 L1891.38 288.696 Q1894.76 288.696 1896.47 287.145 Q1898.21 285.571 1898.21 282.538 Q1898.21 279.506 1896.47 277.978 Q1894.76 276.427 1891.38 276.427 L1885.5 276.427 Z\" fill=\"#000000\" fill-rule=\"evenodd\" fill-opacity=\"1\" /><path clip-path=\"url(#clip540)\" d=\"M 0 0 M1916.84 303.209 L1933.16 303.209 L1933.16 307.145 L1911.22 307.145 L1911.22 303.209 Q1913.88 300.455 1918.46 295.825 Q1923.07 291.173 1924.25 289.83 Q1926.49 287.307 1927.37 285.571 Q1928.28 283.811 1928.28 282.122 Q1928.28 279.367 1926.33 277.631 Q1924.41 275.895 1921.31 275.895 Q1919.11 275.895 1916.66 276.659 Q1914.23 277.423 1911.45 278.974 L1911.45 274.251 Q1914.27 273.117 1916.73 272.538 Q1919.18 271.96 1921.22 271.96 Q1926.59 271.96 1929.78 274.645 Q1932.98 277.33 1932.98 281.821 Q1932.98 283.95 1932.17 285.872 Q1931.38 287.77 1929.27 290.362 Q1928.69 291.034 1925.59 294.251 Q1922.49 297.446 1916.84 303.209 Z\" fill=\"#000000\" fill-rule=\"evenodd\" fill-opacity=\"1\" /><path clip-path=\"url(#clip540)\" d=\"M 0 0 M1952.88 272.585 L1959.85 272.585 L1968.67 296.103 L1977.54 272.585 L1984.5 272.585 L1984.5 307.145 L1979.94 307.145 L1979.94 276.798 L1971.03 300.501 L1966.33 300.501 L1957.42 276.798 L1957.42 307.145 L1952.88 307.145 L1952.88 272.585 Z\" fill=\"#000000\" fill-rule=\"evenodd\" fill-opacity=\"1\" /><path clip-path=\"url(#clip540)\" d=\"M 0 0 M1999.02 284.205 Q1995.59 284.205 1993.6 286.89 Q1991.61 289.552 1991.61 294.205 Q1991.61 298.858 1993.58 301.543 Q1995.57 304.205 1999.02 304.205 Q2002.42 304.205 2004.41 301.52 Q2006.4 298.835 2006.4 294.205 Q2006.4 289.598 2004.41 286.913 Q2002.42 284.205 1999.02 284.205 M1999.02 280.594 Q2004.57 280.594 2007.74 284.205 Q2010.92 287.816 2010.92 294.205 Q2010.92 300.571 2007.74 304.205 Q2004.57 307.816 1999.02 307.816 Q1993.44 307.816 1990.27 304.205 Q1987.12 300.571 1987.12 294.205 Q1987.12 287.816 1990.27 284.205 Q1993.44 280.594 1999.02 280.594 Z\" fill=\"#000000\" fill-rule=\"evenodd\" fill-opacity=\"1\" /><path clip-path=\"url(#clip540)\" d=\"M 0 0 M2032.44 285.154 L2032.44 271.126 L2036.7 271.126 L2036.7 307.145 L2032.44 307.145 L2032.44 303.256 Q2031.1 305.571 2029.04 306.705 Q2027 307.816 2024.13 307.816 Q2019.43 307.816 2016.47 304.066 Q2013.53 300.316 2013.53 294.205 Q2013.53 288.094 2016.47 284.344 Q2019.43 280.594 2024.13 280.594 Q2027 280.594 2029.04 281.728 Q2031.1 282.839 2032.44 285.154 M2017.93 294.205 Q2017.93 298.904 2019.85 301.589 Q2021.8 304.251 2025.17 304.251 Q2028.55 304.251 2030.5 301.589 Q2032.44 298.904 2032.44 294.205 Q2032.44 289.506 2030.5 286.844 Q2028.55 284.159 2025.17 284.159 Q2021.8 284.159 2019.85 286.844 Q2017.93 289.506 2017.93 294.205 Z\" fill=\"#000000\" fill-rule=\"evenodd\" fill-opacity=\"1\" /><path clip-path=\"url(#clip540)\" d=\"M 0 0 M2063.35 293.117 L2063.35 295.2 L2043.76 295.2 Q2044.04 299.598 2046.4 301.913 Q2048.79 304.205 2053.02 304.205 Q2055.48 304.205 2057.77 303.603 Q2060.08 303.001 2062.35 301.797 L2062.35 305.825 Q2060.06 306.797 2057.65 307.307 Q2055.24 307.816 2052.77 307.816 Q2046.56 307.816 2042.93 304.205 Q2039.32 300.594 2039.32 294.436 Q2039.32 288.071 2042.74 284.344 Q2046.19 280.594 2052.03 280.594 Q2057.26 280.594 2060.29 283.973 Q2063.35 287.33 2063.35 293.117 M2059.09 291.867 Q2059.04 288.372 2057.12 286.288 Q2055.22 284.205 2052.07 284.205 Q2048.51 284.205 2046.36 286.219 Q2044.23 288.233 2043.9 291.89 L2059.09 291.867 Z\" fill=\"#000000\" fill-rule=\"evenodd\" fill-opacity=\"1\" /><path clip-path=\"url(#clip540)\" d=\"M 0 0 M2067.81 271.126 L2072.07 271.126 L2072.07 307.145 L2067.81 307.145 L2067.81 271.126 Z\" fill=\"#000000\" fill-rule=\"evenodd\" fill-opacity=\"1\" /></svg>\n"
      ]
     },
     "execution_count": 103,
     "metadata": {},
     "output_type": "execute_result"
    }
   ],
   "source": [
    "fig"
   ]
  },
  {
   "cell_type": "code",
   "execution_count": 104,
   "metadata": {},
   "outputs": [
    {
     "data": {
      "text/plain": [
       "7×5 Array{Float64,2}:\n",
       " -67.0166     -46.7312     -24.7793     -14.5296     -9.14952\n",
       "   0.688137     0.853174     0.856103     0.855381    0.852926\n",
       "   0.286554     0.0852341    0.0931144    0.0810018   0.0868488\n",
       "  -0.202422     0.169806     0.242386     0.179482    0.151732\n",
       "  -1.28116     -0.425721    -0.361614    -0.0779934   0.0723801\n",
       "   0.0882025   -0.170094    -0.283482    -0.358565   -0.324431\n",
       "   0.904596    12.1693      11.5696      16.108      15.297"
      ]
     },
     "execution_count": 104,
     "metadata": {},
     "output_type": "execute_result"
    }
   ],
   "source": [
    "w_test"
   ]
  },
  {
   "cell_type": "code",
   "execution_count": 105,
   "metadata": {},
   "outputs": [
    {
     "data": {
      "text/plain": [
       "18×5 Array{Any,2}:\n",
       " -41.0863    -72.6368     -60.825      -57.3763    -44.9457\n",
       "  -1.27415    -1.67175     -1.36378     -1.30473    -1.235\n",
       "  -0.717599   -1.11343      0.824359     0.474992   -0.0328206\n",
       "  -2.23546    -3.51709     -3.42203     -3.52183    -3.28443\n",
       " 283.844     279.604      281.103      283.482     283.589\n",
       " -58.7764    -49.3443     -42.4971     -22.1353    -16.8618\n",
       "   0.798971    0.917244     0.94198      0.932849    0.926236\n",
       "   0.425684    0.14459      0.119088     0.144864    0.123007\n",
       "   2.58301    -0.796817    -0.219538    -0.287652   -0.0710162\n",
       "  -1.76057    -0.295788    -0.207644    -0.317783   -0.382502\n",
       "  50.9202     18.5899      12.4788      16.9648     19.2438\n",
       " -51.3606    -44.1143     -38.2162     -19.3594    -14.5296\n",
       "   0.637825    0.840094     0.860508     0.843534    0.855381\n",
       "   0.233002    0.0923892    0.0947904    0.103499    0.0810018\n",
       "   0.744642    0.231554     0.190977     0.218054    0.179482\n",
       "   1.84023    -0.924623    -0.282466    -0.341573   -0.0779934\n",
       "  -1.71911    -0.226419    -0.160507    -0.275303   -0.358565\n",
       "  30.6347     14.0193       8.49569     12.6542     16.108"
      ]
     },
     "execution_count": 105,
     "metadata": {},
     "output_type": "execute_result"
    }
   ],
   "source": [
    "w"
   ]
  },
  {
   "cell_type": "code",
   "execution_count": null,
   "metadata": {},
   "outputs": [],
   "source": []
  }
 ],
 "metadata": {
  "kernelspec": {
   "display_name": "Julia 1.5.1",
   "language": "julia",
   "name": "julia-1.5"
  },
  "language_info": {
   "file_extension": ".jl",
   "mimetype": "application/julia",
   "name": "julia",
   "version": "1.5.1"
  }
 },
 "nbformat": 4,
 "nbformat_minor": 4
}
