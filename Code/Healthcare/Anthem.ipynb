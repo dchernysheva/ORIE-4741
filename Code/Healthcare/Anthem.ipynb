{
 "cells": [
  {
   "cell_type": "code",
   "execution_count": 1,
   "metadata": {},
   "outputs": [],
   "source": [
    "using CSV, Plots, Random, LinearAlgebra, Statistics, DataFrames, ARFIMA, GLM, RDatasets, XGBoost"
   ]
  },
  {
   "cell_type": "code",
   "execution_count": 2,
   "metadata": {},
   "outputs": [
    {
     "data": {
      "text/plain": [
       "proxgrad_const"
      ]
     },
     "execution_count": 2,
     "metadata": {},
     "output_type": "execute_result"
    }
   ],
   "source": [
    "using SparseArrays\n",
    "include(\"proxgrad.jl\")"
   ]
  },
  {
   "cell_type": "code",
   "execution_count": 3,
   "metadata": {},
   "outputs": [
    {
     "data": {
      "text/html": [
       "<table class=\"data-frame\"><thead><tr><th></th><th>Total_Sentiment</th><th>Avg_Sentiment</th><th>Vaccine</th><th>Death</th><th>Shut</th><th>Spread</th><th>Date</th><th>Death_Count_Day</th></tr><tr><th></th><th>Float64</th><th>Float64</th><th>Int64</th><th>Int64</th><th>Int64</th><th>Int64</th><th>String</th><th>Int64</th></tr></thead><tbody><p>263 rows × 9 columns (omitted printing of 1 columns)</p><tr><th>1</th><td>1.1162</td><td>0.0858615</td><td>0</td><td>0</td><td>0</td><td>0</td><td>02/11/20</td><td>0</td></tr><tr><th>2</th><td>-1.3723</td><td>-0.0980214</td><td>2</td><td>3</td><td>1</td><td>1</td><td>02/12/20</td><td>0</td></tr><tr><th>3</th><td>-1.3975</td><td>-0.0931667</td><td>0</td><td>3</td><td>0</td><td>0</td><td>02/13/20</td><td>0</td></tr><tr><th>4</th><td>0.0919</td><td>0.00919</td><td>0</td><td>1</td><td>2</td><td>1</td><td>02/14/20</td><td>0</td></tr><tr><th>5</th><td>0.0</td><td>0.0</td><td>1</td><td>0</td><td>0</td><td>0</td><td>02/15/20</td><td>0</td></tr><tr><th>6</th><td>-1.3986</td><td>-0.1998</td><td>0</td><td>0</td><td>1</td><td>0</td><td>02/16/20</td><td>0</td></tr><tr><th>7</th><td>-1.5258</td><td>-0.190725</td><td>1</td><td>0</td><td>0</td><td>0</td><td>02/17/20</td><td>0</td></tr><tr><th>8</th><td>-0.5147</td><td>-0.0343133</td><td>0</td><td>2</td><td>0</td><td>1</td><td>02/18/20</td><td>0</td></tr><tr><th>9</th><td>-1.1541</td><td>-0.144262</td><td>0</td><td>0</td><td>0</td><td>1</td><td>02/19/20</td><td>0</td></tr><tr><th>10</th><td>-0.179</td><td>-0.0162727</td><td>0</td><td>1</td><td>0</td><td>2</td><td>02/20/20</td><td>0</td></tr><tr><th>11</th><td>-1.1914</td><td>-0.1702</td><td>0</td><td>0</td><td>0</td><td>0</td><td>02/21/20</td><td>0</td></tr><tr><th>12</th><td>-0.1779</td><td>-0.0222375</td><td>3</td><td>1</td><td>1</td><td>0</td><td>02/22/20</td><td>0</td></tr><tr><th>13</th><td>0.1443</td><td>0.0131182</td><td>0</td><td>0</td><td>0</td><td>0</td><td>02/23/20</td><td>0</td></tr><tr><th>14</th><td>-2.6237</td><td>-0.218642</td><td>1</td><td>1</td><td>0</td><td>0</td><td>02/24/20</td><td>0</td></tr><tr><th>15</th><td>0.0667</td><td>0.00606364</td><td>0</td><td>0</td><td>1</td><td>0</td><td>02/25/20</td><td>0</td></tr><tr><th>16</th><td>-1.5362</td><td>-0.0903647</td><td>1</td><td>2</td><td>0</td><td>1</td><td>02/26/20</td><td>2</td></tr><tr><th>17</th><td>1.1667</td><td>0.0432111</td><td>2</td><td>0</td><td>1</td><td>3</td><td>02/27/20</td><td>2</td></tr><tr><th>18</th><td>-0.5262</td><td>-0.0194889</td><td>2</td><td>1</td><td>1</td><td>1</td><td>02/28/20</td><td>4</td></tr><tr><th>19</th><td>-5.65</td><td>-0.131395</td><td>0</td><td>9</td><td>0</td><td>1</td><td>02/29/20</td><td>5</td></tr><tr><th>20</th><td>-1.4638</td><td>-0.0813222</td><td>0</td><td>0</td><td>1</td><td>2</td><td>03/01/20</td><td>8</td></tr><tr><th>21</th><td>-3.6362</td><td>-0.117297</td><td>2</td><td>1</td><td>2</td><td>3</td><td>03/02/20</td><td>11</td></tr><tr><th>22</th><td>-3.3627</td><td>-0.11209</td><td>0</td><td>3</td><td>0</td><td>2</td><td>03/03/20</td><td>14</td></tr><tr><th>23</th><td>-5.1946</td><td>-0.173153</td><td>1</td><td>4</td><td>2</td><td>1</td><td>03/04/20</td><td>16</td></tr><tr><th>24</th><td>-1.6101</td><td>-0.0402525</td><td>0</td><td>5</td><td>0</td><td>4</td><td>03/05/20</td><td>20</td></tr><tr><th>25</th><td>-3.193</td><td>-0.103</td><td>0</td><td>4</td><td>2</td><td>1</td><td>03/06/20</td><td>26</td></tr><tr><th>26</th><td>-2.5806</td><td>-0.1122</td><td>0</td><td>2</td><td>1</td><td>2</td><td>03/07/20</td><td>27</td></tr><tr><th>27</th><td>-0.5487</td><td>-0.0177</td><td>1</td><td>1</td><td>0</td><td>1</td><td>03/08/20</td><td>31</td></tr><tr><th>28</th><td>-4.9794</td><td>-0.099588</td><td>0</td><td>3</td><td>3</td><td>4</td><td>03/09/20</td><td>35</td></tr><tr><th>29</th><td>-8.3624</td><td>-0.128652</td><td>3</td><td>1</td><td>4</td><td>3</td><td>03/10/20</td><td>37</td></tr><tr><th>30</th><td>1.8477</td><td>0.018477</td><td>2</td><td>6</td><td>7</td><td>3</td><td>03/11/20</td><td>43</td></tr><tr><th>&vellip;</th><td>&vellip;</td><td>&vellip;</td><td>&vellip;</td><td>&vellip;</td><td>&vellip;</td><td>&vellip;</td><td>&vellip;</td><td>&vellip;</td></tr></tbody></table>"
      ],
      "text/latex": [
       "\\begin{tabular}{r|ccccccccc}\n",
       "\t& Total\\_Sentiment & Avg\\_Sentiment & Vaccine & Death & Shut & Spread & Date & Death\\_Count\\_Day & \\\\\n",
       "\t\\hline\n",
       "\t& Float64 & Float64 & Int64 & Int64 & Int64 & Int64 & String & Int64 & \\\\\n",
       "\t\\hline\n",
       "\t1 & 1.1162 & 0.0858615 & 0 & 0 & 0 & 0 & 02/11/20 & 0 & $\\dots$ \\\\\n",
       "\t2 & -1.3723 & -0.0980214 & 2 & 3 & 1 & 1 & 02/12/20 & 0 & $\\dots$ \\\\\n",
       "\t3 & -1.3975 & -0.0931667 & 0 & 3 & 0 & 0 & 02/13/20 & 0 & $\\dots$ \\\\\n",
       "\t4 & 0.0919 & 0.00919 & 0 & 1 & 2 & 1 & 02/14/20 & 0 & $\\dots$ \\\\\n",
       "\t5 & 0.0 & 0.0 & 1 & 0 & 0 & 0 & 02/15/20 & 0 & $\\dots$ \\\\\n",
       "\t6 & -1.3986 & -0.1998 & 0 & 0 & 1 & 0 & 02/16/20 & 0 & $\\dots$ \\\\\n",
       "\t7 & -1.5258 & -0.190725 & 1 & 0 & 0 & 0 & 02/17/20 & 0 & $\\dots$ \\\\\n",
       "\t8 & -0.5147 & -0.0343133 & 0 & 2 & 0 & 1 & 02/18/20 & 0 & $\\dots$ \\\\\n",
       "\t9 & -1.1541 & -0.144262 & 0 & 0 & 0 & 1 & 02/19/20 & 0 & $\\dots$ \\\\\n",
       "\t10 & -0.179 & -0.0162727 & 0 & 1 & 0 & 2 & 02/20/20 & 0 & $\\dots$ \\\\\n",
       "\t11 & -1.1914 & -0.1702 & 0 & 0 & 0 & 0 & 02/21/20 & 0 & $\\dots$ \\\\\n",
       "\t12 & -0.1779 & -0.0222375 & 3 & 1 & 1 & 0 & 02/22/20 & 0 & $\\dots$ \\\\\n",
       "\t13 & 0.1443 & 0.0131182 & 0 & 0 & 0 & 0 & 02/23/20 & 0 & $\\dots$ \\\\\n",
       "\t14 & -2.6237 & -0.218642 & 1 & 1 & 0 & 0 & 02/24/20 & 0 & $\\dots$ \\\\\n",
       "\t15 & 0.0667 & 0.00606364 & 0 & 0 & 1 & 0 & 02/25/20 & 0 & $\\dots$ \\\\\n",
       "\t16 & -1.5362 & -0.0903647 & 1 & 2 & 0 & 1 & 02/26/20 & 2 & $\\dots$ \\\\\n",
       "\t17 & 1.1667 & 0.0432111 & 2 & 0 & 1 & 3 & 02/27/20 & 2 & $\\dots$ \\\\\n",
       "\t18 & -0.5262 & -0.0194889 & 2 & 1 & 1 & 1 & 02/28/20 & 4 & $\\dots$ \\\\\n",
       "\t19 & -5.65 & -0.131395 & 0 & 9 & 0 & 1 & 02/29/20 & 5 & $\\dots$ \\\\\n",
       "\t20 & -1.4638 & -0.0813222 & 0 & 0 & 1 & 2 & 03/01/20 & 8 & $\\dots$ \\\\\n",
       "\t21 & -3.6362 & -0.117297 & 2 & 1 & 2 & 3 & 03/02/20 & 11 & $\\dots$ \\\\\n",
       "\t22 & -3.3627 & -0.11209 & 0 & 3 & 0 & 2 & 03/03/20 & 14 & $\\dots$ \\\\\n",
       "\t23 & -5.1946 & -0.173153 & 1 & 4 & 2 & 1 & 03/04/20 & 16 & $\\dots$ \\\\\n",
       "\t24 & -1.6101 & -0.0402525 & 0 & 5 & 0 & 4 & 03/05/20 & 20 & $\\dots$ \\\\\n",
       "\t25 & -3.193 & -0.103 & 0 & 4 & 2 & 1 & 03/06/20 & 26 & $\\dots$ \\\\\n",
       "\t26 & -2.5806 & -0.1122 & 0 & 2 & 1 & 2 & 03/07/20 & 27 & $\\dots$ \\\\\n",
       "\t27 & -0.5487 & -0.0177 & 1 & 1 & 0 & 1 & 03/08/20 & 31 & $\\dots$ \\\\\n",
       "\t28 & -4.9794 & -0.099588 & 0 & 3 & 3 & 4 & 03/09/20 & 35 & $\\dots$ \\\\\n",
       "\t29 & -8.3624 & -0.128652 & 3 & 1 & 4 & 3 & 03/10/20 & 37 & $\\dots$ \\\\\n",
       "\t30 & 1.8477 & 0.018477 & 2 & 6 & 7 & 3 & 03/11/20 & 43 & $\\dots$ \\\\\n",
       "\t$\\dots$ & $\\dots$ & $\\dots$ & $\\dots$ & $\\dots$ & $\\dots$ & $\\dots$ & $\\dots$ & $\\dots$ &  \\\\\n",
       "\\end{tabular}\n"
      ],
      "text/plain": [
       "263×9 DataFrame. Omitted printing of 3 columns\n",
       "│ Row │ Total_Sentiment │ Avg_Sentiment │ Vaccine │ Death │ Shut  │ Spread │\n",
       "│     │ \u001b[90mFloat64\u001b[39m         │ \u001b[90mFloat64\u001b[39m       │ \u001b[90mInt64\u001b[39m   │ \u001b[90mInt64\u001b[39m │ \u001b[90mInt64\u001b[39m │ \u001b[90mInt64\u001b[39m  │\n",
       "├─────┼─────────────────┼───────────────┼─────────┼───────┼───────┼────────┤\n",
       "│ 1   │ 1.1162          │ 0.0858615     │ 0       │ 0     │ 0     │ 0      │\n",
       "│ 2   │ -1.3723         │ -0.0980214    │ 2       │ 3     │ 1     │ 1      │\n",
       "│ 3   │ -1.3975         │ -0.0931667    │ 0       │ 3     │ 0     │ 0      │\n",
       "│ 4   │ 0.0919          │ 0.00919       │ 0       │ 1     │ 2     │ 1      │\n",
       "│ 5   │ 0.0             │ 0.0           │ 1       │ 0     │ 0     │ 0      │\n",
       "│ 6   │ -1.3986         │ -0.1998       │ 0       │ 0     │ 1     │ 0      │\n",
       "│ 7   │ -1.5258         │ -0.190725     │ 1       │ 0     │ 0     │ 0      │\n",
       "│ 8   │ -0.5147         │ -0.0343133    │ 0       │ 2     │ 0     │ 1      │\n",
       "│ 9   │ -1.1541         │ -0.144262     │ 0       │ 0     │ 0     │ 1      │\n",
       "│ 10  │ -0.179          │ -0.0162727    │ 0       │ 1     │ 0     │ 2      │\n",
       "⋮\n",
       "│ 253 │ -0.319          │ -0.0074186    │ 5       │ 2     │ 4     │ 0      │\n",
       "│ 254 │ -6.9637         │ -0.0994814    │ 16      │ 17    │ 0     │ 4      │\n",
       "│ 255 │ 3.9958          │ 0.0726509     │ 4       │ 1     │ 3     │ 3      │\n",
       "│ 256 │ -4.8056         │ -0.0800933    │ 4       │ 7     │ 3     │ 1      │\n",
       "│ 257 │ -1.9661         │ -0.0457233    │ 1       │ 1     │ 1     │ 2      │\n",
       "│ 258 │ -2.2498         │ -0.0489087    │ 3       │ 1     │ 3     │ 0      │\n",
       "│ 259 │ -2.345          │ -0.0450962    │ 6       │ 4     │ 3     │ 1      │\n",
       "│ 260 │ -6.0231         │ -0.109511     │ 5       │ 8     │ 2     │ 3      │\n",
       "│ 261 │ -2.0074         │ -0.0308831    │ 4       │ 4     │ 8     │ 3      │\n",
       "│ 262 │ -2.5717         │ -0.0524837    │ 3       │ 1     │ 6     │ 3      │\n",
       "│ 263 │ 1.2955          │ 0.143944      │ 1       │ 0     │ 0     │ 1      │"
      ]
     },
     "execution_count": 3,
     "metadata": {},
     "output_type": "execute_result"
    }
   ],
   "source": [
    "sentiment = CSV.read(\"sentiment4.csv\")"
   ]
  },
  {
   "cell_type": "code",
   "execution_count": 4,
   "metadata": {},
   "outputs": [
    {
     "data": {
      "text/html": [
       "<table class=\"data-frame\"><thead><tr><th></th><th>Total_Sentiment</th><th>Avg_Sentiment</th><th>Vaccine</th><th>Death</th><th>Shut</th><th>Spread</th><th>x1</th></tr><tr><th></th><th>Float64</th><th>Float64</th><th>Int64</th><th>Int64</th><th>Int64</th><th>Int64</th><th>Int64</th></tr></thead><tbody><p>263 rows × 7 columns</p><tr><th>1</th><td>1.1162</td><td>0.0858615</td><td>0</td><td>0</td><td>0</td><td>0</td><td>0</td></tr><tr><th>2</th><td>-1.3723</td><td>-0.0980214</td><td>2</td><td>3</td><td>1</td><td>1</td><td>0</td></tr><tr><th>3</th><td>-1.3975</td><td>-0.0931667</td><td>0</td><td>3</td><td>0</td><td>0</td><td>0</td></tr><tr><th>4</th><td>0.0919</td><td>0.00919</td><td>0</td><td>1</td><td>2</td><td>1</td><td>0</td></tr><tr><th>5</th><td>0.0</td><td>0.0</td><td>1</td><td>0</td><td>0</td><td>0</td><td>0</td></tr><tr><th>6</th><td>-1.3986</td><td>-0.1998</td><td>0</td><td>0</td><td>1</td><td>0</td><td>0</td></tr><tr><th>7</th><td>-1.5258</td><td>-0.190725</td><td>1</td><td>0</td><td>0</td><td>0</td><td>0</td></tr><tr><th>8</th><td>-0.5147</td><td>-0.0343133</td><td>0</td><td>2</td><td>0</td><td>1</td><td>0</td></tr><tr><th>9</th><td>-1.1541</td><td>-0.144262</td><td>0</td><td>0</td><td>0</td><td>1</td><td>0</td></tr><tr><th>10</th><td>-0.179</td><td>-0.0162727</td><td>0</td><td>1</td><td>0</td><td>2</td><td>0</td></tr><tr><th>11</th><td>-1.1914</td><td>-0.1702</td><td>0</td><td>0</td><td>0</td><td>0</td><td>0</td></tr><tr><th>12</th><td>-0.1779</td><td>-0.0222375</td><td>3</td><td>1</td><td>1</td><td>0</td><td>0</td></tr><tr><th>13</th><td>0.1443</td><td>0.0131182</td><td>0</td><td>0</td><td>0</td><td>0</td><td>0</td></tr><tr><th>14</th><td>-2.6237</td><td>-0.218642</td><td>1</td><td>1</td><td>0</td><td>0</td><td>0</td></tr><tr><th>15</th><td>0.0667</td><td>0.00606364</td><td>0</td><td>0</td><td>1</td><td>0</td><td>0</td></tr><tr><th>16</th><td>-1.5362</td><td>-0.0903647</td><td>1</td><td>2</td><td>0</td><td>1</td><td>2</td></tr><tr><th>17</th><td>1.1667</td><td>0.0432111</td><td>2</td><td>0</td><td>1</td><td>3</td><td>2</td></tr><tr><th>18</th><td>-0.5262</td><td>-0.0194889</td><td>2</td><td>1</td><td>1</td><td>1</td><td>4</td></tr><tr><th>19</th><td>-5.65</td><td>-0.131395</td><td>0</td><td>9</td><td>0</td><td>1</td><td>5</td></tr><tr><th>20</th><td>-1.4638</td><td>-0.0813222</td><td>0</td><td>0</td><td>1</td><td>2</td><td>8</td></tr><tr><th>21</th><td>-3.6362</td><td>-0.117297</td><td>2</td><td>1</td><td>2</td><td>3</td><td>11</td></tr><tr><th>22</th><td>-3.3627</td><td>-0.11209</td><td>0</td><td>3</td><td>0</td><td>2</td><td>14</td></tr><tr><th>23</th><td>-5.1946</td><td>-0.173153</td><td>1</td><td>4</td><td>2</td><td>1</td><td>16</td></tr><tr><th>24</th><td>-1.6101</td><td>-0.0402525</td><td>0</td><td>5</td><td>0</td><td>4</td><td>20</td></tr><tr><th>25</th><td>-3.193</td><td>-0.103</td><td>0</td><td>4</td><td>2</td><td>1</td><td>26</td></tr><tr><th>26</th><td>-2.5806</td><td>-0.1122</td><td>0</td><td>2</td><td>1</td><td>2</td><td>27</td></tr><tr><th>27</th><td>-0.5487</td><td>-0.0177</td><td>1</td><td>1</td><td>0</td><td>1</td><td>31</td></tr><tr><th>28</th><td>-4.9794</td><td>-0.099588</td><td>0</td><td>3</td><td>3</td><td>4</td><td>35</td></tr><tr><th>29</th><td>-8.3624</td><td>-0.128652</td><td>3</td><td>1</td><td>4</td><td>3</td><td>37</td></tr><tr><th>30</th><td>1.8477</td><td>0.018477</td><td>2</td><td>6</td><td>7</td><td>3</td><td>43</td></tr><tr><th>&vellip;</th><td>&vellip;</td><td>&vellip;</td><td>&vellip;</td><td>&vellip;</td><td>&vellip;</td><td>&vellip;</td><td>&vellip;</td></tr></tbody></table>"
      ],
      "text/latex": [
       "\\begin{tabular}{r|ccccccc}\n",
       "\t& Total\\_Sentiment & Avg\\_Sentiment & Vaccine & Death & Shut & Spread & x1\\\\\n",
       "\t\\hline\n",
       "\t& Float64 & Float64 & Int64 & Int64 & Int64 & Int64 & Int64\\\\\n",
       "\t\\hline\n",
       "\t1 & 1.1162 & 0.0858615 & 0 & 0 & 0 & 0 & 0 \\\\\n",
       "\t2 & -1.3723 & -0.0980214 & 2 & 3 & 1 & 1 & 0 \\\\\n",
       "\t3 & -1.3975 & -0.0931667 & 0 & 3 & 0 & 0 & 0 \\\\\n",
       "\t4 & 0.0919 & 0.00919 & 0 & 1 & 2 & 1 & 0 \\\\\n",
       "\t5 & 0.0 & 0.0 & 1 & 0 & 0 & 0 & 0 \\\\\n",
       "\t6 & -1.3986 & -0.1998 & 0 & 0 & 1 & 0 & 0 \\\\\n",
       "\t7 & -1.5258 & -0.190725 & 1 & 0 & 0 & 0 & 0 \\\\\n",
       "\t8 & -0.5147 & -0.0343133 & 0 & 2 & 0 & 1 & 0 \\\\\n",
       "\t9 & -1.1541 & -0.144262 & 0 & 0 & 0 & 1 & 0 \\\\\n",
       "\t10 & -0.179 & -0.0162727 & 0 & 1 & 0 & 2 & 0 \\\\\n",
       "\t11 & -1.1914 & -0.1702 & 0 & 0 & 0 & 0 & 0 \\\\\n",
       "\t12 & -0.1779 & -0.0222375 & 3 & 1 & 1 & 0 & 0 \\\\\n",
       "\t13 & 0.1443 & 0.0131182 & 0 & 0 & 0 & 0 & 0 \\\\\n",
       "\t14 & -2.6237 & -0.218642 & 1 & 1 & 0 & 0 & 0 \\\\\n",
       "\t15 & 0.0667 & 0.00606364 & 0 & 0 & 1 & 0 & 0 \\\\\n",
       "\t16 & -1.5362 & -0.0903647 & 1 & 2 & 0 & 1 & 2 \\\\\n",
       "\t17 & 1.1667 & 0.0432111 & 2 & 0 & 1 & 3 & 2 \\\\\n",
       "\t18 & -0.5262 & -0.0194889 & 2 & 1 & 1 & 1 & 4 \\\\\n",
       "\t19 & -5.65 & -0.131395 & 0 & 9 & 0 & 1 & 5 \\\\\n",
       "\t20 & -1.4638 & -0.0813222 & 0 & 0 & 1 & 2 & 8 \\\\\n",
       "\t21 & -3.6362 & -0.117297 & 2 & 1 & 2 & 3 & 11 \\\\\n",
       "\t22 & -3.3627 & -0.11209 & 0 & 3 & 0 & 2 & 14 \\\\\n",
       "\t23 & -5.1946 & -0.173153 & 1 & 4 & 2 & 1 & 16 \\\\\n",
       "\t24 & -1.6101 & -0.0402525 & 0 & 5 & 0 & 4 & 20 \\\\\n",
       "\t25 & -3.193 & -0.103 & 0 & 4 & 2 & 1 & 26 \\\\\n",
       "\t26 & -2.5806 & -0.1122 & 0 & 2 & 1 & 2 & 27 \\\\\n",
       "\t27 & -0.5487 & -0.0177 & 1 & 1 & 0 & 1 & 31 \\\\\n",
       "\t28 & -4.9794 & -0.099588 & 0 & 3 & 3 & 4 & 35 \\\\\n",
       "\t29 & -8.3624 & -0.128652 & 3 & 1 & 4 & 3 & 37 \\\\\n",
       "\t30 & 1.8477 & 0.018477 & 2 & 6 & 7 & 3 & 43 \\\\\n",
       "\t$\\dots$ & $\\dots$ & $\\dots$ & $\\dots$ & $\\dots$ & $\\dots$ & $\\dots$ & $\\dots$ \\\\\n",
       "\\end{tabular}\n"
      ],
      "text/plain": [
       "263×7 DataFrame. Omitted printing of 1 columns\n",
       "│ Row │ Total_Sentiment │ Avg_Sentiment │ Vaccine │ Death │ Shut  │ Spread │\n",
       "│     │ \u001b[90mFloat64\u001b[39m         │ \u001b[90mFloat64\u001b[39m       │ \u001b[90mInt64\u001b[39m   │ \u001b[90mInt64\u001b[39m │ \u001b[90mInt64\u001b[39m │ \u001b[90mInt64\u001b[39m  │\n",
       "├─────┼─────────────────┼───────────────┼─────────┼───────┼───────┼────────┤\n",
       "│ 1   │ 1.1162          │ 0.0858615     │ 0       │ 0     │ 0     │ 0      │\n",
       "│ 2   │ -1.3723         │ -0.0980214    │ 2       │ 3     │ 1     │ 1      │\n",
       "│ 3   │ -1.3975         │ -0.0931667    │ 0       │ 3     │ 0     │ 0      │\n",
       "│ 4   │ 0.0919          │ 0.00919       │ 0       │ 1     │ 2     │ 1      │\n",
       "│ 5   │ 0.0             │ 0.0           │ 1       │ 0     │ 0     │ 0      │\n",
       "│ 6   │ -1.3986         │ -0.1998       │ 0       │ 0     │ 1     │ 0      │\n",
       "│ 7   │ -1.5258         │ -0.190725     │ 1       │ 0     │ 0     │ 0      │\n",
       "│ 8   │ -0.5147         │ -0.0343133    │ 0       │ 2     │ 0     │ 1      │\n",
       "│ 9   │ -1.1541         │ -0.144262     │ 0       │ 0     │ 0     │ 1      │\n",
       "│ 10  │ -0.179          │ -0.0162727    │ 0       │ 1     │ 0     │ 2      │\n",
       "⋮\n",
       "│ 253 │ -0.319          │ -0.0074186    │ 5       │ 2     │ 4     │ 0      │\n",
       "│ 254 │ -6.9637         │ -0.0994814    │ 16      │ 17    │ 0     │ 4      │\n",
       "│ 255 │ 3.9958          │ 0.0726509     │ 4       │ 1     │ 3     │ 3      │\n",
       "│ 256 │ -4.8056         │ -0.0800933    │ 4       │ 7     │ 3     │ 1      │\n",
       "│ 257 │ -1.9661         │ -0.0457233    │ 1       │ 1     │ 1     │ 2      │\n",
       "│ 258 │ -2.2498         │ -0.0489087    │ 3       │ 1     │ 3     │ 0      │\n",
       "│ 259 │ -2.345          │ -0.0450962    │ 6       │ 4     │ 3     │ 1      │\n",
       "│ 260 │ -6.0231         │ -0.109511     │ 5       │ 8     │ 2     │ 3      │\n",
       "│ 261 │ -2.0074         │ -0.0308831    │ 4       │ 4     │ 8     │ 3      │\n",
       "│ 262 │ -2.5717         │ -0.0524837    │ 3       │ 1     │ 6     │ 3      │\n",
       "│ 263 │ 1.2955          │ 0.143944      │ 1       │ 0     │ 0     │ 1      │"
      ]
     },
     "execution_count": 4,
     "metadata": {},
     "output_type": "execute_result"
    }
   ],
   "source": [
    "sentiment = [sentiment[1:6] sentiment[8]]"
   ]
  },
  {
   "cell_type": "code",
   "execution_count": 5,
   "metadata": {
    "scrolled": true
   },
   "outputs": [
    {
     "data": {
      "text/plain": [
       "standarize (generic function with 1 method)"
      ]
     },
     "execution_count": 5,
     "metadata": {},
     "output_type": "execute_result"
    }
   ],
   "source": [
    "function standarize(stock)\n",
    "    return (stock .- mean(stock))/sqrt(var(stock))\n",
    "end"
   ]
  },
  {
   "cell_type": "code",
   "execution_count": 6,
   "metadata": {},
   "outputs": [],
   "source": [
    "sentiment[1] = standarize(sentiment[1])\n",
    "sentiment[2] = standarize(sentiment[2])\n",
    "sentiment[3] = standarize(sentiment[3])\n",
    "sentiment[4] = standarize(sentiment[4])\n",
    "sentiment[5] = standarize(sentiment[5])\n",
    "sentiment[6] = standarize(sentiment[6])\n",
    "sentiment[7] = standarize(sentiment[7]);"
   ]
  },
  {
   "cell_type": "code",
   "execution_count": 7,
   "metadata": {},
   "outputs": [
    {
     "data": {
      "text/plain": [
       "MA (generic function with 1 method)"
      ]
     },
     "execution_count": 7,
     "metadata": {},
     "output_type": "execute_result"
    }
   ],
   "source": [
    "function MA(stock)\n",
    "    ma = stock[1:4]\n",
    "    for i in 5:length(stock)\n",
    "        ma = vcat(ma, mean(stock[i-4:i]))\n",
    "    end\n",
    "    return ma\n",
    "end"
   ]
  },
  {
   "cell_type": "code",
   "execution_count": 8,
   "metadata": {},
   "outputs": [
    {
     "data": {
      "text/html": [
       "<table class=\"data-frame\"><thead><tr><th></th><th>Total_Sentiment</th><th>Avg_Sentiment</th><th>Vaccine</th><th>Death</th><th>Shut</th><th>Spread</th><th>x1</th></tr><tr><th></th><th>Float64</th><th>Float64</th><th>Float64</th><th>Float64</th><th>Float64</th><th>Float64</th><th>Float64</th></tr></thead><tbody><p>263 rows × 7 columns</p><tr><th>1</th><td>0.577592</td><td>1.88905</td><td>-0.88069</td><td>-1.30332</td><td>-1.14515</td><td>-1.09711</td><td>-1.44969</td></tr><tr><th>2</th><td>0.266832</td><td>-0.689646</td><td>-0.384181</td><td>-0.69086</td><td>-0.826446</td><td>-0.709807</td><td>-1.44969</td></tr><tr><th>3</th><td>0.263685</td><td>-0.621565</td><td>-0.88069</td><td>-0.69086</td><td>-1.14515</td><td>-1.09711</td><td>-1.44969</td></tr><tr><th>4</th><td>0.449679</td><td>0.813839</td><td>-0.88069</td><td>-1.09917</td><td>-0.507743</td><td>-0.709807</td><td>-1.44969</td></tr><tr><th>5</th><td>0.438203</td><td>0.684963</td><td>-0.632435</td><td>-1.30332</td><td>-1.14515</td><td>-1.09711</td><td>-1.44969</td></tr><tr><th>6</th><td>0.263547</td><td>-2.11694</td><td>-0.88069</td><td>-1.30332</td><td>-0.826446</td><td>-1.09711</td><td>-1.44969</td></tr><tr><th>7</th><td>0.247663</td><td>-1.98968</td><td>-0.632435</td><td>-1.30332</td><td>-1.14515</td><td>-1.09711</td><td>-1.44969</td></tr><tr><th>8</th><td>0.373928</td><td>0.203768</td><td>-0.88069</td><td>-0.895014</td><td>-1.14515</td><td>-0.709807</td><td>-1.44969</td></tr><tr><th>9</th><td>0.29408</td><td>-1.33811</td><td>-0.88069</td><td>-1.30332</td><td>-1.14515</td><td>-0.709807</td><td>-1.44969</td></tr><tr><th>10</th><td>0.41585</td><td>0.456761</td><td>-0.88069</td><td>-1.09917</td><td>-1.14515</td><td>-0.322506</td><td>-1.44969</td></tr><tr><th>11</th><td>0.289422</td><td>-1.70185</td><td>-0.88069</td><td>-1.30332</td><td>-1.14515</td><td>-1.09711</td><td>-1.44969</td></tr><tr><th>12</th><td>0.415987</td><td>0.373114</td><td>-0.135926</td><td>-1.09917</td><td>-0.826446</td><td>-1.09711</td><td>-1.44969</td></tr><tr><th>13</th><td>0.456223</td><td>0.868927</td><td>-0.88069</td><td>-1.30332</td><td>-1.14515</td><td>-1.09711</td><td>-1.44969</td></tr><tr><th>14</th><td>0.110559</td><td>-2.38117</td><td>-0.632435</td><td>-1.09917</td><td>-1.14515</td><td>-1.09711</td><td>-1.44969</td></tr><tr><th>15</th><td>0.446532</td><td>0.769997</td><td>-0.88069</td><td>-1.30332</td><td>-0.826446</td><td>-1.09711</td><td>-1.44969</td></tr><tr><th>16</th><td>0.246364</td><td>-0.582272</td><td>-0.632435</td><td>-0.895014</td><td>-1.14515</td><td>-0.709807</td><td>-1.44967</td></tr><tr><th>17</th><td>0.583899</td><td>1.29094</td><td>-0.384181</td><td>-1.30332</td><td>-0.826446</td><td>0.0647957</td><td>-1.44967</td></tr><tr><th>18</th><td>0.372492</td><td>0.411659</td><td>-0.384181</td><td>-1.09917</td><td>-0.826446</td><td>-0.709807</td><td>-1.44964</td></tr><tr><th>19</th><td>-0.267362</td><td>-1.15767</td><td>-0.88069</td><td>0.534058</td><td>-1.14515</td><td>-0.709807</td><td>-1.44962</td></tr><tr><th>20</th><td>0.255405</td><td>-0.455464</td><td>-0.88069</td><td>-1.30332</td><td>-0.826446</td><td>-0.322506</td><td>-1.44958</td></tr><tr><th>21</th><td>-0.0158811</td><td>-0.959955</td><td>-0.384181</td><td>-1.09917</td><td>-0.507743</td><td>0.0647957</td><td>-1.44954</td></tr><tr><th>22</th><td>0.0182732</td><td>-0.886938</td><td>-0.88069</td><td>-0.69086</td><td>-1.14515</td><td>-0.322506</td><td>-1.4495</td></tr><tr><th>23</th><td>-0.210492</td><td>-1.74326</td><td>-0.632435</td><td>-0.486707</td><td>-0.507743</td><td>-0.709807</td><td>-1.44947</td></tr><tr><th>24</th><td>0.237136</td><td>0.12048</td><td>-0.88069</td><td>-0.282554</td><td>-1.14515</td><td>0.452097</td><td>-1.44942</td></tr><tr><th>25</th><td>0.0394651</td><td>-0.759463</td><td>-0.88069</td><td>-0.486707</td><td>-0.507743</td><td>-0.709807</td><td>-1.44934</td></tr><tr><th>26</th><td>0.115941</td><td>-0.88848</td><td>-0.88069</td><td>-0.895014</td><td>-0.826446</td><td>-0.322506</td><td>-1.44932</td></tr><tr><th>27</th><td>0.369682</td><td>0.436746</td><td>-0.632435</td><td>-1.09917</td><td>-1.14515</td><td>-0.709807</td><td>-1.44927</td></tr><tr><th>28</th><td>-0.183618</td><td>-0.711615</td><td>-0.88069</td><td>-0.69086</td><td>-0.18904</td><td>0.452097</td><td>-1.44921</td></tr><tr><th>29</th><td>-0.606083</td><td>-1.1192</td><td>-0.135926</td><td>-1.09917</td><td>0.129662</td><td>0.0647957</td><td>-1.44919</td></tr><tr><th>30</th><td>0.668941</td><td>0.944076</td><td>-0.384181</td><td>-0.078401</td><td>1.08577</td><td>0.0647957</td><td>-1.44911</td></tr><tr><th>&vellip;</th><td>&vellip;</td><td>&vellip;</td><td>&vellip;</td><td>&vellip;</td><td>&vellip;</td><td>&vellip;</td><td>&vellip;</td></tr></tbody></table>"
      ],
      "text/latex": [
       "\\begin{tabular}{r|ccccccc}\n",
       "\t& Total\\_Sentiment & Avg\\_Sentiment & Vaccine & Death & Shut & Spread & x1\\\\\n",
       "\t\\hline\n",
       "\t& Float64 & Float64 & Float64 & Float64 & Float64 & Float64 & Float64\\\\\n",
       "\t\\hline\n",
       "\t1 & 0.577592 & 1.88905 & -0.88069 & -1.30332 & -1.14515 & -1.09711 & -1.44969 \\\\\n",
       "\t2 & 0.266832 & -0.689646 & -0.384181 & -0.69086 & -0.826446 & -0.709807 & -1.44969 \\\\\n",
       "\t3 & 0.263685 & -0.621565 & -0.88069 & -0.69086 & -1.14515 & -1.09711 & -1.44969 \\\\\n",
       "\t4 & 0.449679 & 0.813839 & -0.88069 & -1.09917 & -0.507743 & -0.709807 & -1.44969 \\\\\n",
       "\t5 & 0.438203 & 0.684963 & -0.632435 & -1.30332 & -1.14515 & -1.09711 & -1.44969 \\\\\n",
       "\t6 & 0.263547 & -2.11694 & -0.88069 & -1.30332 & -0.826446 & -1.09711 & -1.44969 \\\\\n",
       "\t7 & 0.247663 & -1.98968 & -0.632435 & -1.30332 & -1.14515 & -1.09711 & -1.44969 \\\\\n",
       "\t8 & 0.373928 & 0.203768 & -0.88069 & -0.895014 & -1.14515 & -0.709807 & -1.44969 \\\\\n",
       "\t9 & 0.29408 & -1.33811 & -0.88069 & -1.30332 & -1.14515 & -0.709807 & -1.44969 \\\\\n",
       "\t10 & 0.41585 & 0.456761 & -0.88069 & -1.09917 & -1.14515 & -0.322506 & -1.44969 \\\\\n",
       "\t11 & 0.289422 & -1.70185 & -0.88069 & -1.30332 & -1.14515 & -1.09711 & -1.44969 \\\\\n",
       "\t12 & 0.415987 & 0.373114 & -0.135926 & -1.09917 & -0.826446 & -1.09711 & -1.44969 \\\\\n",
       "\t13 & 0.456223 & 0.868927 & -0.88069 & -1.30332 & -1.14515 & -1.09711 & -1.44969 \\\\\n",
       "\t14 & 0.110559 & -2.38117 & -0.632435 & -1.09917 & -1.14515 & -1.09711 & -1.44969 \\\\\n",
       "\t15 & 0.446532 & 0.769997 & -0.88069 & -1.30332 & -0.826446 & -1.09711 & -1.44969 \\\\\n",
       "\t16 & 0.246364 & -0.582272 & -0.632435 & -0.895014 & -1.14515 & -0.709807 & -1.44967 \\\\\n",
       "\t17 & 0.583899 & 1.29094 & -0.384181 & -1.30332 & -0.826446 & 0.0647957 & -1.44967 \\\\\n",
       "\t18 & 0.372492 & 0.411659 & -0.384181 & -1.09917 & -0.826446 & -0.709807 & -1.44964 \\\\\n",
       "\t19 & -0.267362 & -1.15767 & -0.88069 & 0.534058 & -1.14515 & -0.709807 & -1.44962 \\\\\n",
       "\t20 & 0.255405 & -0.455464 & -0.88069 & -1.30332 & -0.826446 & -0.322506 & -1.44958 \\\\\n",
       "\t21 & -0.0158811 & -0.959955 & -0.384181 & -1.09917 & -0.507743 & 0.0647957 & -1.44954 \\\\\n",
       "\t22 & 0.0182732 & -0.886938 & -0.88069 & -0.69086 & -1.14515 & -0.322506 & -1.4495 \\\\\n",
       "\t23 & -0.210492 & -1.74326 & -0.632435 & -0.486707 & -0.507743 & -0.709807 & -1.44947 \\\\\n",
       "\t24 & 0.237136 & 0.12048 & -0.88069 & -0.282554 & -1.14515 & 0.452097 & -1.44942 \\\\\n",
       "\t25 & 0.0394651 & -0.759463 & -0.88069 & -0.486707 & -0.507743 & -0.709807 & -1.44934 \\\\\n",
       "\t26 & 0.115941 & -0.88848 & -0.88069 & -0.895014 & -0.826446 & -0.322506 & -1.44932 \\\\\n",
       "\t27 & 0.369682 & 0.436746 & -0.632435 & -1.09917 & -1.14515 & -0.709807 & -1.44927 \\\\\n",
       "\t28 & -0.183618 & -0.711615 & -0.88069 & -0.69086 & -0.18904 & 0.452097 & -1.44921 \\\\\n",
       "\t29 & -0.606083 & -1.1192 & -0.135926 & -1.09917 & 0.129662 & 0.0647957 & -1.44919 \\\\\n",
       "\t30 & 0.668941 & 0.944076 & -0.384181 & -0.078401 & 1.08577 & 0.0647957 & -1.44911 \\\\\n",
       "\t$\\dots$ & $\\dots$ & $\\dots$ & $\\dots$ & $\\dots$ & $\\dots$ & $\\dots$ & $\\dots$ \\\\\n",
       "\\end{tabular}\n"
      ],
      "text/plain": [
       "263×7 DataFrame. Omitted printing of 2 columns\n",
       "│ Row │ Total_Sentiment │ Avg_Sentiment │ Vaccine   │ Death     │ Shut      │\n",
       "│     │ \u001b[90mFloat64\u001b[39m         │ \u001b[90mFloat64\u001b[39m       │ \u001b[90mFloat64\u001b[39m   │ \u001b[90mFloat64\u001b[39m   │ \u001b[90mFloat64\u001b[39m   │\n",
       "├─────┼─────────────────┼───────────────┼───────────┼───────────┼───────────┤\n",
       "│ 1   │ 0.577592        │ 1.88905       │ -0.88069  │ -1.30332  │ -1.14515  │\n",
       "│ 2   │ 0.266832        │ -0.689646     │ -0.384181 │ -0.69086  │ -0.826446 │\n",
       "│ 3   │ 0.263685        │ -0.621565     │ -0.88069  │ -0.69086  │ -1.14515  │\n",
       "│ 4   │ 0.449679        │ 0.813839      │ -0.88069  │ -1.09917  │ -0.507743 │\n",
       "│ 5   │ 0.438203        │ 0.684963      │ -0.632435 │ -1.30332  │ -1.14515  │\n",
       "│ 6   │ 0.263547        │ -2.11694      │ -0.88069  │ -1.30332  │ -0.826446 │\n",
       "│ 7   │ 0.247663        │ -1.98968      │ -0.632435 │ -1.30332  │ -1.14515  │\n",
       "│ 8   │ 0.373928        │ 0.203768      │ -0.88069  │ -0.895014 │ -1.14515  │\n",
       "│ 9   │ 0.29408         │ -1.33811      │ -0.88069  │ -1.30332  │ -1.14515  │\n",
       "│ 10  │ 0.41585         │ 0.456761      │ -0.88069  │ -1.09917  │ -1.14515  │\n",
       "⋮\n",
       "│ 253 │ 0.398367        │ 0.580928      │ 0.360583  │ -0.895014 │ 0.129662  │\n",
       "│ 254 │ -0.431415       │ -0.710121     │ 3.09138   │ 2.16728   │ -1.14515  │\n",
       "│ 255 │ 0.937193        │ 1.70379       │ 0.112328  │ -1.09917  │ -0.18904  │\n",
       "│ 256 │ -0.161914       │ -0.43823      │ 0.112328  │ 0.125752  │ -0.18904  │\n",
       "│ 257 │ 0.192679        │ 0.0437603     │ -0.632435 │ -1.09917  │ -0.826446 │\n",
       "│ 258 │ 0.157251        │ -0.000910909  │ -0.135926 │ -1.09917  │ -0.18904  │\n",
       "│ 259 │ 0.145362        │ 0.0525545     │ 0.608837  │ -0.486707 │ -0.18904  │\n",
       "│ 260 │ -0.313954       │ -0.850769     │ 0.360583  │ 0.329905  │ -0.507743 │\n",
       "│ 261 │ 0.187521        │ 0.251872      │ 0.112328  │ -0.486707 │ 1.40447   │\n",
       "│ 262 │ 0.117052        │ -0.0510448    │ -0.135926 │ -1.09917  │ 0.767067  │\n",
       "│ 263 │ 0.599983        │ 2.70358       │ -0.632435 │ -1.30332  │ -1.14515  │"
      ]
     },
     "execution_count": 8,
     "metadata": {},
     "output_type": "execute_result"
    }
   ],
   "source": [
    "sentiment"
   ]
  },
  {
   "cell_type": "code",
   "execution_count": 72,
   "metadata": {},
   "outputs": [
    {
     "name": "stdout",
     "output_type": "stream",
     "text": [
      "thread = 1 warning: only found 8 / 9 columns around data row: 263. Filling remaining columns with `missing`\n"
     ]
    }
   ],
   "source": [
    "Anthem = CSV.read(\"Anthem.csv\",header = false)\n",
    "Cardinal = CSV.read(\"Cardinal.csv\",header = false)\n",
    "Cigna = CSV.read(\"Cigna.csv\",header = false)\n",
    "CVS = CSV.read(\"CVS.csv\",header = false)\n",
    "Gilead = CSV.read(\"Gilead.csv\",header = false)\n",
    "McKesson = CSV.read(\"McKesson.csv\",header = false)\n",
    "Moderna = CSV.read(\"Moderna.csv\",header = false)\n",
    "Pfizer = CSV.read(\"Pfizer.csv\",header = false)\n",
    "United = CSV.read(\"United.csv\",header = false)\n",
    "Johnson = CSV.read(\"Johnson.csv\",header = false);"
   ]
  },
  {
   "cell_type": "code",
   "execution_count": 90,
   "metadata": {},
   "outputs": [],
   "source": [
    "Cardinal[1] = standarize(Cardinal[1])\n",
    "Cigna[1] = standarize(Cigna[1])\n",
    "CVS[1] = standarize(CVS[1])\n",
    "Gilead[1] = standarize(Gilead[1])\n",
    "McKesson[1] = standarize(McKesson[1])\n",
    "Moderna[1] = standarize(Moderna[1])\n",
    "Pfizer[1] = standarize(Pfizer[1])\n",
    "United[1] = standarize(United[1])\n",
    "Johnson[1] = standarize(Johnson[1])\n",
    "Anthem[1] = standarize(Anthem[1]);"
   ]
  },
  {
   "cell_type": "code",
   "execution_count": 11,
   "metadata": {},
   "outputs": [],
   "source": [
    "CardinalMa = MA(Cardinal[1])\n",
    "CignaMa = MA(Cigna[1])\n",
    "CVSMa = MA(CVS[1])\n",
    "GileadMa = MA(Gilead[1])\n",
    "McKessonMa = MA(McKesson[1])\n",
    "ModernaMa =MA(Moderna[1])\n",
    "PfizerMa = MA(Pfizer[1])\n",
    "UnitedMa = MA(United[1])\n",
    "JohnsonMa = MA(Johnson[1])\n",
    "AnthemMa = MA(Anthem[1]);"
   ]
  },
  {
   "cell_type": "code",
   "execution_count": 17,
   "metadata": {},
   "outputs": [
    {
     "data": {
      "text/plain": [
       "abs_err (generic function with 1 method)"
      ]
     },
     "execution_count": 17,
     "metadata": {},
     "output_type": "execute_result"
    }
   ],
   "source": [
    "function abs_err(y,pred)\n",
    "    return mean(abs.((y-pred)))\n",
    "end"
   ]
  },
  {
   "cell_type": "code",
   "execution_count": 18,
   "metadata": {},
   "outputs": [
    {
     "data": {
      "text/plain": [
       "analysis (generic function with 1 method)"
      ]
     },
     "execution_count": 18,
     "metadata": {},
     "output_type": "execute_result"
    }
   ],
   "source": [
    "function analysis(stock, sentiment)\n",
    "    # index for 5-fold\n",
    "    split = [43,43 + 44,43+ 44*2,43 + 44*3, 43 + 44*4,43 + 44*5]\n",
    "    num_of_model = 3\n",
    "    mse = zeros(num_of_model,5)\n",
    "    w = zeros(18)\n",
    "    for i in 1:5\n",
    "        w_set = []\n",
    "        # setting train and validation set\n",
    "        split_cur = split[i]\n",
    "        split2 = Int(round(split_cur*4/5))\n",
    "\n",
    "        stock_train = stock[1][1:split2]\n",
    "        stock_val = stock[1][split2 + 1:split_cur]\n",
    "\n",
    "        sent_train = sentiment[1][1:split2]\n",
    "        sent_val = sentiment[1][split2 + 1:split_cur]\n",
    "\n",
    "        death_train = sentiment[3][1:split2]\n",
    "        death_val = sentiment[3][split2 + 1:split_cur]\n",
    "\n",
    "        vac_train = sentiment[2][1:split2]\n",
    "        vac_val = sentiment[2][split2 + 1:split_cur]\n",
    "\n",
    "        shut_train = sentiment[4][1:split2]\n",
    "        shut_val = sentiment[4][split2 + 1:split_cur]\n",
    "\n",
    "        #Naive Model, w[1:5]\n",
    "        Xtrain = [sent_train death_train vac_train shut_train ones(length(sent_train))]\n",
    "        Xval = [sent_val death_val vac_val shut_val ones(length(sent_val))]\n",
    "        Ytrain = stock_train\n",
    "        Yval = stock_val\n",
    "\n",
    "        w_cur = Xtrain\\Ytrain\n",
    "        w_set = vcat(w_set, w_cur)\n",
    "        pred = Xval*w_cur\n",
    "        mse[1,i] = abs_err(Yval,pred)\n",
    "\n",
    "        #AR1 Model, w[6:11]\n",
    "        Xtrain = [sent_train[2:end] stock_train[1:end-1] death_train[2:end] vac_train[2:end] shut_train[2:end] ones(length(sent_train)-1)]\n",
    "        Xval = [sent_val[2:end] stock_val[1:end-1] death_val[2:end] vac_val[2:end] shut_val[2:end] ones(length(sent_val)-1)]\n",
    "        Ytrain = stock_train[2:end]\n",
    "        Yval = stock_val[2:end]\n",
    "\n",
    "        w_cur = Xtrain\\Ytrain\n",
    "        w_set = vcat(w_set, w_cur)\n",
    "        pred = Xval*w_cur\n",
    "        mse[2,i] = abs_err(Yval,pred)\n",
    "\n",
    "        # AR2 Model, w[12:18]\n",
    "        Xtrain = [sent_train[3:end] stock_train[2:end-1] stock_train[1:end-2] death_train[3:end] vac_train[3:end] shut_train[3:end] ones(length(sent_train)-2)]\n",
    "        Xval = [sent_val[3:end] stock_val[2:end-1] stock_val[1:end-2] death_val[3:end] vac_val[3:end] shut_val[3:end] ones(length(sent_val)-2)]\n",
    "        Ytrain = stock_train[3:end]\n",
    "        Yval = stock_val[3:end]\n",
    "\n",
    "        w_cur = Xtrain\\Ytrain\n",
    "        w_set = vcat(w_set, w_cur)\n",
    "        pred = Xval*w_cur\n",
    "        mse[3,i] = abs_err(Yval,pred)\n",
    "        w = hcat(w,w_set)\n",
    "    end\n",
    "    w = w[:,2:6]\n",
    "    \n",
    "    avg_mse = mean(mse, dims=2)\n",
    "    \n",
    "    final_model = findmin(avg_mse)[2][1]\n",
    "    test_mse = zeros(5)\n",
    "    model = [\"model 1\", \"model 2\", \"model 3\"]\n",
    "    model_length = [5, 6, 7]\n",
    "    fig = plot(linestyle = :dot, title = \"Test predictions from 9/17 to 10/30\")\n",
    "    w_test = zeros(model_length[final_model])\n",
    "    for i in 1:5\n",
    "        #Fixed index\n",
    "        stock_train = stock[1][1:split[i]]\n",
    "        sent_train = sentiment[1][1:split[i]]\n",
    "        death_train = sentiment[3][1:split[i]]\n",
    "        vac_train = sentiment[2][1:split[i]]\n",
    "        shut_train = sentiment[4][1:split[i]]\n",
    "\n",
    "        stock_test = stock[1][split[i]+1:split[i+1]]\n",
    "        sent_test = sentiment[1][split[i]+1:split[i+1]]\n",
    "        death_test = sentiment[3][split[i]+1:split[i+1]]\n",
    "        vac_test = sentiment[2][split[i]+1:split[i+1]]\n",
    "        shut_test = sentiment[4][split[i]+1:split[i+1]]\n",
    "\n",
    "        if final_model == 1\n",
    "            Xtrain = [sent_train death_train vac_train shut_train ones(length(sent_train))]\n",
    "            Xtest = [sent_test death_test vac_test shut_test ones(length(sent_test))]\n",
    "            Ytrain = stock_train\n",
    "            Ytest = stock_test\n",
    "\n",
    "            w_cur = Xtrain\\Ytrain\n",
    "            w_test = hcat(w_test, w_cur)\n",
    "            pred = Xtest*w_cur\n",
    "            test_mse[i] = abs_err(Ytest,pred)\n",
    "            #plot\n",
    "            if i == 5\n",
    "                date = [1:44]\n",
    "                plot!(date, Ytest, color = :red,  label = \"Actual Stock Price\")\n",
    "                plot!(date, pred, color = :blue, label = \"Naive Model\")\n",
    "            end\n",
    "\n",
    "        elseif final_model == 2\n",
    "            Xtrain = [sent_train[2:end] stock_train[1:end-1] death_train[2:end] vac_train[2:end] shut_train[2:end] ones(length(stock_train)-1)]\n",
    "            Xtest = [sent_test[2:end] stock_test[1:end-1] death_test[2:end] vac_test[2:end] shut_test[2:end] ones(length(stock_test)-1)]\n",
    "            Ytrain = stock_train[2:end]\n",
    "            Ytest = stock_test[2:end]\n",
    "\n",
    "            w_cur = Xtrain\\Ytrain\n",
    "            w_test = hcat(w_test, w_cur)\n",
    "            pred = Xtest*w_cur\n",
    "            test_mse[i] = abs_err(Ytest,pred)\n",
    "            #plot\n",
    "            if i == 5\n",
    "                date = [2:44]\n",
    "                plot!(date, Ytest, color = :red,  label = \"Actual Stock Price\")\n",
    "                plot!(date, pred, color = :blue, label = \"AR1 Model\")\n",
    "            end\n",
    "\n",
    "        elseif final_model == 3\n",
    "            Xtrain = [sent_train[3:end] stock_train[2:end-1] stock_train[1:end-2] death_train[3:end] vac_train[3:end] shut_train[3:end] ones(length(sent_train)-2)]\n",
    "            Xtest = [sent_test[3:end] stock_test[2:end-1] stock_test[1:end-2] death_test[3:end] vac_test[3:end] shut_test[3:end] ones(length(stock_test)-2)]\n",
    "            Ytrain = stock_train[3:end]\n",
    "            Ytest = stock_test[3:end]\n",
    "\n",
    "            w_cur = Xtrain\\Ytrain\n",
    "            w_test = hcat(w_test, w_cur)\n",
    "            pred = Xtest*w_cur\n",
    "            test_mse[i] = abs_err(Ytest,pred) \n",
    "            #plot\n",
    "            if i == 5\n",
    "                date = [3:44]\n",
    "                plot!(date, Ytest, color = :red, label = \"Actual Stock Price\")\n",
    "                plot!(date, pred, color = :blue, label = \"AR2 Model\")\n",
    "            end\n",
    "        else\n",
    "            print(\"error\")\n",
    "        end  \n",
    "    end\n",
    "    w_test = w_test[:,2:6]\n",
    "    display(fig)\n",
    "    print(\"Selected: \", model[final_model], \", estimated error is: \",mean(test_mse), \", Validation Error is :\", findmin(avg_mse)[1])\n",
    "end"
   ]
  },
  {
   "cell_type": "code",
   "execution_count": 19,
   "metadata": {},
   "outputs": [
    {
     "data": {
      "text/plain": [
       "analysis1 (generic function with 1 method)"
      ]
     },
     "execution_count": 19,
     "metadata": {},
     "output_type": "execute_result"
    }
   ],
   "source": [
    "function analysis1(stock, sentiment, stockMa)\n",
    "    # index for 5-fold\n",
    "    split = [43,43 + 44,43+ 44*2,43 + 44*3, 43 + 44*4,43 + 44*5]\n",
    "    num_of_model = 2\n",
    "    mse = zeros(4,5)\n",
    "    w = zeros(36)\n",
    "    for i in 1:5\n",
    "        w_set = []\n",
    "        position = 1\n",
    "        # setting train and validation set\n",
    "        split_cur = split[i]\n",
    "        split2 = Int(round(split_cur*4/5))\n",
    "\n",
    "        stock_train = stock[1][1:split2]\n",
    "        stock_val = stock[1][split2 + 1:split_cur]\n",
    "        \n",
    "        stockMa_train = stockMa[1:split2]\n",
    "        stockMa_val = stockMa[split2 + 1:split_cur]\n",
    "\n",
    "        sent_train = sentiment[1][1:split2]\n",
    "        sent_val = sentiment[1][split2 + 1:split_cur]\n",
    "\n",
    "        death_train = sentiment[3][1:split2]\n",
    "        death_val = sentiment[3][split2 + 1:split_cur]\n",
    "\n",
    "        vac_train = sentiment[2][1:split2]\n",
    "        vac_val = sentiment[2][split2 + 1:split_cur]\n",
    "\n",
    "        shut_train = sentiment[4][1:split2]\n",
    "        shut_val = sentiment[4][split2 + 1:split_cur]\n",
    "        \n",
    "        spred_train = sentiment[5][1:split2]\n",
    "        spred_val = sentiment[5][split2 + 1:split_cur]\n",
    "        \n",
    "        death_train = sentiment[6][1:split2]\n",
    "        death_val = sentiment[6][split2 + 1:split_cur]\n",
    "        \n",
    "        pos_train = sentiment[7][1:split2]\n",
    "        pos_val = sentiment[7][split2 + 1:split_cur]\n",
    "\n",
    "        #quad quad, w[1:9]\n",
    "        Xtrain = [sent_train[2:end] stockMa_train[1:end-1] death_train[2:end] vac_train[2:end] shut_train[2:end] spred_train[2:end] death_train[2:end] pos_train[2:end] ones(length(sent_train)-1)]\n",
    "        Xval = [sent_val[2:end] stockMa_val[1:end-1] death_val[2:end] vac_val[2:end] shut_val[2:end] spred_val[2:end] death_val[2:end] pos_val[2:end] ones(length(sent_val)-1)]\n",
    "        Ytrain = stock_train[2:end]\n",
    "        Yval = stock_val[2:end]\n",
    "        \n",
    "        n = length(Ytrain)\n",
    "        loss = 1/n*QuadLoss()\n",
    "\n",
    "            # we form λ|| ⋅ ||^2 by multiplying the QuadReg() function by λ\n",
    "        λ = 0.1\n",
    "        reg = λ*QuadReg()\n",
    "\n",
    "        w_cur = proxgrad(loss, reg, Xtrain, Ytrain, maxiters=1000)\n",
    "        w_set = vcat(w_set, w_cur)\n",
    "        pred = Xval*w_cur\n",
    "\n",
    "        mse[1,i] = abs_err(Yval,pred)\n",
    "\n",
    "        #quad one, w[10:18]\n",
    "        loss = 1/n*QuadLoss()\n",
    "\n",
    "        reg = λ*OneReg()\n",
    "\n",
    "        w_cur = proxgrad(loss, reg, Xtrain, Ytrain, maxiters=1000)\n",
    "        w_set = vcat(w_set, w_cur)\n",
    "        pred = Xval*w_cur\n",
    "\n",
    "        mse[2,i] = abs_err(Yval,pred)\n",
    "        \n",
    "        #quantil quad, w[19:27]\n",
    "        loss = 1/n*QuantileLoss(0.2)\n",
    "\n",
    "        reg = λ*QuadReg()\n",
    "\n",
    "        w_cur = proxgrad(loss, reg, Xtrain, Ytrain, maxiters=1000)\n",
    "        w_set = vcat(w_set, w_cur)\n",
    "        pred = Xval*w_cur\n",
    "\n",
    "        mse[3,i] = abs_err(Yval,pred)\n",
    "\n",
    "        #huber quad, w[28:34]\n",
    "        loss = 1/n*HuberLoss()\n",
    "\n",
    "        reg = λ*QuadReg()\n",
    "\n",
    "        w_cur = proxgrad(loss, reg, Xtrain, Ytrain, maxiters=1000)\n",
    "        w_set = vcat(w_set, w_cur)\n",
    "        pred = Xval*w_cur\n",
    "\n",
    "        mse[4,i] = abs_err(Yval,pred)\n",
    "        \n",
    "        w = hcat(w, w_set)\n",
    "    end\n",
    "    return w,mse\n",
    "end"
   ]
  },
  {
   "cell_type": "code",
   "execution_count": 29,
   "metadata": {},
   "outputs": [
    {
     "data": {
      "text/plain": [
       "1"
      ]
     },
     "execution_count": 29,
     "metadata": {},
     "output_type": "execute_result"
    }
   ],
   "source": [
    "avg_mse = mean(mse, dims=2)\n",
    "final_model = findmin(avg_mse)[2][1]"
   ]
  },
  {
   "cell_type": "code",
   "execution_count": 103,
   "metadata": {},
   "outputs": [
    {
     "data": {
      "text/plain": [
       "analysis2 (generic function with 1 method)"
      ]
     },
     "execution_count": 103,
     "metadata": {},
     "output_type": "execute_result"
    }
   ],
   "source": [
    "function analysis2(stock, sentiment, w, mse, stockMa)\n",
    "    split = [43,43 + 44,43+ 44*2,43 + 44*3, 43 + 44*4,43 + 44*5]\n",
    "    avg_mse = mean(mse, dims=2)\n",
    "    models = [\"Quad/Quad\", \"Quad/One\", \"Quantile/Quad\", \"Huber/Quad\"]\n",
    "    final_model = findmin(avg_mse)[2][1]\n",
    "    test_mse = zeros(5)\n",
    "    fig = plot(linestyle = :dot, title = \"Test predictions from 9/17 to 10/30\")\n",
    "    w_test = zeros(9)\n",
    "        \n",
    "    for i in 1:5\n",
    "        #Fixed index\n",
    "        stock_train = stock[1][1:split[i]]\n",
    "        stockMa_train = stockMa[1:split[i]]\n",
    "        sent_train = sentiment[1][1:split[i]]\n",
    "        death_train = sentiment[3][1:split[i]]\n",
    "        vac_train = sentiment[2][1:split[i]]\n",
    "        shut_train = sentiment[4][1:split[i]]\n",
    "        spred_train = sentiment[5][1:split[i]]\n",
    "        death_train = sentiment[6][1:split[i]]\n",
    "        pos_train = sentiment[7][1:split[i]]\n",
    "        \n",
    "\n",
    "        stock_test = stock[1][split[i]+1:split[i+1]]\n",
    "        stockMa_test = stockMa[split[i]+1:split[i+1]]\n",
    "        sent_test = sentiment[1][split[i]+1:split[i+1]]\n",
    "        death_test = sentiment[3][split[i]+1:split[i+1]]\n",
    "        vac_test = sentiment[2][split[i]+1:split[i+1]]\n",
    "        shut_test = sentiment[4][split[i]+1:split[i+1]]\n",
    "        spred_test = sentiment[5][split[i]+1:split[i+1]]\n",
    "        death_test = sentiment[6][split[i]+1:split[i+1]]\n",
    "        pos_test = sentiment[7][split[i]+1:split[i+1]]\n",
    "        \n",
    "        Xtrain = [sent_train[2:end] stockMa_train[1:end-1] death_train[2:end] vac_train[2:end] shut_train[2:end] spred_train[2:end] death_train[2:end] pos_train[2:end] ones(length(stock_train)-1)]\n",
    "        Xtest = [sent_test[2:end] stockMa_test[1:end-1] death_test[2:end] vac_test[2:end] shut_test[2:end] spred_test[2:end] death_test[2:end] pos_test[2:end] ones(length(stock_test)-1)]\n",
    "        Ytrain = stock_train[2:end]\n",
    "        Ytest = stock_test[2:end]\n",
    "        \n",
    "        n = length(Ytrain)\n",
    "        λ = 0.1\n",
    "\n",
    "        if final_model == 1\n",
    "            loss = 1/n*QuadLoss()\n",
    "            # we form λ|| ⋅ ||^2 by multiplying the QuadReg() function by λ\n",
    "            reg = λ*QuadReg()\n",
    "\n",
    "            w_cur = proxgrad(loss, reg, Xtrain, Ytrain, maxiters=1000)\n",
    "            w_test = hcat(w_test, w_cur)\n",
    "            pred = Xtest*w_cur\n",
    "            test_mse[i] = abs_err(Ytest,pred)\n",
    "            if i == 5\n",
    "                date = [1:43]\n",
    "                plot!(date, Ytest, color = :red,  label = \"Actual Stock Price\")\n",
    "                plot!(date, pred, color = :blue, label = \"AR1 Model\")\n",
    "            end\n",
    "\n",
    "        elseif final_model == 2\n",
    "            loss = 1/n*QuadLoss()\n",
    "\n",
    "            # we form λ|| ⋅ ||^2 by multiplying the QuadReg() function by λ\n",
    "            reg = λ*OneReg()\n",
    "\n",
    "            w_cur = proxgrad(loss, reg, Xtrain, Ytrain, maxiters=1000)\n",
    "            w_test = hcat(w_test, w_cur)\n",
    "            pred = Xtest*w_cur\n",
    "            test_mse[i] = abs_err(Ytest,pred)\n",
    "            if i == 5\n",
    "                date = [1:43]\n",
    "                plot!(date, Ytest, color = :red,  label = \"Actual Stock Price\")\n",
    "                plot!(date, pred, color = :blue, label = \"AR1 Model\")\n",
    "            end\n",
    "        elseif final_model == 3\n",
    "            # we form λ|| ⋅ ||^2 by multiplying the QuadReg() function by λ\n",
    "            reg = λ*QuadReg()\n",
    "            loss = 1/n*QuantileLoss(0.2)\n",
    "            w_cur = proxgrad(loss, reg, Xtrain, Ytrain, maxiters=1000)\n",
    "            w_test = hcat(w_test, w_cur)\n",
    "            pred = Xtest*w_cur\n",
    "            test_mse[i] = abs_err(Ytest,pred)\n",
    "            if i == 5\n",
    "                date = [1:43]\n",
    "                plot!(date, Ytest, color = :red,  label = \"Actual Stock Price\")\n",
    "                plot!(date, pred, color = :blue, label = \"AR1 Model\")\n",
    "            end\n",
    "        else\n",
    "            reg = λ*QuadReg()\n",
    "            loss = 1/n*HuberLoss()\n",
    "            w_cur = proxgrad(loss, reg, Xtrain, Ytrain, maxiters=1000)\n",
    "            w_test = hcat(w_test, w_cur)\n",
    "            pred = Xtest*w_cur\n",
    "            test_mse[i] = abs_err(Ytest,pred)\n",
    "            if i == 5\n",
    "                date = [1:43]\n",
    "                plot!(date, Ytest, color = :red,  label = \"Actual Stock Price\")\n",
    "                plot!(date, pred, color = :blue, label = \"AR1 Model\")\n",
    "            end\n",
    "        end\n",
    "    end\n",
    "    w_test = w_test[:,2:6]\n",
    "    print(\"Selected: \", models[final_model], \", estimated error is: \",mean(test_mse), \", Validation Error is :\", findmin(avg_mse)[1])\n",
    "    #display(fig)\n",
    "    return w_test\n",
    "end"
   ]
  },
  {
   "cell_type": "code",
   "execution_count": 106,
   "metadata": {
    "scrolled": true
   },
   "outputs": [
    {
     "name": "stdout",
     "output_type": "stream",
     "text": [
      "Selected: Quad/Quad, estimated error is: 0.34261896709750594, Validation Error is :0.5303593404686049"
     ]
    }
   ],
   "source": [
    "w,mse = analysis1(Anthem, sentiment, AnthemMa)\n",
    "w1 = analysis2(Anthem, sentiment, w, mse, AnthemMa);"
   ]
  },
  {
   "cell_type": "code",
   "execution_count": 107,
   "metadata": {},
   "outputs": [
    {
     "name": "stdout",
     "output_type": "stream",
     "text": [
      "Selected: Quad/One, estimated error is: 0.31472463242536675, Validation Error is :0.38953971976568635"
     ]
    }
   ],
   "source": [
    "w,mse = analysis1(Cigna, sentiment,CignaMa)\n",
    "w2 = analysis2(Cigna, sentiment, w, mse, CignaMa);"
   ]
  },
  {
   "cell_type": "code",
   "execution_count": 108,
   "metadata": {},
   "outputs": [
    {
     "name": "stdout",
     "output_type": "stream",
     "text": [
      "Selected: Quad/One, estimated error is: 0.3215993291342864, Validation Error is :0.35119577561745974"
     ]
    }
   ],
   "source": [
    "w,mse = analysis1(Cardinal, sentiment,CardinalMa)\n",
    "w3 = analysis2(Cardinal, sentiment, w, mse, CardinalMa);"
   ]
  },
  {
   "cell_type": "code",
   "execution_count": 109,
   "metadata": {},
   "outputs": [
    {
     "name": "stdout",
     "output_type": "stream",
     "text": [
      "Selected: Quad/One, estimated error is: 0.2986479839613761, Validation Error is :0.3232445243230085"
     ]
    }
   ],
   "source": [
    "w,mse = analysis1(CVS, sentiment,CVSMa)\n",
    "w4 = analysis2(CVS, sentiment, w, mse, CVSMa);"
   ]
  },
  {
   "cell_type": "code",
   "execution_count": 110,
   "metadata": {},
   "outputs": [
    {
     "name": "stdout",
     "output_type": "stream",
     "text": [
      "Selected: Quad/One, estimated error is: 0.29582461884345035, Validation Error is :0.3359907766564488"
     ]
    }
   ],
   "source": [
    "w,mse = analysis1(Gilead, sentiment,GileadMa)\n",
    "w5 = analysis2(Gilead, sentiment, w, mse, GileadMa);"
   ]
  },
  {
   "cell_type": "code",
   "execution_count": 111,
   "metadata": {},
   "outputs": [
    {
     "name": "stdout",
     "output_type": "stream",
     "text": [
      "Selected: Quad/One, estimated error is: 0.2859696826499727, Validation Error is :0.3545684119932477"
     ]
    }
   ],
   "source": [
    "w,mse = analysis1(McKesson, sentiment,McKessonMa)\n",
    "w6 = analysis2(McKesson, sentiment, w, mse, McKessonMa);"
   ]
  },
  {
   "cell_type": "code",
   "execution_count": 112,
   "metadata": {},
   "outputs": [
    {
     "name": "stdout",
     "output_type": "stream",
     "text": [
      "Selected: Quad/One, estimated error is: 0.15657012804437734, Validation Error is :0.14498596279335357"
     ]
    }
   ],
   "source": [
    "w,mse = analysis1(Moderna, sentiment,ModernaMa)\n",
    "w7 = analysis2(Moderna, sentiment, w, mse, ModernaMa);"
   ]
  },
  {
   "cell_type": "code",
   "execution_count": 113,
   "metadata": {},
   "outputs": [
    {
     "name": "stdout",
     "output_type": "stream",
     "text": [
      "Selected: Quad/One, estimated error is: 0.26201081962768213, Validation Error is :0.3524597143621306"
     ]
    }
   ],
   "source": [
    "w,mse = analysis1(Pfizer, sentiment,PfizerMa)\n",
    "w8 = analysis2(Pfizer, sentiment, w, mse, PfizerMa);"
   ]
  },
  {
   "cell_type": "code",
   "execution_count": 114,
   "metadata": {},
   "outputs": [
    {
     "name": "stdout",
     "output_type": "stream",
     "text": [
      "Selected: Quad/Quad, estimated error is: 0.4947559266994087, Validation Error is :0.24739691069530675"
     ]
    }
   ],
   "source": [
    "w,mse = analysis1(United, sentiment,UnitedMa)\n",
    "w9 = analysis2(United, sentiment, w, mse, UnitedMa);"
   ]
  },
  {
   "cell_type": "code",
   "execution_count": 64,
   "metadata": {},
   "outputs": [
    {
     "data": {
      "image/svg+xml": [
       "<?xml version=\"1.0\" encoding=\"utf-8\"?>\n",
       "<svg xmlns=\"http://www.w3.org/2000/svg\" xmlns:xlink=\"http://www.w3.org/1999/xlink\" width=\"600\" height=\"400\" viewBox=\"0 0 2400 1600\">\n",
       "<defs>\n",
       "  <clipPath id=\"clip590\">\n",
       "    <rect x=\"0\" y=\"0\" width=\"2400\" height=\"1600\"/>\n",
       "  </clipPath>\n",
       "</defs>\n",
       "<path clip-path=\"url(#clip590)\" d=\"\n",
       "M0 1600 L2400 1600 L2400 0 L0 0  Z\n",
       "  \" fill=\"#ffffff\" fill-rule=\"evenodd\" fill-opacity=\"1\"/>\n",
       "<defs>\n",
       "  <clipPath id=\"clip591\">\n",
       "    <rect x=\"480\" y=\"0\" width=\"1681\" height=\"1600\"/>\n",
       "  </clipPath>\n",
       "</defs>\n",
       "<path clip-path=\"url(#clip590)\" d=\"\n",
       "M179.654 1486.45 L2352.76 1486.45 L2352.76 123.472 L179.654 123.472  Z\n",
       "  \" fill=\"#ffffff\" fill-rule=\"evenodd\" fill-opacity=\"1\"/>\n",
       "<defs>\n",
       "  <clipPath id=\"clip592\">\n",
       "    <rect x=\"179\" y=\"123\" width=\"2174\" height=\"1364\"/>\n",
       "  </clipPath>\n",
       "</defs>\n",
       "<polyline clip-path=\"url(#clip592)\" style=\"stroke:#000000; stroke-width:2; stroke-opacity:0.1; fill:none\" points=\"\n",
       "  192.345,1486.45 192.345,123.472 \n",
       "  \"/>\n",
       "<polyline clip-path=\"url(#clip592)\" style=\"stroke:#000000; stroke-width:2; stroke-opacity:0.1; fill:none\" points=\"\n",
       "  680.463,1486.45 680.463,123.472 \n",
       "  \"/>\n",
       "<polyline clip-path=\"url(#clip592)\" style=\"stroke:#000000; stroke-width:2; stroke-opacity:0.1; fill:none\" points=\"\n",
       "  1168.58,1486.45 1168.58,123.472 \n",
       "  \"/>\n",
       "<polyline clip-path=\"url(#clip592)\" style=\"stroke:#000000; stroke-width:2; stroke-opacity:0.1; fill:none\" points=\"\n",
       "  1656.7,1486.45 1656.7,123.472 \n",
       "  \"/>\n",
       "<polyline clip-path=\"url(#clip592)\" style=\"stroke:#000000; stroke-width:2; stroke-opacity:0.1; fill:none\" points=\"\n",
       "  2144.82,1486.45 2144.82,123.472 \n",
       "  \"/>\n",
       "<polyline clip-path=\"url(#clip590)\" style=\"stroke:#000000; stroke-width:4; stroke-opacity:1; fill:none\" points=\"\n",
       "  179.654,1486.45 2352.76,1486.45 \n",
       "  \"/>\n",
       "<polyline clip-path=\"url(#clip590)\" style=\"stroke:#000000; stroke-width:4; stroke-opacity:1; fill:none\" points=\"\n",
       "  192.345,1486.45 192.345,1470.09 \n",
       "  \"/>\n",
       "<polyline clip-path=\"url(#clip590)\" style=\"stroke:#000000; stroke-width:4; stroke-opacity:1; fill:none\" points=\"\n",
       "  680.463,1486.45 680.463,1470.09 \n",
       "  \"/>\n",
       "<polyline clip-path=\"url(#clip590)\" style=\"stroke:#000000; stroke-width:4; stroke-opacity:1; fill:none\" points=\"\n",
       "  1168.58,1486.45 1168.58,1470.09 \n",
       "  \"/>\n",
       "<polyline clip-path=\"url(#clip590)\" style=\"stroke:#000000; stroke-width:4; stroke-opacity:1; fill:none\" points=\"\n",
       "  1656.7,1486.45 1656.7,1470.09 \n",
       "  \"/>\n",
       "<polyline clip-path=\"url(#clip590)\" style=\"stroke:#000000; stroke-width:4; stroke-opacity:1; fill:none\" points=\"\n",
       "  2144.82,1486.45 2144.82,1470.09 \n",
       "  \"/>\n",
       "<path clip-path=\"url(#clip590)\" d=\"M 0 0 M192.345 1515.64 Q188.734 1515.64 186.905 1519.2 Q185.099 1522.75 185.099 1529.87 Q185.099 1536.98 186.905 1540.55 Q188.734 1544.09 192.345 1544.09 Q195.979 1544.09 197.785 1540.55 Q199.613 1536.98 199.613 1529.87 Q199.613 1522.75 197.785 1519.2 Q195.979 1515.64 192.345 1515.64 M192.345 1511.93 Q198.155 1511.93 201.21 1516.54 Q204.289 1521.12 204.289 1529.87 Q204.289 1538.6 201.21 1543.21 Q198.155 1547.79 192.345 1547.79 Q186.535 1547.79 183.456 1543.21 Q180.4 1538.6 180.4 1529.87 Q180.4 1521.12 183.456 1516.54 Q186.535 1511.93 192.345 1511.93 Z\" fill=\"#000000\" fill-rule=\"evenodd\" fill-opacity=\"1\" /><path clip-path=\"url(#clip590)\" d=\"M 0 0 M657.338 1543.18 L664.977 1543.18 L664.977 1516.82 L656.667 1518.49 L656.667 1514.23 L664.931 1512.56 L669.607 1512.56 L669.607 1543.18 L677.245 1543.18 L677.245 1547.12 L657.338 1547.12 L657.338 1543.18 Z\" fill=\"#000000\" fill-rule=\"evenodd\" fill-opacity=\"1\" /><path clip-path=\"url(#clip590)\" d=\"M 0 0 M692.315 1515.64 Q688.704 1515.64 686.875 1519.2 Q685.069 1522.75 685.069 1529.87 Q685.069 1536.98 686.875 1540.55 Q688.704 1544.09 692.315 1544.09 Q695.949 1544.09 697.755 1540.55 Q699.583 1536.98 699.583 1529.87 Q699.583 1522.75 697.755 1519.2 Q695.949 1515.64 692.315 1515.64 M692.315 1511.93 Q698.125 1511.93 701.18 1516.54 Q704.259 1521.12 704.259 1529.87 Q704.259 1538.6 701.18 1543.21 Q698.125 1547.79 692.315 1547.79 Q686.505 1547.79 683.426 1543.21 Q680.37 1538.6 680.37 1529.87 Q680.37 1521.12 683.426 1516.54 Q686.505 1511.93 692.315 1511.93 Z\" fill=\"#000000\" fill-rule=\"evenodd\" fill-opacity=\"1\" /><path clip-path=\"url(#clip590)\" d=\"M 0 0 M1149.73 1543.18 L1166.05 1543.18 L1166.05 1547.12 L1144.1 1547.12 L1144.1 1543.18 Q1146.76 1540.43 1151.35 1535.8 Q1155.95 1531.15 1157.13 1529.81 Q1159.38 1527.28 1160.26 1525.55 Q1161.16 1523.79 1161.16 1522.1 Q1161.16 1519.34 1159.22 1517.61 Q1157.3 1515.87 1154.19 1515.87 Q1152 1515.87 1149.54 1516.63 Q1147.11 1517.4 1144.33 1518.95 L1144.33 1514.23 Q1147.16 1513.09 1149.61 1512.51 Q1152.07 1511.93 1154.1 1511.93 Q1159.47 1511.93 1162.67 1514.62 Q1165.86 1517.31 1165.86 1521.8 Q1165.86 1523.93 1165.05 1525.85 Q1164.26 1527.74 1162.16 1530.34 Q1161.58 1531.01 1158.48 1534.23 Q1155.38 1537.42 1149.73 1543.18 Z\" fill=\"#000000\" fill-rule=\"evenodd\" fill-opacity=\"1\" /><path clip-path=\"url(#clip590)\" d=\"M 0 0 M1181.12 1515.64 Q1177.5 1515.64 1175.68 1519.2 Q1173.87 1522.75 1173.87 1529.87 Q1173.87 1536.98 1175.68 1540.55 Q1177.5 1544.09 1181.12 1544.09 Q1184.75 1544.09 1186.56 1540.55 Q1188.38 1536.98 1188.38 1529.87 Q1188.38 1522.75 1186.56 1519.2 Q1184.75 1515.64 1181.12 1515.64 M1181.12 1511.93 Q1186.93 1511.93 1189.98 1516.54 Q1193.06 1521.12 1193.06 1529.87 Q1193.06 1538.6 1189.98 1543.21 Q1186.93 1547.79 1181.12 1547.79 Q1175.31 1547.79 1172.23 1543.21 Q1169.17 1538.6 1169.17 1529.87 Q1169.17 1521.12 1172.23 1516.54 Q1175.31 1511.93 1181.12 1511.93 Z\" fill=\"#000000\" fill-rule=\"evenodd\" fill-opacity=\"1\" /><path clip-path=\"url(#clip590)\" d=\"M 0 0 M1647.44 1528.49 Q1650.8 1529.2 1652.67 1531.47 Q1654.57 1533.74 1654.57 1537.07 Q1654.57 1542.19 1651.05 1544.99 Q1647.53 1547.79 1641.05 1547.79 Q1638.88 1547.79 1636.56 1547.35 Q1634.27 1546.93 1631.82 1546.08 L1631.82 1541.56 Q1633.76 1542.7 1636.07 1543.28 Q1638.39 1543.86 1640.91 1543.86 Q1645.31 1543.86 1647.6 1542.12 Q1649.92 1540.38 1649.92 1537.07 Q1649.92 1534.02 1647.76 1532.31 Q1645.63 1530.57 1641.82 1530.57 L1637.79 1530.57 L1637.79 1526.73 L1642 1526.73 Q1645.45 1526.73 1647.28 1525.36 Q1649.11 1523.97 1649.11 1521.38 Q1649.11 1518.72 1647.21 1517.31 Q1645.33 1515.87 1641.82 1515.87 Q1639.89 1515.87 1637.69 1516.29 Q1635.5 1516.7 1632.86 1517.58 L1632.86 1513.42 Q1635.52 1512.68 1637.83 1512.31 Q1640.17 1511.93 1642.23 1511.93 Q1647.56 1511.93 1650.66 1514.37 Q1653.76 1516.77 1653.76 1520.89 Q1653.76 1523.76 1652.12 1525.75 Q1650.47 1527.72 1647.44 1528.49 Z\" fill=\"#000000\" fill-rule=\"evenodd\" fill-opacity=\"1\" /><path clip-path=\"url(#clip590)\" d=\"M 0 0 M1669.64 1515.64 Q1666.03 1515.64 1664.2 1519.2 Q1662.39 1522.75 1662.39 1529.87 Q1662.39 1536.98 1664.2 1540.55 Q1666.03 1544.09 1669.64 1544.09 Q1673.27 1544.09 1675.08 1540.55 Q1676.91 1536.98 1676.91 1529.87 Q1676.91 1522.75 1675.08 1519.2 Q1673.27 1515.64 1669.64 1515.64 M1669.64 1511.93 Q1675.45 1511.93 1678.5 1516.54 Q1681.58 1521.12 1681.58 1529.87 Q1681.58 1538.6 1678.5 1543.21 Q1675.45 1547.79 1669.64 1547.79 Q1663.83 1547.79 1660.75 1543.21 Q1657.69 1538.6 1657.69 1529.87 Q1657.69 1521.12 1660.75 1516.54 Q1663.83 1511.93 1669.64 1511.93 Z\" fill=\"#000000\" fill-rule=\"evenodd\" fill-opacity=\"1\" /><path clip-path=\"url(#clip590)\" d=\"M 0 0 M2134.32 1516.63 L2122.51 1535.08 L2134.32 1535.08 L2134.32 1516.63 M2133.09 1512.56 L2138.97 1512.56 L2138.97 1535.08 L2143.9 1535.08 L2143.9 1538.97 L2138.97 1538.97 L2138.97 1547.12 L2134.32 1547.12 L2134.32 1538.97 L2118.72 1538.97 L2118.72 1534.46 L2133.09 1512.56 Z\" fill=\"#000000\" fill-rule=\"evenodd\" fill-opacity=\"1\" /><path clip-path=\"url(#clip590)\" d=\"M 0 0 M2158.97 1515.64 Q2155.36 1515.64 2153.53 1519.2 Q2151.73 1522.75 2151.73 1529.87 Q2151.73 1536.98 2153.53 1540.55 Q2155.36 1544.09 2158.97 1544.09 Q2162.61 1544.09 2164.41 1540.55 Q2166.24 1536.98 2166.24 1529.87 Q2166.24 1522.75 2164.41 1519.2 Q2162.61 1515.64 2158.97 1515.64 M2158.97 1511.93 Q2164.78 1511.93 2167.84 1516.54 Q2170.92 1521.12 2170.92 1529.87 Q2170.92 1538.6 2167.84 1543.21 Q2164.78 1547.79 2158.97 1547.79 Q2153.16 1547.79 2150.08 1543.21 Q2147.03 1538.6 2147.03 1529.87 Q2147.03 1521.12 2150.08 1516.54 Q2153.16 1511.93 2158.97 1511.93 Z\" fill=\"#000000\" fill-rule=\"evenodd\" fill-opacity=\"1\" /><polyline clip-path=\"url(#clip592)\" style=\"stroke:#000000; stroke-width:2; stroke-opacity:0.1; fill:none\" points=\"\n",
       "  179.654,1411.95 2352.76,1411.95 \n",
       "  \"/>\n",
       "<polyline clip-path=\"url(#clip592)\" style=\"stroke:#000000; stroke-width:2; stroke-opacity:0.1; fill:none\" points=\"\n",
       "  179.654,1094.89 2352.76,1094.89 \n",
       "  \"/>\n",
       "<polyline clip-path=\"url(#clip592)\" style=\"stroke:#000000; stroke-width:2; stroke-opacity:0.1; fill:none\" points=\"\n",
       "  179.654,777.824 2352.76,777.824 \n",
       "  \"/>\n",
       "<polyline clip-path=\"url(#clip592)\" style=\"stroke:#000000; stroke-width:2; stroke-opacity:0.1; fill:none\" points=\"\n",
       "  179.654,460.76 2352.76,460.76 \n",
       "  \"/>\n",
       "<polyline clip-path=\"url(#clip592)\" style=\"stroke:#000000; stroke-width:2; stroke-opacity:0.1; fill:none\" points=\"\n",
       "  179.654,143.695 2352.76,143.695 \n",
       "  \"/>\n",
       "<polyline clip-path=\"url(#clip590)\" style=\"stroke:#000000; stroke-width:4; stroke-opacity:1; fill:none\" points=\"\n",
       "  179.654,1486.45 179.654,123.472 \n",
       "  \"/>\n",
       "<polyline clip-path=\"url(#clip590)\" style=\"stroke:#000000; stroke-width:4; stroke-opacity:1; fill:none\" points=\"\n",
       "  179.654,1411.95 205.731,1411.95 \n",
       "  \"/>\n",
       "<polyline clip-path=\"url(#clip590)\" style=\"stroke:#000000; stroke-width:4; stroke-opacity:1; fill:none\" points=\"\n",
       "  179.654,1094.89 205.731,1094.89 \n",
       "  \"/>\n",
       "<polyline clip-path=\"url(#clip590)\" style=\"stroke:#000000; stroke-width:4; stroke-opacity:1; fill:none\" points=\"\n",
       "  179.654,777.824 205.731,777.824 \n",
       "  \"/>\n",
       "<polyline clip-path=\"url(#clip590)\" style=\"stroke:#000000; stroke-width:4; stroke-opacity:1; fill:none\" points=\"\n",
       "  179.654,460.76 205.731,460.76 \n",
       "  \"/>\n",
       "<polyline clip-path=\"url(#clip590)\" style=\"stroke:#000000; stroke-width:4; stroke-opacity:1; fill:none\" points=\"\n",
       "  179.654,143.695 205.731,143.695 \n",
       "  \"/>\n",
       "<path clip-path=\"url(#clip590)\" d=\"M 0 0 M51.2236 1412.4 L80.8994 1412.4 L80.8994 1416.34 L51.2236 1416.34 L51.2236 1412.4 Z\" fill=\"#000000\" fill-rule=\"evenodd\" fill-opacity=\"1\" /><path clip-path=\"url(#clip590)\" d=\"M 0 0 M86.779 1425.3 L94.4178 1425.3 L94.4178 1398.93 L86.1077 1400.6 L86.1077 1396.34 L94.3715 1394.67 L99.0474 1394.67 L99.0474 1425.3 L106.686 1425.3 L106.686 1429.23 L86.779 1429.23 L86.779 1425.3 Z\" fill=\"#000000\" fill-rule=\"evenodd\" fill-opacity=\"1\" /><path clip-path=\"url(#clip590)\" d=\"M 0 0 M111.756 1423.35 L116.64 1423.35 L116.64 1429.23 L111.756 1429.23 L111.756 1423.35 Z\" fill=\"#000000\" fill-rule=\"evenodd\" fill-opacity=\"1\" /><path clip-path=\"url(#clip590)\" d=\"M 0 0 M131.709 1397.75 Q128.098 1397.75 126.27 1401.32 Q124.464 1404.86 124.464 1411.99 Q124.464 1419.09 126.27 1422.66 Q128.098 1426.2 131.709 1426.2 Q135.344 1426.2 137.149 1422.66 Q138.978 1419.09 138.978 1411.99 Q138.978 1404.86 137.149 1401.32 Q135.344 1397.75 131.709 1397.75 M131.709 1394.05 Q137.519 1394.05 140.575 1398.65 Q143.654 1403.24 143.654 1411.99 Q143.654 1420.71 140.575 1425.32 Q137.519 1429.9 131.709 1429.9 Q125.899 1429.9 122.82 1425.32 Q119.765 1420.71 119.765 1411.99 Q119.765 1403.24 122.82 1398.65 Q125.899 1394.05 131.709 1394.05 Z\" fill=\"#000000\" fill-rule=\"evenodd\" fill-opacity=\"1\" /><path clip-path=\"url(#clip590)\" d=\"M 0 0 M50.9921 1095.34 L80.6679 1095.34 L80.6679 1099.28 L50.9921 1099.28 L50.9921 1095.34 Z\" fill=\"#000000\" fill-rule=\"evenodd\" fill-opacity=\"1\" /><path clip-path=\"url(#clip590)\" d=\"M 0 0 M95.7373 1080.69 Q92.1262 1080.69 90.2975 1084.25 Q88.4919 1087.79 88.4919 1094.92 Q88.4919 1102.03 90.2975 1105.59 Q92.1262 1109.14 95.7373 1109.14 Q99.3715 1109.14 101.177 1105.59 Q103.006 1102.03 103.006 1094.92 Q103.006 1087.79 101.177 1084.25 Q99.3715 1080.69 95.7373 1080.69 M95.7373 1076.98 Q101.547 1076.98 104.603 1081.59 Q107.682 1086.17 107.682 1094.92 Q107.682 1103.65 104.603 1108.26 Q101.547 1112.84 95.7373 1112.84 Q89.9271 1112.84 86.8484 1108.26 Q83.7929 1103.65 83.7929 1094.92 Q83.7929 1086.17 86.8484 1081.59 Q89.9271 1076.98 95.7373 1076.98 Z\" fill=\"#000000\" fill-rule=\"evenodd\" fill-opacity=\"1\" /><path clip-path=\"url(#clip590)\" d=\"M 0 0 M112.751 1106.29 L117.635 1106.29 L117.635 1112.17 L112.751 1112.17 L112.751 1106.29 Z\" fill=\"#000000\" fill-rule=\"evenodd\" fill-opacity=\"1\" /><path clip-path=\"url(#clip590)\" d=\"M 0 0 M122.751 1077.61 L141.107 1077.61 L141.107 1081.54 L127.033 1081.54 L127.033 1090.02 Q128.052 1089.67 129.07 1089.51 Q130.089 1089.32 131.107 1089.32 Q136.894 1089.32 140.274 1092.49 Q143.654 1095.66 143.654 1101.08 Q143.654 1106.66 140.181 1109.76 Q136.709 1112.84 130.39 1112.84 Q128.214 1112.84 125.945 1112.47 Q123.7 1112.1 121.293 1111.36 L121.293 1106.66 Q123.376 1107.79 125.598 1108.35 Q127.82 1108.91 130.297 1108.91 Q134.302 1108.91 136.64 1106.8 Q138.978 1104.69 138.978 1101.08 Q138.978 1097.47 136.64 1095.36 Q134.302 1093.26 130.297 1093.26 Q128.422 1093.26 126.547 1093.67 Q124.695 1094.09 122.751 1094.97 L122.751 1077.61 Z\" fill=\"#000000\" fill-rule=\"evenodd\" fill-opacity=\"1\" /><path clip-path=\"url(#clip590)\" d=\"M 0 0 M94.7419 763.623 Q91.1308 763.623 89.3021 767.188 Q87.4966 770.729 87.4966 777.859 Q87.4966 784.966 89.3021 788.53 Q91.1308 792.072 94.7419 792.072 Q98.3761 792.072 100.182 788.53 Q102.01 784.966 102.01 777.859 Q102.01 770.729 100.182 767.188 Q98.3761 763.623 94.7419 763.623 M94.7419 759.919 Q100.552 759.919 103.608 764.526 Q106.686 769.109 106.686 777.859 Q106.686 786.586 103.608 791.192 Q100.552 795.776 94.7419 795.776 Q88.9317 795.776 85.8531 791.192 Q82.7975 786.586 82.7975 777.859 Q82.7975 769.109 85.8531 764.526 Q88.9317 759.919 94.7419 759.919 Z\" fill=\"#000000\" fill-rule=\"evenodd\" fill-opacity=\"1\" /><path clip-path=\"url(#clip590)\" d=\"M 0 0 M111.756 789.225 L116.64 789.225 L116.64 795.104 L111.756 795.104 L111.756 789.225 Z\" fill=\"#000000\" fill-rule=\"evenodd\" fill-opacity=\"1\" /><path clip-path=\"url(#clip590)\" d=\"M 0 0 M131.709 763.623 Q128.098 763.623 126.27 767.188 Q124.464 770.729 124.464 777.859 Q124.464 784.966 126.27 788.53 Q128.098 792.072 131.709 792.072 Q135.344 792.072 137.149 788.53 Q138.978 784.966 138.978 777.859 Q138.978 770.729 137.149 767.188 Q135.344 763.623 131.709 763.623 M131.709 759.919 Q137.519 759.919 140.575 764.526 Q143.654 769.109 143.654 777.859 Q143.654 786.586 140.575 791.192 Q137.519 795.776 131.709 795.776 Q125.899 795.776 122.82 791.192 Q119.765 786.586 119.765 777.859 Q119.765 769.109 122.82 764.526 Q125.899 759.919 131.709 759.919 Z\" fill=\"#000000\" fill-rule=\"evenodd\" fill-opacity=\"1\" /><path clip-path=\"url(#clip590)\" d=\"M 0 0 M95.7373 446.558 Q92.1262 446.558 90.2975 450.123 Q88.4919 453.665 88.4919 460.795 Q88.4919 467.901 90.2975 471.466 Q92.1262 475.007 95.7373 475.007 Q99.3715 475.007 101.177 471.466 Q103.006 467.901 103.006 460.795 Q103.006 453.665 101.177 450.123 Q99.3715 446.558 95.7373 446.558 M95.7373 442.855 Q101.547 442.855 104.603 447.461 Q107.682 452.045 107.682 460.795 Q107.682 469.521 104.603 474.128 Q101.547 478.711 95.7373 478.711 Q89.9271 478.711 86.8484 474.128 Q83.7929 469.521 83.7929 460.795 Q83.7929 452.045 86.8484 447.461 Q89.9271 442.855 95.7373 442.855 Z\" fill=\"#000000\" fill-rule=\"evenodd\" fill-opacity=\"1\" /><path clip-path=\"url(#clip590)\" d=\"M 0 0 M112.751 472.16 L117.635 472.16 L117.635 478.04 L112.751 478.04 L112.751 472.16 Z\" fill=\"#000000\" fill-rule=\"evenodd\" fill-opacity=\"1\" /><path clip-path=\"url(#clip590)\" d=\"M 0 0 M122.751 443.48 L141.107 443.48 L141.107 447.415 L127.033 447.415 L127.033 455.887 Q128.052 455.54 129.07 455.378 Q130.089 455.193 131.107 455.193 Q136.894 455.193 140.274 458.364 Q143.654 461.535 143.654 466.952 Q143.654 472.531 140.181 475.632 Q136.709 478.711 130.39 478.711 Q128.214 478.711 125.945 478.341 Q123.7 477.97 121.293 477.23 L121.293 472.531 Q123.376 473.665 125.598 474.22 Q127.82 474.776 130.297 474.776 Q134.302 474.776 136.64 472.669 Q138.978 470.563 138.978 466.952 Q138.978 463.341 136.64 461.234 Q134.302 459.128 130.297 459.128 Q128.422 459.128 126.547 459.545 Q124.695 459.961 122.751 460.841 L122.751 443.48 Z\" fill=\"#000000\" fill-rule=\"evenodd\" fill-opacity=\"1\" /><path clip-path=\"url(#clip590)\" d=\"M 0 0 M86.779 157.04 L94.4178 157.04 L94.4178 130.675 L86.1077 132.341 L86.1077 128.082 L94.3715 126.415 L99.0474 126.415 L99.0474 157.04 L106.686 157.04 L106.686 160.975 L86.779 160.975 L86.779 157.04 Z\" fill=\"#000000\" fill-rule=\"evenodd\" fill-opacity=\"1\" /><path clip-path=\"url(#clip590)\" d=\"M 0 0 M111.756 155.096 L116.64 155.096 L116.64 160.975 L111.756 160.975 L111.756 155.096 Z\" fill=\"#000000\" fill-rule=\"evenodd\" fill-opacity=\"1\" /><path clip-path=\"url(#clip590)\" d=\"M 0 0 M131.709 129.494 Q128.098 129.494 126.27 133.059 Q124.464 136.6 124.464 143.73 Q124.464 150.836 126.27 154.401 Q128.098 157.943 131.709 157.943 Q135.344 157.943 137.149 154.401 Q138.978 150.836 138.978 143.73 Q138.978 136.6 137.149 133.059 Q135.344 129.494 131.709 129.494 M131.709 125.79 Q137.519 125.79 140.575 130.397 Q143.654 134.98 143.654 143.73 Q143.654 152.457 140.575 157.063 Q137.519 161.647 131.709 161.647 Q125.899 161.647 122.82 157.063 Q119.765 152.457 119.765 143.73 Q119.765 134.98 122.82 130.397 Q125.899 125.79 131.709 125.79 Z\" fill=\"#000000\" fill-rule=\"evenodd\" fill-opacity=\"1\" /><path clip-path=\"url(#clip590)\" d=\"M 0 0 M601.593 12.096 L652.756 12.096 L652.756 18.9825 L631.286 18.9825 L631.286 72.576 L623.063 72.576 L623.063 18.9825 L601.593 18.9825 L601.593 12.096 Z\" fill=\"#000000\" fill-rule=\"evenodd\" fill-opacity=\"1\" /><path clip-path=\"url(#clip590)\" d=\"M 0 0 M685.285 48.0275 L685.285 51.6733 L651.014 51.6733 Q651.5 59.3701 655.632 63.421 Q659.805 67.4314 667.218 67.4314 Q671.512 67.4314 675.522 66.3781 Q679.573 65.3249 683.543 63.2184 L683.543 70.267 Q679.533 71.9684 675.32 72.8596 Q671.107 73.7508 666.772 73.7508 Q655.916 73.7508 649.556 67.4314 Q643.236 61.1119 643.236 50.3365 Q643.236 39.1965 649.232 32.6746 Q655.268 26.1121 665.476 26.1121 Q674.631 26.1121 679.938 32.0264 Q685.285 37.9003 685.285 48.0275 M677.831 45.84 Q677.75 39.7232 674.388 36.0774 Q671.066 32.4315 665.557 32.4315 Q659.319 32.4315 655.551 35.9558 Q651.824 39.4801 651.257 45.8805 L677.831 45.84 Z\" fill=\"#000000\" fill-rule=\"evenodd\" fill-opacity=\"1\" /><path clip-path=\"url(#clip590)\" d=\"M 0 0 M722.027 28.5427 L722.027 35.5912 Q718.867 33.9709 715.464 33.1607 Q712.061 32.3505 708.416 32.3505 Q702.866 32.3505 700.071 34.0519 Q697.316 35.7533 697.316 39.156 Q697.316 41.7486 699.301 43.2475 Q701.286 44.7058 707.281 46.0426 L709.833 46.6097 Q717.773 48.3111 721.095 51.4303 Q724.457 54.509 724.457 60.0587 Q724.457 66.3781 719.434 70.0644 Q714.451 73.7508 705.701 73.7508 Q702.056 73.7508 698.086 73.0216 Q694.156 72.3329 689.781 70.9151 L689.781 63.2184 Q693.913 65.3654 697.924 66.4591 Q701.934 67.5124 705.863 67.5124 Q711.13 67.5124 713.965 65.73 Q716.801 63.9071 716.801 60.6258 Q716.801 57.5877 714.735 55.9673 Q712.709 54.3469 705.782 52.8481 L703.19 52.2405 Q696.263 50.7821 693.184 47.7845 Q690.105 44.7463 690.105 39.4801 Q690.105 33.0797 694.642 29.5959 Q699.179 26.1121 707.524 26.1121 Q711.656 26.1121 715.302 26.7198 Q718.948 27.3274 722.027 28.5427 Z\" fill=\"#000000\" fill-rule=\"evenodd\" fill-opacity=\"1\" /><path clip-path=\"url(#clip590)\" d=\"M 0 0 M739.648 14.324 L739.648 27.2059 L755.001 27.2059 L755.001 32.9987 L739.648 32.9987 L739.648 57.6282 Q739.648 63.1779 741.147 64.7578 Q742.686 66.3376 747.345 66.3376 L755.001 66.3376 L755.001 72.576 L747.345 72.576 Q738.716 72.576 735.435 69.3758 Q732.154 66.1351 732.154 57.6282 L732.154 32.9987 L726.685 32.9987 L726.685 27.2059 L732.154 27.2059 L732.154 14.324 L739.648 14.324 Z\" fill=\"#000000\" fill-rule=\"evenodd\" fill-opacity=\"1\" /><path clip-path=\"url(#clip590)\" d=\"M 0 0 M796.401 65.7705 L796.401 89.8329 L788.907 89.8329 L788.907 27.2059 L796.401 27.2059 L796.401 34.0924 Q798.751 30.0415 802.315 28.0971 Q805.921 26.1121 810.903 26.1121 Q819.167 26.1121 824.312 32.6746 Q829.497 39.2371 829.497 49.9314 Q829.497 60.6258 824.312 67.1883 Q819.167 73.7508 810.903 73.7508 Q805.921 73.7508 802.315 71.8063 Q798.751 69.8214 796.401 65.7705 M821.76 49.9314 Q821.76 41.7081 818.357 37.0496 Q814.995 32.3505 809.08 32.3505 Q803.166 32.3505 799.763 37.0496 Q796.401 41.7081 796.401 49.9314 Q796.401 58.1548 799.763 62.8538 Q803.166 67.5124 809.08 67.5124 Q814.995 67.5124 818.357 62.8538 Q821.76 58.1548 821.76 49.9314 Z\" fill=\"#000000\" fill-rule=\"evenodd\" fill-opacity=\"1\" /><path clip-path=\"url(#clip590)\" d=\"M 0 0 M863.606 34.1734 Q862.35 33.4443 860.851 33.1202 Q859.393 32.7556 857.61 32.7556 Q851.291 32.7556 847.888 36.8875 Q844.526 40.9789 844.526 48.6757 L844.526 72.576 L837.032 72.576 L837.032 27.2059 L844.526 27.2059 L844.526 34.2544 Q846.875 30.1225 850.643 28.1376 Q854.41 26.1121 859.798 26.1121 Q860.567 26.1121 861.499 26.2337 Q862.431 26.3147 863.565 26.5172 L863.606 34.1734 Z\" fill=\"#000000\" fill-rule=\"evenodd\" fill-opacity=\"1\" /><path clip-path=\"url(#clip590)\" d=\"M 0 0 M908.409 48.0275 L908.409 51.6733 L874.138 51.6733 Q874.624 59.3701 878.756 63.421 Q882.928 67.4314 890.342 67.4314 Q894.636 67.4314 898.646 66.3781 Q902.697 65.3249 906.667 63.2184 L906.667 70.267 Q902.656 71.9684 898.443 72.8596 Q894.231 73.7508 889.896 73.7508 Q879.04 73.7508 872.68 67.4314 Q866.36 61.1119 866.36 50.3365 Q866.36 39.1965 872.356 32.6746 Q878.391 26.1121 888.6 26.1121 Q897.755 26.1121 903.061 32.0264 Q908.409 37.9003 908.409 48.0275 M900.955 45.84 Q900.874 39.7232 897.512 36.0774 Q894.19 32.4315 888.681 32.4315 Q882.442 32.4315 878.675 35.9558 Q874.948 39.4801 874.381 45.8805 L900.955 45.84 Z\" fill=\"#000000\" fill-rule=\"evenodd\" fill-opacity=\"1\" /><path clip-path=\"url(#clip590)\" d=\"M 0 0 M946.082 34.0924 L946.082 9.54393 L953.536 9.54393 L953.536 72.576 L946.082 72.576 L946.082 65.7705 Q943.733 69.8214 940.127 71.8063 Q936.562 73.7508 931.539 73.7508 Q923.316 73.7508 918.131 67.1883 Q912.986 60.6258 912.986 49.9314 Q912.986 39.2371 918.131 32.6746 Q923.316 26.1121 931.539 26.1121 Q936.562 26.1121 940.127 28.0971 Q943.733 30.0415 946.082 34.0924 M920.683 49.9314 Q920.683 58.1548 924.045 62.8538 Q927.448 67.5124 933.362 67.5124 Q939.277 67.5124 942.679 62.8538 Q946.082 58.1548 946.082 49.9314 Q946.082 41.7081 942.679 37.0496 Q939.277 32.3505 933.362 32.3505 Q927.448 32.3505 924.045 37.0496 Q920.683 41.7081 920.683 49.9314 Z\" fill=\"#000000\" fill-rule=\"evenodd\" fill-opacity=\"1\" /><path clip-path=\"url(#clip590)\" d=\"M 0 0 M961.354 27.2059 L968.808 27.2059 L968.808 72.576 L961.354 72.576 L961.354 27.2059 M961.354 9.54393 L968.808 9.54393 L968.808 18.9825 L961.354 18.9825 L961.354 9.54393 Z\" fill=\"#000000\" fill-rule=\"evenodd\" fill-opacity=\"1\" /><path clip-path=\"url(#clip590)\" d=\"M 0 0 M1009.28 28.9478 L1009.28 35.9153 Q1006.12 34.1734 1002.92 33.3227 Q999.757 32.4315 996.516 32.4315 Q989.265 32.4315 985.254 37.0496 Q981.244 41.6271 981.244 49.9314 Q981.244 58.2358 985.254 62.8538 Q989.265 67.4314 996.516 67.4314 Q999.757 67.4314 1002.92 66.5807 Q1006.12 65.6895 1009.28 63.9476 L1009.28 70.8341 Q1006.16 72.2924 1002.79 73.0216 Q999.473 73.7508 995.706 73.7508 Q985.457 73.7508 979.421 67.3098 Q973.385 60.8689 973.385 49.9314 Q973.385 38.832 979.462 32.472 Q985.578 26.1121 996.192 26.1121 Q999.635 26.1121 1002.92 26.8413 Q1006.2 27.5299 1009.28 28.9478 Z\" fill=\"#000000\" fill-rule=\"evenodd\" fill-opacity=\"1\" /><path clip-path=\"url(#clip590)\" d=\"M 0 0 M1024.47 14.324 L1024.47 27.2059 L1039.82 27.2059 L1039.82 32.9987 L1024.47 32.9987 L1024.47 57.6282 Q1024.47 63.1779 1025.97 64.7578 Q1027.51 66.3376 1032.16 66.3376 L1039.82 66.3376 L1039.82 72.576 L1032.16 72.576 Q1023.54 72.576 1020.25 69.3758 Q1016.97 66.1351 1016.97 57.6282 L1016.97 32.9987 L1011.5 32.9987 L1011.5 27.2059 L1016.97 27.2059 L1016.97 14.324 L1024.47 14.324 Z\" fill=\"#000000\" fill-rule=\"evenodd\" fill-opacity=\"1\" /><path clip-path=\"url(#clip590)\" d=\"M 0 0 M1047.64 27.2059 L1055.09 27.2059 L1055.09 72.576 L1047.64 72.576 L1047.64 27.2059 M1047.64 9.54393 L1055.09 9.54393 L1055.09 18.9825 L1047.64 18.9825 L1047.64 9.54393 Z\" fill=\"#000000\" fill-rule=\"evenodd\" fill-opacity=\"1\" /><path clip-path=\"url(#clip590)\" d=\"M 0 0 M1080.49 32.4315 Q1074.5 32.4315 1071.01 37.1306 Q1067.53 41.7891 1067.53 49.9314 Q1067.53 58.0738 1070.97 62.7728 Q1074.46 67.4314 1080.49 67.4314 Q1086.45 67.4314 1089.93 62.7323 Q1093.41 58.0333 1093.41 49.9314 Q1093.41 41.8701 1089.93 37.1711 Q1086.45 32.4315 1080.49 32.4315 M1080.49 26.1121 Q1090.21 26.1121 1095.76 32.4315 Q1101.31 38.7509 1101.31 49.9314 Q1101.31 61.0714 1095.76 67.4314 Q1090.21 73.7508 1080.49 73.7508 Q1070.73 73.7508 1065.18 67.4314 Q1059.67 61.0714 1059.67 49.9314 Q1059.67 38.7509 1065.18 32.4315 Q1070.73 26.1121 1080.49 26.1121 Z\" fill=\"#000000\" fill-rule=\"evenodd\" fill-opacity=\"1\" /><path clip-path=\"url(#clip590)\" d=\"M 0 0 M1146.84 45.1919 L1146.84 72.576 L1139.39 72.576 L1139.39 45.4349 Q1139.39 38.994 1136.88 35.7938 Q1134.37 32.5936 1129.34 32.5936 Q1123.31 32.5936 1119.83 36.4419 Q1116.34 40.2903 1116.34 46.9338 L1116.34 72.576 L1108.85 72.576 L1108.85 27.2059 L1116.34 27.2059 L1116.34 34.2544 Q1119.02 30.163 1122.62 28.1376 Q1126.27 26.1121 1131.01 26.1121 Q1138.82 26.1121 1142.83 30.9732 Q1146.84 35.7938 1146.84 45.1919 Z\" fill=\"#000000\" fill-rule=\"evenodd\" fill-opacity=\"1\" /><path clip-path=\"url(#clip590)\" d=\"M 0 0 M1183.59 28.5427 L1183.59 35.5912 Q1180.43 33.9709 1177.02 33.1607 Q1173.62 32.3505 1169.98 32.3505 Q1164.43 32.3505 1161.63 34.0519 Q1158.88 35.7533 1158.88 39.156 Q1158.88 41.7486 1160.86 43.2475 Q1162.85 44.7058 1168.84 46.0426 L1171.39 46.6097 Q1179.33 48.3111 1182.65 51.4303 Q1186.02 54.509 1186.02 60.0587 Q1186.02 66.3781 1180.99 70.0644 Q1176.01 73.7508 1167.26 73.7508 Q1163.62 73.7508 1159.65 73.0216 Q1155.72 72.3329 1151.34 70.9151 L1151.34 63.2184 Q1155.47 65.3654 1159.48 66.4591 Q1163.49 67.5124 1167.42 67.5124 Q1172.69 67.5124 1175.53 65.73 Q1178.36 63.9071 1178.36 60.6258 Q1178.36 57.5877 1176.29 55.9673 Q1174.27 54.3469 1167.34 52.8481 L1164.75 52.2405 Q1157.82 50.7821 1154.74 47.7845 Q1151.67 44.7463 1151.67 39.4801 Q1151.67 33.0797 1156.2 29.5959 Q1160.74 26.1121 1169.08 26.1121 Q1173.22 26.1121 1176.86 26.7198 Q1180.51 27.3274 1183.59 28.5427 Z\" fill=\"#000000\" fill-rule=\"evenodd\" fill-opacity=\"1\" /><path clip-path=\"url(#clip590)\" d=\"M 0 0 M1243.18 9.54393 L1243.18 15.7418 L1236.05 15.7418 Q1232.04 15.7418 1230.46 17.3622 Q1228.92 18.9825 1228.92 23.1955 L1228.92 27.2059 L1241.19 27.2059 L1241.19 32.9987 L1228.92 32.9987 L1228.92 72.576 L1221.42 72.576 L1221.42 32.9987 L1214.29 32.9987 L1214.29 27.2059 L1221.42 27.2059 L1221.42 24.0462 Q1221.42 16.471 1224.95 13.0277 Q1228.47 9.54393 1236.13 9.54393 L1243.18 9.54393 Z\" fill=\"#000000\" fill-rule=\"evenodd\" fill-opacity=\"1\" /><path clip-path=\"url(#clip590)\" d=\"M 0 0 M1277.28 34.1734 Q1276.03 33.4443 1274.53 33.1202 Q1273.07 32.7556 1271.29 32.7556 Q1264.97 32.7556 1261.57 36.8875 Q1258.2 40.9789 1258.2 48.6757 L1258.2 72.576 L1250.71 72.576 L1250.71 27.2059 L1258.2 27.2059 L1258.2 34.2544 Q1260.55 30.1225 1264.32 28.1376 Q1268.09 26.1121 1273.48 26.1121 Q1274.25 26.1121 1275.18 26.2337 Q1276.11 26.3147 1277.24 26.5172 L1277.28 34.1734 Z\" fill=\"#000000\" fill-rule=\"evenodd\" fill-opacity=\"1\" /><path clip-path=\"url(#clip590)\" d=\"M 0 0 M1300.86 32.4315 Q1294.86 32.4315 1291.38 37.1306 Q1287.9 41.7891 1287.9 49.9314 Q1287.9 58.0738 1291.34 62.7728 Q1294.82 67.4314 1300.86 67.4314 Q1306.82 67.4314 1310.3 62.7323 Q1313.78 58.0333 1313.78 49.9314 Q1313.78 41.8701 1310.3 37.1711 Q1306.82 32.4315 1300.86 32.4315 M1300.86 26.1121 Q1310.58 26.1121 1316.13 32.4315 Q1321.68 38.7509 1321.68 49.9314 Q1321.68 61.0714 1316.13 67.4314 Q1310.58 73.7508 1300.86 73.7508 Q1291.1 73.7508 1285.55 67.4314 Q1280.04 61.0714 1280.04 49.9314 Q1280.04 38.7509 1285.55 32.4315 Q1291.1 26.1121 1300.86 26.1121 Z\" fill=\"#000000\" fill-rule=\"evenodd\" fill-opacity=\"1\" /><path clip-path=\"url(#clip590)\" d=\"M 0 0 M1364.82 35.9153 Q1367.62 30.8922 1371.51 28.5022 Q1375.4 26.1121 1380.66 26.1121 Q1387.75 26.1121 1391.6 31.0947 Q1395.45 36.0368 1395.45 45.1919 L1395.45 72.576 L1387.95 72.576 L1387.95 45.4349 Q1387.95 38.913 1385.65 35.7533 Q1383.34 32.5936 1378.6 32.5936 Q1372.8 32.5936 1369.44 36.4419 Q1366.08 40.2903 1366.08 46.9338 L1366.08 72.576 L1358.59 72.576 L1358.59 45.4349 Q1358.59 38.8725 1356.28 35.7533 Q1353.97 32.5936 1349.15 32.5936 Q1343.44 32.5936 1340.07 36.4824 Q1336.71 40.3308 1336.71 46.9338 L1336.71 72.576 L1329.22 72.576 L1329.22 27.2059 L1336.71 27.2059 L1336.71 34.2544 Q1339.26 30.082 1342.83 28.0971 Q1346.39 26.1121 1351.29 26.1121 Q1356.24 26.1121 1359.68 28.6237 Q1363.16 31.1352 1364.82 35.9153 Z\" fill=\"#000000\" fill-rule=\"evenodd\" fill-opacity=\"1\" /><path clip-path=\"url(#clip590)\" d=\"M 0 0 M1430.93 71.3202 L1430.93 63.8666 Q1434.01 65.3249 1437.17 66.0946 Q1440.33 66.8642 1443.37 66.8642 Q1451.47 66.8642 1455.73 61.436 Q1460.02 55.9673 1460.63 44.8678 Q1458.28 48.3516 1454.67 50.215 Q1451.07 52.0784 1446.69 52.0784 Q1437.62 52.0784 1432.31 46.6097 Q1427.05 41.1005 1427.05 31.5808 Q1427.05 22.2638 1432.56 16.633 Q1438.06 11.0023 1447.22 11.0023 Q1457.71 11.0023 1463.22 19.0636 Q1468.77 27.0843 1468.77 42.3968 Q1468.77 56.6965 1461.96 65.2439 Q1455.2 73.7508 1443.74 73.7508 Q1440.66 73.7508 1437.5 73.1431 Q1434.34 72.5355 1430.93 71.3202 M1447.22 45.678 Q1452.73 45.678 1455.93 41.9107 Q1459.17 38.1433 1459.17 31.5808 Q1459.17 25.0589 1455.93 21.2916 Q1452.73 17.4837 1447.22 17.4837 Q1441.71 17.4837 1438.47 21.2916 Q1435.27 25.0589 1435.27 31.5808 Q1435.27 38.1433 1438.47 41.9107 Q1441.71 45.678 1447.22 45.678 Z\" fill=\"#000000\" fill-rule=\"evenodd\" fill-opacity=\"1\" /><path clip-path=\"url(#clip590)\" d=\"M 0 0 M1489.83 12.096 L1496.72 12.096 L1475.66 80.2727 L1468.77 80.2727 L1489.83 12.096 Z\" fill=\"#000000\" fill-rule=\"evenodd\" fill-opacity=\"1\" /><path clip-path=\"url(#clip590)\" d=\"M 0 0 M1507.01 65.6895 L1520.38 65.6895 L1520.38 19.5497 L1505.84 22.4663 L1505.84 15.0127 L1520.3 12.096 L1528.48 12.096 L1528.48 65.6895 L1541.85 65.6895 L1541.85 72.576 L1507.01 72.576 L1507.01 65.6895 Z\" fill=\"#000000\" fill-rule=\"evenodd\" fill-opacity=\"1\" /><path clip-path=\"url(#clip590)\" d=\"M 0 0 M1548.65 12.096 L1587.54 12.096 L1587.54 15.5798 L1565.59 72.576 L1557.04 72.576 L1577.7 18.9825 L1548.65 18.9825 L1548.65 12.096 Z\" fill=\"#000000\" fill-rule=\"evenodd\" fill-opacity=\"1\" /><path clip-path=\"url(#clip590)\" d=\"M 0 0 M1629.11 14.324 L1629.11 27.2059 L1644.46 27.2059 L1644.46 32.9987 L1629.11 32.9987 L1629.11 57.6282 Q1629.11 63.1779 1630.6 64.7578 Q1632.14 66.3376 1636.8 66.3376 L1644.46 66.3376 L1644.46 72.576 L1636.8 72.576 Q1628.17 72.576 1624.89 69.3758 Q1621.61 66.1351 1621.61 57.6282 L1621.61 32.9987 L1616.14 32.9987 L1616.14 27.2059 L1621.61 27.2059 L1621.61 14.324 L1629.11 14.324 Z\" fill=\"#000000\" fill-rule=\"evenodd\" fill-opacity=\"1\" /><path clip-path=\"url(#clip590)\" d=\"M 0 0 M1669.86 32.4315 Q1663.86 32.4315 1660.38 37.1306 Q1656.89 41.7891 1656.89 49.9314 Q1656.89 58.0738 1660.34 62.7728 Q1663.82 67.4314 1669.86 67.4314 Q1675.81 67.4314 1679.3 62.7323 Q1682.78 58.0333 1682.78 49.9314 Q1682.78 41.8701 1679.3 37.1711 Q1675.81 32.4315 1669.86 32.4315 M1669.86 26.1121 Q1679.58 26.1121 1685.13 32.4315 Q1690.68 38.7509 1690.68 49.9314 Q1690.68 61.0714 1685.13 67.4314 Q1679.58 73.7508 1669.86 73.7508 Q1660.09 73.7508 1654.54 67.4314 Q1649.04 61.0714 1649.04 49.9314 Q1649.04 38.7509 1654.54 32.4315 Q1660.09 26.1121 1669.86 26.1121 Z\" fill=\"#000000\" fill-rule=\"evenodd\" fill-opacity=\"1\" /><path clip-path=\"url(#clip590)\" d=\"M 0 0 M1727.34 65.6895 L1740.71 65.6895 L1740.71 19.5497 L1726.16 22.4663 L1726.16 15.0127 L1740.63 12.096 L1748.81 12.096 L1748.81 65.6895 L1762.18 65.6895 L1762.18 72.576 L1727.34 72.576 L1727.34 65.6895 Z\" fill=\"#000000\" fill-rule=\"evenodd\" fill-opacity=\"1\" /><path clip-path=\"url(#clip590)\" d=\"M 0 0 M1788.55 17.4837 Q1782.23 17.4837 1779.03 23.7221 Q1775.87 29.92 1775.87 42.3968 Q1775.87 54.833 1779.03 61.0714 Q1782.23 67.2693 1788.55 67.2693 Q1794.91 67.2693 1798.07 61.0714 Q1801.27 54.833 1801.27 42.3968 Q1801.27 29.92 1798.07 23.7221 Q1794.91 17.4837 1788.55 17.4837 M1788.55 11.0023 Q1798.72 11.0023 1804.06 19.0636 Q1809.45 27.0843 1809.45 42.3968 Q1809.45 57.6687 1804.06 65.73 Q1798.72 73.7508 1788.55 73.7508 Q1778.38 73.7508 1772.99 65.73 Q1767.65 57.6687 1767.65 42.3968 Q1767.65 27.0843 1772.99 19.0636 Q1778.38 11.0023 1788.55 11.0023 Z\" fill=\"#000000\" fill-rule=\"evenodd\" fill-opacity=\"1\" /><path clip-path=\"url(#clip590)\" d=\"M 0 0 M1830.52 12.096 L1837.4 12.096 L1816.34 80.2727 L1809.45 80.2727 L1830.52 12.096 Z\" fill=\"#000000\" fill-rule=\"evenodd\" fill-opacity=\"1\" /><path clip-path=\"url(#clip590)\" d=\"M 0 0 M1871.07 39.9662 Q1876.94 41.222 1880.22 45.1919 Q1883.54 49.1618 1883.54 54.9951 Q1883.54 63.9476 1877.38 68.8492 Q1871.23 73.7508 1859.89 73.7508 Q1856.08 73.7508 1852.03 72.9811 Q1848.02 72.2519 1843.72 70.7531 L1843.72 62.8538 Q1847.12 64.8388 1851.18 65.8515 Q1855.23 66.8642 1859.64 66.8642 Q1867.34 66.8642 1871.35 63.826 Q1875.4 60.7879 1875.4 54.9951 Q1875.4 49.6479 1871.63 46.6502 Q1867.91 43.612 1861.22 43.612 L1854.17 43.612 L1854.17 36.8875 L1861.55 36.8875 Q1867.58 36.8875 1870.78 34.4975 Q1873.98 32.067 1873.98 27.5299 Q1873.98 22.8714 1870.66 20.4004 Q1867.38 17.8888 1861.22 17.8888 Q1857.86 17.8888 1854.01 18.618 Q1850.16 19.3471 1845.54 20.8865 L1845.54 13.5948 Q1850.2 12.2985 1854.25 11.6504 Q1858.35 11.0023 1861.95 11.0023 Q1871.27 11.0023 1876.7 15.2557 Q1882.12 19.4686 1882.12 26.6793 Q1882.12 31.7024 1879.25 35.1862 Q1876.37 38.6294 1871.07 39.9662 Z\" fill=\"#000000\" fill-rule=\"evenodd\" fill-opacity=\"1\" /><path clip-path=\"url(#clip590)\" d=\"M 0 0 M1909.91 17.4837 Q1903.59 17.4837 1900.39 23.7221 Q1897.23 29.92 1897.23 42.3968 Q1897.23 54.833 1900.39 61.0714 Q1903.59 67.2693 1909.91 67.2693 Q1916.27 67.2693 1919.43 61.0714 Q1922.63 54.833 1922.63 42.3968 Q1922.63 29.92 1919.43 23.7221 Q1916.27 17.4837 1909.91 17.4837 M1909.91 11.0023 Q1920.08 11.0023 1925.43 19.0636 Q1930.82 27.0843 1930.82 42.3968 Q1930.82 57.6687 1925.43 65.73 Q1920.08 73.7508 1909.91 73.7508 Q1899.75 73.7508 1894.36 65.73 Q1889.01 57.6687 1889.01 42.3968 Q1889.01 27.0843 1894.36 19.0636 Q1899.75 11.0023 1909.91 11.0023 Z\" fill=\"#000000\" fill-rule=\"evenodd\" fill-opacity=\"1\" /><polyline clip-path=\"url(#clip592)\" style=\"stroke:#ff0000; stroke-width:4; stroke-opacity:1; fill:none\" points=\"\n",
       "  241.157,508.018 289.968,512.965 338.78,631.683 387.592,750.401 436.404,828.092 485.216,808.015 534.027,787.938 582.839,701.517 631.651,659.326 680.463,617.134 \n",
       "  729.275,574.943 778.087,579.308 826.898,420.434 875.71,556.611 924.522,650.887 973.334,592.983 1022.15,535.079 1070.96,477.175 1119.77,649.142 1168.58,507.727 \n",
       "  1217.39,419.561 1266.2,237.991 1315.02,212.677 1363.83,187.362 1412.64,162.047 1461.45,465.826 1510.26,488.522 1559.08,567.959 1607.89,488.522 1656.7,598.511 \n",
       "  1705.51,708.5 1754.32,818.49 1803.13,798.413 1851.95,852.535 1900.76,752.147 1949.57,738.18 1998.38,775.134 2047.19,812.089 2096.01,849.043 2144.82,920.624 \n",
       "  2193.63,1338.76 2242.44,1440.89 2291.25,1447.87 \n",
       "  \"/>\n",
       "<polyline clip-path=\"url(#clip592)\" style=\"stroke:#0000ff; stroke-width:4; stroke-opacity:1; fill:none\" points=\"\n",
       "  241.157,486.579 289.968,462.55 338.78,483.799 387.592,524.678 436.404,503.589 485.216,555.074 534.027,623.367 582.839,648.964 631.651,648.264 680.463,625.901 \n",
       "  729.275,606.305 778.087,545.534 826.898,575.7 875.71,540.544 924.522,691.69 973.334,514.689 1022.15,489.886 1070.96,516.45 1119.77,490.754 1168.58,555.809 \n",
       "  1217.39,508.437 1266.2,497.402 1315.02,448.016 1363.83,400.632 1412.64,332.516 1461.45,282.541 1510.26,312.184 1559.08,338.171 1607.89,336.686 1656.7,409.26 \n",
       "  1705.51,428.567 1754.32,545.87 1803.13,556.99 1851.95,552.183 1900.76,661.26 1949.57,635.836 1998.38,647.891 2047.19,641.553 2096.01,645.066 2144.82,630.726 \n",
       "  2193.63,698.668 2242.44,769.475 2291.25,854.606 \n",
       "  \"/>\n",
       "<path clip-path=\"url(#clip590)\" d=\"\n",
       "M1652.22 350.345 L2280.32 350.345 L2280.32 168.905 L1652.22 168.905  Z\n",
       "  \" fill=\"#ffffff\" fill-rule=\"evenodd\" fill-opacity=\"1\"/>\n",
       "<polyline clip-path=\"url(#clip590)\" style=\"stroke:#000000; stroke-width:4; stroke-opacity:1; fill:none\" points=\"\n",
       "  1652.22,350.345 2280.32,350.345 2280.32,168.905 1652.22,168.905 1652.22,350.345 \n",
       "  \"/>\n",
       "<polyline clip-path=\"url(#clip590)\" style=\"stroke:#ff0000; stroke-width:4; stroke-opacity:1; fill:none\" points=\"\n",
       "  1676.37,229.385 1821.24,229.385 \n",
       "  \"/>\n",
       "<path clip-path=\"url(#clip590)\" d=\"M 0 0 M1861.22 216.711 L1854.88 233.91 L1867.59 233.91 L1861.22 216.711 M1858.58 212.105 L1863.88 212.105 L1877.05 246.665 L1872.19 246.665 L1869.04 237.799 L1853.47 237.799 L1850.32 246.665 L1845.39 246.665 L1858.58 212.105 Z\" fill=\"#000000\" fill-rule=\"evenodd\" fill-opacity=\"1\" /><path clip-path=\"url(#clip590)\" d=\"M 0 0 M1899.34 221.734 L1899.34 225.716 Q1897.54 224.72 1895.71 224.234 Q1893.9 223.725 1892.05 223.725 Q1887.91 223.725 1885.62 226.364 Q1883.33 228.98 1883.33 233.725 Q1883.33 238.47 1885.62 241.109 Q1887.91 243.725 1892.05 243.725 Q1893.9 243.725 1895.71 243.239 Q1897.54 242.729 1899.34 241.734 L1899.34 245.669 Q1897.56 246.503 1895.64 246.919 Q1893.74 247.336 1891.59 247.336 Q1885.73 247.336 1882.28 243.655 Q1878.84 239.975 1878.84 233.725 Q1878.84 227.382 1882.31 223.748 Q1885.8 220.114 1891.87 220.114 Q1893.84 220.114 1895.71 220.531 Q1897.59 220.924 1899.34 221.734 Z\" fill=\"#000000\" fill-rule=\"evenodd\" fill-opacity=\"1\" /><path clip-path=\"url(#clip590)\" d=\"M 0 0 M1908.03 213.378 L1908.03 220.739 L1916.8 220.739 L1916.8 224.049 L1908.03 224.049 L1908.03 238.123 Q1908.03 241.294 1908.88 242.197 Q1909.76 243.1 1912.42 243.1 L1916.8 243.1 L1916.8 246.665 L1912.42 246.665 Q1907.49 246.665 1905.62 244.836 Q1903.74 242.984 1903.74 238.123 L1903.74 224.049 L1900.62 224.049 L1900.62 220.739 L1903.74 220.739 L1903.74 213.378 L1908.03 213.378 Z\" fill=\"#000000\" fill-rule=\"evenodd\" fill-opacity=\"1\" /><path clip-path=\"url(#clip590)\" d=\"M 0 0 M1920.83 236.433 L1920.83 220.739 L1925.09 220.739 L1925.09 236.271 Q1925.09 239.952 1926.52 241.804 Q1927.96 243.632 1930.83 243.632 Q1934.27 243.632 1936.27 241.433 Q1938.28 239.234 1938.28 235.438 L1938.28 220.739 L1942.54 220.739 L1942.54 246.665 L1938.28 246.665 L1938.28 242.683 Q1936.73 245.044 1934.67 246.202 Q1932.63 247.336 1929.92 247.336 Q1925.46 247.336 1923.14 244.558 Q1920.83 241.78 1920.83 236.433 M1931.54 220.114 L1931.54 220.114 Z\" fill=\"#000000\" fill-rule=\"evenodd\" fill-opacity=\"1\" /><path clip-path=\"url(#clip590)\" d=\"M 0 0 M1958.79 233.632 Q1953.63 233.632 1951.64 234.813 Q1949.65 235.993 1949.65 238.841 Q1949.65 241.109 1951.13 242.452 Q1952.63 243.771 1955.2 243.771 Q1958.74 243.771 1960.87 241.271 Q1963.02 238.748 1963.02 234.581 L1963.02 233.632 L1958.79 233.632 M1967.28 231.873 L1967.28 246.665 L1963.02 246.665 L1963.02 242.729 Q1961.57 245.091 1959.39 246.225 Q1957.21 247.336 1954.07 247.336 Q1950.09 247.336 1947.72 245.114 Q1945.39 242.868 1945.39 239.118 Q1945.39 234.743 1948.3 232.521 Q1951.24 230.299 1957.05 230.299 L1963.02 230.299 L1963.02 229.882 Q1963.02 226.943 1961.08 225.345 Q1959.16 223.725 1955.66 223.725 Q1953.44 223.725 1951.34 224.257 Q1949.23 224.79 1947.28 225.855 L1947.28 221.919 Q1949.62 221.017 1951.82 220.577 Q1954.02 220.114 1956.1 220.114 Q1961.73 220.114 1964.51 223.031 Q1967.28 225.947 1967.28 231.873 Z\" fill=\"#000000\" fill-rule=\"evenodd\" fill-opacity=\"1\" /><path clip-path=\"url(#clip590)\" d=\"M 0 0 M1971.75 210.646 L1976.01 210.646 L1976.01 246.665 L1971.75 246.665 L1971.75 210.646 Z\" fill=\"#000000\" fill-rule=\"evenodd\" fill-opacity=\"1\" /><path clip-path=\"url(#clip590)\" d=\"M 0 0 M2016.45 213.239 L2016.45 217.799 Q2013.79 216.526 2011.43 215.901 Q2009.07 215.276 2006.87 215.276 Q2003.05 215.276 2000.96 216.757 Q1998.9 218.239 1998.9 220.97 Q1998.9 223.262 2000.27 224.443 Q2001.66 225.6 2005.5 226.318 L2008.33 226.896 Q2013.56 227.892 2016.03 230.415 Q2018.53 232.915 2018.53 237.128 Q2018.53 242.151 2015.15 244.743 Q2011.8 247.336 2005.29 247.336 Q2002.84 247.336 2000.06 246.78 Q1997.31 246.225 1994.34 245.137 L1994.34 240.322 Q1997.19 241.919 1999.92 242.729 Q2002.65 243.54 2005.29 243.54 Q2009.3 243.54 2011.47 241.966 Q2013.65 240.392 2013.65 237.475 Q2013.65 234.929 2012.08 233.493 Q2010.52 232.058 2006.96 231.341 L2004.11 230.785 Q1998.88 229.743 1996.54 227.521 Q1994.21 225.299 1994.21 221.341 Q1994.21 216.757 1997.42 214.119 Q2000.66 211.48 2006.33 211.48 Q2008.77 211.48 2011.29 211.919 Q2013.81 212.359 2016.45 213.239 Z\" fill=\"#000000\" fill-rule=\"evenodd\" fill-opacity=\"1\" /><path clip-path=\"url(#clip590)\" d=\"M 0 0 M2027.21 213.378 L2027.21 220.739 L2035.99 220.739 L2035.99 224.049 L2027.21 224.049 L2027.21 238.123 Q2027.21 241.294 2028.07 242.197 Q2028.95 243.1 2031.61 243.1 L2035.99 243.1 L2035.99 246.665 L2031.61 246.665 Q2026.68 246.665 2024.81 244.836 Q2022.93 242.984 2022.93 238.123 L2022.93 224.049 L2019.81 224.049 L2019.81 220.739 L2022.93 220.739 L2022.93 213.378 L2027.21 213.378 Z\" fill=\"#000000\" fill-rule=\"evenodd\" fill-opacity=\"1\" /><path clip-path=\"url(#clip590)\" d=\"M 0 0 M2050.5 223.725 Q2047.08 223.725 2045.08 226.41 Q2043.09 229.072 2043.09 233.725 Q2043.09 238.378 2045.06 241.063 Q2047.05 243.725 2050.5 243.725 Q2053.9 243.725 2055.89 241.04 Q2057.89 238.355 2057.89 233.725 Q2057.89 229.118 2055.89 226.433 Q2053.9 223.725 2050.5 223.725 M2050.5 220.114 Q2056.06 220.114 2059.23 223.725 Q2062.4 227.336 2062.4 233.725 Q2062.4 240.091 2059.23 243.725 Q2056.06 247.336 2050.5 247.336 Q2044.92 247.336 2041.75 243.725 Q2038.6 240.091 2038.6 233.725 Q2038.6 227.336 2041.75 223.725 Q2044.92 220.114 2050.5 220.114 Z\" fill=\"#000000\" fill-rule=\"evenodd\" fill-opacity=\"1\" /><path clip-path=\"url(#clip590)\" d=\"M 0 0 M2085.52 221.734 L2085.52 225.716 Q2083.72 224.72 2081.89 224.234 Q2080.08 223.725 2078.23 223.725 Q2074.09 223.725 2071.8 226.364 Q2069.51 228.98 2069.51 233.725 Q2069.51 238.47 2071.8 241.109 Q2074.09 243.725 2078.23 243.725 Q2080.08 243.725 2081.89 243.239 Q2083.72 242.729 2085.52 241.734 L2085.52 245.669 Q2083.74 246.503 2081.82 246.919 Q2079.92 247.336 2077.77 247.336 Q2071.91 247.336 2068.46 243.655 Q2065.02 239.975 2065.02 233.725 Q2065.02 227.382 2068.49 223.748 Q2071.98 220.114 2078.05 220.114 Q2080.01 220.114 2081.89 220.531 Q2083.76 220.924 2085.52 221.734 Z\" fill=\"#000000\" fill-rule=\"evenodd\" fill-opacity=\"1\" /><path clip-path=\"url(#clip590)\" d=\"M 0 0 M2089.83 210.646 L2094.11 210.646 L2094.11 231.919 L2106.82 220.739 L2112.26 220.739 L2098.51 232.868 L2112.84 246.665 L2107.28 246.665 L2094.11 234.003 L2094.11 246.665 L2089.83 246.665 L2089.83 210.646 Z\" fill=\"#000000\" fill-rule=\"evenodd\" fill-opacity=\"1\" /><path clip-path=\"url(#clip590)\" d=\"M 0 0 M2137.24 215.947 L2137.24 228.933 L2143.12 228.933 Q2146.38 228.933 2148.16 227.243 Q2149.95 225.554 2149.95 222.429 Q2149.95 219.327 2148.16 217.637 Q2146.38 215.947 2143.12 215.947 L2137.24 215.947 M2132.56 212.105 L2143.12 212.105 Q2148.93 212.105 2151.89 214.744 Q2154.88 217.359 2154.88 222.429 Q2154.88 227.544 2151.89 230.16 Q2148.93 232.776 2143.12 232.776 L2137.24 232.776 L2137.24 246.665 L2132.56 246.665 L2132.56 212.105 Z\" fill=\"#000000\" fill-rule=\"evenodd\" fill-opacity=\"1\" /><path clip-path=\"url(#clip590)\" d=\"M 0 0 M2173.53 224.72 Q2172.82 224.304 2171.96 224.118 Q2171.13 223.91 2170.11 223.91 Q2166.5 223.91 2164.55 226.271 Q2162.63 228.609 2162.63 233.007 L2162.63 246.665 L2158.35 246.665 L2158.35 220.739 L2162.63 220.739 L2162.63 224.767 Q2163.97 222.406 2166.13 221.271 Q2168.28 220.114 2171.36 220.114 Q2171.8 220.114 2172.33 220.183 Q2172.86 220.23 2173.51 220.345 L2173.53 224.72 Z\" fill=\"#000000\" fill-rule=\"evenodd\" fill-opacity=\"1\" /><path clip-path=\"url(#clip590)\" d=\"M 0 0 M2178 220.739 L2182.26 220.739 L2182.26 246.665 L2178 246.665 L2178 220.739 M2178 210.646 L2182.26 210.646 L2182.26 216.04 L2178 216.04 L2178 210.646 Z\" fill=\"#000000\" fill-rule=\"evenodd\" fill-opacity=\"1\" /><path clip-path=\"url(#clip590)\" d=\"M 0 0 M2205.38 221.734 L2205.38 225.716 Q2203.58 224.72 2201.75 224.234 Q2199.94 223.725 2198.09 223.725 Q2193.95 223.725 2191.66 226.364 Q2189.37 228.98 2189.37 233.725 Q2189.37 238.47 2191.66 241.109 Q2193.95 243.725 2198.09 243.725 Q2199.94 243.725 2201.75 243.239 Q2203.58 242.729 2205.38 241.734 L2205.38 245.669 Q2203.6 246.503 2201.68 246.919 Q2199.78 247.336 2197.63 247.336 Q2191.77 247.336 2188.32 243.655 Q2184.88 239.975 2184.88 233.725 Q2184.88 227.382 2188.35 223.748 Q2191.84 220.114 2197.91 220.114 Q2199.88 220.114 2201.75 220.531 Q2203.63 220.924 2205.38 221.734 Z\" fill=\"#000000\" fill-rule=\"evenodd\" fill-opacity=\"1\" /><path clip-path=\"url(#clip590)\" d=\"M 0 0 M2232.03 232.637 L2232.03 234.72 L2212.44 234.72 Q2212.72 239.118 2215.08 241.433 Q2217.47 243.725 2221.7 243.725 Q2224.16 243.725 2226.45 243.123 Q2228.76 242.521 2231.03 241.317 L2231.03 245.345 Q2228.74 246.317 2226.33 246.827 Q2223.93 247.336 2221.45 247.336 Q2215.25 247.336 2211.61 243.725 Q2208 240.114 2208 233.956 Q2208 227.591 2211.43 223.864 Q2214.88 220.114 2220.71 220.114 Q2225.94 220.114 2228.97 223.493 Q2232.03 226.85 2232.03 232.637 M2227.77 231.387 Q2227.72 227.892 2225.8 225.808 Q2223.9 223.725 2220.75 223.725 Q2217.19 223.725 2215.04 225.739 Q2212.91 227.753 2212.58 231.41 L2227.77 231.387 Z\" fill=\"#000000\" fill-rule=\"evenodd\" fill-opacity=\"1\" /><polyline clip-path=\"url(#clip590)\" style=\"stroke:#0000ff; stroke-width:4; stroke-opacity:1; fill:none\" points=\"\n",
       "  1676.37,289.865 1821.24,289.865 \n",
       "  \"/>\n",
       "<path clip-path=\"url(#clip590)\" d=\"M 0 0 M1861.22 277.191 L1854.88 294.39 L1867.59 294.39 L1861.22 277.191 M1858.58 272.585 L1863.88 272.585 L1877.05 307.145 L1872.19 307.145 L1869.04 298.279 L1853.47 298.279 L1850.32 307.145 L1845.39 307.145 L1858.58 272.585 Z\" fill=\"#000000\" fill-rule=\"evenodd\" fill-opacity=\"1\" /><path clip-path=\"url(#clip590)\" d=\"M 0 0 M1898.09 290.941 Q1899.6 291.45 1901.01 293.117 Q1902.45 294.784 1903.88 297.7 L1908.63 307.145 L1903.6 307.145 L1899.18 298.279 Q1897.47 294.807 1895.85 293.673 Q1894.25 292.538 1891.47 292.538 L1886.38 292.538 L1886.38 307.145 L1881.71 307.145 L1881.71 272.585 L1892.26 272.585 Q1898.19 272.585 1901.1 275.061 Q1904.02 277.538 1904.02 282.538 Q1904.02 285.802 1902.49 287.955 Q1900.99 290.108 1898.09 290.941 M1886.38 276.427 L1886.38 288.696 L1892.26 288.696 Q1895.64 288.696 1897.35 287.145 Q1899.09 285.571 1899.09 282.538 Q1899.09 279.506 1897.35 277.978 Q1895.64 276.427 1892.26 276.427 L1886.38 276.427 Z\" fill=\"#000000\" fill-rule=\"evenodd\" fill-opacity=\"1\" /><path clip-path=\"url(#clip590)\" d=\"M 0 0 M1914.51 303.209 L1922.15 303.209 L1922.15 276.844 L1913.84 278.511 L1913.84 274.251 L1922.1 272.585 L1926.78 272.585 L1926.78 303.209 L1934.41 303.209 L1934.41 307.145 L1914.51 307.145 L1914.51 303.209 Z\" fill=\"#000000\" fill-rule=\"evenodd\" fill-opacity=\"1\" /><path clip-path=\"url(#clip590)\" d=\"M 0 0 M1954.14 272.585 L1961.1 272.585 L1969.92 296.103 L1978.79 272.585 L1985.76 272.585 L1985.76 307.145 L1981.2 307.145 L1981.2 276.798 L1972.28 300.501 L1967.58 300.501 L1958.67 276.798 L1958.67 307.145 L1954.14 307.145 L1954.14 272.585 Z\" fill=\"#000000\" fill-rule=\"evenodd\" fill-opacity=\"1\" /><path clip-path=\"url(#clip590)\" d=\"M 0 0 M2000.27 284.205 Q1996.84 284.205 1994.85 286.89 Q1992.86 289.552 1992.86 294.205 Q1992.86 298.858 1994.83 301.543 Q1996.82 304.205 2000.27 304.205 Q2003.67 304.205 2005.66 301.52 Q2007.65 298.835 2007.65 294.205 Q2007.65 289.598 2005.66 286.913 Q2003.67 284.205 2000.27 284.205 M2000.27 280.594 Q2005.83 280.594 2009 284.205 Q2012.17 287.816 2012.17 294.205 Q2012.17 300.571 2009 304.205 Q2005.83 307.816 2000.27 307.816 Q1994.69 307.816 1991.52 304.205 Q1988.37 300.571 1988.37 294.205 Q1988.37 287.816 1991.52 284.205 Q1994.69 280.594 2000.27 280.594 Z\" fill=\"#000000\" fill-rule=\"evenodd\" fill-opacity=\"1\" /><path clip-path=\"url(#clip590)\" d=\"M 0 0 M2033.7 285.154 L2033.7 271.126 L2037.95 271.126 L2037.95 307.145 L2033.7 307.145 L2033.7 303.256 Q2032.35 305.571 2030.29 306.705 Q2028.26 307.816 2025.39 307.816 Q2020.69 307.816 2017.72 304.066 Q2014.78 300.316 2014.78 294.205 Q2014.78 288.094 2017.72 284.344 Q2020.69 280.594 2025.39 280.594 Q2028.26 280.594 2030.29 281.728 Q2032.35 282.839 2033.7 285.154 M2019.18 294.205 Q2019.18 298.904 2021.1 301.589 Q2023.05 304.251 2026.43 304.251 Q2029.81 304.251 2031.75 301.589 Q2033.7 298.904 2033.7 294.205 Q2033.7 289.506 2031.75 286.844 Q2029.81 284.159 2026.43 284.159 Q2023.05 284.159 2021.1 286.844 Q2019.18 289.506 2019.18 294.205 Z\" fill=\"#000000\" fill-rule=\"evenodd\" fill-opacity=\"1\" /><path clip-path=\"url(#clip590)\" d=\"M 0 0 M2064.6 293.117 L2064.6 295.2 L2045.02 295.2 Q2045.29 299.598 2047.65 301.913 Q2050.04 304.205 2054.27 304.205 Q2056.73 304.205 2059.02 303.603 Q2061.33 303.001 2063.6 301.797 L2063.6 305.825 Q2061.31 306.797 2058.9 307.307 Q2056.5 307.816 2054.02 307.816 Q2047.82 307.816 2044.18 304.205 Q2040.57 300.594 2040.57 294.436 Q2040.57 288.071 2044 284.344 Q2047.45 280.594 2053.28 280.594 Q2058.51 280.594 2061.54 283.973 Q2064.6 287.33 2064.6 293.117 M2060.34 291.867 Q2060.29 288.372 2058.37 286.288 Q2056.47 284.205 2053.33 284.205 Q2049.76 284.205 2047.61 286.219 Q2045.48 288.233 2045.15 291.89 L2060.34 291.867 Z\" fill=\"#000000\" fill-rule=\"evenodd\" fill-opacity=\"1\" /><path clip-path=\"url(#clip590)\" d=\"M 0 0 M2069.07 271.126 L2073.33 271.126 L2073.33 307.145 L2069.07 307.145 L2069.07 271.126 Z\" fill=\"#000000\" fill-rule=\"evenodd\" fill-opacity=\"1\" /></svg>\n"
      ]
     },
     "metadata": {},
     "output_type": "display_data"
    },
    {
     "name": "stdout",
     "output_type": "stream",
     "text": [
      "Selected: Quantile/Quad, estimated error is: 0.36178745632625703, Validation Error is :0.39929910599997914"
     ]
    },
    {
     "data": {
      "text/plain": [
       "9×5 Array{Float64,2}:\n",
       " -0.280379   -0.103086    -0.0346882  -0.0289731   -0.0206183\n",
       "  0.577139    0.742505     0.692613    0.686944     0.67963\n",
       " -0.203333   -0.0495897   -0.0414301  -0.026198    -0.00836695\n",
       " -0.1241     -0.0935938   -0.0464634  -0.0438534   -0.0133299\n",
       " -0.0511101  -0.00748542  -0.0193115  -0.0110497    0.00624481\n",
       " -0.18684    -0.00677688   0.035076    0.00263116  -0.0220848\n",
       " -0.203333   -0.0495897   -0.0414301  -0.026198    -0.00836695\n",
       "  0.240736    0.084853     0.0560329   0.0517484    0.0939161\n",
       " -0.166695    0.0226531    0.0323922   0.0166878    0.065942"
      ]
     },
     "execution_count": 64,
     "metadata": {},
     "output_type": "execute_result"
    }
   ],
   "source": [
    "w,mse = analysis1(Johnson, sentiment,JohnsonMa)\n",
    "w10 = analysis2(Johnson, sentiment, w, mse, JohnsonMa);"
   ]
  },
  {
   "cell_type": "code",
   "execution_count": 67,
   "metadata": {},
   "outputs": [
    {
     "data": {
      "text/plain": [
       "9×1 Array{Float64,2}:\n",
       " -0.016866599396181035\n",
       "  0.7782580553766939\n",
       " -0.032844863671539305\n",
       " -0.05531863993743773\n",
       "  0.015015459076809326\n",
       " -0.021391227411144555\n",
       " -0.032844863671539305\n",
       "  0.04898618445411961\n",
       " -0.009022149444920472"
      ]
     },
     "execution_count": 67,
     "metadata": {},
     "output_type": "execute_result"
    }
   ],
   "source": [
    "w = mean((w1+w2+w3+w4+w5+w6+w7+w8+w9+w10)./10, dims = 2) ;w\n",
    "sent_train[2:end] stockMa_train[1:end-1] death_train[2:end] vac_train[2:end] shut_train[2:end] spred_train[2:end] death_train[2:end] pos_train[2:end] ones(length(stock_train)-1)"
   ]
  },
  {
   "cell_type": "code",
   "execution_count": 79,
   "metadata": {},
   "outputs": [],
   "source": [
    "[Anthem[1] Cigna[1] Cardinal[1] CVS[1] Gilead[1]];"
   ]
  },
  {
   "cell_type": "code",
   "execution_count": 80,
   "metadata": {},
   "outputs": [],
   "source": [
    "[mean(w1,dims = 2) mean(w2,dims = 2) mean(w3,dims = 2) mean(w4,dims = 2) mean(w5,dims = 2)] ;"
   ]
  },
  {
   "cell_type": "code",
   "execution_count": 81,
   "metadata": {},
   "outputs": [],
   "source": [
    "[mean(w6,dims = 2) mean(w7,dims = 2) mean(w8,dims = 2) mean(w9,dims = 2) mean(w10,dims = 2)];"
   ]
  },
  {
   "cell_type": "code",
   "execution_count": 82,
   "metadata": {},
   "outputs": [],
   "source": [
    "[McKesson[1] Moderna[1] Pfizer[1] United[1] Johnson[1]];"
   ]
  },
  {
   "cell_type": "code",
   "execution_count": 91,
   "metadata": {},
   "outputs": [
    {
     "data": {
      "text/plain": [
       "6-element Array{Int64,1}:\n",
       "  43\n",
       "  87\n",
       " 131\n",
       " 175\n",
       " 219\n",
       " 263"
      ]
     },
     "execution_count": 91,
     "metadata": {},
     "output_type": "execute_result"
    }
   ],
   "source": [
    "split1 = [43,43 + 44,43+ 44*2,43 + 44*3, 43 + 44*4,43 + 44*5]"
   ]
  },
  {
   "cell_type": "code",
   "execution_count": 96,
   "metadata": {
    "scrolled": true
   },
   "outputs": [
    {
     "data": {
      "text/plain": [
       "findlambda (generic function with 2 methods)"
      ]
     },
     "execution_count": 96,
     "metadata": {},
     "output_type": "execute_result"
    }
   ],
   "source": [
    "\n",
    "function findlambda(stock, fig, split, label1, stockMa)\n",
    "    i=5\n",
    "    stock_train = stock[1][1:split[i]]\n",
    "    sent_train = sentiment[1][1:split[i]]\n",
    "    death_train = sentiment[3][1:split[i]]\n",
    "    vac_train = sentiment[2][1:split[i]]\n",
    "    shut_train = sentiment[4][1:split[i]]\n",
    "    spred_train = sentiment[5][1:split[i]]\n",
    "    death_train = sentiment[6][1:split[i]]\n",
    "    pos_train = sentiment[7][1:split[i]]\n",
    "    stockMa_train = stockMa[1:split[i]]\n",
    "\n",
    "    stock_test = stock[1][split[i]+1:split[i+1]]\n",
    "    sent_test = sentiment[1][split[i]+1:split[i+1]]\n",
    "    death_test = sentiment[3][split[i]+1:split[i+1]]\n",
    "    vac_test = sentiment[2][split[i]+1:split[i+1]]\n",
    "    shut_test = sentiment[4][split[i]+1:split[i+1]]\n",
    "    spred_test = sentiment[5][split[i]+1:split[i+1]]\n",
    "    death_test = sentiment[6][split[i]+1:split[i+1]]\n",
    "    pos_test = sentiment[7][split[i]+1:split[i+1]]\n",
    "    stockMa_test = stockMa[split[i]+1:split[i+1]]\n",
    "\n",
    "    Xtrain = [sent_train[2:end] stockMa_train[1:end-1] death_train[2:end] vac_train[2:end] shut_train[2:end] spred_train[2:end] death_train[2:end] pos_train[2:end] ones(length(stock_train)-1)]\n",
    "    Xtest = [sent_test[2:end] stockMa_test[1:end-1] death_test[2:end] vac_test[2:end] shut_test[2:end] spred_test[2:end] death_test[2:end] pos_test[2:end] ones(length(stock_test)-1)]\n",
    "    Ytrain = stock_train[2:end]\n",
    "    Ytest = stock_test[2:end]\n",
    "    #ridge regression\n",
    "    abs_er = []\n",
    "    for i in [0.1:0.1:0.9;]\n",
    "        n = length(Ytrain)\n",
    "        loss = 1/n*QuadLoss()\n",
    "\n",
    "        # we form λ|| ⋅ ||^2 by multiplying the QuadReg() function by λ\n",
    "        λ = i\n",
    "        reg = λ*QuadReg()\n",
    "\n",
    "        w_cur = proxgrad(loss, reg, Xtrain, Ytrain, maxiters=1000)\n",
    "\n",
    "        pred = Xtest*w_cur\n",
    "\n",
    "        date = [5:44]\n",
    "        #Ytest = Ytest.*std1 .+ mean1\n",
    "        #pred = pred.*std1 .+ mean1\n",
    "        #plot(date, Ytest, color = :red,  label = \"Actual Stock Price\")\n",
    "        #plot!(date, pred, color = :blue, label = \"AR1 Model\")\n",
    "        abs_er = vcat(abs_er, abs_err(Ytest,pred))\n",
    "    end\n",
    "    plot!([0.1:0.1:0.9;], abs_er, label = label1)\n",
    "end"
   ]
  },
  {
   "cell_type": "code",
   "execution_count": null,
   "metadata": {},
   "outputs": [],
   "source": []
  },
  {
   "cell_type": "code",
   "execution_count": 97,
   "metadata": {},
   "outputs": [
    {
     "data": {
      "image/svg+xml": [
       "<?xml version=\"1.0\" encoding=\"utf-8\"?>\n",
       "<svg xmlns=\"http://www.w3.org/2000/svg\" xmlns:xlink=\"http://www.w3.org/1999/xlink\" width=\"600\" height=\"400\" viewBox=\"0 0 2400 1600\">\n",
       "<defs>\n",
       "  <clipPath id=\"clip630\">\n",
       "    <rect x=\"0\" y=\"0\" width=\"2400\" height=\"1600\"/>\n",
       "  </clipPath>\n",
       "</defs>\n",
       "<path clip-path=\"url(#clip630)\" d=\"\n",
       "M0 1600 L2400 1600 L2400 0 L0 0  Z\n",
       "  \" fill=\"#ffffff\" fill-rule=\"evenodd\" fill-opacity=\"1\"/>\n",
       "<defs>\n",
       "  <clipPath id=\"clip631\">\n",
       "    <rect x=\"480\" y=\"0\" width=\"1681\" height=\"1600\"/>\n",
       "  </clipPath>\n",
       "</defs>\n",
       "<path clip-path=\"url(#clip630)\" d=\"\n",
       "M237.135 1423.18 L2352.76 1423.18 L2352.76 123.472 L237.135 123.472  Z\n",
       "  \" fill=\"#ffffff\" fill-rule=\"evenodd\" fill-opacity=\"1\"/>\n",
       "<defs>\n",
       "  <clipPath id=\"clip632\">\n",
       "    <rect x=\"237\" y=\"123\" width=\"2117\" height=\"1301\"/>\n",
       "  </clipPath>\n",
       "</defs>\n",
       "<polyline clip-path=\"url(#clip632)\" style=\"stroke:#000000; stroke-width:2; stroke-opacity:0.1; fill:none\" points=\"\n",
       "  546.494,1423.18 546.494,123.472 \n",
       "  \"/>\n",
       "<polyline clip-path=\"url(#clip632)\" style=\"stroke:#000000; stroke-width:2; stroke-opacity:0.1; fill:none\" points=\"\n",
       "  1045.46,1423.18 1045.46,123.472 \n",
       "  \"/>\n",
       "<polyline clip-path=\"url(#clip632)\" style=\"stroke:#000000; stroke-width:2; stroke-opacity:0.1; fill:none\" points=\"\n",
       "  1544.43,1423.18 1544.43,123.472 \n",
       "  \"/>\n",
       "<polyline clip-path=\"url(#clip632)\" style=\"stroke:#000000; stroke-width:2; stroke-opacity:0.1; fill:none\" points=\"\n",
       "  2043.4,1423.18 2043.4,123.472 \n",
       "  \"/>\n",
       "<polyline clip-path=\"url(#clip630)\" style=\"stroke:#000000; stroke-width:4; stroke-opacity:1; fill:none\" points=\"\n",
       "  237.135,1423.18 2352.76,1423.18 \n",
       "  \"/>\n",
       "<polyline clip-path=\"url(#clip630)\" style=\"stroke:#000000; stroke-width:4; stroke-opacity:1; fill:none\" points=\"\n",
       "  546.494,1423.18 546.494,1407.58 \n",
       "  \"/>\n",
       "<polyline clip-path=\"url(#clip630)\" style=\"stroke:#000000; stroke-width:4; stroke-opacity:1; fill:none\" points=\"\n",
       "  1045.46,1423.18 1045.46,1407.58 \n",
       "  \"/>\n",
       "<polyline clip-path=\"url(#clip630)\" style=\"stroke:#000000; stroke-width:4; stroke-opacity:1; fill:none\" points=\"\n",
       "  1544.43,1423.18 1544.43,1407.58 \n",
       "  \"/>\n",
       "<polyline clip-path=\"url(#clip630)\" style=\"stroke:#000000; stroke-width:4; stroke-opacity:1; fill:none\" points=\"\n",
       "  2043.4,1423.18 2043.4,1407.58 \n",
       "  \"/>\n",
       "<path clip-path=\"url(#clip630)\" d=\"M 0 0 M528.809 1452.37 Q525.198 1452.37 523.37 1455.94 Q521.564 1459.48 521.564 1466.61 Q521.564 1473.71 523.37 1477.28 Q525.198 1480.82 528.809 1480.82 Q532.444 1480.82 534.249 1477.28 Q536.078 1473.71 536.078 1466.61 Q536.078 1459.48 534.249 1455.94 Q532.444 1452.37 528.809 1452.37 M528.809 1448.67 Q534.619 1448.67 537.675 1453.27 Q540.754 1457.86 540.754 1466.61 Q540.754 1475.33 537.675 1479.94 Q534.619 1484.52 528.809 1484.52 Q522.999 1484.52 519.92 1479.94 Q516.865 1475.33 516.865 1466.61 Q516.865 1457.86 519.92 1453.27 Q522.999 1448.67 528.809 1448.67 Z\" fill=\"#000000\" fill-rule=\"evenodd\" fill-opacity=\"1\" /><path clip-path=\"url(#clip630)\" d=\"M 0 0 M545.823 1477.97 L550.707 1477.97 L550.707 1483.85 L545.823 1483.85 L545.823 1477.97 Z\" fill=\"#000000\" fill-rule=\"evenodd\" fill-opacity=\"1\" /><path clip-path=\"url(#clip630)\" d=\"M 0 0 M559.805 1479.92 L576.124 1479.92 L576.124 1483.85 L554.18 1483.85 L554.18 1479.92 Q556.842 1477.16 561.425 1472.53 Q566.031 1467.88 567.212 1466.54 Q569.457 1464.01 570.337 1462.28 Q571.24 1460.52 571.24 1458.83 Q571.24 1456.07 569.295 1454.34 Q567.374 1452.6 564.272 1452.6 Q562.073 1452.6 559.619 1453.37 Q557.189 1454.13 554.411 1455.68 L554.411 1450.96 Q557.235 1449.82 559.689 1449.25 Q562.142 1448.67 564.179 1448.67 Q569.55 1448.67 572.744 1451.35 Q575.939 1454.04 575.939 1458.53 Q575.939 1460.66 575.129 1462.58 Q574.341 1464.48 572.235 1467.07 Q571.656 1467.74 568.554 1470.96 Q565.453 1474.15 559.805 1479.92 Z\" fill=\"#000000\" fill-rule=\"evenodd\" fill-opacity=\"1\" /><path clip-path=\"url(#clip630)\" d=\"M 0 0 M1026.73 1452.37 Q1023.12 1452.37 1021.3 1455.94 Q1019.49 1459.48 1019.49 1466.61 Q1019.49 1473.71 1021.3 1477.28 Q1023.12 1480.82 1026.73 1480.82 Q1030.37 1480.82 1032.17 1477.28 Q1034 1473.71 1034 1466.61 Q1034 1459.48 1032.17 1455.94 Q1030.37 1452.37 1026.73 1452.37 M1026.73 1448.67 Q1032.55 1448.67 1035.6 1453.27 Q1038.68 1457.86 1038.68 1466.61 Q1038.68 1475.33 1035.6 1479.94 Q1032.55 1484.52 1026.73 1484.52 Q1020.92 1484.52 1017.85 1479.94 Q1014.79 1475.33 1014.79 1466.61 Q1014.79 1457.86 1017.85 1453.27 Q1020.92 1448.67 1026.73 1448.67 Z\" fill=\"#000000\" fill-rule=\"evenodd\" fill-opacity=\"1\" /><path clip-path=\"url(#clip630)\" d=\"M 0 0 M1043.75 1477.97 L1048.63 1477.97 L1048.63 1483.85 L1043.75 1483.85 L1043.75 1477.97 Z\" fill=\"#000000\" fill-rule=\"evenodd\" fill-opacity=\"1\" /><path clip-path=\"url(#clip630)\" d=\"M 0 0 M1066.55 1453.37 L1054.74 1471.81 L1066.55 1471.81 L1066.55 1453.37 M1065.32 1449.29 L1071.2 1449.29 L1071.2 1471.81 L1076.13 1471.81 L1076.13 1475.7 L1071.2 1475.7 L1071.2 1483.85 L1066.55 1483.85 L1066.55 1475.7 L1050.95 1475.7 L1050.95 1471.19 L1065.32 1449.29 Z\" fill=\"#000000\" fill-rule=\"evenodd\" fill-opacity=\"1\" /><path clip-path=\"url(#clip630)\" d=\"M 0 0 M1525.86 1452.37 Q1522.25 1452.37 1520.42 1455.94 Q1518.62 1459.48 1518.62 1466.61 Q1518.62 1473.71 1520.42 1477.28 Q1522.25 1480.82 1525.86 1480.82 Q1529.5 1480.82 1531.3 1477.28 Q1533.13 1473.71 1533.13 1466.61 Q1533.13 1459.48 1531.3 1455.94 Q1529.5 1452.37 1525.86 1452.37 M1525.86 1448.67 Q1531.67 1448.67 1534.73 1453.27 Q1537.81 1457.86 1537.81 1466.61 Q1537.81 1475.33 1534.73 1479.94 Q1531.67 1484.52 1525.86 1484.52 Q1520.05 1484.52 1516.98 1479.94 Q1513.92 1475.33 1513.92 1466.61 Q1513.92 1457.86 1516.98 1453.27 Q1520.05 1448.67 1525.86 1448.67 Z\" fill=\"#000000\" fill-rule=\"evenodd\" fill-opacity=\"1\" /><path clip-path=\"url(#clip630)\" d=\"M 0 0 M1542.88 1477.97 L1547.76 1477.97 L1547.76 1483.85 L1542.88 1483.85 L1542.88 1477.97 Z\" fill=\"#000000\" fill-rule=\"evenodd\" fill-opacity=\"1\" /><path clip-path=\"url(#clip630)\" d=\"M 0 0 M1563.41 1464.71 Q1560.26 1464.71 1558.41 1466.86 Q1556.58 1469.01 1556.58 1472.76 Q1556.58 1476.49 1558.41 1478.67 Q1560.26 1480.82 1563.41 1480.82 Q1566.56 1480.82 1568.39 1478.67 Q1570.24 1476.49 1570.24 1472.76 Q1570.24 1469.01 1568.39 1466.86 Q1566.56 1464.71 1563.41 1464.71 M1572.69 1450.06 L1572.69 1454.31 Q1570.93 1453.48 1569.13 1453.04 Q1567.35 1452.6 1565.59 1452.6 Q1560.96 1452.6 1558.5 1455.73 Q1556.07 1458.85 1555.73 1465.17 Q1557.09 1463.16 1559.15 1462.09 Q1561.21 1461 1563.69 1461 Q1568.9 1461 1571.91 1464.18 Q1574.94 1467.32 1574.94 1472.76 Q1574.94 1478.09 1571.79 1481.31 Q1568.64 1484.52 1563.41 1484.52 Q1557.41 1484.52 1554.24 1479.94 Q1551.07 1475.33 1551.07 1466.61 Q1551.07 1458.41 1554.96 1453.55 Q1558.85 1448.67 1565.4 1448.67 Q1567.16 1448.67 1568.94 1449.01 Q1570.75 1449.36 1572.69 1450.06 Z\" fill=\"#000000\" fill-rule=\"evenodd\" fill-opacity=\"1\" /><path clip-path=\"url(#clip630)\" d=\"M 0 0 M2024.96 1452.37 Q2021.35 1452.37 2019.52 1455.94 Q2017.71 1459.48 2017.71 1466.61 Q2017.71 1473.71 2019.52 1477.28 Q2021.35 1480.82 2024.96 1480.82 Q2028.59 1480.82 2030.4 1477.28 Q2032.23 1473.71 2032.23 1466.61 Q2032.23 1459.48 2030.4 1455.94 Q2028.59 1452.37 2024.96 1452.37 M2024.96 1448.67 Q2030.77 1448.67 2033.82 1453.27 Q2036.9 1457.86 2036.9 1466.61 Q2036.9 1475.33 2033.82 1479.94 Q2030.77 1484.52 2024.96 1484.52 Q2019.15 1484.52 2016.07 1479.94 Q2013.01 1475.33 2013.01 1466.61 Q2013.01 1457.86 2016.07 1453.27 Q2019.15 1448.67 2024.96 1448.67 Z\" fill=\"#000000\" fill-rule=\"evenodd\" fill-opacity=\"1\" /><path clip-path=\"url(#clip630)\" d=\"M 0 0 M2041.97 1477.97 L2046.86 1477.97 L2046.86 1483.85 L2041.97 1483.85 L2041.97 1477.97 Z\" fill=\"#000000\" fill-rule=\"evenodd\" fill-opacity=\"1\" /><path clip-path=\"url(#clip630)\" d=\"M 0 0 M2061.93 1467.44 Q2058.59 1467.44 2056.67 1469.22 Q2054.77 1471 2054.77 1474.13 Q2054.77 1477.25 2056.67 1479.04 Q2058.59 1480.82 2061.93 1480.82 Q2065.26 1480.82 2067.18 1479.04 Q2069.1 1477.23 2069.1 1474.13 Q2069.1 1471 2067.18 1469.22 Q2065.28 1467.44 2061.93 1467.44 M2057.25 1465.45 Q2054.24 1464.71 2052.55 1462.65 Q2050.88 1460.59 2050.88 1457.63 Q2050.88 1453.48 2053.82 1451.07 Q2056.79 1448.67 2061.93 1448.67 Q2067.09 1448.67 2070.03 1451.07 Q2072.97 1453.48 2072.97 1457.63 Q2072.97 1460.59 2071.28 1462.65 Q2069.61 1464.71 2066.63 1465.45 Q2070 1466.24 2071.88 1468.53 Q2073.78 1470.82 2073.78 1474.13 Q2073.78 1479.15 2070.7 1481.84 Q2067.64 1484.52 2061.93 1484.52 Q2056.21 1484.52 2053.13 1481.84 Q2050.07 1479.15 2050.07 1474.13 Q2050.07 1470.82 2051.97 1468.53 Q2053.87 1466.24 2057.25 1465.45 M2055.54 1458.06 Q2055.54 1460.75 2057.2 1462.25 Q2058.89 1463.76 2061.93 1463.76 Q2064.94 1463.76 2066.63 1462.25 Q2068.34 1460.75 2068.34 1458.06 Q2068.34 1455.38 2066.63 1453.88 Q2064.94 1452.37 2061.93 1452.37 Q2058.89 1452.37 2057.2 1453.88 Q2055.54 1455.38 2055.54 1458.06 Z\" fill=\"#000000\" fill-rule=\"evenodd\" fill-opacity=\"1\" /><path clip-path=\"url(#clip630)\" d=\"M 0 0 M1192.38 1506.52 L1198.23 1506.52 L1198.23 1556.04 L1192.38 1556.04 L1192.38 1506.52 Z\" fill=\"#000000\" fill-rule=\"evenodd\" fill-opacity=\"1\" /><path clip-path=\"url(#clip630)\" d=\"M 0 0 M1220.58 1538.12 Q1213.48 1538.12 1210.74 1539.75 Q1208.01 1541.37 1208.01 1545.29 Q1208.01 1548.4 1210.04 1550.25 Q1212.11 1552.07 1215.64 1552.07 Q1220.51 1552.07 1223.44 1548.63 Q1226.4 1545.16 1226.4 1539.43 L1226.4 1538.12 L1220.58 1538.12 M1232.26 1535.71 L1232.26 1556.04 L1226.4 1556.04 L1226.4 1550.63 Q1224.4 1553.88 1221.41 1555.44 Q1218.41 1556.97 1214.08 1556.97 Q1208.61 1556.97 1205.36 1553.91 Q1202.15 1550.82 1202.15 1545.67 Q1202.15 1539.65 1206.16 1536.6 Q1210.2 1533.54 1218.19 1533.54 L1226.4 1533.54 L1226.4 1532.97 Q1226.4 1528.93 1223.73 1526.73 Q1221.09 1524.5 1216.28 1524.5 Q1213.23 1524.5 1210.33 1525.23 Q1207.43 1525.97 1204.76 1527.43 L1204.76 1522.02 Q1207.97 1520.78 1211 1520.17 Q1214.02 1519.54 1216.89 1519.54 Q1224.62 1519.54 1228.44 1523.55 Q1232.26 1527.56 1232.26 1535.71 Z\" fill=\"#000000\" fill-rule=\"evenodd\" fill-opacity=\"1\" /><path clip-path=\"url(#clip630)\" d=\"M 0 0 M1266.16 1527.24 Q1268.35 1523.29 1271.41 1521.41 Q1274.46 1519.54 1278.6 1519.54 Q1284.17 1519.54 1287.2 1523.45 Q1290.22 1527.33 1290.22 1534.53 L1290.22 1556.04 L1284.33 1556.04 L1284.33 1534.72 Q1284.33 1529.59 1282.52 1527.11 Q1280.7 1524.63 1276.98 1524.63 Q1272.43 1524.63 1269.78 1527.65 Q1267.14 1530.68 1267.14 1535.9 L1267.14 1556.04 L1261.25 1556.04 L1261.25 1534.72 Q1261.25 1529.56 1259.44 1527.11 Q1257.63 1524.63 1253.84 1524.63 Q1249.35 1524.63 1246.71 1527.68 Q1244.07 1530.71 1244.07 1535.9 L1244.07 1556.04 L1238.18 1556.04 L1238.18 1520.4 L1244.07 1520.4 L1244.07 1525.93 Q1246.07 1522.66 1248.87 1521.1 Q1251.67 1519.54 1255.53 1519.54 Q1259.41 1519.54 1262.11 1521.51 Q1264.85 1523.48 1266.16 1527.24 Z\" fill=\"#000000\" fill-rule=\"evenodd\" fill-opacity=\"1\" /><path clip-path=\"url(#clip630)\" d=\"M 0 0 M1321.95 1538.25 Q1321.95 1531.79 1319.28 1528.13 Q1316.64 1524.44 1311.99 1524.44 Q1307.34 1524.44 1304.67 1528.13 Q1302.03 1531.79 1302.03 1538.25 Q1302.03 1544.71 1304.67 1548.4 Q1307.34 1552.07 1311.99 1552.07 Q1316.64 1552.07 1319.28 1548.4 Q1321.95 1544.71 1321.95 1538.25 M1302.03 1525.81 Q1303.87 1522.62 1306.67 1521.1 Q1309.51 1519.54 1313.42 1519.54 Q1319.91 1519.54 1323.96 1524.69 Q1328.03 1529.85 1328.03 1538.25 Q1328.03 1546.65 1323.96 1551.81 Q1319.91 1556.97 1313.42 1556.97 Q1309.51 1556.97 1306.67 1555.44 Q1303.87 1553.88 1302.03 1550.7 L1302.03 1556.04 L1296.14 1556.04 L1296.14 1506.52 L1302.03 1506.52 L1302.03 1525.81 Z\" fill=\"#000000\" fill-rule=\"evenodd\" fill-opacity=\"1\" /><path clip-path=\"url(#clip630)\" d=\"M 0 0 M1357.63 1525.81 L1357.63 1506.52 L1363.49 1506.52 L1363.49 1556.04 L1357.63 1556.04 L1357.63 1550.7 Q1355.79 1553.88 1352.95 1555.44 Q1350.15 1556.97 1346.21 1556.97 Q1339.74 1556.97 1335.67 1551.81 Q1331.63 1546.65 1331.63 1538.25 Q1331.63 1529.85 1335.67 1524.69 Q1339.74 1519.54 1346.21 1519.54 Q1350.15 1519.54 1352.95 1521.1 Q1355.79 1522.62 1357.63 1525.81 M1337.68 1538.25 Q1337.68 1544.71 1340.32 1548.4 Q1342.99 1552.07 1347.64 1552.07 Q1352.28 1552.07 1354.96 1548.4 Q1357.63 1544.71 1357.63 1538.25 Q1357.63 1531.79 1354.96 1528.13 Q1352.28 1524.44 1347.64 1524.44 Q1342.99 1524.44 1340.32 1528.13 Q1337.68 1531.79 1337.68 1538.25 Z\" fill=\"#000000\" fill-rule=\"evenodd\" fill-opacity=\"1\" /><path clip-path=\"url(#clip630)\" d=\"M 0 0 M1385.83 1538.12 Q1378.73 1538.12 1376 1539.75 Q1373.26 1541.37 1373.26 1545.29 Q1373.26 1548.4 1375.3 1550.25 Q1377.37 1552.07 1380.9 1552.07 Q1385.77 1552.07 1388.7 1548.63 Q1391.66 1545.16 1391.66 1539.43 L1391.66 1538.12 L1385.83 1538.12 M1397.51 1535.71 L1397.51 1556.04 L1391.66 1556.04 L1391.66 1550.63 Q1389.65 1553.88 1386.66 1555.44 Q1383.67 1556.97 1379.34 1556.97 Q1373.86 1556.97 1370.62 1553.91 Q1367.4 1550.82 1367.4 1545.67 Q1367.4 1539.65 1371.41 1536.6 Q1375.46 1533.54 1383.44 1533.54 L1391.66 1533.54 L1391.66 1532.97 Q1391.66 1528.93 1388.98 1526.73 Q1386.34 1524.5 1381.53 1524.5 Q1378.48 1524.5 1375.58 1525.23 Q1372.69 1525.97 1370.01 1527.43 L1370.01 1522.02 Q1373.23 1520.78 1376.25 1520.17 Q1379.27 1519.54 1382.14 1519.54 Q1389.87 1519.54 1393.69 1523.55 Q1397.51 1527.56 1397.51 1535.71 Z\" fill=\"#000000\" fill-rule=\"evenodd\" fill-opacity=\"1\" /><polyline clip-path=\"url(#clip632)\" style=\"stroke:#000000; stroke-width:2; stroke-opacity:0.1; fill:none\" points=\"\n",
       "  237.135,1287.8 2352.76,1287.8 \n",
       "  \"/>\n",
       "<polyline clip-path=\"url(#clip632)\" style=\"stroke:#000000; stroke-width:2; stroke-opacity:0.1; fill:none\" points=\"\n",
       "  237.135,1118.57 2352.76,1118.57 \n",
       "  \"/>\n",
       "<polyline clip-path=\"url(#clip632)\" style=\"stroke:#000000; stroke-width:2; stroke-opacity:0.1; fill:none\" points=\"\n",
       "  237.135,949.335 2352.76,949.335 \n",
       "  \"/>\n",
       "<polyline clip-path=\"url(#clip632)\" style=\"stroke:#000000; stroke-width:2; stroke-opacity:0.1; fill:none\" points=\"\n",
       "  237.135,780.101 2352.76,780.101 \n",
       "  \"/>\n",
       "<polyline clip-path=\"url(#clip632)\" style=\"stroke:#000000; stroke-width:2; stroke-opacity:0.1; fill:none\" points=\"\n",
       "  237.135,610.867 2352.76,610.867 \n",
       "  \"/>\n",
       "<polyline clip-path=\"url(#clip632)\" style=\"stroke:#000000; stroke-width:2; stroke-opacity:0.1; fill:none\" points=\"\n",
       "  237.135,441.633 2352.76,441.633 \n",
       "  \"/>\n",
       "<polyline clip-path=\"url(#clip632)\" style=\"stroke:#000000; stroke-width:2; stroke-opacity:0.1; fill:none\" points=\"\n",
       "  237.135,272.399 2352.76,272.399 \n",
       "  \"/>\n",
       "<polyline clip-path=\"url(#clip630)\" style=\"stroke:#000000; stroke-width:4; stroke-opacity:1; fill:none\" points=\"\n",
       "  237.135,1423.18 237.135,123.472 \n",
       "  \"/>\n",
       "<polyline clip-path=\"url(#clip630)\" style=\"stroke:#000000; stroke-width:4; stroke-opacity:1; fill:none\" points=\"\n",
       "  237.135,1287.8 262.522,1287.8 \n",
       "  \"/>\n",
       "<polyline clip-path=\"url(#clip630)\" style=\"stroke:#000000; stroke-width:4; stroke-opacity:1; fill:none\" points=\"\n",
       "  237.135,1118.57 262.522,1118.57 \n",
       "  \"/>\n",
       "<polyline clip-path=\"url(#clip630)\" style=\"stroke:#000000; stroke-width:4; stroke-opacity:1; fill:none\" points=\"\n",
       "  237.135,949.335 262.522,949.335 \n",
       "  \"/>\n",
       "<polyline clip-path=\"url(#clip630)\" style=\"stroke:#000000; stroke-width:4; stroke-opacity:1; fill:none\" points=\"\n",
       "  237.135,780.101 262.522,780.101 \n",
       "  \"/>\n",
       "<polyline clip-path=\"url(#clip630)\" style=\"stroke:#000000; stroke-width:4; stroke-opacity:1; fill:none\" points=\"\n",
       "  237.135,610.867 262.522,610.867 \n",
       "  \"/>\n",
       "<polyline clip-path=\"url(#clip630)\" style=\"stroke:#000000; stroke-width:4; stroke-opacity:1; fill:none\" points=\"\n",
       "  237.135,441.633 262.522,441.633 \n",
       "  \"/>\n",
       "<polyline clip-path=\"url(#clip630)\" style=\"stroke:#000000; stroke-width:4; stroke-opacity:1; fill:none\" points=\"\n",
       "  237.135,272.399 262.522,272.399 \n",
       "  \"/>\n",
       "<path clip-path=\"url(#clip630)\" d=\"M 0 0 M127.802 1273.6 Q124.191 1273.6 122.362 1277.17 Q120.556 1280.71 120.556 1287.84 Q120.556 1294.94 122.362 1298.51 Q124.191 1302.05 127.802 1302.05 Q131.436 1302.05 133.242 1298.51 Q135.07 1294.94 135.07 1287.84 Q135.07 1280.71 133.242 1277.17 Q131.436 1273.6 127.802 1273.6 M127.802 1269.9 Q133.612 1269.9 136.667 1274.5 Q139.746 1279.09 139.746 1287.84 Q139.746 1296.56 136.667 1301.17 Q133.612 1305.75 127.802 1305.75 Q121.992 1305.75 118.913 1301.17 Q115.857 1296.56 115.857 1287.84 Q115.857 1279.09 118.913 1274.5 Q121.992 1269.9 127.802 1269.9 Z\" fill=\"#000000\" fill-rule=\"evenodd\" fill-opacity=\"1\" /><path clip-path=\"url(#clip630)\" d=\"M 0 0 M144.816 1299.2 L149.7 1299.2 L149.7 1305.08 L144.816 1305.08 L144.816 1299.2 Z\" fill=\"#000000\" fill-rule=\"evenodd\" fill-opacity=\"1\" /><path clip-path=\"url(#clip630)\" d=\"M 0 0 M158.797 1301.15 L175.116 1301.15 L175.116 1305.08 L153.172 1305.08 L153.172 1301.15 Q155.834 1298.39 160.417 1293.76 Q165.024 1289.11 166.204 1287.77 Q168.45 1285.24 169.329 1283.51 Q170.232 1281.75 170.232 1280.06 Q170.232 1277.31 168.288 1275.57 Q166.366 1273.83 163.265 1273.83 Q161.065 1273.83 158.612 1274.6 Q156.181 1275.36 153.403 1276.91 L153.403 1272.19 Q156.228 1271.06 158.681 1270.48 Q161.135 1269.9 163.172 1269.9 Q168.542 1269.9 171.737 1272.58 Q174.931 1275.27 174.931 1279.76 Q174.931 1281.89 174.121 1283.81 Q173.334 1285.71 171.227 1288.3 Q170.649 1288.97 167.547 1292.19 Q164.445 1295.38 158.797 1301.15 Z\" fill=\"#000000\" fill-rule=\"evenodd\" fill-opacity=\"1\" /><path clip-path=\"url(#clip630)\" d=\"M 0 0 M180.232 1270.52 L198.588 1270.52 L198.588 1274.46 L184.514 1274.46 L184.514 1282.93 Q185.533 1282.58 186.551 1282.42 Q187.57 1282.24 188.588 1282.24 Q194.375 1282.24 197.755 1285.41 Q201.135 1288.58 201.135 1293.99 Q201.135 1299.57 197.662 1302.68 Q194.19 1305.75 187.871 1305.75 Q185.695 1305.75 183.426 1305.38 Q181.181 1305.01 178.774 1304.27 L178.774 1299.57 Q180.857 1300.71 183.079 1301.26 Q185.301 1301.82 187.778 1301.82 Q191.783 1301.82 194.121 1299.71 Q196.459 1297.61 196.459 1293.99 Q196.459 1290.38 194.121 1288.28 Q191.783 1286.17 187.778 1286.17 Q185.903 1286.17 184.028 1286.59 Q182.176 1287 180.232 1287.88 L180.232 1270.52 Z\" fill=\"#000000\" fill-rule=\"evenodd\" fill-opacity=\"1\" /><path clip-path=\"url(#clip630)\" d=\"M 0 0 M126.205 1104.37 Q122.593 1104.37 120.765 1107.93 Q118.959 1111.47 118.959 1118.6 Q118.959 1125.71 120.765 1129.27 Q122.593 1132.82 126.205 1132.82 Q129.839 1132.82 131.644 1129.27 Q133.473 1125.71 133.473 1118.6 Q133.473 1111.47 131.644 1107.93 Q129.839 1104.37 126.205 1104.37 M126.205 1100.66 Q132.015 1100.66 135.07 1105.27 Q138.149 1109.85 138.149 1118.6 Q138.149 1127.33 135.07 1131.94 Q132.015 1136.52 126.205 1136.52 Q120.394 1136.52 117.316 1131.94 Q114.26 1127.33 114.26 1118.6 Q114.26 1109.85 117.316 1105.27 Q120.394 1100.66 126.205 1100.66 Z\" fill=\"#000000\" fill-rule=\"evenodd\" fill-opacity=\"1\" /><path clip-path=\"url(#clip630)\" d=\"M 0 0 M143.218 1129.97 L148.103 1129.97 L148.103 1135.85 L143.218 1135.85 L143.218 1129.97 Z\" fill=\"#000000\" fill-rule=\"evenodd\" fill-opacity=\"1\" /><path clip-path=\"url(#clip630)\" d=\"M 0 0 M153.218 1101.29 L171.575 1101.29 L171.575 1105.22 L157.501 1105.22 L157.501 1113.7 Q158.519 1113.35 159.538 1113.19 Q160.556 1113 161.575 1113 Q167.362 1113 170.741 1116.17 Q174.121 1119.34 174.121 1124.76 Q174.121 1130.34 170.649 1133.44 Q167.177 1136.52 160.857 1136.52 Q158.681 1136.52 156.413 1136.15 Q154.167 1135.78 151.76 1135.04 L151.76 1130.34 Q153.843 1131.47 156.065 1132.03 Q158.288 1132.58 160.765 1132.58 Q164.769 1132.58 167.107 1130.48 Q169.445 1128.37 169.445 1124.76 Q169.445 1121.15 167.107 1119.04 Q164.769 1116.94 160.765 1116.94 Q158.89 1116.94 157.015 1117.35 Q155.163 1117.77 153.218 1118.65 L153.218 1101.29 Z\" fill=\"#000000\" fill-rule=\"evenodd\" fill-opacity=\"1\" /><path clip-path=\"url(#clip630)\" d=\"M 0 0 M189.19 1104.37 Q185.579 1104.37 183.751 1107.93 Q181.945 1111.47 181.945 1118.6 Q181.945 1125.71 183.751 1129.27 Q185.579 1132.82 189.19 1132.82 Q192.825 1132.82 194.63 1129.27 Q196.459 1125.71 196.459 1118.6 Q196.459 1111.47 194.63 1107.93 Q192.825 1104.37 189.19 1104.37 M189.19 1100.66 Q195 1100.66 198.056 1105.27 Q201.135 1109.85 201.135 1118.6 Q201.135 1127.33 198.056 1131.94 Q195 1136.52 189.19 1136.52 Q183.38 1136.52 180.301 1131.94 Q177.246 1127.33 177.246 1118.6 Q177.246 1109.85 180.301 1105.27 Q183.38 1100.66 189.19 1100.66 Z\" fill=\"#000000\" fill-rule=\"evenodd\" fill-opacity=\"1\" /><path clip-path=\"url(#clip630)\" d=\"M 0 0 M127.107 935.134 Q123.496 935.134 121.668 938.698 Q119.862 942.24 119.862 949.37 Q119.862 956.476 121.668 960.041 Q123.496 963.582 127.107 963.582 Q130.742 963.582 132.547 960.041 Q134.376 956.476 134.376 949.37 Q134.376 942.24 132.547 938.698 Q130.742 935.134 127.107 935.134 M127.107 931.43 Q132.917 931.43 135.973 936.036 Q139.052 940.62 139.052 949.37 Q139.052 958.096 135.973 962.703 Q132.917 967.286 127.107 967.286 Q121.297 967.286 118.218 962.703 Q115.163 958.096 115.163 949.37 Q115.163 940.62 118.218 936.036 Q121.297 931.43 127.107 931.43 Z\" fill=\"#000000\" fill-rule=\"evenodd\" fill-opacity=\"1\" /><path clip-path=\"url(#clip630)\" d=\"M 0 0 M144.121 960.735 L149.005 960.735 L149.005 966.615 L144.121 966.615 L144.121 960.735 Z\" fill=\"#000000\" fill-rule=\"evenodd\" fill-opacity=\"1\" /><path clip-path=\"url(#clip630)\" d=\"M 0 0 M152.894 932.055 L175.116 932.055 L175.116 934.046 L162.57 966.615 L157.686 966.615 L169.491 935.99 L152.894 935.99 L152.894 932.055 Z\" fill=\"#000000\" fill-rule=\"evenodd\" fill-opacity=\"1\" /><path clip-path=\"url(#clip630)\" d=\"M 0 0 M180.232 932.055 L198.588 932.055 L198.588 935.99 L184.514 935.99 L184.514 944.462 Q185.533 944.115 186.551 943.953 Q187.57 943.768 188.588 943.768 Q194.375 943.768 197.755 946.939 Q201.135 950.11 201.135 955.527 Q201.135 961.106 197.662 964.207 Q194.19 967.286 187.871 967.286 Q185.695 967.286 183.426 966.916 Q181.181 966.545 178.774 965.805 L178.774 961.106 Q180.857 962.24 183.079 962.795 Q185.301 963.351 187.778 963.351 Q191.783 963.351 194.121 961.245 Q196.459 959.138 196.459 955.527 Q196.459 951.916 194.121 949.809 Q191.783 947.703 187.778 947.703 Q185.903 947.703 184.028 948.12 Q182.176 948.536 180.232 949.416 L180.232 932.055 Z\" fill=\"#000000\" fill-rule=\"evenodd\" fill-opacity=\"1\" /><path clip-path=\"url(#clip630)\" d=\"M 0 0 M117.246 793.446 L124.885 793.446 L124.885 767.08 L116.575 768.747 L116.575 764.488 L124.839 762.821 L129.515 762.821 L129.515 793.446 L137.154 793.446 L137.154 797.381 L117.246 797.381 L117.246 793.446 Z\" fill=\"#000000\" fill-rule=\"evenodd\" fill-opacity=\"1\" /><path clip-path=\"url(#clip630)\" d=\"M 0 0 M142.223 791.501 L147.107 791.501 L147.107 797.381 L142.223 797.381 L142.223 791.501 Z\" fill=\"#000000\" fill-rule=\"evenodd\" fill-opacity=\"1\" /><path clip-path=\"url(#clip630)\" d=\"M 0 0 M162.177 765.9 Q158.565 765.9 156.737 769.464 Q154.931 773.006 154.931 780.136 Q154.931 787.242 156.737 790.807 Q158.565 794.348 162.177 794.348 Q165.811 794.348 167.616 790.807 Q169.445 787.242 169.445 780.136 Q169.445 773.006 167.616 769.464 Q165.811 765.9 162.177 765.9 M162.177 762.196 Q167.987 762.196 171.042 766.802 Q174.121 771.386 174.121 780.136 Q174.121 788.862 171.042 793.469 Q167.987 798.052 162.177 798.052 Q156.366 798.052 153.288 793.469 Q150.232 788.862 150.232 780.136 Q150.232 771.386 153.288 766.802 Q156.366 762.196 162.177 762.196 Z\" fill=\"#000000\" fill-rule=\"evenodd\" fill-opacity=\"1\" /><path clip-path=\"url(#clip630)\" d=\"M 0 0 M189.19 765.9 Q185.579 765.9 183.751 769.464 Q181.945 773.006 181.945 780.136 Q181.945 787.242 183.751 790.807 Q185.579 794.348 189.19 794.348 Q192.825 794.348 194.63 790.807 Q196.459 787.242 196.459 780.136 Q196.459 773.006 194.63 769.464 Q192.825 765.9 189.19 765.9 M189.19 762.196 Q195 762.196 198.056 766.802 Q201.135 771.386 201.135 780.136 Q201.135 788.862 198.056 793.469 Q195 798.052 189.19 798.052 Q183.38 798.052 180.301 793.469 Q177.246 788.862 177.246 780.136 Q177.246 771.386 180.301 766.802 Q183.38 762.196 189.19 762.196 Z\" fill=\"#000000\" fill-rule=\"evenodd\" fill-opacity=\"1\" /><path clip-path=\"url(#clip630)\" d=\"M 0 0 M119.839 624.212 L127.478 624.212 L127.478 597.846 L119.168 599.513 L119.168 595.254 L127.431 593.587 L132.107 593.587 L132.107 624.212 L139.746 624.212 L139.746 628.147 L119.839 628.147 L119.839 624.212 Z\" fill=\"#000000\" fill-rule=\"evenodd\" fill-opacity=\"1\" /><path clip-path=\"url(#clip630)\" d=\"M 0 0 M144.816 622.267 L149.7 622.267 L149.7 628.147 L144.816 628.147 L144.816 622.267 Z\" fill=\"#000000\" fill-rule=\"evenodd\" fill-opacity=\"1\" /><path clip-path=\"url(#clip630)\" d=\"M 0 0 M158.797 624.212 L175.116 624.212 L175.116 628.147 L153.172 628.147 L153.172 624.212 Q155.834 621.457 160.417 616.828 Q165.024 612.175 166.204 610.832 Q168.45 608.309 169.329 606.573 Q170.232 604.814 170.232 603.124 Q170.232 600.369 168.288 598.633 Q166.366 596.897 163.265 596.897 Q161.065 596.897 158.612 597.661 Q156.181 598.425 153.403 599.976 L153.403 595.254 Q156.228 594.119 158.681 593.541 Q161.135 592.962 163.172 592.962 Q168.542 592.962 171.737 595.647 Q174.931 598.332 174.931 602.823 Q174.931 604.953 174.121 606.874 Q173.334 608.772 171.227 611.365 Q170.649 612.036 167.547 615.253 Q164.445 618.448 158.797 624.212 Z\" fill=\"#000000\" fill-rule=\"evenodd\" fill-opacity=\"1\" /><path clip-path=\"url(#clip630)\" d=\"M 0 0 M180.232 593.587 L198.588 593.587 L198.588 597.522 L184.514 597.522 L184.514 605.994 Q185.533 605.647 186.551 605.485 Q187.57 605.3 188.588 605.3 Q194.375 605.3 197.755 608.471 Q201.135 611.642 201.135 617.059 Q201.135 622.638 197.662 625.74 Q194.19 628.818 187.871 628.818 Q185.695 628.818 183.426 628.448 Q181.181 628.077 178.774 627.337 L178.774 622.638 Q180.857 623.772 183.079 624.327 Q185.301 624.883 187.778 624.883 Q191.783 624.883 194.121 622.777 Q196.459 620.67 196.459 617.059 Q196.459 613.448 194.121 611.341 Q191.783 609.235 187.778 609.235 Q185.903 609.235 184.028 609.652 Q182.176 610.068 180.232 610.948 L180.232 593.587 Z\" fill=\"#000000\" fill-rule=\"evenodd\" fill-opacity=\"1\" /><path clip-path=\"url(#clip630)\" d=\"M 0 0 M118.242 454.978 L125.88 454.978 L125.88 428.612 L117.57 430.279 L117.57 426.02 L125.834 424.353 L130.51 424.353 L130.51 454.978 L138.149 454.978 L138.149 458.913 L118.242 458.913 L118.242 454.978 Z\" fill=\"#000000\" fill-rule=\"evenodd\" fill-opacity=\"1\" /><path clip-path=\"url(#clip630)\" d=\"M 0 0 M143.218 453.033 L148.103 453.033 L148.103 458.913 L143.218 458.913 L143.218 453.033 Z\" fill=\"#000000\" fill-rule=\"evenodd\" fill-opacity=\"1\" /><path clip-path=\"url(#clip630)\" d=\"M 0 0 M153.218 424.353 L171.575 424.353 L171.575 428.288 L157.501 428.288 L157.501 436.76 Q158.519 436.413 159.538 436.251 Q160.556 436.066 161.575 436.066 Q167.362 436.066 170.741 439.237 Q174.121 442.408 174.121 447.825 Q174.121 453.404 170.649 456.506 Q167.177 459.584 160.857 459.584 Q158.681 459.584 156.413 459.214 Q154.167 458.843 151.76 458.103 L151.76 453.404 Q153.843 454.538 156.065 455.093 Q158.288 455.649 160.765 455.649 Q164.769 455.649 167.107 453.543 Q169.445 451.436 169.445 447.825 Q169.445 444.214 167.107 442.107 Q164.769 440.001 160.765 440.001 Q158.89 440.001 157.015 440.418 Q155.163 440.834 153.218 441.714 L153.218 424.353 Z\" fill=\"#000000\" fill-rule=\"evenodd\" fill-opacity=\"1\" /><path clip-path=\"url(#clip630)\" d=\"M 0 0 M189.19 427.432 Q185.579 427.432 183.751 430.996 Q181.945 434.538 181.945 441.668 Q181.945 448.774 183.751 452.339 Q185.579 455.881 189.19 455.881 Q192.825 455.881 194.63 452.339 Q196.459 448.774 196.459 441.668 Q196.459 434.538 194.63 430.996 Q192.825 427.432 189.19 427.432 M189.19 423.728 Q195 423.728 198.056 428.334 Q201.135 432.918 201.135 441.668 Q201.135 450.394 198.056 455.001 Q195 459.584 189.19 459.584 Q183.38 459.584 180.301 455.001 Q177.246 450.394 177.246 441.668 Q177.246 432.918 180.301 428.334 Q183.38 423.728 189.19 423.728 Z\" fill=\"#000000\" fill-rule=\"evenodd\" fill-opacity=\"1\" /><path clip-path=\"url(#clip630)\" d=\"M 0 0 M119.144 285.744 L126.783 285.744 L126.783 259.378 L118.473 261.045 L118.473 256.786 L126.737 255.119 L131.413 255.119 L131.413 285.744 L139.052 285.744 L139.052 289.679 L119.144 289.679 L119.144 285.744 Z\" fill=\"#000000\" fill-rule=\"evenodd\" fill-opacity=\"1\" /><path clip-path=\"url(#clip630)\" d=\"M 0 0 M144.121 283.799 L149.005 283.799 L149.005 289.679 L144.121 289.679 L144.121 283.799 Z\" fill=\"#000000\" fill-rule=\"evenodd\" fill-opacity=\"1\" /><path clip-path=\"url(#clip630)\" d=\"M 0 0 M152.894 255.119 L175.116 255.119 L175.116 257.11 L162.57 289.679 L157.686 289.679 L169.491 259.054 L152.894 259.054 L152.894 255.119 Z\" fill=\"#000000\" fill-rule=\"evenodd\" fill-opacity=\"1\" /><path clip-path=\"url(#clip630)\" d=\"M 0 0 M180.232 255.119 L198.588 255.119 L198.588 259.054 L184.514 259.054 L184.514 267.526 Q185.533 267.179 186.551 267.017 Q187.57 266.832 188.588 266.832 Q194.375 266.832 197.755 270.003 Q201.135 273.174 201.135 278.591 Q201.135 284.17 197.662 287.272 Q194.19 290.35 187.871 290.35 Q185.695 290.35 183.426 289.98 Q181.181 289.609 178.774 288.869 L178.774 284.17 Q180.857 285.304 183.079 285.86 Q185.301 286.415 187.778 286.415 Q191.783 286.415 194.121 284.309 Q196.459 282.202 196.459 278.591 Q196.459 274.98 194.121 272.873 Q191.783 270.767 187.778 270.767 Q185.903 270.767 184.028 271.184 Q182.176 271.6 180.232 272.48 L180.232 255.119 Z\" fill=\"#000000\" fill-rule=\"evenodd\" fill-opacity=\"1\" /><path clip-path=\"url(#clip630)\" d=\"M 0 0 M59.1993 1044.17 Q55.2526 1041.97 53.3747 1038.92 Q51.4968 1035.86 51.4968 1031.73 Q51.4968 1026.16 55.4117 1023.13 Q59.2948 1020.11 66.4881 1020.11 L88.0042 1020.11 L88.0042 1026 L66.679 1026 Q61.5546 1026 59.072 1027.81 Q56.5894 1029.63 56.5894 1033.35 Q56.5894 1037.9 59.6131 1040.54 Q62.6368 1043.18 67.8567 1043.18 L88.0042 1043.18 L88.0042 1049.07 L66.679 1049.07 Q61.5228 1049.07 59.072 1050.89 Q56.5894 1052.7 56.5894 1056.49 Q56.5894 1060.98 59.6449 1063.62 Q62.6686 1066.26 67.8567 1066.26 L88.0042 1066.26 L88.0042 1072.15 L52.3562 1072.15 L52.3562 1066.26 L57.8944 1066.26 Q54.616 1064.25 53.0564 1061.45 Q51.4968 1058.65 51.4968 1054.8 Q51.4968 1050.92 53.4702 1048.21 Q55.4436 1045.48 59.1993 1044.17 Z\" fill=\"#000000\" fill-rule=\"evenodd\" fill-opacity=\"1\" /><path clip-path=\"url(#clip630)\" d=\"M 0 0 M68.7161 983.474 L71.5806 983.474 L71.5806 1010.4 Q77.6281 1010.02 80.8109 1006.77 Q83.9619 1003.49 83.9619 997.669 Q83.9619 994.296 83.1344 991.145 Q82.3069 987.962 80.6518 984.843 L86.1899 984.843 Q87.5267 987.994 88.227 991.304 Q88.9272 994.614 88.9272 998.02 Q88.9272 1006.55 83.9619 1011.55 Q78.9967 1016.51 70.5303 1016.51 Q61.7774 1016.51 56.6531 1011.8 Q51.4968 1007.06 51.4968 999.038 Q51.4968 991.845 56.1438 987.675 Q60.7589 983.474 68.7161 983.474 M66.9973 989.33 Q62.1912 989.394 59.3266 992.036 Q56.4621 994.646 56.4621 998.974 Q56.4621 1003.88 59.2312 1006.84 Q62.0002 1009.76 67.0292 1010.21 L66.9973 989.33 Z\" fill=\"#000000\" fill-rule=\"evenodd\" fill-opacity=\"1\" /><path clip-path=\"url(#clip630)\" d=\"M 0 0 M70.0847 961.13 Q70.0847 968.228 71.7079 970.965 Q73.3312 973.703 77.2461 973.703 Q80.3653 973.703 82.2114 971.665 Q84.0256 969.597 84.0256 966.064 Q84.0256 961.194 80.5881 958.266 Q77.1188 955.306 71.3897 955.306 L70.0847 955.306 L70.0847 961.13 M67.6657 949.449 L88.0042 949.449 L88.0042 955.306 L82.5933 955.306 Q85.8398 957.311 87.3994 960.303 Q88.9272 963.295 88.9272 967.623 Q88.9272 973.098 85.8716 976.344 Q82.7843 979.559 77.6281 979.559 Q71.6125 979.559 68.5569 975.549 Q65.5014 971.506 65.5014 963.517 L65.5014 955.306 L64.9285 955.306 Q60.8862 955.306 58.6901 957.979 Q56.4621 960.621 56.4621 965.427 Q56.4621 968.483 57.1941 971.379 Q57.9262 974.275 59.3903 976.949 L53.9795 976.949 Q52.7381 973.734 52.1334 970.711 Q51.4968 967.687 51.4968 964.822 Q51.4968 957.088 55.5072 953.269 Q59.5176 949.449 67.6657 949.449 Z\" fill=\"#000000\" fill-rule=\"evenodd\" fill-opacity=\"1\" /><path clip-path=\"url(#clip630)\" d=\"M 0 0 M66.4881 913.674 L88.0042 913.674 L88.0042 919.53 L66.679 919.53 Q61.6183 919.53 59.1038 921.504 Q56.5894 923.477 56.5894 927.424 Q56.5894 932.166 59.6131 934.904 Q62.6368 937.641 67.8567 937.641 L88.0042 937.641 L88.0042 943.529 L52.3562 943.529 L52.3562 937.641 L57.8944 937.641 Q54.6797 935.54 53.0883 932.707 Q51.4968 929.843 51.4968 926.119 Q51.4968 919.976 55.3163 916.825 Q59.1038 913.674 66.4881 913.674 Z\" fill=\"#000000\" fill-rule=\"evenodd\" fill-opacity=\"1\" /><path clip-path=\"url(#clip630)\" d=\"M 0 0 M70.0847 870.61 Q70.0847 877.708 71.7079 880.445 Q73.3312 883.182 77.2461 883.182 Q80.3653 883.182 82.2114 881.145 Q84.0256 879.076 84.0256 875.543 Q84.0256 870.674 80.5881 867.745 Q77.1188 864.785 71.3897 864.785 L70.0847 864.785 L70.0847 870.61 M67.6657 858.929 L88.0042 858.929 L88.0042 864.785 L82.5933 864.785 Q85.8398 866.79 87.3994 869.782 Q88.9272 872.774 88.9272 877.103 Q88.9272 882.577 85.8716 885.824 Q82.7843 889.039 77.6281 889.039 Q71.6125 889.039 68.5569 885.028 Q65.5014 880.986 65.5014 872.997 L65.5014 864.785 L64.9285 864.785 Q60.8862 864.785 58.6901 867.459 Q56.4621 870.101 56.4621 874.907 Q56.4621 877.962 57.1941 880.859 Q57.9262 883.755 59.3903 886.429 L53.9795 886.429 Q52.7381 883.214 52.1334 880.19 Q51.4968 877.167 51.4968 874.302 Q51.4968 866.568 55.5072 862.748 Q59.5176 858.929 67.6657 858.929 Z\" fill=\"#000000\" fill-rule=\"evenodd\" fill-opacity=\"1\" /><path clip-path=\"url(#clip630)\" d=\"M 0 0 M70.212 827.196 Q63.7508 827.196 60.0905 829.869 Q56.3984 832.511 56.3984 837.158 Q56.3984 841.805 60.0905 844.479 Q63.7508 847.12 70.212 847.12 Q76.6732 847.12 80.3653 844.479 Q84.0256 841.805 84.0256 837.158 Q84.0256 832.511 80.3653 829.869 Q76.6732 827.196 70.212 827.196 M57.7671 847.12 Q54.5842 845.274 53.0564 842.473 Q51.4968 839.641 51.4968 835.726 Q51.4968 829.233 56.6531 825.191 Q61.8093 821.117 70.212 821.117 Q78.6147 821.117 83.771 825.191 Q88.9272 829.233 88.9272 835.726 Q88.9272 839.641 87.3994 842.473 Q85.8398 845.274 82.657 847.12 L88.0042 847.12 L88.0042 853.009 L38.479 853.009 L38.479 847.12 L57.7671 847.12 Z\" fill=\"#000000\" fill-rule=\"evenodd\" fill-opacity=\"1\" /><path clip-path=\"url(#clip630)\" d=\"M 0 0 M53.4065 792.248 L58.9447 792.248 Q57.6716 794.731 57.035 797.404 Q56.3984 800.078 56.3984 802.942 Q56.3984 807.303 57.7352 809.499 Q59.072 811.663 61.7456 811.663 Q63.7826 811.663 64.9603 810.104 Q66.1061 808.544 67.1565 803.834 L67.6021 801.828 Q68.9389 795.59 71.3897 792.98 Q73.8086 790.338 78.1691 790.338 Q83.1344 790.338 86.0308 794.285 Q88.9272 798.2 88.9272 805.075 Q88.9272 807.94 88.3543 811.059 Q87.8132 814.146 86.6992 817.584 L80.6518 817.584 Q82.3387 814.337 83.198 811.186 Q84.0256 808.035 84.0256 804.948 Q84.0256 800.81 82.6251 798.582 Q81.1929 796.354 78.6147 796.354 Q76.2276 796.354 74.9545 797.977 Q73.6813 799.569 72.5037 805.011 L72.0262 807.048 Q70.8804 812.491 68.5251 814.91 Q66.138 817.329 62.0002 817.329 Q56.9713 817.329 54.2341 813.764 Q51.4968 810.199 51.4968 803.643 Q51.4968 800.396 51.9743 797.532 Q52.4517 794.667 53.4065 792.248 Z\" fill=\"#000000\" fill-rule=\"evenodd\" fill-opacity=\"1\" /><path clip-path=\"url(#clip630)\" d=\"M 0 0 M56.4621 770.382 Q56.4621 775.092 60.1542 777.83 Q63.8145 780.567 70.212 780.567 Q76.6095 780.567 80.3017 777.862 Q83.9619 775.124 83.9619 770.382 Q83.9619 765.703 80.2698 762.966 Q76.5777 760.229 70.212 760.229 Q63.8781 760.229 60.186 762.966 Q56.4621 765.703 56.4621 770.382 M51.4968 770.382 Q51.4968 762.743 56.4621 758.382 Q61.4273 754.022 70.212 754.022 Q78.9649 754.022 83.9619 758.382 Q88.9272 762.743 88.9272 770.382 Q88.9272 778.053 83.9619 782.413 Q78.9649 786.742 70.212 786.742 Q61.4273 786.742 56.4621 782.413 Q51.4968 778.053 51.4968 770.382 Z\" fill=\"#000000\" fill-rule=\"evenodd\" fill-opacity=\"1\" /><path clip-path=\"url(#clip630)\" d=\"M 0 0 M38.479 747.879 L38.479 742.023 L88.0042 742.023 L88.0042 747.879 L38.479 747.879 Z\" fill=\"#000000\" fill-rule=\"evenodd\" fill-opacity=\"1\" /><path clip-path=\"url(#clip630)\" d=\"M 0 0 M73.9359 736.484 L52.3562 736.484 L52.3562 730.628 L73.7131 730.628 Q78.7739 730.628 81.3202 728.655 Q83.8346 726.681 83.8346 722.735 Q83.8346 717.992 80.8109 715.255 Q77.7872 712.486 72.5673 712.486 L52.3562 712.486 L52.3562 706.629 L88.0042 706.629 L88.0042 712.486 L82.5296 712.486 Q85.7762 714.618 87.3676 717.451 Q88.9272 720.252 88.9272 723.976 Q88.9272 730.119 85.1078 733.302 Q81.2883 736.484 73.9359 736.484 M51.4968 721.748 L51.4968 721.748 Z\" fill=\"#000000\" fill-rule=\"evenodd\" fill-opacity=\"1\" /><path clip-path=\"url(#clip630)\" d=\"M 0 0 M42.2347 694.694 L52.3562 694.694 L52.3562 682.631 L56.9077 682.631 L56.9077 694.694 L76.2594 694.694 Q80.6199 694.694 81.8613 693.516 Q83.1026 692.306 83.1026 688.646 L83.1026 682.631 L88.0042 682.631 L88.0042 688.646 Q88.0042 695.426 85.4897 698.004 Q82.9434 700.582 76.2594 700.582 L56.9077 700.582 L56.9077 704.879 L52.3562 704.879 L52.3562 700.582 L42.2347 700.582 L42.2347 694.694 Z\" fill=\"#000000\" fill-rule=\"evenodd\" fill-opacity=\"1\" /><path clip-path=\"url(#clip630)\" d=\"M 0 0 M68.7161 645.996 L71.5806 645.996 L71.5806 672.923 Q77.6281 672.541 80.8109 669.294 Q83.9619 666.016 83.9619 660.191 Q83.9619 656.818 83.1344 653.667 Q82.3069 650.484 80.6518 647.365 L86.1899 647.365 Q87.5267 650.516 88.227 653.826 Q88.9272 657.136 88.9272 660.542 Q88.9272 669.072 83.9619 674.069 Q78.9967 679.034 70.5303 679.034 Q61.7774 679.034 56.6531 674.323 Q51.4968 669.581 51.4968 661.56 Q51.4968 654.367 56.1438 650.197 Q60.7589 645.996 68.7161 645.996 M66.9973 651.852 Q62.1912 651.916 59.3266 654.558 Q56.4621 657.168 56.4621 661.496 Q56.4621 666.398 59.2312 669.358 Q62.0002 672.286 67.0292 672.732 L66.9973 651.852 Z\" fill=\"#000000\" fill-rule=\"evenodd\" fill-opacity=\"1\" /><path clip-path=\"url(#clip630)\" d=\"M 0 0 M68.7161 588.641 L71.5806 588.641 L71.5806 615.568 Q77.6281 615.186 80.8109 611.939 Q83.9619 608.661 83.9619 602.836 Q83.9619 599.463 83.1344 596.312 Q82.3069 593.129 80.6518 590.01 L86.1899 590.01 Q87.5267 593.161 88.227 596.471 Q88.9272 599.781 88.9272 603.187 Q88.9272 611.717 83.9619 616.714 Q78.9967 621.679 70.5303 621.679 Q61.7774 621.679 56.6531 616.968 Q51.4968 612.226 51.4968 604.205 Q51.4968 597.012 56.1438 592.842 Q60.7589 588.641 68.7161 588.641 M66.9973 594.497 Q62.1912 594.561 59.3266 597.203 Q56.4621 599.813 56.4621 604.141 Q56.4621 609.043 59.2312 612.003 Q62.0002 614.931 67.0292 615.377 L66.9973 594.497 Z\" fill=\"#000000\" fill-rule=\"evenodd\" fill-opacity=\"1\" /><path clip-path=\"url(#clip630)\" d=\"M 0 0 M57.8307 561.841 Q57.2578 562.828 57.0032 564.006 Q56.7167 565.151 56.7167 566.552 Q56.7167 571.517 59.9632 574.191 Q63.1779 576.833 69.2253 576.833 L88.0042 576.833 L88.0042 582.721 L52.3562 582.721 L52.3562 576.833 L57.8944 576.833 Q54.6479 574.986 53.0883 572.026 Q51.4968 569.066 51.4968 564.833 Q51.4968 564.228 51.5923 563.496 Q51.656 562.764 51.8151 561.873 L57.8307 561.841 Z\" fill=\"#000000\" fill-rule=\"evenodd\" fill-opacity=\"1\" /><path clip-path=\"url(#clip630)\" d=\"M 0 0 M57.8307 536.187 Q57.2578 537.174 57.0032 538.352 Q56.7167 539.498 56.7167 540.898 Q56.7167 545.863 59.9632 548.537 Q63.1779 551.179 69.2253 551.179 L88.0042 551.179 L88.0042 557.067 L52.3562 557.067 L52.3562 551.179 L57.8944 551.179 Q54.6479 549.333 53.0883 546.373 Q51.4968 543.413 51.4968 539.179 Q51.4968 538.575 51.5923 537.843 Q51.656 537.111 51.8151 536.219 L57.8307 536.187 Z\" fill=\"#000000\" fill-rule=\"evenodd\" fill-opacity=\"1\" /><path clip-path=\"url(#clip630)\" d=\"M 0 0 M56.4621 517.663 Q56.4621 522.374 60.1542 525.111 Q63.8145 527.848 70.212 527.848 Q76.6095 527.848 80.3017 525.143 Q83.9619 522.406 83.9619 517.663 Q83.9619 512.984 80.2698 510.247 Q76.5777 507.51 70.212 507.51 Q63.8781 507.51 60.186 510.247 Q56.4621 512.984 56.4621 517.663 M51.4968 517.663 Q51.4968 510.024 56.4621 505.664 Q61.4273 501.303 70.212 501.303 Q78.9649 501.303 83.9619 505.664 Q88.9272 510.024 88.9272 517.663 Q88.9272 525.334 83.9619 529.694 Q78.9649 534.023 70.212 534.023 Q61.4273 534.023 56.4621 529.694 Q51.4968 525.334 51.4968 517.663 Z\" fill=\"#000000\" fill-rule=\"evenodd\" fill-opacity=\"1\" /><path clip-path=\"url(#clip630)\" d=\"M 0 0 M57.8307 474.504 Q57.2578 475.49 57.0032 476.668 Q56.7167 477.814 56.7167 479.214 Q56.7167 484.18 59.9632 486.853 Q63.1779 489.495 69.2253 489.495 L88.0042 489.495 L88.0042 495.383 L52.3562 495.383 L52.3562 489.495 L57.8944 489.495 Q54.6479 487.649 53.0883 484.689 Q51.4968 481.729 51.4968 477.496 Q51.4968 476.891 51.5923 476.159 Q51.656 475.427 51.8151 474.536 L57.8307 474.504 Z\" fill=\"#000000\" fill-rule=\"evenodd\" fill-opacity=\"1\" /><path clip-path=\"url(#clip630)\" d=\"M 0 0 M349.444 16.7545 L349.444 25.383 Q345.312 21.5346 340.613 19.6307 Q335.954 17.7268 330.688 17.7268 Q320.318 17.7268 314.809 24.0867 Q309.3 30.4061 309.3 42.3968 Q309.3 54.3469 314.809 60.7069 Q320.318 67.0263 330.688 67.0263 Q335.954 67.0263 340.613 65.1223 Q345.312 63.2184 349.444 59.3701 L349.444 67.9175 Q345.15 70.8341 340.329 72.2924 Q335.549 73.7508 330.202 73.7508 Q316.47 73.7508 308.57 65.3654 Q300.671 56.9395 300.671 42.3968 Q300.671 27.8135 308.57 19.4281 Q316.47 11.0023 330.202 11.0023 Q335.63 11.0023 340.41 12.4606 Q345.231 13.8784 349.444 16.7545 Z\" fill=\"#000000\" fill-rule=\"evenodd\" fill-opacity=\"1\" /><path clip-path=\"url(#clip630)\" d=\"M 0 0 M394.976 45.1919 L394.976 72.576 L387.522 72.576 L387.522 45.4349 Q387.522 38.994 385.011 35.7938 Q382.499 32.5936 377.476 32.5936 Q371.44 32.5936 367.957 36.4419 Q364.473 40.2903 364.473 46.9338 L364.473 72.576 L356.979 72.576 L356.979 9.54393 L364.473 9.54393 L364.473 34.2544 Q367.146 30.163 370.752 28.1376 Q374.398 26.1121 379.137 26.1121 Q386.955 26.1121 390.966 30.9732 Q394.976 35.7938 394.976 45.1919 Z\" fill=\"#000000\" fill-rule=\"evenodd\" fill-opacity=\"1\" /><path clip-path=\"url(#clip630)\" d=\"M 0 0 M423.414 49.7694 Q414.38 49.7694 410.896 51.8354 Q407.412 53.9013 407.412 58.8839 Q407.412 62.8538 410.005 65.2034 Q412.638 67.5124 417.135 67.5124 Q423.332 67.5124 427.059 63.1374 Q430.827 58.7219 430.827 51.4303 L430.827 49.7694 L423.414 49.7694 M438.28 46.6907 L438.28 72.576 L430.827 72.576 L430.827 65.6895 Q428.275 69.8214 424.467 71.8063 Q420.659 73.7508 415.15 73.7508 Q408.182 73.7508 404.05 69.8619 Q399.959 65.9325 399.959 59.3701 Q399.959 51.7138 405.063 47.825 Q410.208 43.9361 420.375 43.9361 L430.827 43.9361 L430.827 43.2069 Q430.827 38.0623 427.424 35.2672 Q424.062 32.4315 417.945 32.4315 Q414.056 32.4315 410.37 33.3632 Q406.683 34.295 403.281 36.1584 L403.281 29.2718 Q407.372 27.692 411.22 26.9223 Q415.069 26.1121 418.714 26.1121 Q428.558 26.1121 433.419 31.2163 Q438.28 36.3204 438.28 46.6907 Z\" fill=\"#000000\" fill-rule=\"evenodd\" fill-opacity=\"1\" /><path clip-path=\"url(#clip630)\" d=\"M 0 0 M483.812 45.1919 L483.812 72.576 L476.359 72.576 L476.359 45.4349 Q476.359 38.994 473.847 35.7938 Q471.336 32.5936 466.313 32.5936 Q460.277 32.5936 456.793 36.4419 Q453.309 40.2903 453.309 46.9338 L453.309 72.576 L445.815 72.576 L445.815 27.2059 L453.309 27.2059 L453.309 34.2544 Q455.983 30.163 459.588 28.1376 Q463.234 26.1121 467.973 26.1121 Q475.792 26.1121 479.802 30.9732 Q483.812 35.7938 483.812 45.1919 Z\" fill=\"#000000\" fill-rule=\"evenodd\" fill-opacity=\"1\" /><path clip-path=\"url(#clip630)\" d=\"M 0 0 M521.486 49.3643 Q521.486 41.2625 518.124 36.8065 Q514.802 32.3505 508.766 32.3505 Q502.771 32.3505 499.408 36.8065 Q496.087 41.2625 496.087 49.3643 Q496.087 57.4256 499.408 61.8816 Q502.771 66.3376 508.766 66.3376 Q514.802 66.3376 518.124 61.8816 Q521.486 57.4256 521.486 49.3643 M528.94 66.9452 Q528.94 78.5308 523.795 84.1616 Q518.65 89.8329 508.037 89.8329 Q504.108 89.8329 500.624 89.2252 Q497.14 88.6581 493.859 87.4428 L493.859 80.1917 Q497.14 81.9741 500.34 82.8248 Q503.54 83.6755 506.862 83.6755 Q514.194 83.6755 517.84 79.8271 Q521.486 76.0193 521.486 68.282 L521.486 64.5957 Q519.177 68.6061 515.572 70.5911 Q511.966 72.576 506.943 72.576 Q498.598 72.576 493.494 66.2161 Q488.39 59.8562 488.39 49.3643 Q488.39 38.832 493.494 32.472 Q498.598 26.1121 506.943 26.1121 Q511.966 26.1121 515.572 28.0971 Q519.177 30.082 521.486 34.0924 L521.486 27.2059 L528.94 27.2059 L528.94 66.9452 Z\" fill=\"#000000\" fill-rule=\"evenodd\" fill-opacity=\"1\" /><path clip-path=\"url(#clip630)\" d=\"M 0 0 M575.565 48.0275 L575.565 51.6733 L541.295 51.6733 Q541.781 59.3701 545.913 63.421 Q550.085 67.4314 557.498 67.4314 Q561.792 67.4314 565.803 66.3781 Q569.854 65.3249 573.824 63.2184 L573.824 70.267 Q569.813 71.9684 565.6 72.8596 Q561.387 73.7508 557.053 73.7508 Q546.196 73.7508 539.836 67.4314 Q533.517 61.1119 533.517 50.3365 Q533.517 39.1965 539.512 32.6746 Q545.548 26.1121 555.757 26.1121 Q564.912 26.1121 570.218 32.0264 Q575.565 37.9003 575.565 48.0275 M568.112 45.84 Q568.031 39.7232 564.669 36.0774 Q561.347 32.4315 555.838 32.4315 Q549.599 32.4315 545.832 35.9558 Q542.105 39.4801 541.538 45.8805 L568.112 45.84 Z\" fill=\"#000000\" fill-rule=\"evenodd\" fill-opacity=\"1\" /><path clip-path=\"url(#clip630)\" d=\"M 0 0 M627.336 32.4315 Q621.341 32.4315 617.857 37.1306 Q614.373 41.7891 614.373 49.9314 Q614.373 58.0738 617.816 62.7728 Q621.3 67.4314 627.336 67.4314 Q633.291 67.4314 636.775 62.7323 Q640.258 58.0333 640.258 49.9314 Q640.258 41.8701 636.775 37.1711 Q633.291 32.4315 627.336 32.4315 M627.336 26.1121 Q637.058 26.1121 642.608 32.4315 Q648.158 38.7509 648.158 49.9314 Q648.158 61.0714 642.608 67.4314 Q637.058 73.7508 627.336 73.7508 Q617.573 73.7508 612.024 67.4314 Q606.514 61.0714 606.514 49.9314 Q606.514 38.7509 612.024 32.4315 Q617.573 26.1121 627.336 26.1121 Z\" fill=\"#000000\" fill-rule=\"evenodd\" fill-opacity=\"1\" /><path clip-path=\"url(#clip630)\" d=\"M 0 0 M678.945 9.54393 L678.945 15.7418 L671.815 15.7418 Q667.805 15.7418 666.225 17.3622 Q664.685 18.9825 664.685 23.1955 L664.685 27.2059 L676.96 27.2059 L676.96 32.9987 L664.685 32.9987 L664.685 72.576 L657.191 72.576 L657.191 32.9987 L650.062 32.9987 L650.062 27.2059 L657.191 27.2059 L657.191 24.0462 Q657.191 16.471 660.715 13.0277 Q664.24 9.54393 671.896 9.54393 L678.945 9.54393 Z\" fill=\"#000000\" fill-rule=\"evenodd\" fill-opacity=\"1\" /><path clip-path=\"url(#clip630)\" d=\"M 0 0 M733.672 20.1573 L722.573 50.2555 L744.812 50.2555 L733.672 20.1573 M729.054 12.096 L738.331 12.096 L761.38 72.576 L752.874 72.576 L747.364 57.061 L720.102 57.061 L714.593 72.576 L705.964 72.576 L729.054 12.096 Z\" fill=\"#000000\" fill-rule=\"evenodd\" fill-opacity=\"1\" /><path clip-path=\"url(#clip630)\" d=\"M 0 0 M801.768 49.9314 Q801.768 41.7081 798.365 37.0496 Q795.003 32.3505 789.089 32.3505 Q783.174 32.3505 779.772 37.0496 Q776.409 41.7081 776.409 49.9314 Q776.409 58.1548 779.772 62.8538 Q783.174 67.5124 789.089 67.5124 Q795.003 67.5124 798.365 62.8538 Q801.768 58.1548 801.768 49.9314 M776.409 34.0924 Q778.759 30.0415 782.324 28.0971 Q785.929 26.1121 790.912 26.1121 Q799.175 26.1121 804.32 32.6746 Q809.505 39.2371 809.505 49.9314 Q809.505 60.6258 804.32 67.1883 Q799.175 73.7508 790.912 73.7508 Q785.929 73.7508 782.324 71.8063 Q778.759 69.8214 776.409 65.7705 L776.409 72.576 L768.915 72.576 L768.915 9.54393 L776.409 9.54393 L776.409 34.0924 Z\" fill=\"#000000\" fill-rule=\"evenodd\" fill-opacity=\"1\" /><path clip-path=\"url(#clip630)\" d=\"M 0 0 M846.247 28.5427 L846.247 35.5912 Q843.087 33.9709 839.684 33.1607 Q836.282 32.3505 832.636 32.3505 Q827.086 32.3505 824.291 34.0519 Q821.536 35.7533 821.536 39.156 Q821.536 41.7486 823.521 43.2475 Q825.506 44.7058 831.502 46.0426 L834.054 46.6097 Q841.993 48.3111 845.315 51.4303 Q848.677 54.509 848.677 60.0587 Q848.677 66.3781 843.654 70.0644 Q838.672 73.7508 829.922 73.7508 Q826.276 73.7508 822.306 73.0216 Q818.377 72.3329 814.002 70.9151 L814.002 63.2184 Q818.134 65.3654 822.144 66.4591 Q826.154 67.5124 830.084 67.5124 Q835.35 67.5124 838.186 65.73 Q841.021 63.9071 841.021 60.6258 Q841.021 57.5877 838.955 55.9673 Q836.93 54.3469 830.003 52.8481 L827.41 52.2405 Q820.483 50.7821 817.404 47.7845 Q814.326 44.7463 814.326 39.4801 Q814.326 33.0797 818.863 29.5959 Q823.4 26.1121 831.745 26.1121 Q835.877 26.1121 839.522 26.7198 Q843.168 27.3274 846.247 28.5427 Z\" fill=\"#000000\" fill-rule=\"evenodd\" fill-opacity=\"1\" /><path clip-path=\"url(#clip630)\" d=\"M 0 0 M874.077 32.4315 Q868.081 32.4315 864.597 37.1306 Q861.114 41.7891 861.114 49.9314 Q861.114 58.0738 864.557 62.7728 Q868.041 67.4314 874.077 67.4314 Q880.031 67.4314 883.515 62.7323 Q886.999 58.0333 886.999 49.9314 Q886.999 41.8701 883.515 37.1711 Q880.031 32.4315 874.077 32.4315 M874.077 26.1121 Q883.799 26.1121 889.349 32.4315 Q894.898 38.7509 894.898 49.9314 Q894.898 61.0714 889.349 67.4314 Q883.799 73.7508 874.077 73.7508 Q864.314 73.7508 858.764 67.4314 Q853.255 61.0714 853.255 49.9314 Q853.255 38.7509 858.764 32.4315 Q864.314 26.1121 874.077 26.1121 Z\" fill=\"#000000\" fill-rule=\"evenodd\" fill-opacity=\"1\" /><path clip-path=\"url(#clip630)\" d=\"M 0 0 M902.716 9.54393 L910.17 9.54393 L910.17 72.576 L902.716 72.576 L902.716 9.54393 Z\" fill=\"#000000\" fill-rule=\"evenodd\" fill-opacity=\"1\" /><path clip-path=\"url(#clip630)\" d=\"M 0 0 M917.219 54.671 L917.219 27.2059 L924.672 27.2059 L924.672 54.3874 Q924.672 60.8284 927.184 64.0691 Q929.696 67.2693 934.719 67.2693 Q940.754 67.2693 944.238 63.421 Q947.763 59.5726 947.763 52.9291 L947.763 27.2059 L955.216 27.2059 L955.216 72.576 L947.763 72.576 L947.763 65.6084 Q945.048 69.7404 941.443 71.7658 Q937.878 73.7508 933.139 73.7508 Q925.321 73.7508 921.27 68.8897 Q917.219 64.0286 917.219 54.671 M935.974 26.1121 L935.974 26.1121 Z\" fill=\"#000000\" fill-rule=\"evenodd\" fill-opacity=\"1\" /><path clip-path=\"url(#clip630)\" d=\"M 0 0 M970.407 14.324 L970.407 27.2059 L985.76 27.2059 L985.76 32.9987 L970.407 32.9987 L970.407 57.6282 Q970.407 63.1779 971.906 64.7578 Q973.445 66.3376 978.104 66.3376 L985.76 66.3376 L985.76 72.576 L978.104 72.576 Q969.475 72.576 966.194 69.3758 Q962.913 66.1351 962.913 57.6282 L962.913 32.9987 L957.444 32.9987 L957.444 27.2059 L962.913 27.2059 L962.913 14.324 L970.407 14.324 Z\" fill=\"#000000\" fill-rule=\"evenodd\" fill-opacity=\"1\" /><path clip-path=\"url(#clip630)\" d=\"M 0 0 M1032.39 48.0275 L1032.39 51.6733 L998.115 51.6733 Q998.601 59.3701 1002.73 63.421 Q1006.91 67.4314 1014.32 67.4314 Q1018.61 67.4314 1022.62 66.3781 Q1026.67 65.3249 1030.64 63.2184 L1030.64 70.267 Q1026.63 71.9684 1022.42 72.8596 Q1018.21 73.7508 1013.87 73.7508 Q1003.02 73.7508 996.657 67.4314 Q990.338 61.1119 990.338 50.3365 Q990.338 39.1965 996.333 32.6746 Q1002.37 26.1121 1012.58 26.1121 Q1021.73 26.1121 1027.04 32.0264 Q1032.39 37.9003 1032.39 48.0275 M1024.93 45.84 Q1024.85 39.7232 1021.49 36.0774 Q1018.17 32.4315 1012.66 32.4315 Q1006.42 32.4315 1002.65 35.9558 Q998.925 39.4801 998.358 45.8805 L1024.93 45.84 Z\" fill=\"#000000\" fill-rule=\"evenodd\" fill-opacity=\"1\" /><path clip-path=\"url(#clip630)\" d=\"M 0 0 M1066.9 12.096 L1105.14 12.096 L1105.14 18.9825 L1075.08 18.9825 L1075.08 36.8875 L1103.88 36.8875 L1103.88 43.7741 L1075.08 43.7741 L1075.08 65.6895 L1105.87 65.6895 L1105.87 72.576 L1066.9 72.576 L1066.9 12.096 Z\" fill=\"#000000\" fill-rule=\"evenodd\" fill-opacity=\"1\" /><path clip-path=\"url(#clip630)\" d=\"M 0 0 M1139.98 34.1734 Q1138.72 33.4443 1137.22 33.1202 Q1135.77 32.7556 1133.98 32.7556 Q1127.66 32.7556 1124.26 36.8875 Q1120.9 40.9789 1120.9 48.6757 L1120.9 72.576 L1113.4 72.576 L1113.4 27.2059 L1120.9 27.2059 L1120.9 34.2544 Q1123.25 30.1225 1127.02 28.1376 Q1130.78 26.1121 1136.17 26.1121 Q1136.94 26.1121 1137.87 26.2337 Q1138.8 26.3147 1139.94 26.5172 L1139.98 34.1734 Z\" fill=\"#000000\" fill-rule=\"evenodd\" fill-opacity=\"1\" /><path clip-path=\"url(#clip630)\" d=\"M 0 0 M1172.63 34.1734 Q1171.37 33.4443 1169.87 33.1202 Q1168.42 32.7556 1166.63 32.7556 Q1160.31 32.7556 1156.91 36.8875 Q1153.55 40.9789 1153.55 48.6757 L1153.55 72.576 L1146.05 72.576 L1146.05 27.2059 L1153.55 27.2059 L1153.55 34.2544 Q1155.9 30.1225 1159.67 28.1376 Q1163.43 26.1121 1168.82 26.1121 Q1169.59 26.1121 1170.52 26.2337 Q1171.45 26.3147 1172.59 26.5172 L1172.63 34.1734 Z\" fill=\"#000000\" fill-rule=\"evenodd\" fill-opacity=\"1\" /><path clip-path=\"url(#clip630)\" d=\"M 0 0 M1196.2 32.4315 Q1190.21 32.4315 1186.73 37.1306 Q1183.24 41.7891 1183.24 49.9314 Q1183.24 58.0738 1186.68 62.7728 Q1190.17 67.4314 1196.2 67.4314 Q1202.16 67.4314 1205.64 62.7323 Q1209.13 58.0333 1209.13 49.9314 Q1209.13 41.8701 1205.64 37.1711 Q1202.16 32.4315 1196.2 32.4315 M1196.2 26.1121 Q1205.93 26.1121 1211.48 32.4315 Q1217.03 38.7509 1217.03 49.9314 Q1217.03 61.0714 1211.48 67.4314 Q1205.93 73.7508 1196.2 73.7508 Q1186.44 73.7508 1180.89 67.4314 Q1175.38 61.0714 1175.38 49.9314 Q1175.38 38.7509 1180.89 32.4315 Q1186.44 26.1121 1196.2 26.1121 Z\" fill=\"#000000\" fill-rule=\"evenodd\" fill-opacity=\"1\" /><path clip-path=\"url(#clip630)\" d=\"M 0 0 M1251.13 34.1734 Q1249.88 33.4443 1248.38 33.1202 Q1246.92 32.7556 1245.14 32.7556 Q1238.82 32.7556 1235.42 36.8875 Q1232.06 40.9789 1232.06 48.6757 L1232.06 72.576 L1224.56 72.576 L1224.56 27.2059 L1232.06 27.2059 L1232.06 34.2544 Q1234.4 30.1225 1238.17 28.1376 Q1241.94 26.1121 1247.33 26.1121 Q1248.1 26.1121 1249.03 26.2337 Q1249.96 26.3147 1251.09 26.5172 L1251.13 34.1734 Z\" fill=\"#000000\" fill-rule=\"evenodd\" fill-opacity=\"1\" /><path clip-path=\"url(#clip630)\" d=\"M 0 0 M1305.94 49.7694 Q1296.91 49.7694 1293.43 51.8354 Q1289.94 53.9013 1289.94 58.8839 Q1289.94 62.8538 1292.54 65.2034 Q1295.17 67.5124 1299.66 67.5124 Q1305.86 67.5124 1309.59 63.1374 Q1313.36 58.7219 1313.36 51.4303 L1313.36 49.7694 L1305.94 49.7694 M1320.81 46.6907 L1320.81 72.576 L1313.36 72.576 L1313.36 65.6895 Q1310.8 69.8214 1307 71.8063 Q1303.19 73.7508 1297.68 73.7508 Q1290.71 73.7508 1286.58 69.8619 Q1282.49 65.9325 1282.49 59.3701 Q1282.49 51.7138 1287.59 47.825 Q1292.74 43.9361 1302.91 43.9361 L1313.36 43.9361 L1313.36 43.2069 Q1313.36 38.0623 1309.95 35.2672 Q1306.59 32.4315 1300.47 32.4315 Q1296.59 32.4315 1292.9 33.3632 Q1289.21 34.295 1285.81 36.1584 L1285.81 29.2718 Q1289.9 27.692 1293.75 26.9223 Q1297.6 26.1121 1301.24 26.1121 Q1311.09 26.1121 1315.95 31.2163 Q1320.81 36.3204 1320.81 46.6907 Z\" fill=\"#000000\" fill-rule=\"evenodd\" fill-opacity=\"1\" /><path clip-path=\"url(#clip630)\" d=\"M 0 0 M1357.55 28.5427 L1357.55 35.5912 Q1354.39 33.9709 1350.99 33.1607 Q1347.59 32.3505 1343.94 32.3505 Q1338.39 32.3505 1335.6 34.0519 Q1332.84 35.7533 1332.84 39.156 Q1332.84 41.7486 1334.83 43.2475 Q1336.81 44.7058 1342.81 46.0426 L1345.36 46.6097 Q1353.3 48.3111 1356.62 51.4303 Q1359.98 54.509 1359.98 60.0587 Q1359.98 66.3781 1354.96 70.0644 Q1349.98 73.7508 1341.23 73.7508 Q1337.58 73.7508 1333.61 73.0216 Q1329.68 72.3329 1325.31 70.9151 L1325.31 63.2184 Q1329.44 65.3654 1333.45 66.4591 Q1337.46 67.5124 1341.39 67.5124 Q1346.66 67.5124 1349.49 65.73 Q1352.33 63.9071 1352.33 60.6258 Q1352.33 57.5877 1350.26 55.9673 Q1348.23 54.3469 1341.31 52.8481 L1338.72 52.2405 Q1331.79 50.7821 1328.71 47.7845 Q1325.63 44.7463 1325.63 39.4801 Q1325.63 33.0797 1330.17 29.5959 Q1334.7 26.1121 1343.05 26.1121 Q1347.18 26.1121 1350.83 26.7198 Q1354.47 27.3274 1357.55 28.5427 Z\" fill=\"#000000\" fill-rule=\"evenodd\" fill-opacity=\"1\" /><path clip-path=\"url(#clip630)\" d=\"M 0 0 M1394.5 12.096 L1402.68 12.096 L1402.68 65.6895 L1432.13 65.6895 L1432.13 72.576 L1394.5 72.576 L1394.5 12.096 Z\" fill=\"#000000\" fill-rule=\"evenodd\" fill-opacity=\"1\" /><path clip-path=\"url(#clip630)\" d=\"M 0 0 M1460.57 49.7694 Q1451.53 49.7694 1448.05 51.8354 Q1444.57 53.9013 1444.57 58.8839 Q1444.57 62.8538 1447.16 65.2034 Q1449.79 67.5124 1454.29 67.5124 Q1460.49 67.5124 1464.21 63.1374 Q1467.98 58.7219 1467.98 51.4303 L1467.98 49.7694 L1460.57 49.7694 M1475.43 46.6907 L1475.43 72.576 L1467.98 72.576 L1467.98 65.6895 Q1465.43 69.8214 1461.62 71.8063 Q1457.81 73.7508 1452.3 73.7508 Q1445.34 73.7508 1441.2 69.8619 Q1437.11 65.9325 1437.11 59.3701 Q1437.11 51.7138 1442.22 47.825 Q1447.36 43.9361 1457.53 43.9361 L1467.98 43.9361 L1467.98 43.2069 Q1467.98 38.0623 1464.58 35.2672 Q1461.21 32.4315 1455.1 32.4315 Q1451.21 32.4315 1447.52 33.3632 Q1443.84 34.295 1440.43 36.1584 L1440.43 29.2718 Q1444.52 27.692 1448.37 26.9223 Q1452.22 26.1121 1455.87 26.1121 Q1465.71 26.1121 1470.57 31.2163 Q1475.43 36.3204 1475.43 46.6907 Z\" fill=\"#000000\" fill-rule=\"evenodd\" fill-opacity=\"1\" /><path clip-path=\"url(#clip630)\" d=\"M 0 0 M1518.58 35.9153 Q1521.37 30.8922 1525.26 28.5022 Q1529.15 26.1121 1534.41 26.1121 Q1541.5 26.1121 1545.35 31.0947 Q1549.2 36.0368 1549.2 45.1919 L1549.2 72.576 L1541.71 72.576 L1541.71 45.4349 Q1541.71 38.913 1539.4 35.7533 Q1537.09 32.5936 1532.35 32.5936 Q1526.56 32.5936 1523.19 36.4419 Q1519.83 40.2903 1519.83 46.9338 L1519.83 72.576 L1512.34 72.576 L1512.34 45.4349 Q1512.34 38.8725 1510.03 35.7533 Q1507.72 32.5936 1502.9 32.5936 Q1497.19 32.5936 1493.82 36.4824 Q1490.46 40.3308 1490.46 46.9338 L1490.46 72.576 L1482.97 72.576 L1482.97 27.2059 L1490.46 27.2059 L1490.46 34.2544 Q1493.01 30.082 1496.58 28.0971 Q1500.14 26.1121 1505.05 26.1121 Q1509.99 26.1121 1513.43 28.6237 Q1516.91 31.1352 1518.58 35.9153 Z\" fill=\"#000000\" fill-rule=\"evenodd\" fill-opacity=\"1\" /><path clip-path=\"url(#clip630)\" d=\"M 0 0 M1589.59 49.9314 Q1589.59 41.7081 1586.19 37.0496 Q1582.82 32.3505 1576.91 32.3505 Q1570.99 32.3505 1567.59 37.0496 Q1564.23 41.7081 1564.23 49.9314 Q1564.23 58.1548 1567.59 62.8538 Q1570.99 67.5124 1576.91 67.5124 Q1582.82 67.5124 1586.19 62.8538 Q1589.59 58.1548 1589.59 49.9314 M1564.23 34.0924 Q1566.58 30.0415 1570.14 28.0971 Q1573.75 26.1121 1578.73 26.1121 Q1587 26.1121 1592.14 32.6746 Q1597.33 39.2371 1597.33 49.9314 Q1597.33 60.6258 1592.14 67.1883 Q1587 73.7508 1578.73 73.7508 Q1573.75 73.7508 1570.14 71.8063 Q1566.58 69.8214 1564.23 65.7705 L1564.23 72.576 L1556.73 72.576 L1556.73 9.54393 L1564.23 9.54393 L1564.23 34.0924 Z\" fill=\"#000000\" fill-rule=\"evenodd\" fill-opacity=\"1\" /><path clip-path=\"url(#clip630)\" d=\"M 0 0 M1635 34.0924 L1635 9.54393 L1642.45 9.54393 L1642.45 72.576 L1635 72.576 L1635 65.7705 Q1632.65 69.8214 1629.04 71.8063 Q1625.48 73.7508 1620.46 73.7508 Q1612.23 73.7508 1607.05 67.1883 Q1601.9 60.6258 1601.9 49.9314 Q1601.9 39.2371 1607.05 32.6746 Q1612.23 26.1121 1620.46 26.1121 Q1625.48 26.1121 1629.04 28.0971 Q1632.65 30.0415 1635 34.0924 M1609.6 49.9314 Q1609.6 58.1548 1612.96 62.8538 Q1616.36 67.5124 1622.28 67.5124 Q1628.19 67.5124 1631.6 62.8538 Q1635 58.1548 1635 49.9314 Q1635 41.7081 1631.6 37.0496 Q1628.19 32.3505 1622.28 32.3505 Q1616.36 32.3505 1612.96 37.0496 Q1609.6 41.7081 1609.6 49.9314 Z\" fill=\"#000000\" fill-rule=\"evenodd\" fill-opacity=\"1\" /><path clip-path=\"url(#clip630)\" d=\"M 0 0 M1670.89 49.7694 Q1661.86 49.7694 1658.37 51.8354 Q1654.89 53.9013 1654.89 58.8839 Q1654.89 62.8538 1657.48 65.2034 Q1660.11 67.5124 1664.61 67.5124 Q1670.81 67.5124 1674.54 63.1374 Q1678.3 58.7219 1678.3 51.4303 L1678.3 49.7694 L1670.89 49.7694 M1685.76 46.6907 L1685.76 72.576 L1678.3 72.576 L1678.3 65.6895 Q1675.75 69.8214 1671.94 71.8063 Q1668.13 73.7508 1662.63 73.7508 Q1655.66 73.7508 1651.53 69.8619 Q1647.43 65.9325 1647.43 59.3701 Q1647.43 51.7138 1652.54 47.825 Q1657.68 43.9361 1667.85 43.9361 L1678.3 43.9361 L1678.3 43.2069 Q1678.3 38.0623 1674.9 35.2672 Q1671.54 32.4315 1665.42 32.4315 Q1661.53 32.4315 1657.85 33.3632 Q1654.16 34.295 1650.76 36.1584 L1650.76 29.2718 Q1654.85 27.692 1658.7 26.9223 Q1662.54 26.1121 1666.19 26.1121 Q1676.03 26.1121 1680.9 31.2163 Q1685.76 36.3204 1685.76 46.6907 Z\" fill=\"#000000\" fill-rule=\"evenodd\" fill-opacity=\"1\" /><path clip-path=\"url(#clip630)\" d=\"M 0 0 M1765.56 16.7545 L1765.56 25.383 Q1761.43 21.5346 1756.73 19.6307 Q1752.07 17.7268 1746.8 17.7268 Q1736.43 17.7268 1730.92 24.0867 Q1725.41 30.4061 1725.41 42.3968 Q1725.41 54.3469 1730.92 60.7069 Q1736.43 67.0263 1746.8 67.0263 Q1752.07 67.0263 1756.73 65.1223 Q1761.43 63.2184 1765.56 59.3701 L1765.56 67.9175 Q1761.27 70.8341 1756.44 72.2924 Q1751.66 73.7508 1746.32 73.7508 Q1732.58 73.7508 1724.69 65.3654 Q1716.79 56.9395 1716.79 42.3968 Q1716.79 27.8135 1724.69 19.4281 Q1732.58 11.0023 1746.32 11.0023 Q1751.75 11.0023 1756.53 12.4606 Q1761.35 13.8784 1765.56 16.7545 Z\" fill=\"#000000\" fill-rule=\"evenodd\" fill-opacity=\"1\" /><path clip-path=\"url(#clip630)\" d=\"M 0 0 M1811.09 45.1919 L1811.09 72.576 L1803.64 72.576 L1803.64 45.4349 Q1803.64 38.994 1801.13 35.7938 Q1798.61 32.5936 1793.59 32.5936 Q1787.56 32.5936 1784.07 36.4419 Q1780.59 40.2903 1780.59 46.9338 L1780.59 72.576 L1773.09 72.576 L1773.09 9.54393 L1780.59 9.54393 L1780.59 34.2544 Q1783.26 30.163 1786.87 28.1376 Q1790.51 26.1121 1795.25 26.1121 Q1803.07 26.1121 1807.08 30.9732 Q1811.09 35.7938 1811.09 45.1919 Z\" fill=\"#000000\" fill-rule=\"evenodd\" fill-opacity=\"1\" /><path clip-path=\"url(#clip630)\" d=\"M 0 0 M1839.53 49.7694 Q1830.5 49.7694 1827.01 51.8354 Q1823.53 53.9013 1823.53 58.8839 Q1823.53 62.8538 1826.12 65.2034 Q1828.75 67.5124 1833.25 67.5124 Q1839.45 67.5124 1843.17 63.1374 Q1846.94 58.7219 1846.94 51.4303 L1846.94 49.7694 L1839.53 49.7694 M1854.4 46.6907 L1854.4 72.576 L1846.94 72.576 L1846.94 65.6895 Q1844.39 69.8214 1840.58 71.8063 Q1836.77 73.7508 1831.26 73.7508 Q1824.3 73.7508 1820.17 69.8619 Q1816.07 65.9325 1816.07 59.3701 Q1816.07 51.7138 1821.18 47.825 Q1826.32 43.9361 1836.49 43.9361 L1846.94 43.9361 L1846.94 43.2069 Q1846.94 38.0623 1843.54 35.2672 Q1840.18 32.4315 1834.06 32.4315 Q1830.17 32.4315 1826.48 33.3632 Q1822.8 34.295 1819.4 36.1584 L1819.4 29.2718 Q1823.49 27.692 1827.34 26.9223 Q1831.18 26.1121 1834.83 26.1121 Q1844.67 26.1121 1849.53 31.2163 Q1854.4 36.3204 1854.4 46.6907 Z\" fill=\"#000000\" fill-rule=\"evenodd\" fill-opacity=\"1\" /><path clip-path=\"url(#clip630)\" d=\"M 0 0 M1899.93 45.1919 L1899.93 72.576 L1892.47 72.576 L1892.47 45.4349 Q1892.47 38.994 1889.96 35.7938 Q1887.45 32.5936 1882.43 32.5936 Q1876.39 32.5936 1872.91 36.4419 Q1869.42 40.2903 1869.42 46.9338 L1869.42 72.576 L1861.93 72.576 L1861.93 27.2059 L1869.42 27.2059 L1869.42 34.2544 Q1872.1 30.163 1875.7 28.1376 Q1879.35 26.1121 1884.09 26.1121 Q1891.91 26.1121 1895.92 30.9732 Q1899.93 35.7938 1899.93 45.1919 Z\" fill=\"#000000\" fill-rule=\"evenodd\" fill-opacity=\"1\" /><path clip-path=\"url(#clip630)\" d=\"M 0 0 M1937.6 49.3643 Q1937.6 41.2625 1934.24 36.8065 Q1930.92 32.3505 1924.88 32.3505 Q1918.89 32.3505 1915.52 36.8065 Q1912.2 41.2625 1912.2 49.3643 Q1912.2 57.4256 1915.52 61.8816 Q1918.89 66.3376 1924.88 66.3376 Q1930.92 66.3376 1934.24 61.8816 Q1937.6 57.4256 1937.6 49.3643 M1945.05 66.9452 Q1945.05 78.5308 1939.91 84.1616 Q1934.77 89.8329 1924.15 89.8329 Q1920.22 89.8329 1916.74 89.2252 Q1913.26 88.6581 1909.97 87.4428 L1909.97 80.1917 Q1913.26 81.9741 1916.46 82.8248 Q1919.66 83.6755 1922.98 83.6755 Q1930.31 83.6755 1933.96 79.8271 Q1937.6 76.0193 1937.6 68.282 L1937.6 64.5957 Q1935.29 68.6061 1931.69 70.5911 Q1928.08 72.576 1923.06 72.576 Q1914.71 72.576 1909.61 66.2161 Q1904.51 59.8562 1904.51 49.3643 Q1904.51 38.832 1909.61 32.472 Q1914.71 26.1121 1923.06 26.1121 Q1928.08 26.1121 1931.69 28.0971 Q1935.29 30.082 1937.6 34.0924 L1937.6 27.2059 L1945.05 27.2059 L1945.05 66.9452 Z\" fill=\"#000000\" fill-rule=\"evenodd\" fill-opacity=\"1\" /><path clip-path=\"url(#clip630)\" d=\"M 0 0 M1991.68 48.0275 L1991.68 51.6733 L1957.41 51.6733 Q1957.9 59.3701 1962.03 63.421 Q1966.2 67.4314 1973.61 67.4314 Q1977.91 67.4314 1981.92 66.3781 Q1985.97 65.3249 1989.94 63.2184 L1989.94 70.267 Q1985.93 71.9684 1981.72 72.8596 Q1977.5 73.7508 1973.17 73.7508 Q1962.31 73.7508 1955.95 67.4314 Q1949.63 61.1119 1949.63 50.3365 Q1949.63 39.1965 1955.63 32.6746 Q1961.66 26.1121 1971.87 26.1121 Q1981.03 26.1121 1986.33 32.0264 Q1991.68 37.9003 1991.68 48.0275 M1984.23 45.84 Q1984.15 39.7232 1980.78 36.0774 Q1977.46 32.4315 1971.95 32.4315 Q1965.71 32.4315 1961.95 35.9558 Q1958.22 39.4801 1957.65 45.8805 L1984.23 45.84 Z\" fill=\"#000000\" fill-rule=\"evenodd\" fill-opacity=\"1\" /><path clip-path=\"url(#clip630)\" d=\"M 0 0 M2028.42 28.5427 L2028.42 35.5912 Q2025.26 33.9709 2021.86 33.1607 Q2018.46 32.3505 2014.81 32.3505 Q2009.26 32.3505 2006.47 34.0519 Q2003.71 35.7533 2003.71 39.156 Q2003.71 41.7486 2005.7 43.2475 Q2007.68 44.7058 2013.68 46.0426 L2016.23 46.6097 Q2024.17 48.3111 2027.49 51.4303 Q2030.85 54.509 2030.85 60.0587 Q2030.85 66.3781 2025.83 70.0644 Q2020.85 73.7508 2012.1 73.7508 Q2008.45 73.7508 2004.48 73.0216 Q2000.55 72.3329 1996.18 70.9151 L1996.18 63.2184 Q2000.31 65.3654 2004.32 66.4591 Q2008.33 67.5124 2012.26 67.5124 Q2017.53 67.5124 2020.36 65.73 Q2023.2 63.9071 2023.2 60.6258 Q2023.2 57.5877 2021.13 55.9673 Q2019.11 54.3469 2012.18 52.8481 L2009.59 52.2405 Q2002.66 50.7821 1999.58 47.7845 Q1996.5 44.7463 1996.5 39.4801 Q1996.5 33.0797 2001.04 29.5959 Q2005.58 26.1121 2013.92 26.1121 Q2018.05 26.1121 2021.7 26.7198 Q2025.34 27.3274 2028.42 28.5427 Z\" fill=\"#000000\" fill-rule=\"evenodd\" fill-opacity=\"1\" /><path clip-path=\"url(#clip630)\" d=\"M 0 0 M2056.58 9.62495 Q2051.15 18.942 2048.51 28.0566 Q2045.88 37.1711 2045.88 46.5287 Q2045.88 55.8863 2048.51 65.0818 Q2051.19 74.2369 2056.58 83.5134 L2050.09 83.5134 Q2044.02 73.9938 2040.98 64.7983 Q2037.98 55.6027 2037.98 46.5287 Q2037.98 37.4952 2040.98 28.3401 Q2043.98 19.1851 2050.09 9.62495 L2056.58 9.62495 Z\" fill=\"#000000\" fill-rule=\"evenodd\" fill-opacity=\"1\" /><path clip-path=\"url(#clip630)\" d=\"M 0 0 M2093.4 44.2197 Q2096.03 45.1109 2098.5 48.0275 Q2101.01 50.9442 2103.53 56.0483 L2111.83 72.576 L2103.04 72.576 L2095.3 57.061 Q2092.31 50.9847 2089.47 48.9997 Q2086.67 47.0148 2081.81 47.0148 L2072.9 47.0148 L2072.9 72.576 L2064.72 72.576 L2064.72 12.096 L2083.19 12.096 Q2093.56 12.096 2098.66 16.4305 Q2103.77 20.7649 2103.77 29.5149 Q2103.77 35.2267 2101.1 38.994 Q2098.46 42.7613 2093.4 44.2197 M2072.9 18.8205 L2072.9 40.2903 L2083.19 40.2903 Q2089.1 40.2903 2092.1 37.5762 Q2095.14 34.8216 2095.14 29.5149 Q2095.14 24.2082 2092.1 21.5346 Q2089.1 18.8205 2083.19 18.8205 L2072.9 18.8205 Z\" fill=\"#000000\" fill-rule=\"evenodd\" fill-opacity=\"1\" /><path clip-path=\"url(#clip630)\" d=\"M 0 0 M2119.65 27.2059 L2127.1 27.2059 L2127.1 72.576 L2119.65 72.576 L2119.65 27.2059 M2119.65 9.54393 L2127.1 9.54393 L2127.1 18.9825 L2119.65 18.9825 L2119.65 9.54393 Z\" fill=\"#000000\" fill-rule=\"evenodd\" fill-opacity=\"1\" /><path clip-path=\"url(#clip630)\" d=\"M 0 0 M2164.78 34.0924 L2164.78 9.54393 L2172.23 9.54393 L2172.23 72.576 L2164.78 72.576 L2164.78 65.7705 Q2162.43 69.8214 2158.82 71.8063 Q2155.26 73.7508 2150.23 73.7508 Q2142.01 73.7508 2136.82 67.1883 Q2131.68 60.6258 2131.68 49.9314 Q2131.68 39.2371 2136.82 32.6746 Q2142.01 26.1121 2150.23 26.1121 Q2155.26 26.1121 2158.82 28.0971 Q2162.43 30.0415 2164.78 34.0924 M2139.38 49.9314 Q2139.38 58.1548 2142.74 62.8538 Q2146.14 67.5124 2152.06 67.5124 Q2157.97 67.5124 2161.37 62.8538 Q2164.78 58.1548 2164.78 49.9314 Q2164.78 41.7081 2161.37 37.0496 Q2157.97 32.3505 2152.06 32.3505 Q2146.14 32.3505 2142.74 37.0496 Q2139.38 41.7081 2139.38 49.9314 Z\" fill=\"#000000\" fill-rule=\"evenodd\" fill-opacity=\"1\" /><path clip-path=\"url(#clip630)\" d=\"M 0 0 M2209.9 49.3643 Q2209.9 41.2625 2206.54 36.8065 Q2203.22 32.3505 2197.18 32.3505 Q2191.19 32.3505 2187.83 36.8065 Q2184.5 41.2625 2184.5 49.3643 Q2184.5 57.4256 2187.83 61.8816 Q2191.19 66.3376 2197.18 66.3376 Q2203.22 66.3376 2206.54 61.8816 Q2209.9 57.4256 2209.9 49.3643 M2217.36 66.9452 Q2217.36 78.5308 2212.21 84.1616 Q2207.07 89.8329 2196.45 89.8329 Q2192.52 89.8329 2189.04 89.2252 Q2185.56 88.6581 2182.28 87.4428 L2182.28 80.1917 Q2185.56 81.9741 2188.76 82.8248 Q2191.96 83.6755 2195.28 83.6755 Q2202.61 83.6755 2206.26 79.8271 Q2209.9 76.0193 2209.9 68.282 L2209.9 64.5957 Q2207.59 68.6061 2203.99 70.5911 Q2200.38 72.576 2195.36 72.576 Q2187.02 72.576 2181.91 66.2161 Q2176.81 59.8562 2176.81 49.3643 Q2176.81 38.832 2181.91 32.472 Q2187.02 26.1121 2195.36 26.1121 Q2200.38 26.1121 2203.99 28.0971 Q2207.59 30.082 2209.9 34.0924 L2209.9 27.2059 L2217.36 27.2059 L2217.36 66.9452 Z\" fill=\"#000000\" fill-rule=\"evenodd\" fill-opacity=\"1\" /><path clip-path=\"url(#clip630)\" d=\"M 0 0 M2263.98 48.0275 L2263.98 51.6733 L2229.71 51.6733 Q2230.2 59.3701 2234.33 63.421 Q2238.5 67.4314 2245.92 67.4314 Q2250.21 67.4314 2254.22 66.3781 Q2258.27 65.3249 2262.24 63.2184 L2262.24 70.267 Q2258.23 71.9684 2254.02 72.8596 Q2249.8 73.7508 2245.47 73.7508 Q2234.61 73.7508 2228.25 67.4314 Q2221.93 61.1119 2221.93 50.3365 Q2221.93 39.1965 2227.93 32.6746 Q2233.97 26.1121 2244.17 26.1121 Q2253.33 26.1121 2258.64 32.0264 Q2263.98 37.9003 2263.98 48.0275 M2256.53 45.84 Q2256.45 39.7232 2253.09 36.0774 Q2249.76 32.4315 2244.25 32.4315 Q2238.02 32.4315 2234.25 35.9558 Q2230.52 39.4801 2229.95 45.8805 L2256.53 45.84 Z\" fill=\"#000000\" fill-rule=\"evenodd\" fill-opacity=\"1\" /><path clip-path=\"url(#clip630)\" d=\"M 0 0 M2270.63 9.62495 L2277.11 9.62495 Q2283.18 19.1851 2286.18 28.3401 Q2289.22 37.4952 2289.22 46.5287 Q2289.22 55.6027 2286.18 64.7983 Q2283.18 73.9938 2277.11 83.5134 L2270.63 83.5134 Q2276.01 74.2369 2278.65 65.0818 Q2281.32 55.8863 2281.32 46.5287 Q2281.32 37.1711 2278.65 28.0566 Q2276.01 18.942 2270.63 9.62495 Z\" fill=\"#000000\" fill-rule=\"evenodd\" fill-opacity=\"1\" /><polyline clip-path=\"url(#clip632)\" style=\"stroke:#009af9; stroke-width:4; stroke-opacity:1; fill:none\" points=\"\n",
       "  297.011,1225.91 546.494,1189.69 795.978,1162.27 1045.46,1141.44 1294.95,1122.45 1544.43,1106.33 1793.91,1092.82 2043.4,1081.28 2292.88,1071.27 \n",
       "  \"/>\n",
       "<polyline clip-path=\"url(#clip632)\" style=\"stroke:#e26f46; stroke-width:4; stroke-opacity:1; fill:none\" points=\"\n",
       "  297.011,1280.89 546.494,1215.45 795.978,1162.94 1045.46,1121.29 1294.95,1073.58 1544.43,1062.09 1793.91,1040.32 2043.4,1022.1 2292.88,1006.65 \n",
       "  \"/>\n",
       "<polyline clip-path=\"url(#clip632)\" style=\"stroke:#3da44d; stroke-width:4; stroke-opacity:1; fill:none\" points=\"\n",
       "  297.011,1260.15 546.494,1239.53 795.978,1219.15 1045.46,1200.89 1294.95,1184.35 1544.43,1169.88 1793.91,1157.38 2043.4,1146.12 2292.88,1136.09 \n",
       "  \"/>\n",
       "<polyline clip-path=\"url(#clip632)\" style=\"stroke:#c271d2; stroke-width:4; stroke-opacity:1; fill:none\" points=\"\n",
       "  297.011,1245.46 546.494,1183.86 795.978,1136.35 1045.46,1097.14 1294.95,1064.82 1544.43,1039.6 1793.91,1018.6 2043.4,1001.09 2292.88,986.292 \n",
       "  \"/>\n",
       "<polyline clip-path=\"url(#clip632)\" style=\"stroke:#ac8d18; stroke-width:4; stroke-opacity:1; fill:none\" points=\"\n",
       "  297.011,1224.83 546.494,1113.59 795.978,1032.69 1045.46,971.182 1294.95,922.577 1544.43,883.012 1793.91,850.048 2043.4,822.066 2292.88,797.946 \n",
       "  \"/>\n",
       "<polyline clip-path=\"url(#clip632)\" style=\"stroke:#00a9ad; stroke-width:4; stroke-opacity:1; fill:none\" points=\"\n",
       "  297.011,1287.65 546.494,1282.6 795.978,1278.71 1045.46,1277.15 1294.95,1275.8 1544.43,1274.77 1793.91,1274.36 2043.4,1274.16 2292.88,1274.06 \n",
       "  \"/>\n",
       "<polyline clip-path=\"url(#clip632)\" style=\"stroke:#ed5d92; stroke-width:4; stroke-opacity:1; fill:none\" points=\"\n",
       "  297.011,1366.02 546.494,1371.03 795.978,1382.03 1045.46,1386.4 1294.95,1385.89 1544.43,1382.68 1793.91,1377.72 2043.4,1367.47 2292.88,1356.2 \n",
       "  \"/>\n",
       "<polyline clip-path=\"url(#clip632)\" style=\"stroke:#c68125; stroke-width:4; stroke-opacity:1; fill:none\" points=\"\n",
       "  297.011,1308.28 546.494,1307.2 795.978,1306.91 1045.46,1304.8 1294.95,1307.18 1544.43,1308.45 1793.91,1308.97 2043.4,1309.14 2292.88,1308.72 \n",
       "  \"/>\n",
       "<polyline clip-path=\"url(#clip632)\" style=\"stroke:#00a98d; stroke-width:4; stroke-opacity:1; fill:none\" points=\"\n",
       "  297.011,482.959 546.494,320.378 795.978,254.39 1045.46,219.382 1294.95,198.001 1544.43,183.731 1793.91,173.598 2043.4,166.063 2292.88,160.256 \n",
       "  \"/>\n",
       "<polyline clip-path=\"url(#clip632)\" style=\"stroke:#8e971d; stroke-width:4; stroke-opacity:1; fill:none\" points=\"\n",
       "  297.011,1229.74 546.494,1220.81 795.978,1217.66 1045.46,1217.52 1294.95,1210.56 1544.43,1221.39 1793.91,1223.82 2043.4,1226.49 2292.88,1229.31 \n",
       "  \"/>\n",
       "<path clip-path=\"url(#clip630)\" d=\"\n",
       "M1838.86 832.076 L2282.24 832.076 L2282.24 166.796 L1838.86 166.796  Z\n",
       "  \" fill=\"#ffffff\" fill-rule=\"evenodd\" fill-opacity=\"1\"/>\n",
       "<polyline clip-path=\"url(#clip630)\" style=\"stroke:#000000; stroke-width:4; stroke-opacity:1; fill:none\" points=\"\n",
       "  1838.86,832.076 2282.24,832.076 2282.24,166.796 1838.86,166.796 1838.86,832.076 \n",
       "  \"/>\n",
       "<polyline clip-path=\"url(#clip630)\" style=\"stroke:#009af9; stroke-width:4; stroke-opacity:1; fill:none\" points=\"\n",
       "  1862.36,227.276 2003.41,227.276 \n",
       "  \"/>\n",
       "<path clip-path=\"url(#clip630)\" d=\"M 0 0 M2042.75 214.602 L2036.4 231.801 L2049.11 231.801 L2042.75 214.602 M2040.11 209.996 L2045.41 209.996 L2058.58 244.556 L2053.72 244.556 L2050.57 235.69 L2034.99 235.69 L2031.84 244.556 L2026.91 244.556 L2040.11 209.996 Z\" fill=\"#000000\" fill-rule=\"evenodd\" fill-opacity=\"1\" /><path clip-path=\"url(#clip630)\" d=\"M 0 0 M2084.6 228.908 L2084.6 244.556 L2080.34 244.556 L2080.34 229.047 Q2080.34 225.366 2078.9 223.537 Q2077.47 221.709 2074.6 221.709 Q2071.15 221.709 2069.16 223.908 Q2067.17 226.107 2067.17 229.903 L2067.17 244.556 L2062.88 244.556 L2062.88 218.63 L2067.17 218.63 L2067.17 222.658 Q2068.69 220.32 2070.75 219.162 Q2072.84 218.005 2075.55 218.005 Q2080.01 218.005 2082.31 220.783 Q2084.6 223.537 2084.6 228.908 Z\" fill=\"#000000\" fill-rule=\"evenodd\" fill-opacity=\"1\" /><path clip-path=\"url(#clip630)\" d=\"M 0 0 M2093.28 211.269 L2093.28 218.63 L2102.05 218.63 L2102.05 221.94 L2093.28 221.94 L2093.28 236.014 Q2093.28 239.185 2094.13 240.088 Q2095.01 240.991 2097.68 240.991 L2102.05 240.991 L2102.05 244.556 L2097.68 244.556 Q2092.75 244.556 2090.87 242.727 Q2089 240.875 2089 236.014 L2089 221.94 L2085.87 221.94 L2085.87 218.63 L2089 218.63 L2089 211.269 L2093.28 211.269 Z\" fill=\"#000000\" fill-rule=\"evenodd\" fill-opacity=\"1\" /><path clip-path=\"url(#clip630)\" d=\"M 0 0 M2128.07 228.908 L2128.07 244.556 L2123.81 244.556 L2123.81 229.047 Q2123.81 225.366 2122.37 223.537 Q2120.94 221.709 2118.07 221.709 Q2114.62 221.709 2112.63 223.908 Q2110.64 226.107 2110.64 229.903 L2110.64 244.556 L2106.36 244.556 L2106.36 208.537 L2110.64 208.537 L2110.64 222.658 Q2112.17 220.32 2114.23 219.162 Q2116.31 218.005 2119.02 218.005 Q2123.49 218.005 2125.78 220.783 Q2128.07 223.537 2128.07 228.908 Z\" fill=\"#000000\" fill-rule=\"evenodd\" fill-opacity=\"1\" /><path clip-path=\"url(#clip630)\" d=\"M 0 0 M2154.71 230.528 L2154.71 232.611 L2135.13 232.611 Q2135.41 237.009 2137.77 239.324 Q2140.15 241.616 2144.39 241.616 Q2146.84 241.616 2149.13 241.014 Q2151.45 240.412 2153.72 239.209 L2153.72 243.236 Q2151.43 244.208 2149.02 244.718 Q2146.61 245.227 2144.13 245.227 Q2137.93 245.227 2134.3 241.616 Q2130.68 238.005 2130.68 231.847 Q2130.68 225.482 2134.11 221.755 Q2137.56 218.005 2143.39 218.005 Q2148.62 218.005 2151.66 221.385 Q2154.71 224.741 2154.71 230.528 M2150.45 229.278 Q2150.41 225.783 2148.49 223.699 Q2146.59 221.616 2143.44 221.616 Q2139.87 221.616 2137.72 223.63 Q2135.59 225.644 2135.27 229.301 L2150.45 229.278 Z\" fill=\"#000000\" fill-rule=\"evenodd\" fill-opacity=\"1\" /><path clip-path=\"url(#clip630)\" d=\"M 0 0 M2179.37 223.607 Q2180.96 220.736 2183.18 219.371 Q2185.41 218.005 2188.42 218.005 Q2192.47 218.005 2194.67 220.852 Q2196.87 223.676 2196.87 228.908 L2196.87 244.556 L2192.58 244.556 L2192.58 229.047 Q2192.58 225.32 2191.26 223.514 Q2189.94 221.709 2187.24 221.709 Q2183.93 221.709 2182 223.908 Q2180.08 226.107 2180.08 229.903 L2180.08 244.556 L2175.8 244.556 L2175.8 229.047 Q2175.8 225.297 2174.48 223.514 Q2173.16 221.709 2170.41 221.709 Q2167.14 221.709 2165.22 223.931 Q2163.3 226.13 2163.3 229.903 L2163.3 244.556 L2159.02 244.556 L2159.02 218.63 L2163.3 218.63 L2163.3 222.658 Q2164.76 220.273 2166.8 219.139 Q2168.83 218.005 2171.63 218.005 Q2174.46 218.005 2176.43 219.44 Q2178.42 220.875 2179.37 223.607 Z\" fill=\"#000000\" fill-rule=\"evenodd\" fill-opacity=\"1\" /><polyline clip-path=\"url(#clip630)\" style=\"stroke:#e26f46; stroke-width:4; stroke-opacity:1; fill:none\" points=\"\n",
       "  1862.36,287.756 2003.41,287.756 \n",
       "  \"/>\n",
       "<path clip-path=\"url(#clip630)\" d=\"M 0 0 M2054.78 273.138 L2054.78 278.068 Q2052.42 275.869 2049.74 274.781 Q2047.07 273.693 2044.07 273.693 Q2038.14 273.693 2034.99 277.328 Q2031.84 280.939 2031.84 287.79 Q2031.84 294.619 2034.99 298.253 Q2038.14 301.864 2044.07 301.864 Q2047.07 301.864 2049.74 300.776 Q2052.42 299.689 2054.78 297.489 L2054.78 302.374 Q2052.33 304.04 2049.57 304.874 Q2046.84 305.707 2043.79 305.707 Q2035.94 305.707 2031.43 300.915 Q2026.91 296.101 2026.91 287.79 Q2026.91 279.457 2031.43 274.666 Q2035.94 269.851 2043.79 269.851 Q2046.89 269.851 2049.62 270.684 Q2052.38 271.494 2054.78 273.138 Z\" fill=\"#000000\" fill-rule=\"evenodd\" fill-opacity=\"1\" /><path clip-path=\"url(#clip630)\" d=\"M 0 0 M2071.03 292.003 Q2065.87 292.003 2063.88 293.184 Q2061.89 294.364 2061.89 297.212 Q2061.89 299.48 2063.37 300.823 Q2064.88 302.142 2067.44 302.142 Q2070.99 302.142 2073.12 299.642 Q2075.27 297.119 2075.27 292.952 L2075.27 292.003 L2071.03 292.003 M2079.53 290.244 L2079.53 305.036 L2075.27 305.036 L2075.27 301.101 Q2073.81 303.462 2071.63 304.596 Q2069.46 305.707 2066.31 305.707 Q2062.33 305.707 2059.97 303.485 Q2057.63 301.239 2057.63 297.489 Q2057.63 293.114 2060.55 290.892 Q2063.49 288.67 2069.3 288.67 L2075.27 288.67 L2075.27 288.253 Q2075.27 285.314 2073.32 283.716 Q2071.4 282.096 2067.91 282.096 Q2065.69 282.096 2063.58 282.628 Q2061.47 283.161 2059.53 284.226 L2059.53 280.29 Q2061.87 279.388 2064.06 278.948 Q2066.26 278.485 2068.35 278.485 Q2073.97 278.485 2076.75 281.402 Q2079.53 284.318 2079.53 290.244 Z\" fill=\"#000000\" fill-rule=\"evenodd\" fill-opacity=\"1\" /><path clip-path=\"url(#clip630)\" d=\"M 0 0 M2099.02 283.091 Q2098.3 282.675 2097.44 282.49 Q2096.61 282.281 2095.59 282.281 Q2091.98 282.281 2090.04 284.642 Q2088.12 286.98 2088.12 291.378 L2088.12 305.036 L2083.83 305.036 L2083.83 279.11 L2088.12 279.11 L2088.12 283.138 Q2089.46 280.777 2091.61 279.642 Q2093.76 278.485 2096.84 278.485 Q2097.28 278.485 2097.81 278.554 Q2098.35 278.601 2099 278.716 L2099.02 283.091 Z\" fill=\"#000000\" fill-rule=\"evenodd\" fill-opacity=\"1\" /><path clip-path=\"url(#clip630)\" d=\"M 0 0 M2119.71 283.045 L2119.71 269.017 L2123.97 269.017 L2123.97 305.036 L2119.71 305.036 L2119.71 301.147 Q2118.37 303.462 2116.31 304.596 Q2114.27 305.707 2111.4 305.707 Q2106.7 305.707 2103.74 301.957 Q2100.8 298.207 2100.8 292.096 Q2100.8 285.985 2103.74 282.235 Q2106.7 278.485 2111.4 278.485 Q2114.27 278.485 2116.31 279.619 Q2118.37 280.73 2119.71 283.045 M2105.2 292.096 Q2105.2 296.795 2107.12 299.48 Q2109.06 302.142 2112.44 302.142 Q2115.82 302.142 2117.77 299.48 Q2119.71 296.795 2119.71 292.096 Q2119.71 287.397 2117.77 284.735 Q2115.82 282.05 2112.44 282.05 Q2109.06 282.05 2107.12 284.735 Q2105.2 287.397 2105.2 292.096 Z\" fill=\"#000000\" fill-rule=\"evenodd\" fill-opacity=\"1\" /><path clip-path=\"url(#clip630)\" d=\"M 0 0 M2128.44 279.11 L2132.7 279.11 L2132.7 305.036 L2128.44 305.036 L2128.44 279.11 M2128.44 269.017 L2132.7 269.017 L2132.7 274.411 L2128.44 274.411 L2128.44 269.017 Z\" fill=\"#000000\" fill-rule=\"evenodd\" fill-opacity=\"1\" /><path clip-path=\"url(#clip630)\" d=\"M 0 0 M2158.72 289.388 L2158.72 305.036 L2154.46 305.036 L2154.46 289.527 Q2154.46 285.846 2153.02 284.017 Q2151.59 282.189 2148.72 282.189 Q2145.27 282.189 2143.28 284.388 Q2141.29 286.587 2141.29 290.383 L2141.29 305.036 L2137 305.036 L2137 279.11 L2141.29 279.11 L2141.29 283.138 Q2142.81 280.8 2144.87 279.642 Q2146.96 278.485 2149.67 278.485 Q2154.13 278.485 2156.43 281.263 Q2158.72 284.017 2158.72 289.388 Z\" fill=\"#000000\" fill-rule=\"evenodd\" fill-opacity=\"1\" /><path clip-path=\"url(#clip630)\" d=\"M 0 0 M2174.97 292.003 Q2169.81 292.003 2167.81 293.184 Q2165.82 294.364 2165.82 297.212 Q2165.82 299.48 2167.31 300.823 Q2168.81 302.142 2171.38 302.142 Q2174.92 302.142 2177.05 299.642 Q2179.2 297.119 2179.2 292.952 L2179.2 292.003 L2174.97 292.003 M2183.46 290.244 L2183.46 305.036 L2179.2 305.036 L2179.2 301.101 Q2177.74 303.462 2175.57 304.596 Q2173.39 305.707 2170.24 305.707 Q2166.26 305.707 2163.9 303.485 Q2161.56 301.239 2161.56 297.489 Q2161.56 293.114 2164.48 290.892 Q2167.42 288.67 2173.23 288.67 L2179.2 288.67 L2179.2 288.253 Q2179.2 285.314 2177.26 283.716 Q2175.34 282.096 2171.84 282.096 Q2169.62 282.096 2167.51 282.628 Q2165.41 283.161 2163.46 284.226 L2163.46 280.29 Q2165.8 279.388 2168 278.948 Q2170.2 278.485 2172.28 278.485 Q2177.91 278.485 2180.68 281.402 Q2183.46 284.318 2183.46 290.244 Z\" fill=\"#000000\" fill-rule=\"evenodd\" fill-opacity=\"1\" /><path clip-path=\"url(#clip630)\" d=\"M 0 0 M2187.93 269.017 L2192.19 269.017 L2192.19 305.036 L2187.93 305.036 L2187.93 269.017 Z\" fill=\"#000000\" fill-rule=\"evenodd\" fill-opacity=\"1\" /><polyline clip-path=\"url(#clip630)\" style=\"stroke:#3da44d; stroke-width:4; stroke-opacity:1; fill:none\" points=\"\n",
       "  1862.36,348.236 2003.41,348.236 \n",
       "  \"/>\n",
       "<path clip-path=\"url(#clip630)\" d=\"M 0 0 M2054.78 333.618 L2054.78 338.548 Q2052.42 336.349 2049.74 335.261 Q2047.07 334.173 2044.07 334.173 Q2038.14 334.173 2034.99 337.808 Q2031.84 341.419 2031.84 348.27 Q2031.84 355.099 2034.99 358.733 Q2038.14 362.344 2044.07 362.344 Q2047.07 362.344 2049.74 361.256 Q2052.42 360.169 2054.78 357.969 L2054.78 362.854 Q2052.33 364.52 2049.57 365.354 Q2046.84 366.187 2043.79 366.187 Q2035.94 366.187 2031.43 361.395 Q2026.91 356.581 2026.91 348.27 Q2026.91 339.937 2031.43 335.146 Q2035.94 330.331 2043.79 330.331 Q2046.89 330.331 2049.62 331.164 Q2052.38 331.974 2054.78 333.618 Z\" fill=\"#000000\" fill-rule=\"evenodd\" fill-opacity=\"1\" /><path clip-path=\"url(#clip630)\" d=\"M 0 0 M2059.25 339.59 L2063.51 339.59 L2063.51 365.516 L2059.25 365.516 L2059.25 339.59 M2059.25 329.497 L2063.51 329.497 L2063.51 334.891 L2059.25 334.891 L2059.25 329.497 Z\" fill=\"#000000\" fill-rule=\"evenodd\" fill-opacity=\"1\" /><path clip-path=\"url(#clip630)\" d=\"M 0 0 M2085.04 352.252 Q2085.04 347.622 2083.12 345.076 Q2081.22 342.53 2077.77 342.53 Q2074.34 342.53 2072.42 345.076 Q2070.52 347.622 2070.52 352.252 Q2070.52 356.858 2072.42 359.405 Q2074.34 361.951 2077.77 361.951 Q2081.22 361.951 2083.12 359.405 Q2085.04 356.858 2085.04 352.252 M2089.3 362.298 Q2089.3 368.918 2086.36 372.136 Q2083.42 375.377 2077.35 375.377 Q2075.11 375.377 2073.12 375.03 Q2071.13 374.705 2069.25 374.011 L2069.25 369.868 Q2071.13 370.886 2072.95 371.372 Q2074.78 371.858 2076.68 371.858 Q2080.87 371.858 2082.95 369.659 Q2085.04 367.483 2085.04 363.062 L2085.04 360.956 Q2083.72 363.247 2081.66 364.381 Q2079.6 365.516 2076.73 365.516 Q2071.96 365.516 2069.04 361.881 Q2066.13 358.247 2066.13 352.252 Q2066.13 346.233 2069.04 342.599 Q2071.96 338.965 2076.73 338.965 Q2079.6 338.965 2081.66 340.099 Q2083.72 341.233 2085.04 343.525 L2085.04 339.59 L2089.3 339.59 L2089.3 362.298 Z\" fill=\"#000000\" fill-rule=\"evenodd\" fill-opacity=\"1\" /><path clip-path=\"url(#clip630)\" d=\"M 0 0 M2115.31 349.868 L2115.31 365.516 L2111.06 365.516 L2111.06 350.007 Q2111.06 346.326 2109.62 344.497 Q2108.19 342.669 2105.31 342.669 Q2101.87 342.669 2099.87 344.868 Q2097.88 347.067 2097.88 350.863 L2097.88 365.516 L2093.6 365.516 L2093.6 339.59 L2097.88 339.59 L2097.88 343.618 Q2099.41 341.28 2101.47 340.122 Q2103.56 338.965 2106.26 338.965 Q2110.73 338.965 2113.02 341.743 Q2115.31 344.497 2115.31 349.868 Z\" fill=\"#000000\" fill-rule=\"evenodd\" fill-opacity=\"1\" /><path clip-path=\"url(#clip630)\" d=\"M 0 0 M2131.56 352.483 Q2126.4 352.483 2124.41 353.664 Q2122.42 354.844 2122.42 357.692 Q2122.42 359.96 2123.9 361.303 Q2125.41 362.622 2127.98 362.622 Q2131.52 362.622 2133.65 360.122 Q2135.8 357.599 2135.8 353.432 L2135.8 352.483 L2131.56 352.483 M2140.06 350.724 L2140.06 365.516 L2135.8 365.516 L2135.8 361.581 Q2134.34 363.942 2132.17 365.076 Q2129.99 366.187 2126.84 366.187 Q2122.86 366.187 2120.5 363.965 Q2118.16 361.719 2118.16 357.969 Q2118.16 353.594 2121.08 351.372 Q2124.02 349.15 2129.83 349.15 L2135.8 349.15 L2135.8 348.733 Q2135.8 345.794 2133.86 344.196 Q2131.93 342.576 2128.44 342.576 Q2126.22 342.576 2124.11 343.108 Q2122 343.641 2120.06 344.706 L2120.06 340.77 Q2122.4 339.868 2124.6 339.428 Q2126.8 338.965 2128.88 338.965 Q2134.5 338.965 2137.28 341.882 Q2140.06 344.798 2140.06 350.724 Z\" fill=\"#000000\" fill-rule=\"evenodd\" fill-opacity=\"1\" /><polyline clip-path=\"url(#clip630)\" style=\"stroke:#c271d2; stroke-width:4; stroke-opacity:1; fill:none\" points=\"\n",
       "  1862.36,408.716 2003.41,408.716 \n",
       "  \"/>\n",
       "<path clip-path=\"url(#clip630)\" d=\"M 0 0 M2054.78 394.098 L2054.78 399.028 Q2052.42 396.829 2049.74 395.741 Q2047.07 394.653 2044.07 394.653 Q2038.14 394.653 2034.99 398.288 Q2031.84 401.899 2031.84 408.75 Q2031.84 415.579 2034.99 419.213 Q2038.14 422.824 2044.07 422.824 Q2047.07 422.824 2049.74 421.736 Q2052.42 420.649 2054.78 418.449 L2054.78 423.334 Q2052.33 425 2049.57 425.834 Q2046.84 426.667 2043.79 426.667 Q2035.94 426.667 2031.43 421.875 Q2026.91 417.061 2026.91 408.75 Q2026.91 400.417 2031.43 395.626 Q2035.94 390.811 2043.79 390.811 Q2046.89 390.811 2049.62 391.644 Q2052.38 392.454 2054.78 394.098 Z\" fill=\"#000000\" fill-rule=\"evenodd\" fill-opacity=\"1\" /><path clip-path=\"url(#clip630)\" d=\"M 0 0 M2068.35 425.996 L2055.15 391.436 L2060.04 391.436 L2070.99 420.533 L2081.96 391.436 L2086.82 391.436 L2073.65 425.996 L2068.35 425.996 Z\" fill=\"#000000\" fill-rule=\"evenodd\" fill-opacity=\"1\" /><path clip-path=\"url(#clip630)\" d=\"M 0 0 M2112.19 392.57 L2112.19 397.13 Q2109.53 395.857 2107.17 395.232 Q2104.81 394.607 2102.61 394.607 Q2098.79 394.607 2096.7 396.088 Q2094.64 397.57 2094.64 400.301 Q2094.64 402.593 2096.01 403.774 Q2097.4 404.931 2101.24 405.649 L2104.06 406.227 Q2109.3 407.223 2111.77 409.746 Q2114.27 412.246 2114.27 416.459 Q2114.27 421.482 2110.89 424.074 Q2107.54 426.667 2101.03 426.667 Q2098.58 426.667 2095.8 426.111 Q2093.05 425.556 2090.08 424.468 L2090.08 419.653 Q2092.93 421.25 2095.66 422.061 Q2098.39 422.871 2101.03 422.871 Q2105.04 422.871 2107.21 421.297 Q2109.39 419.723 2109.39 416.806 Q2109.39 414.26 2107.81 412.824 Q2106.26 411.389 2102.7 410.672 L2099.85 410.116 Q2094.62 409.075 2092.28 406.852 Q2089.94 404.63 2089.94 400.672 Q2089.94 396.088 2093.16 393.45 Q2096.4 390.811 2102.07 390.811 Q2104.5 390.811 2107.03 391.251 Q2109.55 391.69 2112.19 392.57 Z\" fill=\"#000000\" fill-rule=\"evenodd\" fill-opacity=\"1\" /><polyline clip-path=\"url(#clip630)\" style=\"stroke:#ac8d18; stroke-width:4; stroke-opacity:1; fill:none\" points=\"\n",
       "  1862.36,469.196 2003.41,469.196 \n",
       "  \"/>\n",
       "<path clip-path=\"url(#clip630)\" d=\"M 0 0 M2052.47 481.545 L2052.47 472.263 L2044.83 472.263 L2044.83 468.42 L2057.1 468.42 L2057.1 483.258 Q2054.39 485.179 2051.13 486.175 Q2047.86 487.147 2044.16 487.147 Q2036.06 487.147 2031.47 482.425 Q2026.91 477.679 2026.91 469.23 Q2026.91 460.758 2031.47 456.036 Q2036.06 451.291 2044.16 451.291 Q2047.54 451.291 2050.57 452.124 Q2053.63 452.957 2056.19 454.578 L2056.19 459.555 Q2053.6 457.356 2050.69 456.244 Q2047.77 455.133 2044.55 455.133 Q2038.21 455.133 2035.01 458.675 Q2031.84 462.217 2031.84 469.23 Q2031.84 476.221 2035.01 479.763 Q2038.21 483.304 2044.55 483.304 Q2047.03 483.304 2048.97 482.888 Q2050.92 482.448 2052.47 481.545 Z\" fill=\"#000000\" fill-rule=\"evenodd\" fill-opacity=\"1\" /><path clip-path=\"url(#clip630)\" d=\"M 0 0 M2061.56 460.55 L2065.82 460.55 L2065.82 486.476 L2061.56 486.476 L2061.56 460.55 M2061.56 450.457 L2065.82 450.457 L2065.82 455.851 L2061.56 455.851 L2061.56 450.457 Z\" fill=\"#000000\" fill-rule=\"evenodd\" fill-opacity=\"1\" /><path clip-path=\"url(#clip630)\" d=\"M 0 0 M2070.29 450.457 L2074.55 450.457 L2074.55 486.476 L2070.29 486.476 L2070.29 450.457 Z\" fill=\"#000000\" fill-rule=\"evenodd\" fill-opacity=\"1\" /><path clip-path=\"url(#clip630)\" d=\"M 0 0 M2101.19 472.448 L2101.19 474.531 L2081.61 474.531 Q2081.89 478.929 2084.25 481.244 Q2086.63 483.536 2090.87 483.536 Q2093.32 483.536 2095.62 482.934 Q2097.93 482.332 2100.2 481.129 L2100.2 485.156 Q2097.91 486.128 2095.5 486.638 Q2093.09 487.147 2090.62 487.147 Q2084.41 487.147 2080.78 483.536 Q2077.17 479.925 2077.17 473.767 Q2077.17 467.402 2080.59 463.675 Q2084.04 459.925 2089.87 459.925 Q2095.11 459.925 2098.14 463.305 Q2101.19 466.661 2101.19 472.448 M2096.94 471.198 Q2096.89 467.703 2094.97 465.619 Q2093.07 463.536 2089.92 463.536 Q2086.36 463.536 2084.2 465.55 Q2082.07 467.564 2081.75 471.221 L2096.94 471.198 Z\" fill=\"#000000\" fill-rule=\"evenodd\" fill-opacity=\"1\" /><path clip-path=\"url(#clip630)\" d=\"M 0 0 M2117.44 473.443 Q2112.28 473.443 2110.29 474.624 Q2108.3 475.804 2108.3 478.652 Q2108.3 480.92 2109.78 482.263 Q2111.29 483.582 2113.86 483.582 Q2117.4 483.582 2119.53 481.082 Q2121.68 478.559 2121.68 474.392 L2121.68 473.443 L2117.44 473.443 M2125.94 471.684 L2125.94 486.476 L2121.68 486.476 L2121.68 482.541 Q2120.22 484.902 2118.05 486.036 Q2115.87 487.147 2112.72 487.147 Q2108.74 487.147 2106.38 484.925 Q2104.04 482.679 2104.04 478.929 Q2104.04 474.554 2106.96 472.332 Q2109.9 470.11 2115.71 470.11 L2121.68 470.11 L2121.68 469.693 Q2121.68 466.754 2119.74 465.156 Q2117.81 463.536 2114.32 463.536 Q2112.1 463.536 2109.99 464.068 Q2107.88 464.601 2105.94 465.666 L2105.94 461.73 Q2108.28 460.828 2110.48 460.388 Q2112.68 459.925 2114.76 459.925 Q2120.38 459.925 2123.16 462.842 Q2125.94 465.758 2125.94 471.684 Z\" fill=\"#000000\" fill-rule=\"evenodd\" fill-opacity=\"1\" /><path clip-path=\"url(#clip630)\" d=\"M 0 0 M2147.47 464.485 L2147.47 450.457 L2151.73 450.457 L2151.73 486.476 L2147.47 486.476 L2147.47 482.587 Q2146.12 484.902 2144.06 486.036 Q2142.03 487.147 2139.16 487.147 Q2134.46 487.147 2131.5 483.397 Q2128.56 479.647 2128.56 473.536 Q2128.56 467.425 2131.5 463.675 Q2134.46 459.925 2139.16 459.925 Q2142.03 459.925 2144.06 461.059 Q2146.12 462.17 2147.47 464.485 M2132.95 473.536 Q2132.95 478.235 2134.87 480.92 Q2136.82 483.582 2140.2 483.582 Q2143.58 483.582 2145.52 480.92 Q2147.47 478.235 2147.47 473.536 Q2147.47 468.837 2145.52 466.175 Q2143.58 463.49 2140.2 463.49 Q2136.82 463.49 2134.87 466.175 Q2132.95 468.837 2132.95 473.536 Z\" fill=\"#000000\" fill-rule=\"evenodd\" fill-opacity=\"1\" /><polyline clip-path=\"url(#clip630)\" style=\"stroke:#00a9ad; stroke-width:4; stroke-opacity:1; fill:none\" points=\"\n",
       "  1862.36,529.676 2003.41,529.676 \n",
       "  \"/>\n",
       "<path clip-path=\"url(#clip630)\" d=\"M 0 0 M2026.91 512.396 L2033.88 512.396 L2042.7 535.914 L2051.56 512.396 L2058.53 512.396 L2058.53 546.956 L2053.97 546.956 L2053.97 516.609 L2045.06 540.312 L2040.36 540.312 L2031.45 516.609 L2031.45 546.956 L2026.91 546.956 L2026.91 512.396 Z\" fill=\"#000000\" fill-rule=\"evenodd\" fill-opacity=\"1\" /><path clip-path=\"url(#clip630)\" d=\"M 0 0 M2081.66 522.025 L2081.66 526.007 Q2079.85 525.011 2078.02 524.525 Q2076.22 524.016 2074.37 524.016 Q2070.22 524.016 2067.93 526.655 Q2065.64 529.271 2065.64 534.016 Q2065.64 538.761 2067.93 541.4 Q2070.22 544.016 2074.37 544.016 Q2076.22 544.016 2078.02 543.53 Q2079.85 543.021 2081.66 542.025 L2081.66 545.96 Q2079.88 546.794 2077.95 547.21 Q2076.06 547.627 2073.9 547.627 Q2068.05 547.627 2064.6 543.946 Q2061.15 540.266 2061.15 534.016 Q2061.15 527.673 2064.62 524.039 Q2068.12 520.405 2074.18 520.405 Q2076.15 520.405 2078.02 520.822 Q2079.9 521.215 2081.66 522.025 Z\" fill=\"#000000\" fill-rule=\"evenodd\" fill-opacity=\"1\" /><path clip-path=\"url(#clip630)\" d=\"M 0 0 M2086.31 512.396 L2090.99 512.396 L2090.99 527.002 L2106.5 512.396 L2112.51 512.396 L2095.36 528.507 L2113.74 546.956 L2107.58 546.956 L2090.99 530.312 L2090.99 546.956 L2086.31 546.956 L2086.31 512.396 Z\" fill=\"#000000\" fill-rule=\"evenodd\" fill-opacity=\"1\" /><path clip-path=\"url(#clip630)\" d=\"M 0 0 M2138.02 532.928 L2138.02 535.011 L2118.44 535.011 Q2118.72 539.409 2121.08 541.724 Q2123.46 544.016 2127.7 544.016 Q2130.15 544.016 2132.44 543.414 Q2134.76 542.812 2137.03 541.609 L2137.03 545.636 Q2134.74 546.608 2132.33 547.118 Q2129.92 547.627 2127.44 547.627 Q2121.24 547.627 2117.61 544.016 Q2114 540.405 2114 534.247 Q2114 527.882 2117.42 524.155 Q2120.87 520.405 2126.7 520.405 Q2131.93 520.405 2134.97 523.785 Q2138.02 527.141 2138.02 532.928 M2133.76 531.678 Q2133.72 528.183 2131.8 526.099 Q2129.9 524.016 2126.75 524.016 Q2123.18 524.016 2121.03 526.03 Q2118.9 528.044 2118.58 531.701 L2133.76 531.678 Z\" fill=\"#000000\" fill-rule=\"evenodd\" fill-opacity=\"1\" /><path clip-path=\"url(#clip630)\" d=\"M 0 0 M2159.02 521.794 L2159.02 525.822 Q2157.21 524.896 2155.27 524.433 Q2153.32 523.97 2151.24 523.97 Q2148.07 523.97 2146.47 524.942 Q2144.9 525.914 2144.9 527.859 Q2144.9 529.34 2146.03 530.197 Q2147.17 531.03 2150.59 531.794 L2152.05 532.118 Q2156.59 533.09 2158.49 534.872 Q2160.41 536.632 2160.41 539.803 Q2160.41 543.414 2157.54 545.521 Q2154.69 547.627 2149.69 547.627 Q2147.61 547.627 2145.34 547.21 Q2143.09 546.817 2140.59 546.007 L2140.59 541.609 Q2142.95 542.835 2145.25 543.46 Q2147.54 544.062 2149.78 544.062 Q2152.79 544.062 2154.41 543.044 Q2156.03 542.002 2156.03 540.127 Q2156.03 538.391 2154.85 537.465 Q2153.69 536.539 2149.74 535.683 L2148.25 535.335 Q2144.3 534.502 2142.54 532.789 Q2140.78 531.053 2140.78 528.044 Q2140.78 524.386 2143.37 522.396 Q2145.96 520.405 2150.73 520.405 Q2153.09 520.405 2155.18 520.752 Q2157.26 521.099 2159.02 521.794 Z\" fill=\"#000000\" fill-rule=\"evenodd\" fill-opacity=\"1\" /><path clip-path=\"url(#clip630)\" d=\"M 0 0 M2181.4 521.794 L2181.4 525.822 Q2179.6 524.896 2177.65 524.433 Q2175.71 523.97 2173.62 523.97 Q2170.45 523.97 2168.86 524.942 Q2167.28 525.914 2167.28 527.859 Q2167.28 529.34 2168.42 530.197 Q2169.55 531.03 2172.98 531.794 L2174.43 532.118 Q2178.97 533.09 2180.87 534.872 Q2182.79 536.632 2182.79 539.803 Q2182.79 543.414 2179.92 545.521 Q2177.07 547.627 2172.07 547.627 Q2169.99 547.627 2167.72 547.21 Q2165.48 546.817 2162.98 546.007 L2162.98 541.609 Q2165.34 542.835 2167.63 543.46 Q2169.92 544.062 2172.17 544.062 Q2175.18 544.062 2176.8 543.044 Q2178.42 542.002 2178.42 540.127 Q2178.42 538.391 2177.24 537.465 Q2176.08 536.539 2172.12 535.683 L2170.64 535.335 Q2166.68 534.502 2164.92 532.789 Q2163.16 531.053 2163.16 528.044 Q2163.16 524.386 2165.75 522.396 Q2168.35 520.405 2173.12 520.405 Q2175.48 520.405 2177.56 520.752 Q2179.64 521.099 2181.4 521.794 Z\" fill=\"#000000\" fill-rule=\"evenodd\" fill-opacity=\"1\" /><path clip-path=\"url(#clip630)\" d=\"M 0 0 M2197.3 524.016 Q2193.88 524.016 2191.89 526.701 Q2189.9 529.363 2189.9 534.016 Q2189.9 538.669 2191.87 541.354 Q2193.86 544.016 2197.3 544.016 Q2200.71 544.016 2202.7 541.331 Q2204.69 538.646 2204.69 534.016 Q2204.69 529.41 2202.7 526.724 Q2200.71 524.016 2197.3 524.016 M2197.3 520.405 Q2202.86 520.405 2206.03 524.016 Q2209.2 527.627 2209.2 534.016 Q2209.2 540.382 2206.03 544.016 Q2202.86 547.627 2197.3 547.627 Q2191.73 547.627 2188.55 544.016 Q2185.41 540.382 2185.41 534.016 Q2185.41 527.627 2188.55 524.016 Q2191.73 520.405 2197.3 520.405 Z\" fill=\"#000000\" fill-rule=\"evenodd\" fill-opacity=\"1\" /><path clip-path=\"url(#clip630)\" d=\"M 0 0 M2235.22 531.308 L2235.22 546.956 L2230.96 546.956 L2230.96 531.447 Q2230.96 527.766 2229.53 525.937 Q2228.09 524.109 2225.22 524.109 Q2221.77 524.109 2219.78 526.308 Q2217.79 528.507 2217.79 532.303 L2217.79 546.956 L2213.51 546.956 L2213.51 521.03 L2217.79 521.03 L2217.79 525.058 Q2219.32 522.72 2221.38 521.562 Q2223.46 520.405 2226.17 520.405 Q2230.64 520.405 2232.93 523.183 Q2235.22 525.937 2235.22 531.308 Z\" fill=\"#000000\" fill-rule=\"evenodd\" fill-opacity=\"1\" /><polyline clip-path=\"url(#clip630)\" style=\"stroke:#ed5d92; stroke-width:4; stroke-opacity:1; fill:none\" points=\"\n",
       "  1862.36,590.156 2003.41,590.156 \n",
       "  \"/>\n",
       "<path clip-path=\"url(#clip630)\" d=\"M 0 0 M2026.91 572.876 L2033.88 572.876 L2042.7 596.394 L2051.56 572.876 L2058.53 572.876 L2058.53 607.436 L2053.97 607.436 L2053.97 577.089 L2045.06 600.792 L2040.36 600.792 L2031.45 577.089 L2031.45 607.436 L2026.91 607.436 L2026.91 572.876 Z\" fill=\"#000000\" fill-rule=\"evenodd\" fill-opacity=\"1\" /><path clip-path=\"url(#clip630)\" d=\"M 0 0 M2073.05 584.496 Q2069.62 584.496 2067.63 587.181 Q2065.64 589.843 2065.64 594.496 Q2065.64 599.149 2067.61 601.834 Q2069.6 604.496 2073.05 604.496 Q2076.45 604.496 2078.44 601.811 Q2080.43 599.126 2080.43 594.496 Q2080.43 589.89 2078.44 587.204 Q2076.45 584.496 2073.05 584.496 M2073.05 580.885 Q2078.6 580.885 2081.77 584.496 Q2084.94 588.107 2084.94 594.496 Q2084.94 600.862 2081.77 604.496 Q2078.6 608.107 2073.05 608.107 Q2067.47 608.107 2064.3 604.496 Q2061.15 600.862 2061.15 594.496 Q2061.15 588.107 2064.3 584.496 Q2067.47 580.885 2073.05 580.885 Z\" fill=\"#000000\" fill-rule=\"evenodd\" fill-opacity=\"1\" /><path clip-path=\"url(#clip630)\" d=\"M 0 0 M2106.47 585.445 L2106.47 571.417 L2110.73 571.417 L2110.73 607.436 L2106.47 607.436 L2106.47 603.547 Q2105.13 605.862 2103.07 606.996 Q2101.03 608.107 2098.16 608.107 Q2093.46 608.107 2090.5 604.357 Q2087.56 600.607 2087.56 594.496 Q2087.56 588.385 2090.5 584.635 Q2093.46 580.885 2098.16 580.885 Q2101.03 580.885 2103.07 582.019 Q2105.13 583.13 2106.47 585.445 M2091.96 594.496 Q2091.96 599.195 2093.88 601.88 Q2095.82 604.542 2099.2 604.542 Q2102.58 604.542 2104.53 601.88 Q2106.47 599.195 2106.47 594.496 Q2106.47 589.797 2104.53 587.135 Q2102.58 584.45 2099.2 584.45 Q2095.82 584.45 2093.88 587.135 Q2091.96 589.797 2091.96 594.496 Z\" fill=\"#000000\" fill-rule=\"evenodd\" fill-opacity=\"1\" /><path clip-path=\"url(#clip630)\" d=\"M 0 0 M2137.37 593.408 L2137.37 595.491 L2117.79 595.491 Q2118.07 599.889 2120.43 602.204 Q2122.81 604.496 2127.05 604.496 Q2129.5 604.496 2131.8 603.894 Q2134.11 603.292 2136.38 602.089 L2136.38 606.116 Q2134.09 607.088 2131.68 607.598 Q2129.27 608.107 2126.8 608.107 Q2120.59 608.107 2116.96 604.496 Q2113.35 600.885 2113.35 594.727 Q2113.35 588.362 2116.77 584.635 Q2120.22 580.885 2126.06 580.885 Q2131.29 580.885 2134.32 584.265 Q2137.37 587.621 2137.37 593.408 M2133.12 592.158 Q2133.07 588.663 2131.15 586.579 Q2129.25 584.496 2126.1 584.496 Q2122.54 584.496 2120.38 586.51 Q2118.25 588.524 2117.93 592.181 L2133.12 592.158 Z\" fill=\"#000000\" fill-rule=\"evenodd\" fill-opacity=\"1\" /><path clip-path=\"url(#clip630)\" d=\"M 0 0 M2156.87 585.491 Q2156.15 585.075 2155.29 584.89 Q2154.46 584.681 2153.44 584.681 Q2149.83 584.681 2147.88 587.042 Q2145.96 589.38 2145.96 593.778 L2145.96 607.436 L2141.68 607.436 L2141.68 581.51 L2145.96 581.51 L2145.96 585.538 Q2147.31 583.177 2149.46 582.042 Q2151.61 580.885 2154.69 580.885 Q2155.13 580.885 2155.66 580.954 Q2156.19 581.001 2156.84 581.116 L2156.87 585.491 Z\" fill=\"#000000\" fill-rule=\"evenodd\" fill-opacity=\"1\" /><path clip-path=\"url(#clip630)\" d=\"M 0 0 M2182.05 591.788 L2182.05 607.436 L2177.79 607.436 L2177.79 591.927 Q2177.79 588.246 2176.36 586.417 Q2174.92 584.589 2172.05 584.589 Q2168.6 584.589 2166.61 586.788 Q2164.62 588.987 2164.62 592.783 L2164.62 607.436 L2160.34 607.436 L2160.34 581.51 L2164.62 581.51 L2164.62 585.538 Q2166.15 583.2 2168.21 582.042 Q2170.29 580.885 2173 580.885 Q2177.47 580.885 2179.76 583.663 Q2182.05 586.417 2182.05 591.788 Z\" fill=\"#000000\" fill-rule=\"evenodd\" fill-opacity=\"1\" /><path clip-path=\"url(#clip630)\" d=\"M 0 0 M2198.3 594.403 Q2193.14 594.403 2191.15 595.584 Q2189.16 596.764 2189.16 599.612 Q2189.16 601.88 2190.64 603.223 Q2192.14 604.542 2194.71 604.542 Q2198.25 604.542 2200.38 602.042 Q2202.54 599.519 2202.54 595.352 L2202.54 594.403 L2198.3 594.403 M2206.8 592.644 L2206.8 607.436 L2202.54 607.436 L2202.54 603.501 Q2201.08 605.862 2198.9 606.996 Q2196.73 608.107 2193.58 608.107 Q2189.6 608.107 2187.24 605.885 Q2184.9 603.639 2184.9 599.889 Q2184.9 595.514 2187.81 593.292 Q2190.75 591.07 2196.56 591.07 L2202.54 591.07 L2202.54 590.653 Q2202.54 587.714 2200.59 586.116 Q2198.67 584.496 2195.18 584.496 Q2192.95 584.496 2190.85 585.028 Q2188.74 585.561 2186.8 586.626 L2186.8 582.69 Q2189.13 581.788 2191.33 581.348 Q2193.53 580.885 2195.62 580.885 Q2201.24 580.885 2204.02 583.802 Q2206.8 586.718 2206.8 592.644 Z\" fill=\"#000000\" fill-rule=\"evenodd\" fill-opacity=\"1\" /><polyline clip-path=\"url(#clip630)\" style=\"stroke:#c68125; stroke-width:4; stroke-opacity:1; fill:none\" points=\"\n",
       "  1862.36,650.636 2003.41,650.636 \n",
       "  \"/>\n",
       "<path clip-path=\"url(#clip630)\" d=\"M 0 0 M2031.59 637.198 L2031.59 650.184 L2037.47 650.184 Q2040.73 650.184 2042.51 648.495 Q2044.3 646.805 2044.3 643.68 Q2044.3 640.578 2042.51 638.888 Q2040.73 637.198 2037.47 637.198 L2031.59 637.198 M2026.91 633.356 L2037.47 633.356 Q2043.28 633.356 2046.24 635.995 Q2049.23 638.61 2049.23 643.68 Q2049.23 648.795 2046.24 651.411 Q2043.28 654.027 2037.47 654.027 L2031.59 654.027 L2031.59 667.916 L2026.91 667.916 L2026.91 633.356 Z\" fill=\"#000000\" fill-rule=\"evenodd\" fill-opacity=\"1\" /><path clip-path=\"url(#clip630)\" d=\"M 0 0 M2066.82 631.897 L2066.82 635.439 L2062.75 635.439 Q2060.45 635.439 2059.55 636.365 Q2058.67 637.291 2058.67 639.698 L2058.67 641.99 L2065.69 641.99 L2065.69 645.3 L2058.67 645.3 L2058.67 667.916 L2054.39 667.916 L2054.39 645.3 L2050.31 645.3 L2050.31 641.99 L2054.39 641.99 L2054.39 640.184 Q2054.39 635.856 2056.4 633.888 Q2058.42 631.897 2062.79 631.897 L2066.82 631.897 Z\" fill=\"#000000\" fill-rule=\"evenodd\" fill-opacity=\"1\" /><path clip-path=\"url(#clip630)\" d=\"M 0 0 M2071.29 641.99 L2075.55 641.99 L2075.55 667.916 L2071.29 667.916 L2071.29 641.99 M2071.29 631.897 L2075.55 631.897 L2075.55 637.291 L2071.29 637.291 L2071.29 631.897 Z\" fill=\"#000000\" fill-rule=\"evenodd\" fill-opacity=\"1\" /><path clip-path=\"url(#clip630)\" d=\"M 0 0 M2078.16 641.99 L2098.39 641.99 L2098.39 645.879 L2082.37 664.513 L2098.39 664.513 L2098.39 667.916 L2077.58 667.916 L2077.58 664.027 L2093.6 645.393 L2078.16 645.393 L2078.16 641.99 Z\" fill=\"#000000\" fill-rule=\"evenodd\" fill-opacity=\"1\" /><path clip-path=\"url(#clip630)\" d=\"M 0 0 M2125.04 653.888 L2125.04 655.971 L2105.45 655.971 Q2105.73 660.369 2108.09 662.684 Q2110.48 664.976 2114.71 664.976 Q2117.17 664.976 2119.46 664.374 Q2121.77 663.772 2124.04 662.569 L2124.04 666.596 Q2121.75 667.568 2119.34 668.078 Q2116.93 668.587 2114.46 668.587 Q2108.25 668.587 2104.62 664.976 Q2101.01 661.365 2101.01 655.207 Q2101.01 648.842 2104.44 645.115 Q2107.88 641.365 2113.72 641.365 Q2118.95 641.365 2121.98 644.745 Q2125.04 648.101 2125.04 653.888 M2120.78 652.638 Q2120.73 649.143 2118.81 647.059 Q2116.91 644.976 2113.76 644.976 Q2110.2 644.976 2108.05 646.99 Q2105.92 649.004 2105.59 652.661 L2120.78 652.638 Z\" fill=\"#000000\" fill-rule=\"evenodd\" fill-opacity=\"1\" /><path clip-path=\"url(#clip630)\" d=\"M 0 0 M2144.53 645.971 Q2143.81 645.555 2142.95 645.37 Q2142.12 645.161 2141.1 645.161 Q2137.49 645.161 2135.55 647.522 Q2133.62 649.86 2133.62 654.258 L2133.62 667.916 L2129.34 667.916 L2129.34 641.99 L2133.62 641.99 L2133.62 646.018 Q2134.97 643.657 2137.12 642.522 Q2139.27 641.365 2142.35 641.365 Q2142.79 641.365 2143.32 641.434 Q2143.86 641.481 2144.5 641.596 L2144.53 645.971 Z\" fill=\"#000000\" fill-rule=\"evenodd\" fill-opacity=\"1\" /><polyline clip-path=\"url(#clip630)\" style=\"stroke:#00a98d; stroke-width:4; stroke-opacity:1; fill:none\" points=\"\n",
       "  1862.36,711.116 2003.41,711.116 \n",
       "  \"/>\n",
       "<path clip-path=\"url(#clip630)\" d=\"M 0 0 M2026.91 693.836 L2031.61 693.836 L2031.61 714.831 Q2031.61 720.387 2033.63 722.84 Q2035.64 725.271 2040.15 725.271 Q2044.64 725.271 2046.66 722.84 Q2048.67 720.387 2048.67 714.831 L2048.67 693.836 L2053.37 693.836 L2053.37 715.41 Q2053.37 722.169 2050.01 725.618 Q2046.68 729.067 2040.15 729.067 Q2033.6 729.067 2030.25 725.618 Q2026.91 722.169 2026.91 715.41 L2026.91 693.836 Z\" fill=\"#000000\" fill-rule=\"evenodd\" fill-opacity=\"1\" /><path clip-path=\"url(#clip630)\" d=\"M 0 0 M2079.39 712.748 L2079.39 728.396 L2075.13 728.396 L2075.13 712.887 Q2075.13 709.206 2073.69 707.377 Q2072.26 705.549 2069.39 705.549 Q2065.94 705.549 2063.95 707.748 Q2061.96 709.947 2061.96 713.743 L2061.96 728.396 L2057.68 728.396 L2057.68 702.47 L2061.96 702.47 L2061.96 706.498 Q2063.49 704.16 2065.55 703.002 Q2067.63 701.845 2070.34 701.845 Q2074.81 701.845 2077.1 704.623 Q2079.39 707.377 2079.39 712.748 Z\" fill=\"#000000\" fill-rule=\"evenodd\" fill-opacity=\"1\" /><path clip-path=\"url(#clip630)\" d=\"M 0 0 M2083.86 702.47 L2088.12 702.47 L2088.12 728.396 L2083.86 728.396 L2083.86 702.47 M2083.86 692.377 L2088.12 692.377 L2088.12 697.771 L2083.86 697.771 L2083.86 692.377 Z\" fill=\"#000000\" fill-rule=\"evenodd\" fill-opacity=\"1\" /><path clip-path=\"url(#clip630)\" d=\"M 0 0 M2096.8 695.109 L2096.8 702.47 L2105.57 702.47 L2105.57 705.78 L2096.8 705.78 L2096.8 719.854 Q2096.8 723.025 2097.65 723.928 Q2098.53 724.831 2101.19 724.831 L2105.57 724.831 L2105.57 728.396 L2101.19 728.396 Q2096.26 728.396 2094.39 726.567 Q2092.51 724.715 2092.51 719.854 L2092.51 705.78 L2089.39 705.78 L2089.39 702.47 L2092.51 702.47 L2092.51 695.109 L2096.8 695.109 Z\" fill=\"#000000\" fill-rule=\"evenodd\" fill-opacity=\"1\" /><path clip-path=\"url(#clip630)\" d=\"M 0 0 M2132.21 714.368 L2132.21 716.451 L2112.63 716.451 Q2112.91 720.849 2115.27 723.164 Q2117.65 725.456 2121.89 725.456 Q2124.34 725.456 2126.63 724.854 Q2128.95 724.252 2131.22 723.049 L2131.22 727.076 Q2128.93 728.048 2126.52 728.558 Q2124.11 729.067 2121.63 729.067 Q2115.43 729.067 2111.8 725.456 Q2108.19 721.845 2108.19 715.687 Q2108.19 709.322 2111.61 705.595 Q2115.06 701.845 2120.89 701.845 Q2126.12 701.845 2129.16 705.225 Q2132.21 708.581 2132.21 714.368 M2127.95 713.118 Q2127.91 709.623 2125.99 707.539 Q2124.09 705.456 2120.94 705.456 Q2117.37 705.456 2115.22 707.47 Q2113.09 709.484 2112.77 713.141 L2127.95 713.118 Z\" fill=\"#000000\" fill-rule=\"evenodd\" fill-opacity=\"1\" /><path clip-path=\"url(#clip630)\" d=\"M 0 0 M2153.74 706.405 L2153.74 692.377 L2158 692.377 L2158 728.396 L2153.74 728.396 L2153.74 724.507 Q2152.4 726.822 2150.34 727.956 Q2148.3 729.067 2145.43 729.067 Q2140.73 729.067 2137.77 725.317 Q2134.83 721.567 2134.83 715.456 Q2134.83 709.345 2137.77 705.595 Q2140.73 701.845 2145.43 701.845 Q2148.3 701.845 2150.34 702.979 Q2152.4 704.09 2153.74 706.405 M2139.23 715.456 Q2139.23 720.155 2141.15 722.84 Q2143.09 725.502 2146.47 725.502 Q2149.85 725.502 2151.8 722.84 Q2153.74 720.155 2153.74 715.456 Q2153.74 710.757 2151.8 708.095 Q2149.85 705.41 2146.47 705.41 Q2143.09 705.41 2141.15 708.095 Q2139.23 710.757 2139.23 715.456 Z\" fill=\"#000000\" fill-rule=\"evenodd\" fill-opacity=\"1\" /><polyline clip-path=\"url(#clip630)\" style=\"stroke:#8e971d; stroke-width:4; stroke-opacity:1; fill:none\" points=\"\n",
       "  1862.36,771.596 2003.41,771.596 \n",
       "  \"/>\n",
       "<path clip-path=\"url(#clip630)\" d=\"M 0 0 M2034.02 754.316 L2038.69 754.316 L2038.69 786.468 Q2038.69 792.718 2036.31 795.542 Q2033.95 798.366 2028.69 798.366 L2026.91 798.366 L2026.91 794.431 L2028.37 794.431 Q2031.47 794.431 2032.75 792.695 Q2034.02 790.959 2034.02 786.468 L2034.02 754.316 Z\" fill=\"#000000\" fill-rule=\"evenodd\" fill-opacity=\"1\" /><path clip-path=\"url(#clip630)\" d=\"M 0 0 M2053.21 765.936 Q2049.78 765.936 2047.79 768.621 Q2045.8 771.283 2045.8 775.936 Q2045.8 780.589 2047.77 783.274 Q2049.76 785.936 2053.21 785.936 Q2056.61 785.936 2058.6 783.251 Q2060.59 780.566 2060.59 775.936 Q2060.59 771.33 2058.6 768.644 Q2056.61 765.936 2053.21 765.936 M2053.21 762.325 Q2058.76 762.325 2061.94 765.936 Q2065.11 769.547 2065.11 775.936 Q2065.11 782.302 2061.94 785.936 Q2058.76 789.547 2053.21 789.547 Q2047.63 789.547 2044.46 785.936 Q2041.31 782.302 2041.31 775.936 Q2041.31 769.547 2044.46 765.936 Q2047.63 762.325 2053.21 762.325 Z\" fill=\"#000000\" fill-rule=\"evenodd\" fill-opacity=\"1\" /><path clip-path=\"url(#clip630)\" d=\"M 0 0 M2091.12 773.228 L2091.12 788.876 L2086.87 788.876 L2086.87 773.367 Q2086.87 769.686 2085.43 767.857 Q2084 766.029 2081.12 766.029 Q2077.68 766.029 2075.69 768.228 Q2073.69 770.427 2073.69 774.223 L2073.69 788.876 L2069.41 788.876 L2069.41 752.857 L2073.69 752.857 L2073.69 766.978 Q2075.22 764.64 2077.28 763.482 Q2079.37 762.325 2082.07 762.325 Q2086.54 762.325 2088.83 765.103 Q2091.12 767.857 2091.12 773.228 Z\" fill=\"#000000\" fill-rule=\"evenodd\" fill-opacity=\"1\" /><path clip-path=\"url(#clip630)\" d=\"M 0 0 M2117.14 773.228 L2117.14 788.876 L2112.88 788.876 L2112.88 773.367 Q2112.88 769.686 2111.45 767.857 Q2110.01 766.029 2107.14 766.029 Q2103.69 766.029 2101.7 768.228 Q2099.71 770.427 2099.71 774.223 L2099.71 788.876 L2095.43 788.876 L2095.43 762.95 L2099.71 762.95 L2099.71 766.978 Q2101.24 764.64 2103.3 763.482 Q2105.38 762.325 2108.09 762.325 Q2112.56 762.325 2114.85 765.103 Q2117.14 767.857 2117.14 773.228 Z\" fill=\"#000000\" fill-rule=\"evenodd\" fill-opacity=\"1\" /><path clip-path=\"url(#clip630)\" d=\"M 0 0 M2138.14 763.714 L2138.14 767.742 Q2136.33 766.816 2134.39 766.353 Q2132.44 765.89 2130.36 765.89 Q2127.19 765.89 2125.59 766.862 Q2124.02 767.834 2124.02 769.779 Q2124.02 771.26 2125.15 772.117 Q2126.29 772.95 2129.71 773.714 L2131.17 774.038 Q2135.71 775.01 2137.61 776.792 Q2139.53 778.552 2139.53 781.723 Q2139.53 785.334 2136.66 787.441 Q2133.81 789.547 2128.81 789.547 Q2126.73 789.547 2124.46 789.13 Q2122.21 788.737 2119.71 787.927 L2119.71 783.529 Q2122.07 784.755 2124.37 785.38 Q2126.66 785.982 2128.9 785.982 Q2131.91 785.982 2133.53 784.964 Q2135.15 783.922 2135.15 782.047 Q2135.15 780.311 2133.97 779.385 Q2132.81 778.459 2128.86 777.603 L2127.37 777.255 Q2123.42 776.422 2121.66 774.709 Q2119.9 772.973 2119.9 769.964 Q2119.9 766.306 2122.49 764.316 Q2125.08 762.325 2129.85 762.325 Q2132.21 762.325 2134.3 762.672 Q2136.38 763.019 2138.14 763.714 Z\" fill=\"#000000\" fill-rule=\"evenodd\" fill-opacity=\"1\" /><path clip-path=\"url(#clip630)\" d=\"M 0 0 M2154.04 765.936 Q2150.62 765.936 2148.62 768.621 Q2146.63 771.283 2146.63 775.936 Q2146.63 780.589 2148.6 783.274 Q2150.59 785.936 2154.04 785.936 Q2157.44 785.936 2159.43 783.251 Q2161.43 780.566 2161.43 775.936 Q2161.43 771.33 2159.43 768.644 Q2157.44 765.936 2154.04 765.936 M2154.04 762.325 Q2159.6 762.325 2162.77 765.936 Q2165.94 769.547 2165.94 775.936 Q2165.94 782.302 2162.77 785.936 Q2159.6 789.547 2154.04 789.547 Q2148.46 789.547 2145.29 785.936 Q2142.14 782.302 2142.14 775.936 Q2142.14 769.547 2145.29 765.936 Q2148.46 762.325 2154.04 762.325 Z\" fill=\"#000000\" fill-rule=\"evenodd\" fill-opacity=\"1\" /><path clip-path=\"url(#clip630)\" d=\"M 0 0 M2191.96 773.228 L2191.96 788.876 L2187.7 788.876 L2187.7 773.367 Q2187.7 769.686 2186.26 767.857 Q2184.83 766.029 2181.96 766.029 Q2178.51 766.029 2176.52 768.228 Q2174.53 770.427 2174.53 774.223 L2174.53 788.876 L2170.24 788.876 L2170.24 762.95 L2174.53 762.95 L2174.53 766.978 Q2176.06 764.64 2178.12 763.482 Q2180.2 762.325 2182.91 762.325 Q2187.37 762.325 2189.67 765.103 Q2191.96 767.857 2191.96 773.228 Z\" fill=\"#000000\" fill-rule=\"evenodd\" fill-opacity=\"1\" /></svg>\n"
      ]
     },
     "execution_count": 97,
     "metadata": {},
     "output_type": "execute_result"
    }
   ],
   "source": [
    "fig = plot(linestyle = :dot, title = \"Change of Absolute Error as Lambda Changes(Ridge)\", xlabel = \"lambda\", ylabel = \"mean absolute error\")\n",
    "findlambda(Anthem, fig, split1, \"Anthem\", AnthemMa)\n",
    "findlambda(Cardinal, fig, split1, \"Cardinal\", CardinalMa)\n",
    "findlambda(Cigna, fig, split1, \"Cigna\", CignaMa)\n",
    "findlambda(CVS, fig, split1, \"CVS\", CVSMa)\n",
    "findlambda(Gilead, fig, split1, \"Gilead\", GileadMa)\n",
    "findlambda(McKesson, fig, split1, \"McKesson\", McKessonMa)\n",
    "findlambda(Moderna, fig, split1, \"Moderna\", ModernaMa)\n",
    "findlambda(Pfizer, fig, split1, \"Pfizer\", PfizerMa)\n",
    "findlambda(United, fig, split1, \"United\", UnitedMa)\n",
    "findlambda(Johnson, fig, split1, \"Johnson\", JohnsonMa)"
   ]
  },
  {
   "cell_type": "code",
   "execution_count": 101,
   "metadata": {},
   "outputs": [
    {
     "data": {
      "text/plain": [
       "findlambda1 (generic function with 2 methods)"
      ]
     },
     "execution_count": 101,
     "metadata": {},
     "output_type": "execute_result"
    }
   ],
   "source": [
    "function findlambda1(stock, fig, split, label1, stockMa)\n",
    "    i=5\n",
    "    stock_train = stock[1][1:split[i]]\n",
    "    sent_train = sentiment[1][1:split[i]]\n",
    "    death_train = sentiment[3][1:split[i]]\n",
    "    vac_train = sentiment[2][1:split[i]]\n",
    "    shut_train = sentiment[4][1:split[i]]\n",
    "    spred_train = sentiment[5][1:split[i]]\n",
    "    death_train = sentiment[6][1:split[i]]\n",
    "    pos_train = sentiment[7][1:split[i]]\n",
    "    stockMa_train = stockMa[1:split[i]]\n",
    "\n",
    "    stock_test = stock[1][split[i]+1:split[i+1]]\n",
    "    sent_test = sentiment[1][split[i]+1:split[i+1]]\n",
    "    death_test = sentiment[3][split[i]+1:split[i+1]]\n",
    "    vac_test = sentiment[2][split[i]+1:split[i+1]]\n",
    "    shut_test = sentiment[4][split[i]+1:split[i+1]]\n",
    "    spred_test = sentiment[5][split[i]+1:split[i+1]]\n",
    "    death_test = sentiment[6][split[i]+1:split[i+1]]\n",
    "    pos_test = sentiment[7][split[i]+1:split[i+1]]\n",
    "    stockMa_test = stockMa[split[i]+1:split[i+1]]\n",
    "\n",
    "    Xtrain = [sent_train[2:end] stockMa_train[1:end-1] death_train[2:end] vac_train[2:end] shut_train[2:end] spred_train[2:end] death_train[2:end] pos_train[2:end] ones(length(stock_train)-1)]\n",
    "    Xtest = [sent_test[2:end] stockMa_test[1:end-1] death_test[2:end] vac_test[2:end] shut_test[2:end] spred_test[2:end] death_test[2:end] pos_test[2:end] ones(length(stock_test)-1)]\n",
    "    Ytrain = stock_train[2:end]\n",
    "    Ytest = stock_test[2:end]\n",
    "    #ridge regression\n",
    "    abs_er = []\n",
    "    for i in [0.1:0.1:0.9;]\n",
    "        n = length(Ytrain)\n",
    "        loss = 1/n*QuadLoss()\n",
    "\n",
    "        # we form λ|| ⋅ ||^2 by multiplying the QuadReg() function by λ\n",
    "        λ = i\n",
    "        reg = λ*OneReg()\n",
    "\n",
    "        w_cur = proxgrad(loss, reg, Xtrain, Ytrain, maxiters=1000)\n",
    "\n",
    "        pred = Xtest*w_cur\n",
    "\n",
    "        date = [5:44]\n",
    "        #Ytest = Ytest.*std1 .+ mean1\n",
    "        #pred = pred.*std1 .+ mean1\n",
    "        #plot(date, Ytest, color = :red,  label = \"Actual Stock Price\")\n",
    "        #plot!(date, pred, color = :blue, label = \"AR1 Model\")\n",
    "        abs_er = vcat(abs_er, abs_err(Ytest,pred))\n",
    "    end\n",
    "    plot!([0.1:0.1:0.9;], abs_er, label = label1)\n",
    "end"
   ]
  },
  {
   "cell_type": "code",
   "execution_count": 102,
   "metadata": {},
   "outputs": [
    {
     "data": {
      "image/svg+xml": [
       "<?xml version=\"1.0\" encoding=\"utf-8\"?>\n",
       "<svg xmlns=\"http://www.w3.org/2000/svg\" xmlns:xlink=\"http://www.w3.org/1999/xlink\" width=\"600\" height=\"400\" viewBox=\"0 0 2400 1600\">\n",
       "<defs>\n",
       "  <clipPath id=\"clip670\">\n",
       "    <rect x=\"0\" y=\"0\" width=\"2400\" height=\"1600\"/>\n",
       "  </clipPath>\n",
       "</defs>\n",
       "<path clip-path=\"url(#clip670)\" d=\"\n",
       "M0 1600 L2400 1600 L2400 0 L0 0  Z\n",
       "  \" fill=\"#ffffff\" fill-rule=\"evenodd\" fill-opacity=\"1\"/>\n",
       "<defs>\n",
       "  <clipPath id=\"clip671\">\n",
       "    <rect x=\"480\" y=\"0\" width=\"1681\" height=\"1600\"/>\n",
       "  </clipPath>\n",
       "</defs>\n",
       "<path clip-path=\"url(#clip670)\" d=\"\n",
       "M210.121 1423.18 L2352.76 1423.18 L2352.76 123.472 L210.121 123.472  Z\n",
       "  \" fill=\"#ffffff\" fill-rule=\"evenodd\" fill-opacity=\"1\"/>\n",
       "<defs>\n",
       "  <clipPath id=\"clip672\">\n",
       "    <rect x=\"210\" y=\"123\" width=\"2144\" height=\"1301\"/>\n",
       "  </clipPath>\n",
       "</defs>\n",
       "<polyline clip-path=\"url(#clip672)\" style=\"stroke:#000000; stroke-width:2; stroke-opacity:0.1; fill:none\" points=\"\n",
       "  523.431,1423.18 523.431,123.472 \n",
       "  \"/>\n",
       "<polyline clip-path=\"url(#clip672)\" style=\"stroke:#000000; stroke-width:2; stroke-opacity:0.1; fill:none\" points=\"\n",
       "  1028.77,1423.18 1028.77,123.472 \n",
       "  \"/>\n",
       "<polyline clip-path=\"url(#clip672)\" style=\"stroke:#000000; stroke-width:2; stroke-opacity:0.1; fill:none\" points=\"\n",
       "  1534.11,1423.18 1534.11,123.472 \n",
       "  \"/>\n",
       "<polyline clip-path=\"url(#clip672)\" style=\"stroke:#000000; stroke-width:2; stroke-opacity:0.1; fill:none\" points=\"\n",
       "  2039.45,1423.18 2039.45,123.472 \n",
       "  \"/>\n",
       "<polyline clip-path=\"url(#clip670)\" style=\"stroke:#000000; stroke-width:4; stroke-opacity:1; fill:none\" points=\"\n",
       "  210.121,1423.18 2352.76,1423.18 \n",
       "  \"/>\n",
       "<polyline clip-path=\"url(#clip670)\" style=\"stroke:#000000; stroke-width:4; stroke-opacity:1; fill:none\" points=\"\n",
       "  523.431,1423.18 523.431,1407.58 \n",
       "  \"/>\n",
       "<polyline clip-path=\"url(#clip670)\" style=\"stroke:#000000; stroke-width:4; stroke-opacity:1; fill:none\" points=\"\n",
       "  1028.77,1423.18 1028.77,1407.58 \n",
       "  \"/>\n",
       "<polyline clip-path=\"url(#clip670)\" style=\"stroke:#000000; stroke-width:4; stroke-opacity:1; fill:none\" points=\"\n",
       "  1534.11,1423.18 1534.11,1407.58 \n",
       "  \"/>\n",
       "<polyline clip-path=\"url(#clip670)\" style=\"stroke:#000000; stroke-width:4; stroke-opacity:1; fill:none\" points=\"\n",
       "  2039.45,1423.18 2039.45,1407.58 \n",
       "  \"/>\n",
       "<path clip-path=\"url(#clip670)\" d=\"M 0 0 M505.746 1452.37 Q502.135 1452.37 500.306 1455.94 Q498.5 1459.48 498.5 1466.61 Q498.5 1473.71 500.306 1477.28 Q502.135 1480.82 505.746 1480.82 Q509.38 1480.82 511.185 1477.28 Q513.014 1473.71 513.014 1466.61 Q513.014 1459.48 511.185 1455.94 Q509.38 1452.37 505.746 1452.37 M505.746 1448.67 Q511.556 1448.67 514.611 1453.27 Q517.69 1457.86 517.69 1466.61 Q517.69 1475.33 514.611 1479.94 Q511.556 1484.52 505.746 1484.52 Q499.936 1484.52 496.857 1479.94 Q493.801 1475.33 493.801 1466.61 Q493.801 1457.86 496.857 1453.27 Q499.936 1448.67 505.746 1448.67 Z\" fill=\"#000000\" fill-rule=\"evenodd\" fill-opacity=\"1\" /><path clip-path=\"url(#clip670)\" d=\"M 0 0 M522.759 1477.97 L527.644 1477.97 L527.644 1483.85 L522.759 1483.85 L522.759 1477.97 Z\" fill=\"#000000\" fill-rule=\"evenodd\" fill-opacity=\"1\" /><path clip-path=\"url(#clip670)\" d=\"M 0 0 M536.741 1479.92 L553.06 1479.92 L553.06 1483.85 L531.116 1483.85 L531.116 1479.92 Q533.778 1477.16 538.361 1472.53 Q542.968 1467.88 544.148 1466.54 Q546.394 1464.01 547.273 1462.28 Q548.176 1460.52 548.176 1458.83 Q548.176 1456.07 546.232 1454.34 Q544.31 1452.6 541.208 1452.6 Q539.009 1452.6 536.556 1453.37 Q534.125 1454.13 531.347 1455.68 L531.347 1450.96 Q534.171 1449.82 536.625 1449.25 Q539.079 1448.67 541.116 1448.67 Q546.486 1448.67 549.681 1451.35 Q552.875 1454.04 552.875 1458.53 Q552.875 1460.66 552.065 1462.58 Q551.278 1464.48 549.171 1467.07 Q548.593 1467.74 545.491 1470.96 Q542.389 1474.15 536.741 1479.92 Z\" fill=\"#000000\" fill-rule=\"evenodd\" fill-opacity=\"1\" /><path clip-path=\"url(#clip670)\" d=\"M 0 0 M1010.04 1452.37 Q1006.43 1452.37 1004.6 1455.94 Q1002.8 1459.48 1002.8 1466.61 Q1002.8 1473.71 1004.6 1477.28 Q1006.43 1480.82 1010.04 1480.82 Q1013.68 1480.82 1015.48 1477.28 Q1017.31 1473.71 1017.31 1466.61 Q1017.31 1459.48 1015.48 1455.94 Q1013.68 1452.37 1010.04 1452.37 M1010.04 1448.67 Q1015.85 1448.67 1018.91 1453.27 Q1021.99 1457.86 1021.99 1466.61 Q1021.99 1475.33 1018.91 1479.94 Q1015.85 1484.52 1010.04 1484.52 Q1004.23 1484.52 1001.15 1479.94 Q998.098 1475.33 998.098 1466.61 Q998.098 1457.86 1001.15 1453.27 Q1004.23 1448.67 1010.04 1448.67 Z\" fill=\"#000000\" fill-rule=\"evenodd\" fill-opacity=\"1\" /><path clip-path=\"url(#clip670)\" d=\"M 0 0 M1027.06 1477.97 L1031.94 1477.97 L1031.94 1483.85 L1027.06 1483.85 L1027.06 1477.97 Z\" fill=\"#000000\" fill-rule=\"evenodd\" fill-opacity=\"1\" /><path clip-path=\"url(#clip670)\" d=\"M 0 0 M1049.86 1453.37 L1038.05 1471.81 L1049.86 1471.81 L1049.86 1453.37 M1048.63 1449.29 L1054.51 1449.29 L1054.51 1471.81 L1059.44 1471.81 L1059.44 1475.7 L1054.51 1475.7 L1054.51 1483.85 L1049.86 1483.85 L1049.86 1475.7 L1034.26 1475.7 L1034.26 1471.19 L1048.63 1449.29 Z\" fill=\"#000000\" fill-rule=\"evenodd\" fill-opacity=\"1\" /><path clip-path=\"url(#clip670)\" d=\"M 0 0 M1515.54 1452.37 Q1511.93 1452.37 1510.1 1455.94 Q1508.3 1459.48 1508.3 1466.61 Q1508.3 1473.71 1510.1 1477.28 Q1511.93 1480.82 1515.54 1480.82 Q1519.18 1480.82 1520.98 1477.28 Q1522.81 1473.71 1522.81 1466.61 Q1522.81 1459.48 1520.98 1455.94 Q1519.18 1452.37 1515.54 1452.37 M1515.54 1448.67 Q1521.35 1448.67 1524.41 1453.27 Q1527.49 1457.86 1527.49 1466.61 Q1527.49 1475.33 1524.41 1479.94 Q1521.35 1484.52 1515.54 1484.52 Q1509.73 1484.52 1506.65 1479.94 Q1503.6 1475.33 1503.6 1466.61 Q1503.6 1457.86 1506.65 1453.27 Q1509.73 1448.67 1515.54 1448.67 Z\" fill=\"#000000\" fill-rule=\"evenodd\" fill-opacity=\"1\" /><path clip-path=\"url(#clip670)\" d=\"M 0 0 M1532.56 1477.97 L1537.44 1477.97 L1537.44 1483.85 L1532.56 1483.85 L1532.56 1477.97 Z\" fill=\"#000000\" fill-rule=\"evenodd\" fill-opacity=\"1\" /><path clip-path=\"url(#clip670)\" d=\"M 0 0 M1553.09 1464.71 Q1549.94 1464.71 1548.09 1466.86 Q1546.26 1469.01 1546.26 1472.76 Q1546.26 1476.49 1548.09 1478.67 Q1549.94 1480.82 1553.09 1480.82 Q1556.24 1480.82 1558.07 1478.67 Q1559.92 1476.49 1559.92 1472.76 Q1559.92 1469.01 1558.07 1466.86 Q1556.24 1464.71 1553.09 1464.71 M1562.37 1450.06 L1562.37 1454.31 Q1560.61 1453.48 1558.81 1453.04 Q1557.02 1452.6 1555.26 1452.6 Q1550.64 1452.6 1548.18 1455.73 Q1545.75 1458.85 1545.4 1465.17 Q1546.77 1463.16 1548.83 1462.09 Q1550.89 1461 1553.37 1461 Q1558.58 1461 1561.58 1464.18 Q1564.62 1467.32 1564.62 1472.76 Q1564.62 1478.09 1561.47 1481.31 Q1558.32 1484.52 1553.09 1484.52 Q1547.09 1484.52 1543.92 1479.94 Q1540.75 1475.33 1540.75 1466.61 Q1540.75 1458.41 1544.64 1453.55 Q1548.53 1448.67 1555.08 1448.67 Q1556.84 1448.67 1558.62 1449.01 Q1560.43 1449.36 1562.37 1450.06 Z\" fill=\"#000000\" fill-rule=\"evenodd\" fill-opacity=\"1\" /><path clip-path=\"url(#clip670)\" d=\"M 0 0 M2021.01 1452.37 Q2017.4 1452.37 2015.57 1455.94 Q2013.76 1459.48 2013.76 1466.61 Q2013.76 1473.71 2015.57 1477.28 Q2017.4 1480.82 2021.01 1480.82 Q2024.64 1480.82 2026.45 1477.28 Q2028.28 1473.71 2028.28 1466.61 Q2028.28 1459.48 2026.45 1455.94 Q2024.64 1452.37 2021.01 1452.37 M2021.01 1448.67 Q2026.82 1448.67 2029.87 1453.27 Q2032.95 1457.86 2032.95 1466.61 Q2032.95 1475.33 2029.87 1479.94 Q2026.82 1484.52 2021.01 1484.52 Q2015.2 1484.52 2012.12 1479.94 Q2009.06 1475.33 2009.06 1466.61 Q2009.06 1457.86 2012.12 1453.27 Q2015.2 1448.67 2021.01 1448.67 Z\" fill=\"#000000\" fill-rule=\"evenodd\" fill-opacity=\"1\" /><path clip-path=\"url(#clip670)\" d=\"M 0 0 M2038.02 1477.97 L2042.91 1477.97 L2042.91 1483.85 L2038.02 1483.85 L2038.02 1477.97 Z\" fill=\"#000000\" fill-rule=\"evenodd\" fill-opacity=\"1\" /><path clip-path=\"url(#clip670)\" d=\"M 0 0 M2057.98 1467.44 Q2054.64 1467.44 2052.72 1469.22 Q2050.82 1471 2050.82 1474.13 Q2050.82 1477.25 2052.72 1479.04 Q2054.64 1480.82 2057.98 1480.82 Q2061.31 1480.82 2063.23 1479.04 Q2065.15 1477.23 2065.15 1474.13 Q2065.15 1471 2063.23 1469.22 Q2061.33 1467.44 2057.98 1467.44 M2053.3 1465.45 Q2050.29 1464.71 2048.6 1462.65 Q2046.93 1460.59 2046.93 1457.63 Q2046.93 1453.48 2049.87 1451.07 Q2052.84 1448.67 2057.98 1448.67 Q2063.14 1448.67 2066.08 1451.07 Q2069.02 1453.48 2069.02 1457.63 Q2069.02 1460.59 2067.33 1462.65 Q2065.66 1464.71 2062.68 1465.45 Q2066.05 1466.24 2067.93 1468.53 Q2069.83 1470.82 2069.83 1474.13 Q2069.83 1479.15 2066.75 1481.84 Q2063.69 1484.52 2057.98 1484.52 Q2052.26 1484.52 2049.18 1481.84 Q2046.12 1479.15 2046.12 1474.13 Q2046.12 1470.82 2048.02 1468.53 Q2049.92 1466.24 2053.3 1465.45 M2051.59 1458.06 Q2051.59 1460.75 2053.25 1462.25 Q2054.94 1463.76 2057.98 1463.76 Q2060.99 1463.76 2062.68 1462.25 Q2064.39 1460.75 2064.39 1458.06 Q2064.39 1455.38 2062.68 1453.88 Q2060.99 1452.37 2057.98 1452.37 Q2054.94 1452.37 2053.25 1453.88 Q2051.59 1455.38 2051.59 1458.06 Z\" fill=\"#000000\" fill-rule=\"evenodd\" fill-opacity=\"1\" /><path clip-path=\"url(#clip670)\" d=\"M 0 0 M1178.87 1506.52 L1184.73 1506.52 L1184.73 1556.04 L1178.87 1556.04 L1178.87 1506.52 Z\" fill=\"#000000\" fill-rule=\"evenodd\" fill-opacity=\"1\" /><path clip-path=\"url(#clip670)\" d=\"M 0 0 M1207.07 1538.12 Q1199.97 1538.12 1197.24 1539.75 Q1194.5 1541.37 1194.5 1545.29 Q1194.5 1548.4 1196.54 1550.25 Q1198.6 1552.07 1202.14 1552.07 Q1207.01 1552.07 1209.94 1548.63 Q1212.9 1545.16 1212.9 1539.43 L1212.9 1538.12 L1207.07 1538.12 M1218.75 1535.71 L1218.75 1556.04 L1212.9 1556.04 L1212.9 1550.63 Q1210.89 1553.88 1207.9 1555.44 Q1204.91 1556.97 1200.58 1556.97 Q1195.1 1556.97 1191.86 1553.91 Q1188.64 1550.82 1188.64 1545.67 Q1188.64 1539.65 1192.65 1536.6 Q1196.69 1533.54 1204.68 1533.54 L1212.9 1533.54 L1212.9 1532.97 Q1212.9 1528.93 1210.22 1526.73 Q1207.58 1524.5 1202.77 1524.5 Q1199.72 1524.5 1196.82 1525.23 Q1193.93 1525.97 1191.25 1527.43 L1191.25 1522.02 Q1194.47 1520.78 1197.49 1520.17 Q1200.51 1519.54 1203.38 1519.54 Q1211.11 1519.54 1214.93 1523.55 Q1218.75 1527.56 1218.75 1535.71 Z\" fill=\"#000000\" fill-rule=\"evenodd\" fill-opacity=\"1\" /><path clip-path=\"url(#clip670)\" d=\"M 0 0 M1252.65 1527.24 Q1254.85 1523.29 1257.9 1521.41 Q1260.96 1519.54 1265.09 1519.54 Q1270.66 1519.54 1273.69 1523.45 Q1276.71 1527.33 1276.71 1534.53 L1276.71 1556.04 L1270.82 1556.04 L1270.82 1534.72 Q1270.82 1529.59 1269.01 1527.11 Q1267.2 1524.63 1263.47 1524.63 Q1258.92 1524.63 1256.28 1527.65 Q1253.64 1530.68 1253.64 1535.9 L1253.64 1556.04 L1247.75 1556.04 L1247.75 1534.72 Q1247.75 1529.56 1245.93 1527.11 Q1244.12 1524.63 1240.33 1524.63 Q1235.84 1524.63 1233.2 1527.68 Q1230.56 1530.71 1230.56 1535.9 L1230.56 1556.04 L1224.67 1556.04 L1224.67 1520.4 L1230.56 1520.4 L1230.56 1525.93 Q1232.57 1522.66 1235.37 1521.1 Q1238.17 1519.54 1242.02 1519.54 Q1245.9 1519.54 1248.61 1521.51 Q1251.34 1523.48 1252.65 1527.24 Z\" fill=\"#000000\" fill-rule=\"evenodd\" fill-opacity=\"1\" /><path clip-path=\"url(#clip670)\" d=\"M 0 0 M1308.44 1538.25 Q1308.44 1531.79 1305.77 1528.13 Q1303.13 1524.44 1298.48 1524.44 Q1293.84 1524.44 1291.16 1528.13 Q1288.52 1531.79 1288.52 1538.25 Q1288.52 1544.71 1291.16 1548.4 Q1293.84 1552.07 1298.48 1552.07 Q1303.13 1552.07 1305.77 1548.4 Q1308.44 1544.71 1308.44 1538.25 M1288.52 1525.81 Q1290.37 1522.62 1293.17 1521.1 Q1296 1519.54 1299.91 1519.54 Q1306.41 1519.54 1310.45 1524.69 Q1314.52 1529.85 1314.52 1538.25 Q1314.52 1546.65 1310.45 1551.81 Q1306.41 1556.97 1299.91 1556.97 Q1296 1556.97 1293.17 1555.44 Q1290.37 1553.88 1288.52 1550.7 L1288.52 1556.04 L1282.63 1556.04 L1282.63 1506.52 L1288.52 1506.52 L1288.52 1525.81 Z\" fill=\"#000000\" fill-rule=\"evenodd\" fill-opacity=\"1\" /><path clip-path=\"url(#clip670)\" d=\"M 0 0 M1344.12 1525.81 L1344.12 1506.52 L1349.98 1506.52 L1349.98 1556.04 L1344.12 1556.04 L1344.12 1550.7 Q1342.28 1553.88 1339.45 1555.44 Q1336.65 1556.97 1332.7 1556.97 Q1326.24 1556.97 1322.16 1551.81 Q1318.12 1546.65 1318.12 1538.25 Q1318.12 1529.85 1322.16 1524.69 Q1326.24 1519.54 1332.7 1519.54 Q1336.65 1519.54 1339.45 1521.1 Q1342.28 1522.62 1344.12 1525.81 M1324.17 1538.25 Q1324.17 1544.71 1326.81 1548.4 Q1329.48 1552.07 1334.13 1552.07 Q1338.78 1552.07 1341.45 1548.4 Q1344.12 1544.71 1344.12 1538.25 Q1344.12 1531.79 1341.45 1528.13 Q1338.78 1524.44 1334.13 1524.44 Q1329.48 1524.44 1326.81 1528.13 Q1324.17 1531.79 1324.17 1538.25 Z\" fill=\"#000000\" fill-rule=\"evenodd\" fill-opacity=\"1\" /><path clip-path=\"url(#clip670)\" d=\"M 0 0 M1372.32 1538.12 Q1365.23 1538.12 1362.49 1539.75 Q1359.75 1541.37 1359.75 1545.29 Q1359.75 1548.4 1361.79 1550.25 Q1363.86 1552.07 1367.39 1552.07 Q1372.26 1552.07 1375.19 1548.63 Q1378.15 1545.16 1378.15 1539.43 L1378.15 1538.12 L1372.32 1538.12 M1384.01 1535.71 L1384.01 1556.04 L1378.15 1556.04 L1378.15 1550.63 Q1376.14 1553.88 1373.15 1555.44 Q1370.16 1556.97 1365.83 1556.97 Q1360.36 1556.97 1357.11 1553.91 Q1353.9 1550.82 1353.9 1545.67 Q1353.9 1539.65 1357.91 1536.6 Q1361.95 1533.54 1369.94 1533.54 L1378.15 1533.54 L1378.15 1532.97 Q1378.15 1528.93 1375.48 1526.73 Q1372.83 1524.5 1368.03 1524.5 Q1364.97 1524.5 1362.08 1525.23 Q1359.18 1525.97 1356.51 1527.43 L1356.51 1522.02 Q1359.72 1520.78 1362.74 1520.17 Q1365.77 1519.54 1368.63 1519.54 Q1376.37 1519.54 1380.19 1523.55 Q1384.01 1527.56 1384.01 1535.71 Z\" fill=\"#000000\" fill-rule=\"evenodd\" fill-opacity=\"1\" /><polyline clip-path=\"url(#clip672)\" style=\"stroke:#000000; stroke-width:2; stroke-opacity:0.1; fill:none\" points=\"\n",
       "  210.121,1154.87 2352.76,1154.87 \n",
       "  \"/>\n",
       "<polyline clip-path=\"url(#clip672)\" style=\"stroke:#000000; stroke-width:2; stroke-opacity:0.1; fill:none\" points=\"\n",
       "  210.121,852.529 2352.76,852.529 \n",
       "  \"/>\n",
       "<polyline clip-path=\"url(#clip672)\" style=\"stroke:#000000; stroke-width:2; stroke-opacity:0.1; fill:none\" points=\"\n",
       "  210.121,550.191 2352.76,550.191 \n",
       "  \"/>\n",
       "<polyline clip-path=\"url(#clip672)\" style=\"stroke:#000000; stroke-width:2; stroke-opacity:0.1; fill:none\" points=\"\n",
       "  210.121,247.854 2352.76,247.854 \n",
       "  \"/>\n",
       "<polyline clip-path=\"url(#clip670)\" style=\"stroke:#000000; stroke-width:4; stroke-opacity:1; fill:none\" points=\"\n",
       "  210.121,1423.18 210.121,123.472 \n",
       "  \"/>\n",
       "<polyline clip-path=\"url(#clip670)\" style=\"stroke:#000000; stroke-width:4; stroke-opacity:1; fill:none\" points=\"\n",
       "  210.121,1154.87 235.833,1154.87 \n",
       "  \"/>\n",
       "<polyline clip-path=\"url(#clip670)\" style=\"stroke:#000000; stroke-width:4; stroke-opacity:1; fill:none\" points=\"\n",
       "  210.121,852.529 235.833,852.529 \n",
       "  \"/>\n",
       "<polyline clip-path=\"url(#clip670)\" style=\"stroke:#000000; stroke-width:4; stroke-opacity:1; fill:none\" points=\"\n",
       "  210.121,550.191 235.833,550.191 \n",
       "  \"/>\n",
       "<polyline clip-path=\"url(#clip670)\" style=\"stroke:#000000; stroke-width:4; stroke-opacity:1; fill:none\" points=\"\n",
       "  210.121,247.854 235.833,247.854 \n",
       "  \"/>\n",
       "<path clip-path=\"url(#clip670)\" d=\"M 0 0 M126.205 1140.67 Q122.593 1140.67 120.765 1144.23 Q118.959 1147.77 118.959 1154.9 Q118.959 1162.01 120.765 1165.57 Q122.593 1169.11 126.205 1169.11 Q129.839 1169.11 131.644 1165.57 Q133.473 1162.01 133.473 1154.9 Q133.473 1147.77 131.644 1144.23 Q129.839 1140.67 126.205 1140.67 M126.205 1136.96 Q132.015 1136.96 135.07 1141.57 Q138.149 1146.15 138.149 1154.9 Q138.149 1163.63 135.07 1168.23 Q132.015 1172.82 126.205 1172.82 Q120.394 1172.82 117.316 1168.23 Q114.26 1163.63 114.26 1154.9 Q114.26 1146.15 117.316 1141.57 Q120.394 1136.96 126.205 1136.96 Z\" fill=\"#000000\" fill-rule=\"evenodd\" fill-opacity=\"1\" /><path clip-path=\"url(#clip670)\" d=\"M 0 0 M143.218 1166.27 L148.103 1166.27 L148.103 1172.15 L143.218 1172.15 L143.218 1166.27 Z\" fill=\"#000000\" fill-rule=\"evenodd\" fill-opacity=\"1\" /><path clip-path=\"url(#clip670)\" d=\"M 0 0 M153.218 1137.59 L171.575 1137.59 L171.575 1141.52 L157.501 1141.52 L157.501 1149.99 Q158.519 1149.65 159.538 1149.48 Q160.556 1149.3 161.575 1149.3 Q167.362 1149.3 170.741 1152.47 Q174.121 1155.64 174.121 1161.06 Q174.121 1166.64 170.649 1169.74 Q167.177 1172.82 160.857 1172.82 Q158.681 1172.82 156.413 1172.45 Q154.167 1172.08 151.76 1171.34 L151.76 1166.64 Q153.843 1167.77 156.065 1168.33 Q158.288 1168.88 160.765 1168.88 Q164.769 1168.88 167.107 1166.78 Q169.445 1164.67 169.445 1161.06 Q169.445 1157.45 167.107 1155.34 Q164.769 1153.23 160.765 1153.23 Q158.89 1153.23 157.015 1153.65 Q155.163 1154.07 153.218 1154.95 L153.218 1137.59 Z\" fill=\"#000000\" fill-rule=\"evenodd\" fill-opacity=\"1\" /><path clip-path=\"url(#clip670)\" d=\"M 0 0 M117.246 865.874 L124.885 865.874 L124.885 839.508 L116.575 841.175 L116.575 836.915 L124.839 835.249 L129.515 835.249 L129.515 865.874 L137.154 865.874 L137.154 869.809 L117.246 869.809 L117.246 865.874 Z\" fill=\"#000000\" fill-rule=\"evenodd\" fill-opacity=\"1\" /><path clip-path=\"url(#clip670)\" d=\"M 0 0 M142.223 863.929 L147.107 863.929 L147.107 869.809 L142.223 869.809 L142.223 863.929 Z\" fill=\"#000000\" fill-rule=\"evenodd\" fill-opacity=\"1\" /><path clip-path=\"url(#clip670)\" d=\"M 0 0 M162.177 838.327 Q158.565 838.327 156.737 841.892 Q154.931 845.434 154.931 852.564 Q154.931 859.67 156.737 863.235 Q158.565 866.776 162.177 866.776 Q165.811 866.776 167.616 863.235 Q169.445 859.67 169.445 852.564 Q169.445 845.434 167.616 841.892 Q165.811 838.327 162.177 838.327 M162.177 834.624 Q167.987 834.624 171.042 839.23 Q174.121 843.814 174.121 852.564 Q174.121 861.29 171.042 865.897 Q167.987 870.48 162.177 870.48 Q156.366 870.48 153.288 865.897 Q150.232 861.29 150.232 852.564 Q150.232 843.814 153.288 839.23 Q156.366 834.624 162.177 834.624 Z\" fill=\"#000000\" fill-rule=\"evenodd\" fill-opacity=\"1\" /><path clip-path=\"url(#clip670)\" d=\"M 0 0 M118.242 563.536 L125.88 563.536 L125.88 537.17 L117.57 538.837 L117.57 534.578 L125.834 532.911 L130.51 532.911 L130.51 563.536 L138.149 563.536 L138.149 567.471 L118.242 567.471 L118.242 563.536 Z\" fill=\"#000000\" fill-rule=\"evenodd\" fill-opacity=\"1\" /><path clip-path=\"url(#clip670)\" d=\"M 0 0 M143.218 561.592 L148.103 561.592 L148.103 567.471 L143.218 567.471 L143.218 561.592 Z\" fill=\"#000000\" fill-rule=\"evenodd\" fill-opacity=\"1\" /><path clip-path=\"url(#clip670)\" d=\"M 0 0 M153.218 532.911 L171.575 532.911 L171.575 536.846 L157.501 536.846 L157.501 545.319 Q158.519 544.971 159.538 544.809 Q160.556 544.624 161.575 544.624 Q167.362 544.624 170.741 547.795 Q174.121 550.967 174.121 556.383 Q174.121 561.962 170.649 565.064 Q167.177 568.142 160.857 568.142 Q158.681 568.142 156.413 567.772 Q154.167 567.402 151.76 566.661 L151.76 561.962 Q153.843 563.096 156.065 563.652 Q158.288 564.207 160.765 564.207 Q164.769 564.207 167.107 562.101 Q169.445 559.994 169.445 556.383 Q169.445 552.772 167.107 550.666 Q164.769 548.559 160.765 548.559 Q158.89 548.559 157.015 548.976 Q155.163 549.393 153.218 550.272 L153.218 532.911 Z\" fill=\"#000000\" fill-rule=\"evenodd\" fill-opacity=\"1\" /><path clip-path=\"url(#clip670)\" d=\"M 0 0 M120.834 261.198 L137.154 261.198 L137.154 265.134 L115.209 265.134 L115.209 261.198 Q117.871 258.444 122.455 253.814 Q127.061 249.161 128.242 247.819 Q130.487 245.296 131.367 243.56 Q132.269 241.8 132.269 240.111 Q132.269 237.356 130.325 235.62 Q128.404 233.884 125.302 233.884 Q123.103 233.884 120.649 234.648 Q118.218 235.411 115.441 236.962 L115.441 232.24 Q118.265 231.106 120.718 230.527 Q123.172 229.949 125.209 229.949 Q130.58 229.949 133.774 232.634 Q136.968 235.319 136.968 239.81 Q136.968 241.939 136.158 243.861 Q135.371 245.759 133.265 248.351 Q132.686 249.023 129.584 252.24 Q126.482 255.435 120.834 261.198 Z\" fill=\"#000000\" fill-rule=\"evenodd\" fill-opacity=\"1\" /><path clip-path=\"url(#clip670)\" d=\"M 0 0 M142.223 259.254 L147.107 259.254 L147.107 265.134 L142.223 265.134 L142.223 259.254 Z\" fill=\"#000000\" fill-rule=\"evenodd\" fill-opacity=\"1\" /><path clip-path=\"url(#clip670)\" d=\"M 0 0 M162.177 233.652 Q158.565 233.652 156.737 237.217 Q154.931 240.759 154.931 247.888 Q154.931 254.995 156.737 258.56 Q158.565 262.101 162.177 262.101 Q165.811 262.101 167.616 258.56 Q169.445 254.995 169.445 247.888 Q169.445 240.759 167.616 237.217 Q165.811 233.652 162.177 233.652 M162.177 229.949 Q167.987 229.949 171.042 234.555 Q174.121 239.138 174.121 247.888 Q174.121 256.615 171.042 261.222 Q167.987 265.805 162.177 265.805 Q156.366 265.805 153.288 261.222 Q150.232 256.615 150.232 247.888 Q150.232 239.138 153.288 234.555 Q156.366 229.949 162.177 229.949 Z\" fill=\"#000000\" fill-rule=\"evenodd\" fill-opacity=\"1\" /><path clip-path=\"url(#clip670)\" d=\"M 0 0 M59.1993 1044.17 Q55.2526 1041.97 53.3747 1038.92 Q51.4968 1035.86 51.4968 1031.73 Q51.4968 1026.16 55.4117 1023.13 Q59.2948 1020.11 66.4881 1020.11 L88.0042 1020.11 L88.0042 1026 L66.679 1026 Q61.5546 1026 59.072 1027.81 Q56.5894 1029.63 56.5894 1033.35 Q56.5894 1037.9 59.6131 1040.54 Q62.6368 1043.18 67.8567 1043.18 L88.0042 1043.18 L88.0042 1049.07 L66.679 1049.07 Q61.5228 1049.07 59.072 1050.89 Q56.5894 1052.7 56.5894 1056.49 Q56.5894 1060.98 59.6449 1063.62 Q62.6686 1066.26 67.8567 1066.26 L88.0042 1066.26 L88.0042 1072.15 L52.3562 1072.15 L52.3562 1066.26 L57.8944 1066.26 Q54.616 1064.25 53.0564 1061.45 Q51.4968 1058.65 51.4968 1054.8 Q51.4968 1050.92 53.4702 1048.21 Q55.4436 1045.48 59.1993 1044.17 Z\" fill=\"#000000\" fill-rule=\"evenodd\" fill-opacity=\"1\" /><path clip-path=\"url(#clip670)\" d=\"M 0 0 M68.7161 983.474 L71.5806 983.474 L71.5806 1010.4 Q77.6281 1010.02 80.8109 1006.77 Q83.9619 1003.49 83.9619 997.669 Q83.9619 994.296 83.1344 991.145 Q82.3069 987.962 80.6518 984.843 L86.1899 984.843 Q87.5267 987.994 88.227 991.304 Q88.9272 994.614 88.9272 998.02 Q88.9272 1006.55 83.9619 1011.55 Q78.9967 1016.51 70.5303 1016.51 Q61.7774 1016.51 56.6531 1011.8 Q51.4968 1007.06 51.4968 999.038 Q51.4968 991.845 56.1438 987.675 Q60.7589 983.474 68.7161 983.474 M66.9973 989.33 Q62.1912 989.394 59.3266 992.036 Q56.4621 994.646 56.4621 998.974 Q56.4621 1003.88 59.2312 1006.84 Q62.0002 1009.76 67.0292 1010.21 L66.9973 989.33 Z\" fill=\"#000000\" fill-rule=\"evenodd\" fill-opacity=\"1\" /><path clip-path=\"url(#clip670)\" d=\"M 0 0 M70.0847 961.13 Q70.0847 968.228 71.7079 970.965 Q73.3312 973.703 77.2461 973.703 Q80.3653 973.703 82.2114 971.665 Q84.0256 969.597 84.0256 966.064 Q84.0256 961.194 80.5881 958.266 Q77.1188 955.306 71.3897 955.306 L70.0847 955.306 L70.0847 961.13 M67.6657 949.449 L88.0042 949.449 L88.0042 955.306 L82.5933 955.306 Q85.8398 957.311 87.3994 960.303 Q88.9272 963.295 88.9272 967.623 Q88.9272 973.098 85.8716 976.344 Q82.7843 979.559 77.6281 979.559 Q71.6125 979.559 68.5569 975.549 Q65.5014 971.506 65.5014 963.517 L65.5014 955.306 L64.9285 955.306 Q60.8862 955.306 58.6901 957.979 Q56.4621 960.621 56.4621 965.427 Q56.4621 968.483 57.1941 971.379 Q57.9262 974.275 59.3903 976.949 L53.9795 976.949 Q52.7381 973.734 52.1334 970.711 Q51.4968 967.687 51.4968 964.822 Q51.4968 957.088 55.5072 953.269 Q59.5176 949.449 67.6657 949.449 Z\" fill=\"#000000\" fill-rule=\"evenodd\" fill-opacity=\"1\" /><path clip-path=\"url(#clip670)\" d=\"M 0 0 M66.4881 913.674 L88.0042 913.674 L88.0042 919.53 L66.679 919.53 Q61.6183 919.53 59.1038 921.504 Q56.5894 923.477 56.5894 927.424 Q56.5894 932.166 59.6131 934.904 Q62.6368 937.641 67.8567 937.641 L88.0042 937.641 L88.0042 943.529 L52.3562 943.529 L52.3562 937.641 L57.8944 937.641 Q54.6797 935.54 53.0883 932.707 Q51.4968 929.843 51.4968 926.119 Q51.4968 919.976 55.3163 916.825 Q59.1038 913.674 66.4881 913.674 Z\" fill=\"#000000\" fill-rule=\"evenodd\" fill-opacity=\"1\" /><path clip-path=\"url(#clip670)\" d=\"M 0 0 M70.0847 870.61 Q70.0847 877.708 71.7079 880.445 Q73.3312 883.182 77.2461 883.182 Q80.3653 883.182 82.2114 881.145 Q84.0256 879.076 84.0256 875.543 Q84.0256 870.674 80.5881 867.745 Q77.1188 864.785 71.3897 864.785 L70.0847 864.785 L70.0847 870.61 M67.6657 858.929 L88.0042 858.929 L88.0042 864.785 L82.5933 864.785 Q85.8398 866.79 87.3994 869.782 Q88.9272 872.774 88.9272 877.103 Q88.9272 882.577 85.8716 885.824 Q82.7843 889.039 77.6281 889.039 Q71.6125 889.039 68.5569 885.028 Q65.5014 880.986 65.5014 872.997 L65.5014 864.785 L64.9285 864.785 Q60.8862 864.785 58.6901 867.459 Q56.4621 870.101 56.4621 874.907 Q56.4621 877.962 57.1941 880.859 Q57.9262 883.755 59.3903 886.429 L53.9795 886.429 Q52.7381 883.214 52.1334 880.19 Q51.4968 877.167 51.4968 874.302 Q51.4968 866.568 55.5072 862.748 Q59.5176 858.929 67.6657 858.929 Z\" fill=\"#000000\" fill-rule=\"evenodd\" fill-opacity=\"1\" /><path clip-path=\"url(#clip670)\" d=\"M 0 0 M70.212 827.196 Q63.7508 827.196 60.0905 829.869 Q56.3984 832.511 56.3984 837.158 Q56.3984 841.805 60.0905 844.479 Q63.7508 847.12 70.212 847.12 Q76.6732 847.12 80.3653 844.479 Q84.0256 841.805 84.0256 837.158 Q84.0256 832.511 80.3653 829.869 Q76.6732 827.196 70.212 827.196 M57.7671 847.12 Q54.5842 845.274 53.0564 842.473 Q51.4968 839.641 51.4968 835.726 Q51.4968 829.233 56.6531 825.191 Q61.8093 821.117 70.212 821.117 Q78.6147 821.117 83.771 825.191 Q88.9272 829.233 88.9272 835.726 Q88.9272 839.641 87.3994 842.473 Q85.8398 845.274 82.657 847.12 L88.0042 847.12 L88.0042 853.009 L38.479 853.009 L38.479 847.12 L57.7671 847.12 Z\" fill=\"#000000\" fill-rule=\"evenodd\" fill-opacity=\"1\" /><path clip-path=\"url(#clip670)\" d=\"M 0 0 M53.4065 792.248 L58.9447 792.248 Q57.6716 794.731 57.035 797.404 Q56.3984 800.078 56.3984 802.942 Q56.3984 807.303 57.7352 809.499 Q59.072 811.663 61.7456 811.663 Q63.7826 811.663 64.9603 810.104 Q66.1061 808.544 67.1565 803.834 L67.6021 801.828 Q68.9389 795.59 71.3897 792.98 Q73.8086 790.338 78.1691 790.338 Q83.1344 790.338 86.0308 794.285 Q88.9272 798.2 88.9272 805.075 Q88.9272 807.94 88.3543 811.059 Q87.8132 814.146 86.6992 817.584 L80.6518 817.584 Q82.3387 814.337 83.198 811.186 Q84.0256 808.035 84.0256 804.948 Q84.0256 800.81 82.6251 798.582 Q81.1929 796.354 78.6147 796.354 Q76.2276 796.354 74.9545 797.977 Q73.6813 799.569 72.5037 805.011 L72.0262 807.048 Q70.8804 812.491 68.5251 814.91 Q66.138 817.329 62.0002 817.329 Q56.9713 817.329 54.2341 813.764 Q51.4968 810.199 51.4968 803.643 Q51.4968 800.396 51.9743 797.532 Q52.4517 794.667 53.4065 792.248 Z\" fill=\"#000000\" fill-rule=\"evenodd\" fill-opacity=\"1\" /><path clip-path=\"url(#clip670)\" d=\"M 0 0 M56.4621 770.382 Q56.4621 775.092 60.1542 777.83 Q63.8145 780.567 70.212 780.567 Q76.6095 780.567 80.3017 777.862 Q83.9619 775.124 83.9619 770.382 Q83.9619 765.703 80.2698 762.966 Q76.5777 760.229 70.212 760.229 Q63.8781 760.229 60.186 762.966 Q56.4621 765.703 56.4621 770.382 M51.4968 770.382 Q51.4968 762.743 56.4621 758.382 Q61.4273 754.022 70.212 754.022 Q78.9649 754.022 83.9619 758.382 Q88.9272 762.743 88.9272 770.382 Q88.9272 778.053 83.9619 782.413 Q78.9649 786.742 70.212 786.742 Q61.4273 786.742 56.4621 782.413 Q51.4968 778.053 51.4968 770.382 Z\" fill=\"#000000\" fill-rule=\"evenodd\" fill-opacity=\"1\" /><path clip-path=\"url(#clip670)\" d=\"M 0 0 M38.479 747.879 L38.479 742.023 L88.0042 742.023 L88.0042 747.879 L38.479 747.879 Z\" fill=\"#000000\" fill-rule=\"evenodd\" fill-opacity=\"1\" /><path clip-path=\"url(#clip670)\" d=\"M 0 0 M73.9359 736.484 L52.3562 736.484 L52.3562 730.628 L73.7131 730.628 Q78.7739 730.628 81.3202 728.655 Q83.8346 726.681 83.8346 722.735 Q83.8346 717.992 80.8109 715.255 Q77.7872 712.486 72.5673 712.486 L52.3562 712.486 L52.3562 706.629 L88.0042 706.629 L88.0042 712.486 L82.5296 712.486 Q85.7762 714.618 87.3676 717.451 Q88.9272 720.252 88.9272 723.976 Q88.9272 730.119 85.1078 733.302 Q81.2883 736.484 73.9359 736.484 M51.4968 721.748 L51.4968 721.748 Z\" fill=\"#000000\" fill-rule=\"evenodd\" fill-opacity=\"1\" /><path clip-path=\"url(#clip670)\" d=\"M 0 0 M42.2347 694.694 L52.3562 694.694 L52.3562 682.631 L56.9077 682.631 L56.9077 694.694 L76.2594 694.694 Q80.6199 694.694 81.8613 693.516 Q83.1026 692.306 83.1026 688.646 L83.1026 682.631 L88.0042 682.631 L88.0042 688.646 Q88.0042 695.426 85.4897 698.004 Q82.9434 700.582 76.2594 700.582 L56.9077 700.582 L56.9077 704.879 L52.3562 704.879 L52.3562 700.582 L42.2347 700.582 L42.2347 694.694 Z\" fill=\"#000000\" fill-rule=\"evenodd\" fill-opacity=\"1\" /><path clip-path=\"url(#clip670)\" d=\"M 0 0 M68.7161 645.996 L71.5806 645.996 L71.5806 672.923 Q77.6281 672.541 80.8109 669.294 Q83.9619 666.016 83.9619 660.191 Q83.9619 656.818 83.1344 653.667 Q82.3069 650.484 80.6518 647.365 L86.1899 647.365 Q87.5267 650.516 88.227 653.826 Q88.9272 657.136 88.9272 660.542 Q88.9272 669.072 83.9619 674.069 Q78.9967 679.034 70.5303 679.034 Q61.7774 679.034 56.6531 674.323 Q51.4968 669.581 51.4968 661.56 Q51.4968 654.367 56.1438 650.197 Q60.7589 645.996 68.7161 645.996 M66.9973 651.852 Q62.1912 651.916 59.3266 654.558 Q56.4621 657.168 56.4621 661.496 Q56.4621 666.398 59.2312 669.358 Q62.0002 672.286 67.0292 672.732 L66.9973 651.852 Z\" fill=\"#000000\" fill-rule=\"evenodd\" fill-opacity=\"1\" /><path clip-path=\"url(#clip670)\" d=\"M 0 0 M68.7161 588.641 L71.5806 588.641 L71.5806 615.568 Q77.6281 615.186 80.8109 611.939 Q83.9619 608.661 83.9619 602.836 Q83.9619 599.463 83.1344 596.312 Q82.3069 593.129 80.6518 590.01 L86.1899 590.01 Q87.5267 593.161 88.227 596.471 Q88.9272 599.781 88.9272 603.187 Q88.9272 611.717 83.9619 616.714 Q78.9967 621.679 70.5303 621.679 Q61.7774 621.679 56.6531 616.968 Q51.4968 612.226 51.4968 604.205 Q51.4968 597.012 56.1438 592.842 Q60.7589 588.641 68.7161 588.641 M66.9973 594.497 Q62.1912 594.561 59.3266 597.203 Q56.4621 599.813 56.4621 604.141 Q56.4621 609.043 59.2312 612.003 Q62.0002 614.931 67.0292 615.377 L66.9973 594.497 Z\" fill=\"#000000\" fill-rule=\"evenodd\" fill-opacity=\"1\" /><path clip-path=\"url(#clip670)\" d=\"M 0 0 M57.8307 561.841 Q57.2578 562.828 57.0032 564.006 Q56.7167 565.151 56.7167 566.552 Q56.7167 571.517 59.9632 574.191 Q63.1779 576.833 69.2253 576.833 L88.0042 576.833 L88.0042 582.721 L52.3562 582.721 L52.3562 576.833 L57.8944 576.833 Q54.6479 574.986 53.0883 572.026 Q51.4968 569.066 51.4968 564.833 Q51.4968 564.228 51.5923 563.496 Q51.656 562.764 51.8151 561.873 L57.8307 561.841 Z\" fill=\"#000000\" fill-rule=\"evenodd\" fill-opacity=\"1\" /><path clip-path=\"url(#clip670)\" d=\"M 0 0 M57.8307 536.187 Q57.2578 537.174 57.0032 538.352 Q56.7167 539.498 56.7167 540.898 Q56.7167 545.863 59.9632 548.537 Q63.1779 551.179 69.2253 551.179 L88.0042 551.179 L88.0042 557.067 L52.3562 557.067 L52.3562 551.179 L57.8944 551.179 Q54.6479 549.333 53.0883 546.373 Q51.4968 543.413 51.4968 539.179 Q51.4968 538.575 51.5923 537.843 Q51.656 537.111 51.8151 536.219 L57.8307 536.187 Z\" fill=\"#000000\" fill-rule=\"evenodd\" fill-opacity=\"1\" /><path clip-path=\"url(#clip670)\" d=\"M 0 0 M56.4621 517.663 Q56.4621 522.374 60.1542 525.111 Q63.8145 527.848 70.212 527.848 Q76.6095 527.848 80.3017 525.143 Q83.9619 522.406 83.9619 517.663 Q83.9619 512.984 80.2698 510.247 Q76.5777 507.51 70.212 507.51 Q63.8781 507.51 60.186 510.247 Q56.4621 512.984 56.4621 517.663 M51.4968 517.663 Q51.4968 510.024 56.4621 505.664 Q61.4273 501.303 70.212 501.303 Q78.9649 501.303 83.9619 505.664 Q88.9272 510.024 88.9272 517.663 Q88.9272 525.334 83.9619 529.694 Q78.9649 534.023 70.212 534.023 Q61.4273 534.023 56.4621 529.694 Q51.4968 525.334 51.4968 517.663 Z\" fill=\"#000000\" fill-rule=\"evenodd\" fill-opacity=\"1\" /><path clip-path=\"url(#clip670)\" d=\"M 0 0 M57.8307 474.504 Q57.2578 475.49 57.0032 476.668 Q56.7167 477.814 56.7167 479.214 Q56.7167 484.18 59.9632 486.853 Q63.1779 489.495 69.2253 489.495 L88.0042 489.495 L88.0042 495.383 L52.3562 495.383 L52.3562 489.495 L57.8944 489.495 Q54.6479 487.649 53.0883 484.689 Q51.4968 481.729 51.4968 477.496 Q51.4968 476.891 51.5923 476.159 Q51.656 475.427 51.8151 474.536 L57.8307 474.504 Z\" fill=\"#000000\" fill-rule=\"evenodd\" fill-opacity=\"1\" /><path clip-path=\"url(#clip670)\" d=\"M 0 0 M332.818 16.7545 L332.818 25.383 Q328.686 21.5346 323.987 19.6307 Q319.328 17.7268 314.062 17.7268 Q303.692 17.7268 298.183 24.0867 Q292.673 30.4061 292.673 42.3968 Q292.673 54.3469 298.183 60.7069 Q303.692 67.0263 314.062 67.0263 Q319.328 67.0263 323.987 65.1223 Q328.686 63.2184 332.818 59.3701 L332.818 67.9175 Q328.524 70.8341 323.703 72.2924 Q318.923 73.7508 313.576 73.7508 Q299.844 73.7508 291.944 65.3654 Q284.045 56.9395 284.045 42.3968 Q284.045 27.8135 291.944 19.4281 Q299.844 11.0023 313.576 11.0023 Q319.004 11.0023 323.784 12.4606 Q328.605 13.8784 332.818 16.7545 Z\" fill=\"#000000\" fill-rule=\"evenodd\" fill-opacity=\"1\" /><path clip-path=\"url(#clip670)\" d=\"M 0 0 M378.35 45.1919 L378.35 72.576 L370.896 72.576 L370.896 45.4349 Q370.896 38.994 368.385 35.7938 Q365.873 32.5936 360.85 32.5936 Q354.814 32.5936 351.331 36.4419 Q347.847 40.2903 347.847 46.9338 L347.847 72.576 L340.353 72.576 L340.353 9.54393 L347.847 9.54393 L347.847 34.2544 Q350.52 30.163 354.126 28.1376 Q357.772 26.1121 362.511 26.1121 Q370.329 26.1121 374.34 30.9732 Q378.35 35.7938 378.35 45.1919 Z\" fill=\"#000000\" fill-rule=\"evenodd\" fill-opacity=\"1\" /><path clip-path=\"url(#clip670)\" d=\"M 0 0 M406.787 49.7694 Q397.754 49.7694 394.27 51.8354 Q390.786 53.9013 390.786 58.8839 Q390.786 62.8538 393.379 65.2034 Q396.012 67.5124 400.509 67.5124 Q406.706 67.5124 410.433 63.1374 Q414.201 58.7219 414.201 51.4303 L414.201 49.7694 L406.787 49.7694 M421.654 46.6907 L421.654 72.576 L414.201 72.576 L414.201 65.6895 Q411.649 69.8214 407.841 71.8063 Q404.033 73.7508 398.524 73.7508 Q391.556 73.7508 387.424 69.8619 Q383.333 65.9325 383.333 59.3701 Q383.333 51.7138 388.437 47.825 Q393.581 43.9361 403.749 43.9361 L414.201 43.9361 L414.201 43.2069 Q414.201 38.0623 410.798 35.2672 Q407.436 32.4315 401.319 32.4315 Q397.43 32.4315 393.744 33.3632 Q390.057 34.295 386.654 36.1584 L386.654 29.2718 Q390.746 27.692 394.594 26.9223 Q398.443 26.1121 402.088 26.1121 Q411.932 26.1121 416.793 31.2163 Q421.654 36.3204 421.654 46.6907 Z\" fill=\"#000000\" fill-rule=\"evenodd\" fill-opacity=\"1\" /><path clip-path=\"url(#clip670)\" d=\"M 0 0 M467.186 45.1919 L467.186 72.576 L459.733 72.576 L459.733 45.4349 Q459.733 38.994 457.221 35.7938 Q454.71 32.5936 449.687 32.5936 Q443.651 32.5936 440.167 36.4419 Q436.683 40.2903 436.683 46.9338 L436.683 72.576 L429.189 72.576 L429.189 27.2059 L436.683 27.2059 L436.683 34.2544 Q439.357 30.163 442.962 28.1376 Q446.608 26.1121 451.347 26.1121 Q459.166 26.1121 463.176 30.9732 Q467.186 35.7938 467.186 45.1919 Z\" fill=\"#000000\" fill-rule=\"evenodd\" fill-opacity=\"1\" /><path clip-path=\"url(#clip670)\" d=\"M 0 0 M504.86 49.3643 Q504.86 41.2625 501.498 36.8065 Q498.176 32.3505 492.14 32.3505 Q486.145 32.3505 482.782 36.8065 Q479.461 41.2625 479.461 49.3643 Q479.461 57.4256 482.782 61.8816 Q486.145 66.3376 492.14 66.3376 Q498.176 66.3376 501.498 61.8816 Q504.86 57.4256 504.86 49.3643 M512.313 66.9452 Q512.313 78.5308 507.169 84.1616 Q502.024 89.8329 491.411 89.8329 Q487.481 89.8329 483.998 89.2252 Q480.514 88.6581 477.233 87.4428 L477.233 80.1917 Q480.514 81.9741 483.714 82.8248 Q486.914 83.6755 490.236 83.6755 Q497.568 83.6755 501.214 79.8271 Q504.86 76.0193 504.86 68.282 L504.86 64.5957 Q502.551 68.6061 498.946 70.5911 Q495.34 72.576 490.317 72.576 Q481.972 72.576 476.868 66.2161 Q471.764 59.8562 471.764 49.3643 Q471.764 38.832 476.868 32.472 Q481.972 26.1121 490.317 26.1121 Q495.34 26.1121 498.946 28.0971 Q502.551 30.082 504.86 34.0924 L504.86 27.2059 L512.313 27.2059 L512.313 66.9452 Z\" fill=\"#000000\" fill-rule=\"evenodd\" fill-opacity=\"1\" /><path clip-path=\"url(#clip670)\" d=\"M 0 0 M558.939 48.0275 L558.939 51.6733 L524.669 51.6733 Q525.155 59.3701 529.287 63.421 Q533.459 67.4314 540.872 67.4314 Q545.166 67.4314 549.177 66.3781 Q553.228 65.3249 557.198 63.2184 L557.198 70.267 Q553.187 71.9684 548.974 72.8596 Q544.761 73.7508 540.427 73.7508 Q529.57 73.7508 523.21 67.4314 Q516.891 61.1119 516.891 50.3365 Q516.891 39.1965 522.886 32.6746 Q528.922 26.1121 539.13 26.1121 Q548.286 26.1121 553.592 32.0264 Q558.939 37.9003 558.939 48.0275 M551.486 45.84 Q551.405 39.7232 548.042 36.0774 Q544.721 32.4315 539.212 32.4315 Q532.973 32.4315 529.206 35.9558 Q525.479 39.4801 524.912 45.8805 L551.486 45.84 Z\" fill=\"#000000\" fill-rule=\"evenodd\" fill-opacity=\"1\" /><path clip-path=\"url(#clip670)\" d=\"M 0 0 M610.71 32.4315 Q604.715 32.4315 601.231 37.1306 Q597.747 41.7891 597.747 49.9314 Q597.747 58.0738 601.19 62.7728 Q604.674 67.4314 610.71 67.4314 Q616.665 67.4314 620.149 62.7323 Q623.632 58.0333 623.632 49.9314 Q623.632 41.8701 620.149 37.1711 Q616.665 32.4315 610.71 32.4315 M610.71 26.1121 Q620.432 26.1121 625.982 32.4315 Q631.532 38.7509 631.532 49.9314 Q631.532 61.0714 625.982 67.4314 Q620.432 73.7508 610.71 73.7508 Q600.947 73.7508 595.398 67.4314 Q589.888 61.0714 589.888 49.9314 Q589.888 38.7509 595.398 32.4315 Q600.947 26.1121 610.71 26.1121 Z\" fill=\"#000000\" fill-rule=\"evenodd\" fill-opacity=\"1\" /><path clip-path=\"url(#clip670)\" d=\"M 0 0 M662.318 9.54393 L662.318 15.7418 L655.189 15.7418 Q651.178 15.7418 649.599 17.3622 Q648.059 18.9825 648.059 23.1955 L648.059 27.2059 L660.334 27.2059 L660.334 32.9987 L648.059 32.9987 L648.059 72.576 L640.565 72.576 L640.565 32.9987 L633.436 32.9987 L633.436 27.2059 L640.565 27.2059 L640.565 24.0462 Q640.565 16.471 644.089 13.0277 Q647.614 9.54393 655.27 9.54393 L662.318 9.54393 Z\" fill=\"#000000\" fill-rule=\"evenodd\" fill-opacity=\"1\" /><path clip-path=\"url(#clip670)\" d=\"M 0 0 M717.046 20.1573 L705.947 50.2555 L728.186 50.2555 L717.046 20.1573 M712.428 12.096 L721.705 12.096 L744.754 72.576 L736.247 72.576 L730.738 57.061 L703.476 57.061 L697.966 72.576 L689.338 72.576 L712.428 12.096 Z\" fill=\"#000000\" fill-rule=\"evenodd\" fill-opacity=\"1\" /><path clip-path=\"url(#clip670)\" d=\"M 0 0 M785.142 49.9314 Q785.142 41.7081 781.739 37.0496 Q778.377 32.3505 772.463 32.3505 Q766.548 32.3505 763.145 37.0496 Q759.783 41.7081 759.783 49.9314 Q759.783 58.1548 763.145 62.8538 Q766.548 67.5124 772.463 67.5124 Q778.377 67.5124 781.739 62.8538 Q785.142 58.1548 785.142 49.9314 M759.783 34.0924 Q762.133 30.0415 765.698 28.0971 Q769.303 26.1121 774.285 26.1121 Q782.549 26.1121 787.694 32.6746 Q792.879 39.2371 792.879 49.9314 Q792.879 60.6258 787.694 67.1883 Q782.549 73.7508 774.285 73.7508 Q769.303 73.7508 765.698 71.8063 Q762.133 69.8214 759.783 65.7705 L759.783 72.576 L752.289 72.576 L752.289 9.54393 L759.783 9.54393 L759.783 34.0924 Z\" fill=\"#000000\" fill-rule=\"evenodd\" fill-opacity=\"1\" /><path clip-path=\"url(#clip670)\" d=\"M 0 0 M829.621 28.5427 L829.621 35.5912 Q826.461 33.9709 823.058 33.1607 Q819.656 32.3505 816.01 32.3505 Q810.46 32.3505 807.665 34.0519 Q804.91 35.7533 804.91 39.156 Q804.91 41.7486 806.895 43.2475 Q808.88 44.7058 814.876 46.0426 L817.428 46.6097 Q825.367 48.3111 828.689 51.4303 Q832.051 54.509 832.051 60.0587 Q832.051 66.3781 827.028 70.0644 Q822.046 73.7508 813.296 73.7508 Q809.65 73.7508 805.68 73.0216 Q801.751 72.3329 797.376 70.9151 L797.376 63.2184 Q801.508 65.3654 805.518 66.4591 Q809.528 67.5124 813.458 67.5124 Q818.724 67.5124 821.56 65.73 Q824.395 63.9071 824.395 60.6258 Q824.395 57.5877 822.329 55.9673 Q820.304 54.3469 813.377 52.8481 L810.784 52.2405 Q803.857 50.7821 800.778 47.7845 Q797.7 44.7463 797.7 39.4801 Q797.7 33.0797 802.237 29.5959 Q806.774 26.1121 815.119 26.1121 Q819.251 26.1121 822.896 26.7198 Q826.542 27.3274 829.621 28.5427 Z\" fill=\"#000000\" fill-rule=\"evenodd\" fill-opacity=\"1\" /><path clip-path=\"url(#clip670)\" d=\"M 0 0 M857.451 32.4315 Q851.455 32.4315 847.971 37.1306 Q844.488 41.7891 844.488 49.9314 Q844.488 58.0738 847.931 62.7728 Q851.415 67.4314 857.451 67.4314 Q863.405 67.4314 866.889 62.7323 Q870.373 58.0333 870.373 49.9314 Q870.373 41.8701 866.889 37.1711 Q863.405 32.4315 857.451 32.4315 M857.451 26.1121 Q867.173 26.1121 872.722 32.4315 Q878.272 38.7509 878.272 49.9314 Q878.272 61.0714 872.722 67.4314 Q867.173 73.7508 857.451 73.7508 Q847.688 73.7508 842.138 67.4314 Q836.629 61.0714 836.629 49.9314 Q836.629 38.7509 842.138 32.4315 Q847.688 26.1121 857.451 26.1121 Z\" fill=\"#000000\" fill-rule=\"evenodd\" fill-opacity=\"1\" /><path clip-path=\"url(#clip670)\" d=\"M 0 0 M886.09 9.54393 L893.544 9.54393 L893.544 72.576 L886.09 72.576 L886.09 9.54393 Z\" fill=\"#000000\" fill-rule=\"evenodd\" fill-opacity=\"1\" /><path clip-path=\"url(#clip670)\" d=\"M 0 0 M900.593 54.671 L900.593 27.2059 L908.046 27.2059 L908.046 54.3874 Q908.046 60.8284 910.558 64.0691 Q913.069 67.2693 918.093 67.2693 Q924.128 67.2693 927.612 63.421 Q931.136 59.5726 931.136 52.9291 L931.136 27.2059 L938.59 27.2059 L938.59 72.576 L931.136 72.576 L931.136 65.6084 Q928.422 69.7404 924.817 71.7658 Q921.252 73.7508 916.513 73.7508 Q908.694 73.7508 904.644 68.8897 Q900.593 64.0286 900.593 54.671 M919.348 26.1121 L919.348 26.1121 Z\" fill=\"#000000\" fill-rule=\"evenodd\" fill-opacity=\"1\" /><path clip-path=\"url(#clip670)\" d=\"M 0 0 M953.781 14.324 L953.781 27.2059 L969.134 27.2059 L969.134 32.9987 L953.781 32.9987 L953.781 57.6282 Q953.781 63.1779 955.28 64.7578 Q956.819 66.3376 961.478 66.3376 L969.134 66.3376 L969.134 72.576 L961.478 72.576 Q952.849 72.576 949.568 69.3758 Q946.287 66.1351 946.287 57.6282 L946.287 32.9987 L940.818 32.9987 L940.818 27.2059 L946.287 27.2059 L946.287 14.324 L953.781 14.324 Z\" fill=\"#000000\" fill-rule=\"evenodd\" fill-opacity=\"1\" /><path clip-path=\"url(#clip670)\" d=\"M 0 0 M1015.76 48.0275 L1015.76 51.6733 L981.489 51.6733 Q981.975 59.3701 986.107 63.421 Q990.28 67.4314 997.693 67.4314 Q1001.99 67.4314 1006 66.3781 Q1010.05 65.3249 1014.02 63.2184 L1014.02 70.267 Q1010.01 71.9684 1005.79 72.8596 Q1001.58 73.7508 997.247 73.7508 Q986.391 73.7508 980.031 67.4314 Q973.711 61.1119 973.711 50.3365 Q973.711 39.1965 979.707 32.6746 Q985.743 26.1121 995.951 26.1121 Q1005.11 26.1121 1010.41 32.0264 Q1015.76 37.9003 1015.76 48.0275 M1008.31 45.84 Q1008.23 39.7232 1004.86 36.0774 Q1001.54 32.4315 996.032 32.4315 Q989.794 32.4315 986.026 35.9558 Q982.299 39.4801 981.732 45.8805 L1008.31 45.84 Z\" fill=\"#000000\" fill-rule=\"evenodd\" fill-opacity=\"1\" /><path clip-path=\"url(#clip670)\" d=\"M 0 0 M1050.27 12.096 L1088.51 12.096 L1088.51 18.9825 L1058.46 18.9825 L1058.46 36.8875 L1087.26 36.8875 L1087.26 43.7741 L1058.46 43.7741 L1058.46 65.6895 L1089.24 65.6895 L1089.24 72.576 L1050.27 72.576 L1050.27 12.096 Z\" fill=\"#000000\" fill-rule=\"evenodd\" fill-opacity=\"1\" /><path clip-path=\"url(#clip670)\" d=\"M 0 0 M1123.35 34.1734 Q1122.1 33.4443 1120.6 33.1202 Q1119.14 32.7556 1117.36 32.7556 Q1111.04 32.7556 1107.63 36.8875 Q1104.27 40.9789 1104.27 48.6757 L1104.27 72.576 L1096.78 72.576 L1096.78 27.2059 L1104.27 27.2059 L1104.27 34.2544 Q1106.62 30.1225 1110.39 28.1376 Q1114.16 26.1121 1119.54 26.1121 Q1120.31 26.1121 1121.25 26.2337 Q1122.18 26.3147 1123.31 26.5172 L1123.35 34.1734 Z\" fill=\"#000000\" fill-rule=\"evenodd\" fill-opacity=\"1\" /><path clip-path=\"url(#clip670)\" d=\"M 0 0 M1156 34.1734 Q1154.75 33.4443 1153.25 33.1202 Q1151.79 32.7556 1150.01 32.7556 Q1143.69 32.7556 1140.28 36.8875 Q1136.92 40.9789 1136.92 48.6757 L1136.92 72.576 L1129.43 72.576 L1129.43 27.2059 L1136.92 27.2059 L1136.92 34.2544 Q1139.27 30.1225 1143.04 28.1376 Q1146.81 26.1121 1152.19 26.1121 Q1152.96 26.1121 1153.9 26.2337 Q1154.83 26.3147 1155.96 26.5172 L1156 34.1734 Z\" fill=\"#000000\" fill-rule=\"evenodd\" fill-opacity=\"1\" /><path clip-path=\"url(#clip670)\" d=\"M 0 0 M1179.58 32.4315 Q1173.58 32.4315 1170.1 37.1306 Q1166.62 41.7891 1166.62 49.9314 Q1166.62 58.0738 1170.06 62.7728 Q1173.54 67.4314 1179.58 67.4314 Q1185.53 67.4314 1189.02 62.7323 Q1192.5 58.0333 1192.5 49.9314 Q1192.5 41.8701 1189.02 37.1711 Q1185.53 32.4315 1179.58 32.4315 M1179.58 26.1121 Q1189.3 26.1121 1194.85 32.4315 Q1200.4 38.7509 1200.4 49.9314 Q1200.4 61.0714 1194.85 67.4314 Q1189.3 73.7508 1179.58 73.7508 Q1169.82 73.7508 1164.27 67.4314 Q1158.76 61.0714 1158.76 49.9314 Q1158.76 38.7509 1164.27 32.4315 Q1169.82 26.1121 1179.58 26.1121 Z\" fill=\"#000000\" fill-rule=\"evenodd\" fill-opacity=\"1\" /><path clip-path=\"url(#clip670)\" d=\"M 0 0 M1234.51 34.1734 Q1233.25 33.4443 1231.75 33.1202 Q1230.3 32.7556 1228.51 32.7556 Q1222.19 32.7556 1218.79 36.8875 Q1215.43 40.9789 1215.43 48.6757 L1215.43 72.576 L1207.93 72.576 L1207.93 27.2059 L1215.43 27.2059 L1215.43 34.2544 Q1217.78 30.1225 1221.55 28.1376 Q1225.31 26.1121 1230.7 26.1121 Q1231.47 26.1121 1232.4 26.2337 Q1233.33 26.3147 1234.47 26.5172 L1234.51 34.1734 Z\" fill=\"#000000\" fill-rule=\"evenodd\" fill-opacity=\"1\" /><path clip-path=\"url(#clip670)\" d=\"M 0 0 M1289.32 49.7694 Q1280.28 49.7694 1276.8 51.8354 Q1273.32 53.9013 1273.32 58.8839 Q1273.32 62.8538 1275.91 65.2034 Q1278.54 67.5124 1283.04 67.5124 Q1289.24 67.5124 1292.96 63.1374 Q1296.73 58.7219 1296.73 51.4303 L1296.73 49.7694 L1289.32 49.7694 M1304.18 46.6907 L1304.18 72.576 L1296.73 72.576 L1296.73 65.6895 Q1294.18 69.8214 1290.37 71.8063 Q1286.56 73.7508 1281.05 73.7508 Q1274.09 73.7508 1269.95 69.8619 Q1265.86 65.9325 1265.86 59.3701 Q1265.86 51.7138 1270.97 47.825 Q1276.11 43.9361 1286.28 43.9361 L1296.73 43.9361 L1296.73 43.2069 Q1296.73 38.0623 1293.33 35.2672 Q1289.97 32.4315 1283.85 32.4315 Q1279.96 32.4315 1276.27 33.3632 Q1272.59 34.295 1269.18 36.1584 L1269.18 29.2718 Q1273.28 27.692 1277.12 26.9223 Q1280.97 26.1121 1284.62 26.1121 Q1294.46 26.1121 1299.32 31.2163 Q1304.18 36.3204 1304.18 46.6907 Z\" fill=\"#000000\" fill-rule=\"evenodd\" fill-opacity=\"1\" /><path clip-path=\"url(#clip670)\" d=\"M 0 0 M1340.93 28.5427 L1340.93 35.5912 Q1337.77 33.9709 1334.36 33.1607 Q1330.96 32.3505 1327.31 32.3505 Q1321.77 32.3505 1318.97 34.0519 Q1316.22 35.7533 1316.22 39.156 Q1316.22 41.7486 1318.2 43.2475 Q1320.19 44.7058 1326.18 46.0426 L1328.73 46.6097 Q1336.67 48.3111 1339.99 51.4303 Q1343.36 54.509 1343.36 60.0587 Q1343.36 66.3781 1338.33 70.0644 Q1333.35 73.7508 1324.6 73.7508 Q1320.95 73.7508 1316.99 73.0216 Q1313.06 72.3329 1308.68 70.9151 L1308.68 63.2184 Q1312.81 65.3654 1316.82 66.4591 Q1320.83 67.5124 1324.76 67.5124 Q1330.03 67.5124 1332.86 65.73 Q1335.7 63.9071 1335.7 60.6258 Q1335.7 57.5877 1333.63 55.9673 Q1331.61 54.3469 1324.68 52.8481 L1322.09 52.2405 Q1315.16 50.7821 1312.08 47.7845 Q1309 44.7463 1309 39.4801 Q1309 33.0797 1313.54 29.5959 Q1318.08 26.1121 1326.42 26.1121 Q1330.56 26.1121 1334.2 26.7198 Q1337.85 27.3274 1340.93 28.5427 Z\" fill=\"#000000\" fill-rule=\"evenodd\" fill-opacity=\"1\" /><path clip-path=\"url(#clip670)\" d=\"M 0 0 M1377.87 12.096 L1386.05 12.096 L1386.05 65.6895 L1415.5 65.6895 L1415.5 72.576 L1377.87 72.576 L1377.87 12.096 Z\" fill=\"#000000\" fill-rule=\"evenodd\" fill-opacity=\"1\" /><path clip-path=\"url(#clip670)\" d=\"M 0 0 M1443.94 49.7694 Q1434.91 49.7694 1431.42 51.8354 Q1427.94 53.9013 1427.94 58.8839 Q1427.94 62.8538 1430.53 65.2034 Q1433.17 67.5124 1437.66 67.5124 Q1443.86 67.5124 1447.59 63.1374 Q1451.35 58.7219 1451.35 51.4303 L1451.35 49.7694 L1443.94 49.7694 M1458.81 46.6907 L1458.81 72.576 L1451.35 72.576 L1451.35 65.6895 Q1448.8 69.8214 1444.99 71.8063 Q1441.19 73.7508 1435.68 73.7508 Q1428.71 73.7508 1424.58 69.8619 Q1420.49 65.9325 1420.49 59.3701 Q1420.49 51.7138 1425.59 47.825 Q1430.73 43.9361 1440.9 43.9361 L1451.35 43.9361 L1451.35 43.2069 Q1451.35 38.0623 1447.95 35.2672 Q1444.59 32.4315 1438.47 32.4315 Q1434.58 32.4315 1430.9 33.3632 Q1427.21 34.295 1423.81 36.1584 L1423.81 29.2718 Q1427.9 27.692 1431.75 26.9223 Q1435.6 26.1121 1439.24 26.1121 Q1449.09 26.1121 1453.95 31.2163 Q1458.81 36.3204 1458.81 46.6907 Z\" fill=\"#000000\" fill-rule=\"evenodd\" fill-opacity=\"1\" /><path clip-path=\"url(#clip670)\" d=\"M 0 0 M1501.95 35.9153 Q1504.74 30.8922 1508.63 28.5022 Q1512.52 26.1121 1517.79 26.1121 Q1524.88 26.1121 1528.73 31.0947 Q1532.57 36.0368 1532.57 45.1919 L1532.57 72.576 L1525.08 72.576 L1525.08 45.4349 Q1525.08 38.913 1522.77 35.7533 Q1520.46 32.5936 1515.72 32.5936 Q1509.93 32.5936 1506.57 36.4419 Q1503.21 40.2903 1503.21 46.9338 L1503.21 72.576 L1495.71 72.576 L1495.71 45.4349 Q1495.71 38.8725 1493.4 35.7533 Q1491.09 32.5936 1486.27 32.5936 Q1480.56 32.5936 1477.2 36.4824 Q1473.84 40.3308 1473.84 46.9338 L1473.84 72.576 L1466.34 72.576 L1466.34 27.2059 L1473.84 27.2059 L1473.84 34.2544 Q1476.39 30.082 1479.95 28.0971 Q1483.52 26.1121 1488.42 26.1121 Q1493.36 26.1121 1496.8 28.6237 Q1500.29 31.1352 1501.95 35.9153 Z\" fill=\"#000000\" fill-rule=\"evenodd\" fill-opacity=\"1\" /><path clip-path=\"url(#clip670)\" d=\"M 0 0 M1572.96 49.9314 Q1572.96 41.7081 1569.56 37.0496 Q1566.2 32.3505 1560.28 32.3505 Q1554.37 32.3505 1550.97 37.0496 Q1547.6 41.7081 1547.6 49.9314 Q1547.6 58.1548 1550.97 62.8538 Q1554.37 67.5124 1560.28 67.5124 Q1566.2 67.5124 1569.56 62.8538 Q1572.96 58.1548 1572.96 49.9314 M1547.6 34.0924 Q1549.95 30.0415 1553.52 28.0971 Q1557.12 26.1121 1562.11 26.1121 Q1570.37 26.1121 1575.51 32.6746 Q1580.7 39.2371 1580.7 49.9314 Q1580.7 60.6258 1575.51 67.1883 Q1570.37 73.7508 1562.11 73.7508 Q1557.12 73.7508 1553.52 71.8063 Q1549.95 69.8214 1547.6 65.7705 L1547.6 72.576 L1540.11 72.576 L1540.11 9.54393 L1547.6 9.54393 L1547.6 34.0924 Z\" fill=\"#000000\" fill-rule=\"evenodd\" fill-opacity=\"1\" /><path clip-path=\"url(#clip670)\" d=\"M 0 0 M1618.37 34.0924 L1618.37 9.54393 L1625.83 9.54393 L1625.83 72.576 L1618.37 72.576 L1618.37 65.7705 Q1616.02 69.8214 1612.42 71.8063 Q1608.85 73.7508 1603.83 73.7508 Q1595.61 73.7508 1590.42 67.1883 Q1585.28 60.6258 1585.28 49.9314 Q1585.28 39.2371 1590.42 32.6746 Q1595.61 26.1121 1603.83 26.1121 Q1608.85 26.1121 1612.42 28.0971 Q1616.02 30.0415 1618.37 34.0924 M1592.97 49.9314 Q1592.97 58.1548 1596.34 62.8538 Q1599.74 67.5124 1605.65 67.5124 Q1611.57 67.5124 1614.97 62.8538 Q1618.37 58.1548 1618.37 49.9314 Q1618.37 41.7081 1614.97 37.0496 Q1611.57 32.3505 1605.65 32.3505 Q1599.74 32.3505 1596.34 37.0496 Q1592.97 41.7081 1592.97 49.9314 Z\" fill=\"#000000\" fill-rule=\"evenodd\" fill-opacity=\"1\" /><path clip-path=\"url(#clip670)\" d=\"M 0 0 M1654.26 49.7694 Q1645.23 49.7694 1641.75 51.8354 Q1638.26 53.9013 1638.26 58.8839 Q1638.26 62.8538 1640.85 65.2034 Q1643.49 67.5124 1647.98 67.5124 Q1654.18 67.5124 1657.91 63.1374 Q1661.68 58.7219 1661.68 51.4303 L1661.68 49.7694 L1654.26 49.7694 M1669.13 46.6907 L1669.13 72.576 L1661.68 72.576 L1661.68 65.6895 Q1659.12 69.8214 1655.32 71.8063 Q1651.51 73.7508 1646 73.7508 Q1639.03 73.7508 1634.9 69.8619 Q1630.81 65.9325 1630.81 59.3701 Q1630.81 51.7138 1635.91 47.825 Q1641.06 43.9361 1651.23 43.9361 L1661.68 43.9361 L1661.68 43.2069 Q1661.68 38.0623 1658.27 35.2672 Q1654.91 32.4315 1648.79 32.4315 Q1644.91 32.4315 1641.22 33.3632 Q1637.53 34.295 1634.13 36.1584 L1634.13 29.2718 Q1638.22 27.692 1642.07 26.9223 Q1645.92 26.1121 1649.56 26.1121 Q1659.41 26.1121 1664.27 31.2163 Q1669.13 36.3204 1669.13 46.6907 Z\" fill=\"#000000\" fill-rule=\"evenodd\" fill-opacity=\"1\" /><path clip-path=\"url(#clip670)\" d=\"M 0 0 M1748.93 16.7545 L1748.93 25.383 Q1744.8 21.5346 1740.1 19.6307 Q1735.44 17.7268 1730.18 17.7268 Q1719.81 17.7268 1714.3 24.0867 Q1708.79 30.4061 1708.79 42.3968 Q1708.79 54.3469 1714.3 60.7069 Q1719.81 67.0263 1730.18 67.0263 Q1735.44 67.0263 1740.1 65.1223 Q1744.8 63.2184 1748.93 59.3701 L1748.93 67.9175 Q1744.64 70.8341 1739.82 72.2924 Q1735.04 73.7508 1729.69 73.7508 Q1715.96 73.7508 1708.06 65.3654 Q1700.16 56.9395 1700.16 42.3968 Q1700.16 27.8135 1708.06 19.4281 Q1715.96 11.0023 1729.69 11.0023 Q1735.12 11.0023 1739.9 12.4606 Q1744.72 13.8784 1748.93 16.7545 Z\" fill=\"#000000\" fill-rule=\"evenodd\" fill-opacity=\"1\" /><path clip-path=\"url(#clip670)\" d=\"M 0 0 M1794.47 45.1919 L1794.47 72.576 L1787.01 72.576 L1787.01 45.4349 Q1787.01 38.994 1784.5 35.7938 Q1781.99 32.5936 1776.97 32.5936 Q1770.93 32.5936 1767.45 36.4419 Q1763.96 40.2903 1763.96 46.9338 L1763.96 72.576 L1756.47 72.576 L1756.47 9.54393 L1763.96 9.54393 L1763.96 34.2544 Q1766.64 30.163 1770.24 28.1376 Q1773.89 26.1121 1778.63 26.1121 Q1786.44 26.1121 1790.45 30.9732 Q1794.47 35.7938 1794.47 45.1919 Z\" fill=\"#000000\" fill-rule=\"evenodd\" fill-opacity=\"1\" /><path clip-path=\"url(#clip670)\" d=\"M 0 0 M1822.9 49.7694 Q1813.87 49.7694 1810.39 51.8354 Q1806.9 53.9013 1806.9 58.8839 Q1806.9 62.8538 1809.49 65.2034 Q1812.13 67.5124 1816.62 67.5124 Q1822.82 67.5124 1826.55 63.1374 Q1830.32 58.7219 1830.32 51.4303 L1830.32 49.7694 L1822.9 49.7694 M1837.77 46.6907 L1837.77 72.576 L1830.32 72.576 L1830.32 65.6895 Q1827.76 69.8214 1823.96 71.8063 Q1820.15 73.7508 1814.64 73.7508 Q1807.67 73.7508 1803.54 69.8619 Q1799.45 65.9325 1799.45 59.3701 Q1799.45 51.7138 1804.55 47.825 Q1809.7 43.9361 1819.86 43.9361 L1830.32 43.9361 L1830.32 43.2069 Q1830.32 38.0623 1826.91 35.2672 Q1823.55 32.4315 1817.43 32.4315 Q1813.54 32.4315 1809.86 33.3632 Q1806.17 34.295 1802.77 36.1584 L1802.77 29.2718 Q1806.86 27.692 1810.71 26.9223 Q1814.56 26.1121 1818.2 26.1121 Q1828.05 26.1121 1832.91 31.2163 Q1837.77 36.3204 1837.77 46.6907 Z\" fill=\"#000000\" fill-rule=\"evenodd\" fill-opacity=\"1\" /><path clip-path=\"url(#clip670)\" d=\"M 0 0 M1883.3 45.1919 L1883.3 72.576 L1875.85 72.576 L1875.85 45.4349 Q1875.85 38.994 1873.34 35.7938 Q1870.82 32.5936 1865.8 32.5936 Q1859.77 32.5936 1856.28 36.4419 Q1852.8 40.2903 1852.8 46.9338 L1852.8 72.576 L1845.3 72.576 L1845.3 27.2059 L1852.8 27.2059 L1852.8 34.2544 Q1855.47 30.163 1859.08 28.1376 Q1862.72 26.1121 1867.46 26.1121 Q1875.28 26.1121 1879.29 30.9732 Q1883.3 35.7938 1883.3 45.1919 Z\" fill=\"#000000\" fill-rule=\"evenodd\" fill-opacity=\"1\" /><path clip-path=\"url(#clip670)\" d=\"M 0 0 M1920.97 49.3643 Q1920.97 41.2625 1917.61 36.8065 Q1914.29 32.3505 1908.26 32.3505 Q1902.26 32.3505 1898.9 36.8065 Q1895.58 41.2625 1895.58 49.3643 Q1895.58 57.4256 1898.9 61.8816 Q1902.26 66.3376 1908.26 66.3376 Q1914.29 66.3376 1917.61 61.8816 Q1920.97 57.4256 1920.97 49.3643 M1928.43 66.9452 Q1928.43 78.5308 1923.28 84.1616 Q1918.14 89.8329 1907.53 89.8329 Q1903.6 89.8329 1900.11 89.2252 Q1896.63 88.6581 1893.35 87.4428 L1893.35 80.1917 Q1896.63 81.9741 1899.83 82.8248 Q1903.03 83.6755 1906.35 83.6755 Q1913.68 83.6755 1917.33 79.8271 Q1920.97 76.0193 1920.97 68.282 L1920.97 64.5957 Q1918.67 68.6061 1915.06 70.5911 Q1911.46 72.576 1906.43 72.576 Q1898.09 72.576 1892.98 66.2161 Q1887.88 59.8562 1887.88 49.3643 Q1887.88 38.832 1892.98 32.472 Q1898.09 26.1121 1906.43 26.1121 Q1911.46 26.1121 1915.06 28.0971 Q1918.67 30.082 1920.97 34.0924 L1920.97 27.2059 L1928.43 27.2059 L1928.43 66.9452 Z\" fill=\"#000000\" fill-rule=\"evenodd\" fill-opacity=\"1\" /><path clip-path=\"url(#clip670)\" d=\"M 0 0 M1975.05 48.0275 L1975.05 51.6733 L1940.78 51.6733 Q1941.27 59.3701 1945.4 63.421 Q1949.57 67.4314 1956.99 67.4314 Q1961.28 67.4314 1965.29 66.3781 Q1969.34 65.3249 1973.31 63.2184 L1973.31 70.267 Q1969.3 71.9684 1965.09 72.8596 Q1960.88 73.7508 1956.54 73.7508 Q1945.69 73.7508 1939.33 67.4314 Q1933.01 61.1119 1933.01 50.3365 Q1933.01 39.1965 1939 32.6746 Q1945.04 26.1121 1955.25 26.1121 Q1964.4 26.1121 1969.71 32.0264 Q1975.05 37.9003 1975.05 48.0275 M1967.6 45.84 Q1967.52 39.7232 1964.16 36.0774 Q1960.84 32.4315 1955.33 32.4315 Q1949.09 32.4315 1945.32 35.9558 Q1941.59 39.4801 1941.03 45.8805 L1967.6 45.84 Z\" fill=\"#000000\" fill-rule=\"evenodd\" fill-opacity=\"1\" /><path clip-path=\"url(#clip670)\" d=\"M 0 0 M2011.8 28.5427 L2011.8 35.5912 Q2008.64 33.9709 2005.23 33.1607 Q2001.83 32.3505 1998.19 32.3505 Q1992.64 32.3505 1989.84 34.0519 Q1987.09 35.7533 1987.09 39.156 Q1987.09 41.7486 1989.07 43.2475 Q1991.06 44.7058 1997.05 46.0426 L1999.6 46.6097 Q2007.54 48.3111 2010.86 51.4303 Q2014.23 54.509 2014.23 60.0587 Q2014.23 66.3781 2009.2 70.0644 Q2004.22 73.7508 1995.47 73.7508 Q1991.83 73.7508 1987.86 73.0216 Q1983.93 72.3329 1979.55 70.9151 L1979.55 63.2184 Q1983.68 65.3654 1987.69 66.4591 Q1991.7 67.5124 1995.63 67.5124 Q2000.9 67.5124 2003.73 65.73 Q2006.57 63.9071 2006.57 60.6258 Q2006.57 57.5877 2004.5 55.9673 Q2002.48 54.3469 1995.55 52.8481 L1992.96 52.2405 Q1986.03 50.7821 1982.95 47.7845 Q1979.88 44.7463 1979.88 39.4801 Q1979.88 33.0797 1984.41 29.5959 Q1988.95 26.1121 1997.29 26.1121 Q2001.43 26.1121 2005.07 26.7198 Q2008.72 27.3274 2011.8 28.5427 Z\" fill=\"#000000\" fill-rule=\"evenodd\" fill-opacity=\"1\" /><path clip-path=\"url(#clip670)\" d=\"M 0 0 M2039.95 9.62495 Q2034.52 18.942 2031.89 28.0566 Q2029.26 37.1711 2029.26 46.5287 Q2029.26 55.8863 2031.89 65.0818 Q2034.56 74.2369 2039.95 83.5134 L2033.47 83.5134 Q2027.39 73.9938 2024.35 64.7983 Q2021.36 55.6027 2021.36 46.5287 Q2021.36 37.4952 2024.35 28.3401 Q2027.35 19.1851 2033.47 9.62495 L2039.95 9.62495 Z\" fill=\"#000000\" fill-rule=\"evenodd\" fill-opacity=\"1\" /><path clip-path=\"url(#clip670)\" d=\"M 0 0 M2048.09 12.096 L2056.28 12.096 L2056.28 65.6895 L2085.73 65.6895 L2085.73 72.576 L2048.09 72.576 L2048.09 12.096 Z\" fill=\"#000000\" fill-rule=\"evenodd\" fill-opacity=\"1\" /><path clip-path=\"url(#clip670)\" d=\"M 0 0 M2114.16 49.7694 Q2105.13 49.7694 2101.65 51.8354 Q2098.16 53.9013 2098.16 58.8839 Q2098.16 62.8538 2100.75 65.2034 Q2103.39 67.5124 2107.88 67.5124 Q2114.08 67.5124 2117.81 63.1374 Q2121.58 58.7219 2121.58 51.4303 L2121.58 49.7694 L2114.16 49.7694 M2129.03 46.6907 L2129.03 72.576 L2121.58 72.576 L2121.58 65.6895 Q2119.02 69.8214 2115.22 71.8063 Q2111.41 73.7508 2105.9 73.7508 Q2098.93 73.7508 2094.8 69.8619 Q2090.71 65.9325 2090.71 59.3701 Q2090.71 51.7138 2095.81 47.825 Q2100.96 43.9361 2111.12 43.9361 L2121.58 43.9361 L2121.58 43.2069 Q2121.58 38.0623 2118.17 35.2672 Q2114.81 32.4315 2108.69 32.4315 Q2104.8 32.4315 2101.12 33.3632 Q2097.43 34.295 2094.03 36.1584 L2094.03 29.2718 Q2098.12 27.692 2101.97 26.9223 Q2105.82 26.1121 2109.46 26.1121 Q2119.31 26.1121 2124.17 31.2163 Q2129.03 36.3204 2129.03 46.6907 Z\" fill=\"#000000\" fill-rule=\"evenodd\" fill-opacity=\"1\" /><path clip-path=\"url(#clip670)\" d=\"M 0 0 M2165.77 28.5427 L2165.77 35.5912 Q2162.61 33.9709 2159.21 33.1607 Q2155.81 32.3505 2152.16 32.3505 Q2146.61 32.3505 2143.82 34.0519 Q2141.06 35.7533 2141.06 39.156 Q2141.06 41.7486 2143.05 43.2475 Q2145.03 44.7058 2151.03 46.0426 L2153.58 46.6097 Q2161.52 48.3111 2164.84 51.4303 Q2168.2 54.509 2168.2 60.0587 Q2168.2 66.3781 2163.18 70.0644 Q2158.2 73.7508 2149.45 73.7508 Q2145.8 73.7508 2141.83 73.0216 Q2137.9 72.3329 2133.53 70.9151 L2133.53 63.2184 Q2137.66 65.3654 2141.67 66.4591 Q2145.68 67.5124 2149.61 67.5124 Q2154.87 67.5124 2157.71 65.73 Q2160.55 63.9071 2160.55 60.6258 Q2160.55 57.5877 2158.48 55.9673 Q2156.45 54.3469 2149.53 52.8481 L2146.93 52.2405 Q2140.01 50.7821 2136.93 47.7845 Q2133.85 44.7463 2133.85 39.4801 Q2133.85 33.0797 2138.39 29.5959 Q2142.92 26.1121 2151.27 26.1121 Q2155.4 26.1121 2159.05 26.7198 Q2162.69 27.3274 2165.77 28.5427 Z\" fill=\"#000000\" fill-rule=\"evenodd\" fill-opacity=\"1\" /><path clip-path=\"url(#clip670)\" d=\"M 0 0 M2204.94 28.5427 L2204.94 35.5912 Q2201.78 33.9709 2198.38 33.1607 Q2194.98 32.3505 2191.33 32.3505 Q2185.78 32.3505 2182.99 34.0519 Q2180.23 35.7533 2180.23 39.156 Q2180.23 41.7486 2182.22 43.2475 Q2184.2 44.7058 2190.2 46.0426 L2192.75 46.6097 Q2200.69 48.3111 2204.01 51.4303 Q2207.37 54.509 2207.37 60.0587 Q2207.37 66.3781 2202.35 70.0644 Q2197.37 73.7508 2188.62 73.7508 Q2184.97 73.7508 2181 73.0216 Q2177.07 72.3329 2172.7 70.9151 L2172.7 63.2184 Q2176.83 65.3654 2180.84 66.4591 Q2184.85 67.5124 2188.78 67.5124 Q2194.05 67.5124 2196.88 65.73 Q2199.72 63.9071 2199.72 60.6258 Q2199.72 57.5877 2197.65 55.9673 Q2195.63 54.3469 2188.7 52.8481 L2186.11 52.2405 Q2179.18 50.7821 2176.1 47.7845 Q2173.02 44.7463 2173.02 39.4801 Q2173.02 33.0797 2177.56 29.5959 Q2182.1 26.1121 2190.44 26.1121 Q2194.57 26.1121 2198.22 26.7198 Q2201.86 27.3274 2204.94 28.5427 Z\" fill=\"#000000\" fill-rule=\"evenodd\" fill-opacity=\"1\" /><path clip-path=\"url(#clip670)\" d=\"M 0 0 M2232.77 32.4315 Q2226.78 32.4315 2223.29 37.1306 Q2219.81 41.7891 2219.81 49.9314 Q2219.81 58.0738 2223.25 62.7728 Q2226.74 67.4314 2232.77 67.4314 Q2238.73 67.4314 2242.21 62.7323 Q2245.7 58.0333 2245.7 49.9314 Q2245.7 41.8701 2242.21 37.1711 Q2238.73 32.4315 2232.77 32.4315 M2232.77 26.1121 Q2242.5 26.1121 2248.04 32.4315 Q2253.59 38.7509 2253.59 49.9314 Q2253.59 61.0714 2248.04 67.4314 Q2242.5 73.7508 2232.77 73.7508 Q2223.01 73.7508 2217.46 67.4314 Q2211.95 61.0714 2211.95 49.9314 Q2211.95 38.7509 2217.46 32.4315 Q2223.01 26.1121 2232.77 26.1121 Z\" fill=\"#000000\" fill-rule=\"evenodd\" fill-opacity=\"1\" /><path clip-path=\"url(#clip670)\" d=\"M 0 0 M2260.24 9.62495 L2266.72 9.62495 Q2272.8 19.1851 2275.79 28.3401 Q2278.83 37.4952 2278.83 46.5287 Q2278.83 55.6027 2275.79 64.7983 Q2272.8 73.9938 2266.72 83.5134 L2260.24 83.5134 Q2265.63 74.2369 2268.26 65.0818 Q2270.93 55.8863 2270.93 46.5287 Q2270.93 37.1711 2268.26 28.0566 Q2265.63 18.942 2260.24 9.62495 Z\" fill=\"#000000\" fill-rule=\"evenodd\" fill-opacity=\"1\" /><polyline clip-path=\"url(#clip672)\" style=\"stroke:#009af9; stroke-width:4; stroke-opacity:1; fill:none\" points=\"\n",
       "  270.762,1260.62 523.431,1245.75 776.1,1232.12 1028.77,1217.4 1281.44,1199.89 1534.11,1181.13 1786.78,1162.1 2039.45,1143.06 2292.12,1122.01 \n",
       "  \"/>\n",
       "<polyline clip-path=\"url(#clip672)\" style=\"stroke:#e26f46; stroke-width:4; stroke-opacity:1; fill:none\" points=\"\n",
       "  270.762,1339.9 523.431,1328.89 776.1,1310.11 1028.77,1286.81 1281.44,1262.82 1534.11,1238.84 1786.78,1214.71 2039.45,1188.26 2292.12,1161.74 \n",
       "  \"/>\n",
       "<polyline clip-path=\"url(#clip672)\" style=\"stroke:#3da44d; stroke-width:4; stroke-opacity:1; fill:none\" points=\"\n",
       "  270.762,1307.68 523.431,1302.01 776.1,1290.86 1028.77,1277.64 1281.44,1261.88 1534.11,1245.49 1786.78,1229.1 2039.45,1212.7 2292.12,1195.53 \n",
       "  \"/>\n",
       "<polyline clip-path=\"url(#clip672)\" style=\"stroke:#c271d2; stroke-width:4; stroke-opacity:1; fill:none\" points=\"\n",
       "  270.762,1325.47 523.431,1310.12 776.1,1290.05 1028.77,1268.71 1281.44,1245.55 1534.11,1221.48 1786.78,1195.87 2039.45,1170.14 2292.12,1143.26 \n",
       "  \"/>\n",
       "<polyline clip-path=\"url(#clip672)\" style=\"stroke:#ac8d18; stroke-width:4; stroke-opacity:1; fill:none\" points=\"\n",
       "  270.762,1313.4 523.431,1226.75 776.1,1151.67 1028.77,1080.55 1281.44,1009.42 1534.11,938.297 1786.78,867.173 2039.45,796.048 2292.12,724.924 \n",
       "  \"/>\n",
       "<polyline clip-path=\"url(#clip672)\" style=\"stroke:#00a9ad; stroke-width:4; stroke-opacity:1; fill:none\" points=\"\n",
       "  270.762,1341.31 523.431,1348.05 776.1,1345.74 1028.77,1344.83 1281.44,1342.75 1534.11,1340.01 1786.78,1336.76 2039.45,1332.65 2292.12,1328.24 \n",
       "  \"/>\n",
       "<polyline clip-path=\"url(#clip672)\" style=\"stroke:#ed5d92; stroke-width:4; stroke-opacity:1; fill:none\" points=\"\n",
       "  270.762,1386.4 523.431,1375.72 776.1,1361.87 1028.77,1344.08 1281.44,1325.32 1534.11,1305.72 1786.78,1285.07 2039.45,1263.98 2292.12,989.744 \n",
       "  \"/>\n",
       "<polyline clip-path=\"url(#clip672)\" style=\"stroke:#c68125; stroke-width:4; stroke-opacity:1; fill:none\" points=\"\n",
       "  270.762,1342.23 523.431,1341.72 776.1,1338.47 1028.77,1334.53 1281.44,1329.56 1534.11,1324 1786.78,1318.03 2039.45,1311.32 2292.12,1304.26 \n",
       "  \"/>\n",
       "<polyline clip-path=\"url(#clip672)\" style=\"stroke:#00a98d; stroke-width:4; stroke-opacity:1; fill:none\" points=\"\n",
       "  270.762,1034.53 523.431,823.692 776.1,595.702 1028.77,367.711 1281.44,160.256 1534.11,190.49 1786.78,220.724 2039.45,250.48 2292.12,250.48 \n",
       "  \"/>\n",
       "<polyline clip-path=\"url(#clip672)\" style=\"stroke:#8e971d; stroke-width:4; stroke-opacity:1; fill:none\" points=\"\n",
       "  270.762,1313.82 523.431,1316.2 776.1,1316.5 1028.77,1316.69 1281.44,1316.7 1534.11,1316.07 1786.78,1315.43 2039.45,1314.15 2292.12,1310.86 \n",
       "  \"/>\n",
       "<path clip-path=\"url(#clip670)\" d=\"\n",
       "M1834.96 832.076 L2281.33 832.076 L2281.33 166.796 L1834.96 166.796  Z\n",
       "  \" fill=\"#ffffff\" fill-rule=\"evenodd\" fill-opacity=\"1\"/>\n",
       "<polyline clip-path=\"url(#clip670)\" style=\"stroke:#000000; stroke-width:4; stroke-opacity:1; fill:none\" points=\"\n",
       "  1834.96,832.076 2281.33,832.076 2281.33,166.796 1834.96,166.796 1834.96,832.076 \n",
       "  \"/>\n",
       "<polyline clip-path=\"url(#clip670)\" style=\"stroke:#009af9; stroke-width:4; stroke-opacity:1; fill:none\" points=\"\n",
       "  1858.76,227.276 2001.6,227.276 \n",
       "  \"/>\n",
       "<path clip-path=\"url(#clip670)\" d=\"M 0 0 M2041.24 214.602 L2034.9 231.801 L2047.61 231.801 L2041.24 214.602 M2038.61 209.996 L2043.91 209.996 L2057.08 244.556 L2052.22 244.556 L2049.07 235.69 L2033.49 235.69 L2030.34 244.556 L2025.41 244.556 L2038.61 209.996 Z\" fill=\"#000000\" fill-rule=\"evenodd\" fill-opacity=\"1\" /><path clip-path=\"url(#clip670)\" d=\"M 0 0 M2083.1 228.908 L2083.1 244.556 L2078.84 244.556 L2078.84 229.047 Q2078.84 225.366 2077.4 223.537 Q2075.97 221.709 2073.1 221.709 Q2069.65 221.709 2067.66 223.908 Q2065.67 226.107 2065.67 229.903 L2065.67 244.556 L2061.38 244.556 L2061.38 218.63 L2065.67 218.63 L2065.67 222.658 Q2067.19 220.32 2069.25 219.162 Q2071.34 218.005 2074.05 218.005 Q2078.51 218.005 2080.8 220.783 Q2083.1 223.537 2083.1 228.908 Z\" fill=\"#000000\" fill-rule=\"evenodd\" fill-opacity=\"1\" /><path clip-path=\"url(#clip670)\" d=\"M 0 0 M2091.78 211.269 L2091.78 218.63 L2100.55 218.63 L2100.55 221.94 L2091.78 221.94 L2091.78 236.014 Q2091.78 239.185 2092.63 240.088 Q2093.51 240.991 2096.18 240.991 L2100.55 240.991 L2100.55 244.556 L2096.18 244.556 Q2091.24 244.556 2089.37 242.727 Q2087.49 240.875 2087.49 236.014 L2087.49 221.94 L2084.37 221.94 L2084.37 218.63 L2087.49 218.63 L2087.49 211.269 L2091.78 211.269 Z\" fill=\"#000000\" fill-rule=\"evenodd\" fill-opacity=\"1\" /><path clip-path=\"url(#clip670)\" d=\"M 0 0 M2126.57 228.908 L2126.57 244.556 L2122.31 244.556 L2122.31 229.047 Q2122.31 225.366 2120.87 223.537 Q2119.44 221.709 2116.57 221.709 Q2113.12 221.709 2111.13 223.908 Q2109.14 226.107 2109.14 229.903 L2109.14 244.556 L2104.86 244.556 L2104.86 208.537 L2109.14 208.537 L2109.14 222.658 Q2110.67 220.32 2112.73 219.162 Q2114.81 218.005 2117.52 218.005 Q2121.99 218.005 2124.28 220.783 Q2126.57 223.537 2126.57 228.908 Z\" fill=\"#000000\" fill-rule=\"evenodd\" fill-opacity=\"1\" /><path clip-path=\"url(#clip670)\" d=\"M 0 0 M2153.21 230.528 L2153.21 232.611 L2133.63 232.611 Q2133.91 237.009 2136.27 239.324 Q2138.65 241.616 2142.89 241.616 Q2145.34 241.616 2147.63 241.014 Q2149.95 240.412 2152.22 239.209 L2152.22 243.236 Q2149.92 244.208 2147.52 244.718 Q2145.11 245.227 2142.63 245.227 Q2136.43 245.227 2132.8 241.616 Q2129.18 238.005 2129.18 231.847 Q2129.18 225.482 2132.61 221.755 Q2136.06 218.005 2141.89 218.005 Q2147.12 218.005 2150.16 221.385 Q2153.21 224.741 2153.21 230.528 M2148.95 229.278 Q2148.91 225.783 2146.98 223.699 Q2145.09 221.616 2141.94 221.616 Q2138.37 221.616 2136.22 223.63 Q2134.09 225.644 2133.77 229.301 L2148.95 229.278 Z\" fill=\"#000000\" fill-rule=\"evenodd\" fill-opacity=\"1\" /><path clip-path=\"url(#clip670)\" d=\"M 0 0 M2177.86 223.607 Q2179.46 220.736 2181.68 219.371 Q2183.91 218.005 2186.92 218.005 Q2190.97 218.005 2193.17 220.852 Q2195.36 223.676 2195.36 228.908 L2195.36 244.556 L2191.08 244.556 L2191.08 229.047 Q2191.08 225.32 2189.76 223.514 Q2188.44 221.709 2185.73 221.709 Q2182.42 221.709 2180.5 223.908 Q2178.58 226.107 2178.58 229.903 L2178.58 244.556 L2174.3 244.556 L2174.3 229.047 Q2174.3 225.297 2172.98 223.514 Q2171.66 221.709 2168.91 221.709 Q2165.64 221.709 2163.72 223.931 Q2161.8 226.13 2161.8 229.903 L2161.8 244.556 L2157.52 244.556 L2157.52 218.63 L2161.8 218.63 L2161.8 222.658 Q2163.26 220.273 2165.3 219.139 Q2167.33 218.005 2170.13 218.005 Q2172.96 218.005 2174.92 219.44 Q2176.92 220.875 2177.86 223.607 Z\" fill=\"#000000\" fill-rule=\"evenodd\" fill-opacity=\"1\" /><polyline clip-path=\"url(#clip670)\" style=\"stroke:#e26f46; stroke-width:4; stroke-opacity:1; fill:none\" points=\"\n",
       "  1858.76,287.756 2001.6,287.756 \n",
       "  \"/>\n",
       "<path clip-path=\"url(#clip670)\" d=\"M 0 0 M2053.28 273.138 L2053.28 278.068 Q2050.92 275.869 2048.24 274.781 Q2045.57 273.693 2042.56 273.693 Q2036.64 273.693 2033.49 277.328 Q2030.34 280.939 2030.34 287.79 Q2030.34 294.619 2033.49 298.253 Q2036.64 301.864 2042.56 301.864 Q2045.57 301.864 2048.24 300.776 Q2050.92 299.689 2053.28 297.489 L2053.28 302.374 Q2050.83 304.04 2048.07 304.874 Q2045.34 305.707 2042.29 305.707 Q2034.44 305.707 2029.93 300.915 Q2025.41 296.101 2025.41 287.79 Q2025.41 279.457 2029.93 274.666 Q2034.44 269.851 2042.29 269.851 Q2045.39 269.851 2048.12 270.684 Q2050.87 271.494 2053.28 273.138 Z\" fill=\"#000000\" fill-rule=\"evenodd\" fill-opacity=\"1\" /><path clip-path=\"url(#clip670)\" d=\"M 0 0 M2069.53 292.003 Q2064.37 292.003 2062.38 293.184 Q2060.39 294.364 2060.39 297.212 Q2060.39 299.48 2061.87 300.823 Q2063.37 302.142 2065.94 302.142 Q2069.49 302.142 2071.62 299.642 Q2073.77 297.119 2073.77 292.952 L2073.77 292.003 L2069.53 292.003 M2078.03 290.244 L2078.03 305.036 L2073.77 305.036 L2073.77 301.101 Q2072.31 303.462 2070.13 304.596 Q2067.96 305.707 2064.81 305.707 Q2060.83 305.707 2058.47 303.485 Q2056.13 301.239 2056.13 297.489 Q2056.13 293.114 2059.05 290.892 Q2061.99 288.67 2067.8 288.67 L2073.77 288.67 L2073.77 288.253 Q2073.77 285.314 2071.82 283.716 Q2069.9 282.096 2066.41 282.096 Q2064.18 282.096 2062.08 282.628 Q2059.97 283.161 2058.03 284.226 L2058.03 280.29 Q2060.37 279.388 2062.56 278.948 Q2064.76 278.485 2066.85 278.485 Q2072.47 278.485 2075.25 281.402 Q2078.03 284.318 2078.03 290.244 Z\" fill=\"#000000\" fill-rule=\"evenodd\" fill-opacity=\"1\" /><path clip-path=\"url(#clip670)\" d=\"M 0 0 M2097.52 283.091 Q2096.8 282.675 2095.94 282.49 Q2095.11 282.281 2094.09 282.281 Q2090.48 282.281 2088.54 284.642 Q2086.61 286.98 2086.61 291.378 L2086.61 305.036 L2082.33 305.036 L2082.33 279.11 L2086.61 279.11 L2086.61 283.138 Q2087.96 280.777 2090.11 279.642 Q2092.26 278.485 2095.34 278.485 Q2095.78 278.485 2096.31 278.554 Q2096.85 278.601 2097.49 278.716 L2097.52 283.091 Z\" fill=\"#000000\" fill-rule=\"evenodd\" fill-opacity=\"1\" /><path clip-path=\"url(#clip670)\" d=\"M 0 0 M2118.21 283.045 L2118.21 269.017 L2122.47 269.017 L2122.47 305.036 L2118.21 305.036 L2118.21 301.147 Q2116.87 303.462 2114.81 304.596 Q2112.77 305.707 2109.9 305.707 Q2105.2 305.707 2102.24 301.957 Q2099.3 298.207 2099.3 292.096 Q2099.3 285.985 2102.24 282.235 Q2105.2 278.485 2109.9 278.485 Q2112.77 278.485 2114.81 279.619 Q2116.87 280.73 2118.21 283.045 M2103.7 292.096 Q2103.7 296.795 2105.62 299.48 Q2107.56 302.142 2110.94 302.142 Q2114.32 302.142 2116.27 299.48 Q2118.21 296.795 2118.21 292.096 Q2118.21 287.397 2116.27 284.735 Q2114.32 282.05 2110.94 282.05 Q2107.56 282.05 2105.62 284.735 Q2103.7 287.397 2103.7 292.096 Z\" fill=\"#000000\" fill-rule=\"evenodd\" fill-opacity=\"1\" /><path clip-path=\"url(#clip670)\" d=\"M 0 0 M2126.94 279.11 L2131.2 279.11 L2131.2 305.036 L2126.94 305.036 L2126.94 279.11 M2126.94 269.017 L2131.2 269.017 L2131.2 274.411 L2126.94 274.411 L2126.94 269.017 Z\" fill=\"#000000\" fill-rule=\"evenodd\" fill-opacity=\"1\" /><path clip-path=\"url(#clip670)\" d=\"M 0 0 M2157.22 289.388 L2157.22 305.036 L2152.96 305.036 L2152.96 289.527 Q2152.96 285.846 2151.52 284.017 Q2150.09 282.189 2147.22 282.189 Q2143.77 282.189 2141.78 284.388 Q2139.79 286.587 2139.79 290.383 L2139.79 305.036 L2135.5 305.036 L2135.5 279.11 L2139.79 279.11 L2139.79 283.138 Q2141.31 280.8 2143.37 279.642 Q2145.46 278.485 2148.17 278.485 Q2152.63 278.485 2154.92 281.263 Q2157.22 284.017 2157.22 289.388 Z\" fill=\"#000000\" fill-rule=\"evenodd\" fill-opacity=\"1\" /><path clip-path=\"url(#clip670)\" d=\"M 0 0 M2173.47 292.003 Q2168.3 292.003 2166.31 293.184 Q2164.32 294.364 2164.32 297.212 Q2164.32 299.48 2165.8 300.823 Q2167.31 302.142 2169.88 302.142 Q2173.42 302.142 2175.55 299.642 Q2177.7 297.119 2177.7 292.952 L2177.7 292.003 L2173.47 292.003 M2181.96 290.244 L2181.96 305.036 L2177.7 305.036 L2177.7 301.101 Q2176.24 303.462 2174.07 304.596 Q2171.89 305.707 2168.74 305.707 Q2164.76 305.707 2162.4 303.485 Q2160.06 301.239 2160.06 297.489 Q2160.06 293.114 2162.98 290.892 Q2165.92 288.67 2171.73 288.67 L2177.7 288.67 L2177.7 288.253 Q2177.7 285.314 2175.76 283.716 Q2173.84 282.096 2170.34 282.096 Q2168.12 282.096 2166.01 282.628 Q2163.91 283.161 2161.96 284.226 L2161.96 280.29 Q2164.3 279.388 2166.5 278.948 Q2168.7 278.485 2170.78 278.485 Q2176.41 278.485 2179.18 281.402 Q2181.96 284.318 2181.96 290.244 Z\" fill=\"#000000\" fill-rule=\"evenodd\" fill-opacity=\"1\" /><path clip-path=\"url(#clip670)\" d=\"M 0 0 M2186.43 269.017 L2190.69 269.017 L2190.69 305.036 L2186.43 305.036 L2186.43 269.017 Z\" fill=\"#000000\" fill-rule=\"evenodd\" fill-opacity=\"1\" /><polyline clip-path=\"url(#clip670)\" style=\"stroke:#3da44d; stroke-width:4; stroke-opacity:1; fill:none\" points=\"\n",
       "  1858.76,348.236 2001.6,348.236 \n",
       "  \"/>\n",
       "<path clip-path=\"url(#clip670)\" d=\"M 0 0 M2053.28 333.618 L2053.28 338.548 Q2050.92 336.349 2048.24 335.261 Q2045.57 334.173 2042.56 334.173 Q2036.64 334.173 2033.49 337.808 Q2030.34 341.419 2030.34 348.27 Q2030.34 355.099 2033.49 358.733 Q2036.64 362.344 2042.56 362.344 Q2045.57 362.344 2048.24 361.256 Q2050.92 360.169 2053.28 357.969 L2053.28 362.854 Q2050.83 364.52 2048.07 365.354 Q2045.34 366.187 2042.29 366.187 Q2034.44 366.187 2029.93 361.395 Q2025.41 356.581 2025.41 348.27 Q2025.41 339.937 2029.93 335.146 Q2034.44 330.331 2042.29 330.331 Q2045.39 330.331 2048.12 331.164 Q2050.87 331.974 2053.28 333.618 Z\" fill=\"#000000\" fill-rule=\"evenodd\" fill-opacity=\"1\" /><path clip-path=\"url(#clip670)\" d=\"M 0 0 M2057.75 339.59 L2062.01 339.59 L2062.01 365.516 L2057.75 365.516 L2057.75 339.59 M2057.75 329.497 L2062.01 329.497 L2062.01 334.891 L2057.75 334.891 L2057.75 329.497 Z\" fill=\"#000000\" fill-rule=\"evenodd\" fill-opacity=\"1\" /><path clip-path=\"url(#clip670)\" d=\"M 0 0 M2083.54 352.252 Q2083.54 347.622 2081.61 345.076 Q2079.72 342.53 2076.27 342.53 Q2072.84 342.53 2070.92 345.076 Q2069.02 347.622 2069.02 352.252 Q2069.02 356.858 2070.92 359.405 Q2072.84 361.951 2076.27 361.951 Q2079.72 361.951 2081.61 359.405 Q2083.54 356.858 2083.54 352.252 M2087.8 362.298 Q2087.8 368.918 2084.86 372.136 Q2081.92 375.377 2075.85 375.377 Q2073.61 375.377 2071.62 375.03 Q2069.62 374.705 2067.75 374.011 L2067.75 369.868 Q2069.62 370.886 2071.45 371.372 Q2073.28 371.858 2075.18 371.858 Q2079.37 371.858 2081.45 369.659 Q2083.54 367.483 2083.54 363.062 L2083.54 360.956 Q2082.22 363.247 2080.16 364.381 Q2078.1 365.516 2075.23 365.516 Q2070.46 365.516 2067.54 361.881 Q2064.62 358.247 2064.62 352.252 Q2064.62 346.233 2067.54 342.599 Q2070.46 338.965 2075.23 338.965 Q2078.1 338.965 2080.16 340.099 Q2082.22 341.233 2083.54 343.525 L2083.54 339.59 L2087.8 339.59 L2087.8 362.298 Z\" fill=\"#000000\" fill-rule=\"evenodd\" fill-opacity=\"1\" /><path clip-path=\"url(#clip670)\" d=\"M 0 0 M2113.81 349.868 L2113.81 365.516 L2109.55 365.516 L2109.55 350.007 Q2109.55 346.326 2108.12 344.497 Q2106.68 342.669 2103.81 342.669 Q2100.36 342.669 2098.37 344.868 Q2096.38 347.067 2096.38 350.863 L2096.38 365.516 L2092.1 365.516 L2092.1 339.59 L2096.38 339.59 L2096.38 343.618 Q2097.91 341.28 2099.97 340.122 Q2102.05 338.965 2104.76 338.965 Q2109.23 338.965 2111.52 341.743 Q2113.81 344.497 2113.81 349.868 Z\" fill=\"#000000\" fill-rule=\"evenodd\" fill-opacity=\"1\" /><path clip-path=\"url(#clip670)\" d=\"M 0 0 M2130.06 352.483 Q2124.9 352.483 2122.91 353.664 Q2120.92 354.844 2120.92 357.692 Q2120.92 359.96 2122.4 361.303 Q2123.91 362.622 2126.48 362.622 Q2130.02 362.622 2132.15 360.122 Q2134.3 357.599 2134.3 353.432 L2134.3 352.483 L2130.06 352.483 M2138.56 350.724 L2138.56 365.516 L2134.3 365.516 L2134.3 361.581 Q2132.84 363.942 2130.67 365.076 Q2128.49 366.187 2125.34 366.187 Q2121.36 366.187 2119 363.965 Q2116.66 361.719 2116.66 357.969 Q2116.66 353.594 2119.58 351.372 Q2122.52 349.15 2128.33 349.15 L2134.3 349.15 L2134.3 348.733 Q2134.3 345.794 2132.36 344.196 Q2130.43 342.576 2126.94 342.576 Q2124.72 342.576 2122.61 343.108 Q2120.5 343.641 2118.56 344.706 L2118.56 340.77 Q2120.9 339.868 2123.1 339.428 Q2125.3 338.965 2127.38 338.965 Q2133 338.965 2135.78 341.882 Q2138.56 344.798 2138.56 350.724 Z\" fill=\"#000000\" fill-rule=\"evenodd\" fill-opacity=\"1\" /><polyline clip-path=\"url(#clip670)\" style=\"stroke:#c271d2; stroke-width:4; stroke-opacity:1; fill:none\" points=\"\n",
       "  1858.76,408.716 2001.6,408.716 \n",
       "  \"/>\n",
       "<path clip-path=\"url(#clip670)\" d=\"M 0 0 M2053.28 394.098 L2053.28 399.028 Q2050.92 396.829 2048.24 395.741 Q2045.57 394.653 2042.56 394.653 Q2036.64 394.653 2033.49 398.288 Q2030.34 401.899 2030.34 408.75 Q2030.34 415.579 2033.49 419.213 Q2036.64 422.824 2042.56 422.824 Q2045.57 422.824 2048.24 421.736 Q2050.92 420.649 2053.28 418.449 L2053.28 423.334 Q2050.83 425 2048.07 425.834 Q2045.34 426.667 2042.29 426.667 Q2034.44 426.667 2029.93 421.875 Q2025.41 417.061 2025.41 408.75 Q2025.41 400.417 2029.93 395.626 Q2034.44 390.811 2042.29 390.811 Q2045.39 390.811 2048.12 391.644 Q2050.87 392.454 2053.28 394.098 Z\" fill=\"#000000\" fill-rule=\"evenodd\" fill-opacity=\"1\" /><path clip-path=\"url(#clip670)\" d=\"M 0 0 M2066.85 425.996 L2053.65 391.436 L2058.54 391.436 L2069.49 420.533 L2080.46 391.436 L2085.32 391.436 L2072.15 425.996 L2066.85 425.996 Z\" fill=\"#000000\" fill-rule=\"evenodd\" fill-opacity=\"1\" /><path clip-path=\"url(#clip670)\" d=\"M 0 0 M2110.69 392.57 L2110.69 397.13 Q2108.03 395.857 2105.67 395.232 Q2103.3 394.607 2101.11 394.607 Q2097.29 394.607 2095.2 396.088 Q2093.14 397.57 2093.14 400.301 Q2093.14 402.593 2094.51 403.774 Q2095.9 404.931 2099.74 405.649 L2102.56 406.227 Q2107.8 407.223 2110.27 409.746 Q2112.77 412.246 2112.77 416.459 Q2112.77 421.482 2109.39 424.074 Q2106.04 426.667 2099.53 426.667 Q2097.08 426.667 2094.3 426.111 Q2091.55 425.556 2088.58 424.468 L2088.58 419.653 Q2091.43 421.25 2094.16 422.061 Q2096.89 422.871 2099.53 422.871 Q2103.54 422.871 2105.71 421.297 Q2107.89 419.723 2107.89 416.806 Q2107.89 414.26 2106.31 412.824 Q2104.76 411.389 2101.2 410.672 L2098.35 410.116 Q2093.12 409.075 2090.78 406.852 Q2088.44 404.63 2088.44 400.672 Q2088.44 396.088 2091.66 393.45 Q2094.9 390.811 2100.57 390.811 Q2103 390.811 2105.53 391.251 Q2108.05 391.69 2110.69 392.57 Z\" fill=\"#000000\" fill-rule=\"evenodd\" fill-opacity=\"1\" /><polyline clip-path=\"url(#clip670)\" style=\"stroke:#ac8d18; stroke-width:4; stroke-opacity:1; fill:none\" points=\"\n",
       "  1858.76,469.196 2001.6,469.196 \n",
       "  \"/>\n",
       "<path clip-path=\"url(#clip670)\" d=\"M 0 0 M2050.97 481.545 L2050.97 472.263 L2043.33 472.263 L2043.33 468.42 L2055.6 468.42 L2055.6 483.258 Q2052.89 485.179 2049.62 486.175 Q2046.36 487.147 2042.66 487.147 Q2034.56 487.147 2029.97 482.425 Q2025.41 477.679 2025.41 469.23 Q2025.41 460.758 2029.97 456.036 Q2034.56 451.291 2042.66 451.291 Q2046.04 451.291 2049.07 452.124 Q2052.12 452.957 2054.69 454.578 L2054.69 459.555 Q2052.1 457.356 2049.18 456.244 Q2046.27 455.133 2043.05 455.133 Q2036.71 455.133 2033.51 458.675 Q2030.34 462.217 2030.34 469.23 Q2030.34 476.221 2033.51 479.763 Q2036.71 483.304 2043.05 483.304 Q2045.53 483.304 2047.47 482.888 Q2049.42 482.448 2050.97 481.545 Z\" fill=\"#000000\" fill-rule=\"evenodd\" fill-opacity=\"1\" /><path clip-path=\"url(#clip670)\" d=\"M 0 0 M2060.06 460.55 L2064.32 460.55 L2064.32 486.476 L2060.06 486.476 L2060.06 460.55 M2060.06 450.457 L2064.32 450.457 L2064.32 455.851 L2060.06 455.851 L2060.06 450.457 Z\" fill=\"#000000\" fill-rule=\"evenodd\" fill-opacity=\"1\" /><path clip-path=\"url(#clip670)\" d=\"M 0 0 M2068.79 450.457 L2073.05 450.457 L2073.05 486.476 L2068.79 486.476 L2068.79 450.457 Z\" fill=\"#000000\" fill-rule=\"evenodd\" fill-opacity=\"1\" /><path clip-path=\"url(#clip670)\" d=\"M 0 0 M2099.69 472.448 L2099.69 474.531 L2080.11 474.531 Q2080.39 478.929 2082.75 481.244 Q2085.13 483.536 2089.37 483.536 Q2091.82 483.536 2094.11 482.934 Q2096.43 482.332 2098.7 481.129 L2098.7 485.156 Q2096.41 486.128 2094 486.638 Q2091.59 487.147 2089.11 487.147 Q2082.91 487.147 2079.28 483.536 Q2075.67 479.925 2075.67 473.767 Q2075.67 467.402 2079.09 463.675 Q2082.54 459.925 2088.37 459.925 Q2093.61 459.925 2096.64 463.305 Q2099.69 466.661 2099.69 472.448 M2095.43 471.198 Q2095.39 467.703 2093.47 465.619 Q2091.57 463.536 2088.42 463.536 Q2084.86 463.536 2082.7 465.55 Q2080.57 467.564 2080.25 471.221 L2095.43 471.198 Z\" fill=\"#000000\" fill-rule=\"evenodd\" fill-opacity=\"1\" /><path clip-path=\"url(#clip670)\" d=\"M 0 0 M2115.94 473.443 Q2110.78 473.443 2108.79 474.624 Q2106.8 475.804 2106.8 478.652 Q2106.8 480.92 2108.28 482.263 Q2109.79 483.582 2112.36 483.582 Q2115.9 483.582 2118.03 481.082 Q2120.18 478.559 2120.18 474.392 L2120.18 473.443 L2115.94 473.443 M2124.44 471.684 L2124.44 486.476 L2120.18 486.476 L2120.18 482.541 Q2118.72 484.902 2116.55 486.036 Q2114.37 487.147 2111.22 487.147 Q2107.24 487.147 2104.88 484.925 Q2102.54 482.679 2102.54 478.929 Q2102.54 474.554 2105.46 472.332 Q2108.4 470.11 2114.21 470.11 L2120.18 470.11 L2120.18 469.693 Q2120.18 466.754 2118.24 465.156 Q2116.31 463.536 2112.82 463.536 Q2110.6 463.536 2108.49 464.068 Q2106.38 464.601 2104.44 465.666 L2104.44 461.73 Q2106.78 460.828 2108.98 460.388 Q2111.17 459.925 2113.26 459.925 Q2118.88 459.925 2121.66 462.842 Q2124.44 465.758 2124.44 471.684 Z\" fill=\"#000000\" fill-rule=\"evenodd\" fill-opacity=\"1\" /><path clip-path=\"url(#clip670)\" d=\"M 0 0 M2145.97 464.485 L2145.97 450.457 L2150.23 450.457 L2150.23 486.476 L2145.97 486.476 L2145.97 482.587 Q2144.62 484.902 2142.56 486.036 Q2140.53 487.147 2137.66 487.147 Q2132.96 487.147 2129.99 483.397 Q2127.05 479.647 2127.05 473.536 Q2127.05 467.425 2129.99 463.675 Q2132.96 459.925 2137.66 459.925 Q2140.53 459.925 2142.56 461.059 Q2144.62 462.17 2145.97 464.485 M2131.45 473.536 Q2131.45 478.235 2133.37 480.92 Q2135.32 483.582 2138.7 483.582 Q2142.08 483.582 2144.02 480.92 Q2145.97 478.235 2145.97 473.536 Q2145.97 468.837 2144.02 466.175 Q2142.08 463.49 2138.7 463.49 Q2135.32 463.49 2133.37 466.175 Q2131.45 468.837 2131.45 473.536 Z\" fill=\"#000000\" fill-rule=\"evenodd\" fill-opacity=\"1\" /><polyline clip-path=\"url(#clip670)\" style=\"stroke:#00a9ad; stroke-width:4; stroke-opacity:1; fill:none\" points=\"\n",
       "  1858.76,529.676 2001.6,529.676 \n",
       "  \"/>\n",
       "<path clip-path=\"url(#clip670)\" d=\"M 0 0 M2025.41 512.396 L2032.38 512.396 L2041.2 535.914 L2050.06 512.396 L2057.03 512.396 L2057.03 546.956 L2052.47 546.956 L2052.47 516.609 L2043.56 540.312 L2038.86 540.312 L2029.95 516.609 L2029.95 546.956 L2025.41 546.956 L2025.41 512.396 Z\" fill=\"#000000\" fill-rule=\"evenodd\" fill-opacity=\"1\" /><path clip-path=\"url(#clip670)\" d=\"M 0 0 M2080.16 522.025 L2080.16 526.007 Q2078.35 525.011 2076.52 524.525 Q2074.72 524.016 2072.87 524.016 Q2068.72 524.016 2066.43 526.655 Q2064.14 529.271 2064.14 534.016 Q2064.14 538.761 2066.43 541.4 Q2068.72 544.016 2072.87 544.016 Q2074.72 544.016 2076.52 543.53 Q2078.35 543.021 2080.16 542.025 L2080.16 545.96 Q2078.37 546.794 2076.45 547.21 Q2074.55 547.627 2072.4 547.627 Q2066.55 547.627 2063.1 543.946 Q2059.65 540.266 2059.65 534.016 Q2059.65 527.673 2063.12 524.039 Q2066.62 520.405 2072.68 520.405 Q2074.65 520.405 2076.52 520.822 Q2078.4 521.215 2080.16 522.025 Z\" fill=\"#000000\" fill-rule=\"evenodd\" fill-opacity=\"1\" /><path clip-path=\"url(#clip670)\" d=\"M 0 0 M2084.81 512.396 L2089.49 512.396 L2089.49 527.002 L2104.99 512.396 L2111.01 512.396 L2093.86 528.507 L2112.24 546.956 L2106.08 546.956 L2089.49 530.312 L2089.49 546.956 L2084.81 546.956 L2084.81 512.396 Z\" fill=\"#000000\" fill-rule=\"evenodd\" fill-opacity=\"1\" /><path clip-path=\"url(#clip670)\" d=\"M 0 0 M2136.52 532.928 L2136.52 535.011 L2116.94 535.011 Q2117.22 539.409 2119.58 541.724 Q2121.96 544.016 2126.2 544.016 Q2128.65 544.016 2130.94 543.414 Q2133.26 542.812 2135.53 541.609 L2135.53 545.636 Q2133.24 546.608 2130.83 547.118 Q2128.42 547.627 2125.94 547.627 Q2119.74 547.627 2116.11 544.016 Q2112.49 540.405 2112.49 534.247 Q2112.49 527.882 2115.92 524.155 Q2119.37 520.405 2125.2 520.405 Q2130.43 520.405 2133.47 523.785 Q2136.52 527.141 2136.52 532.928 M2132.26 531.678 Q2132.22 528.183 2130.3 526.099 Q2128.4 524.016 2125.25 524.016 Q2121.68 524.016 2119.53 526.03 Q2117.4 528.044 2117.08 531.701 L2132.26 531.678 Z\" fill=\"#000000\" fill-rule=\"evenodd\" fill-opacity=\"1\" /><path clip-path=\"url(#clip670)\" d=\"M 0 0 M2157.52 521.794 L2157.52 525.822 Q2155.71 524.896 2153.77 524.433 Q2151.82 523.97 2149.74 523.97 Q2146.57 523.97 2144.97 524.942 Q2143.4 525.914 2143.4 527.859 Q2143.4 529.34 2144.53 530.197 Q2145.67 531.03 2149.09 531.794 L2150.55 532.118 Q2155.09 533.09 2156.98 534.872 Q2158.91 536.632 2158.91 539.803 Q2158.91 543.414 2156.04 545.521 Q2153.19 547.627 2148.19 547.627 Q2146.11 547.627 2143.84 547.21 Q2141.59 546.817 2139.09 546.007 L2139.09 541.609 Q2141.45 542.835 2143.74 543.46 Q2146.04 544.062 2148.28 544.062 Q2151.29 544.062 2152.91 543.044 Q2154.53 542.002 2154.53 540.127 Q2154.53 538.391 2153.35 537.465 Q2152.19 536.539 2148.23 535.683 L2146.75 535.335 Q2142.8 534.502 2141.04 532.789 Q2139.28 531.053 2139.28 528.044 Q2139.28 524.386 2141.87 522.396 Q2144.46 520.405 2149.23 520.405 Q2151.59 520.405 2153.67 520.752 Q2155.76 521.099 2157.52 521.794 Z\" fill=\"#000000\" fill-rule=\"evenodd\" fill-opacity=\"1\" /><path clip-path=\"url(#clip670)\" d=\"M 0 0 M2179.9 521.794 L2179.9 525.822 Q2178.1 524.896 2176.15 524.433 Q2174.21 523.97 2172.12 523.97 Q2168.95 523.97 2167.36 524.942 Q2165.78 525.914 2165.78 527.859 Q2165.78 529.34 2166.92 530.197 Q2168.05 531.03 2171.48 531.794 L2172.93 532.118 Q2177.47 533.09 2179.37 534.872 Q2181.29 536.632 2181.29 539.803 Q2181.29 543.414 2178.42 545.521 Q2175.57 547.627 2170.57 547.627 Q2168.49 547.627 2166.22 547.21 Q2163.98 546.817 2161.48 546.007 L2161.48 541.609 Q2163.84 542.835 2166.13 543.46 Q2168.42 544.062 2170.67 544.062 Q2173.67 544.062 2175.3 543.044 Q2176.92 542.002 2176.92 540.127 Q2176.92 538.391 2175.73 537.465 Q2174.58 536.539 2170.62 535.683 L2169.14 535.335 Q2165.18 534.502 2163.42 532.789 Q2161.66 531.053 2161.66 528.044 Q2161.66 524.386 2164.25 522.396 Q2166.85 520.405 2171.61 520.405 Q2173.98 520.405 2176.06 520.752 Q2178.14 521.099 2179.9 521.794 Z\" fill=\"#000000\" fill-rule=\"evenodd\" fill-opacity=\"1\" /><path clip-path=\"url(#clip670)\" d=\"M 0 0 M2195.8 524.016 Q2192.38 524.016 2190.39 526.701 Q2188.4 529.363 2188.4 534.016 Q2188.4 538.669 2190.36 541.354 Q2192.36 544.016 2195.8 544.016 Q2199.21 544.016 2201.2 541.331 Q2203.19 538.646 2203.19 534.016 Q2203.19 529.41 2201.2 526.724 Q2199.21 524.016 2195.8 524.016 M2195.8 520.405 Q2201.36 520.405 2204.53 524.016 Q2207.7 527.627 2207.7 534.016 Q2207.7 540.382 2204.53 544.016 Q2201.36 547.627 2195.8 547.627 Q2190.23 547.627 2187.05 544.016 Q2183.91 540.382 2183.91 534.016 Q2183.91 527.627 2187.05 524.016 Q2190.23 520.405 2195.8 520.405 Z\" fill=\"#000000\" fill-rule=\"evenodd\" fill-opacity=\"1\" /><path clip-path=\"url(#clip670)\" d=\"M 0 0 M2233.72 531.308 L2233.72 546.956 L2229.46 546.956 L2229.46 531.447 Q2229.46 527.766 2228.03 525.937 Q2226.59 524.109 2223.72 524.109 Q2220.27 524.109 2218.28 526.308 Q2216.29 528.507 2216.29 532.303 L2216.29 546.956 L2212.01 546.956 L2212.01 521.03 L2216.29 521.03 L2216.29 525.058 Q2217.82 522.72 2219.88 521.562 Q2221.96 520.405 2224.67 520.405 Q2229.14 520.405 2231.43 523.183 Q2233.72 525.937 2233.72 531.308 Z\" fill=\"#000000\" fill-rule=\"evenodd\" fill-opacity=\"1\" /><polyline clip-path=\"url(#clip670)\" style=\"stroke:#ed5d92; stroke-width:4; stroke-opacity:1; fill:none\" points=\"\n",
       "  1858.76,590.156 2001.6,590.156 \n",
       "  \"/>\n",
       "<path clip-path=\"url(#clip670)\" d=\"M 0 0 M2025.41 572.876 L2032.38 572.876 L2041.2 596.394 L2050.06 572.876 L2057.03 572.876 L2057.03 607.436 L2052.47 607.436 L2052.47 577.089 L2043.56 600.792 L2038.86 600.792 L2029.95 577.089 L2029.95 607.436 L2025.41 607.436 L2025.41 572.876 Z\" fill=\"#000000\" fill-rule=\"evenodd\" fill-opacity=\"1\" /><path clip-path=\"url(#clip670)\" d=\"M 0 0 M2071.55 584.496 Q2068.12 584.496 2066.13 587.181 Q2064.14 589.843 2064.14 594.496 Q2064.14 599.149 2066.11 601.834 Q2068.1 604.496 2071.55 604.496 Q2074.95 604.496 2076.94 601.811 Q2078.93 599.126 2078.93 594.496 Q2078.93 589.89 2076.94 587.204 Q2074.95 584.496 2071.55 584.496 M2071.55 580.885 Q2077.1 580.885 2080.27 584.496 Q2083.44 588.107 2083.44 594.496 Q2083.44 600.862 2080.27 604.496 Q2077.1 608.107 2071.55 608.107 Q2065.97 608.107 2062.8 604.496 Q2059.65 600.862 2059.65 594.496 Q2059.65 588.107 2062.8 584.496 Q2065.97 580.885 2071.55 580.885 Z\" fill=\"#000000\" fill-rule=\"evenodd\" fill-opacity=\"1\" /><path clip-path=\"url(#clip670)\" d=\"M 0 0 M2104.97 585.445 L2104.97 571.417 L2109.23 571.417 L2109.23 607.436 L2104.97 607.436 L2104.97 603.547 Q2103.63 605.862 2101.57 606.996 Q2099.53 608.107 2096.66 608.107 Q2091.96 608.107 2089 604.357 Q2086.06 600.607 2086.06 594.496 Q2086.06 588.385 2089 584.635 Q2091.96 580.885 2096.66 580.885 Q2099.53 580.885 2101.57 582.019 Q2103.63 583.13 2104.97 585.445 M2090.46 594.496 Q2090.46 599.195 2092.38 601.88 Q2094.32 604.542 2097.7 604.542 Q2101.08 604.542 2103.03 601.88 Q2104.97 599.195 2104.97 594.496 Q2104.97 589.797 2103.03 587.135 Q2101.08 584.45 2097.7 584.45 Q2094.32 584.45 2092.38 587.135 Q2090.46 589.797 2090.46 594.496 Z\" fill=\"#000000\" fill-rule=\"evenodd\" fill-opacity=\"1\" /><path clip-path=\"url(#clip670)\" d=\"M 0 0 M2135.87 593.408 L2135.87 595.491 L2116.29 595.491 Q2116.57 599.889 2118.93 602.204 Q2121.31 604.496 2125.55 604.496 Q2128 604.496 2130.3 603.894 Q2132.61 603.292 2134.88 602.089 L2134.88 606.116 Q2132.59 607.088 2130.18 607.598 Q2127.77 608.107 2125.3 608.107 Q2119.09 608.107 2115.46 604.496 Q2111.85 600.885 2111.85 594.727 Q2111.85 588.362 2115.27 584.635 Q2118.72 580.885 2124.55 580.885 Q2129.79 580.885 2132.82 584.265 Q2135.87 587.621 2135.87 593.408 M2131.61 592.158 Q2131.57 588.663 2129.65 586.579 Q2127.75 584.496 2124.6 584.496 Q2121.04 584.496 2118.88 586.51 Q2116.75 588.524 2116.43 592.181 L2131.61 592.158 Z\" fill=\"#000000\" fill-rule=\"evenodd\" fill-opacity=\"1\" /><path clip-path=\"url(#clip670)\" d=\"M 0 0 M2155.36 585.491 Q2154.65 585.075 2153.79 584.89 Q2152.96 584.681 2151.94 584.681 Q2148.33 584.681 2146.38 587.042 Q2144.46 589.38 2144.46 593.778 L2144.46 607.436 L2140.18 607.436 L2140.18 581.51 L2144.46 581.51 L2144.46 585.538 Q2145.8 583.177 2147.96 582.042 Q2150.11 580.885 2153.19 580.885 Q2153.63 580.885 2154.16 580.954 Q2154.69 581.001 2155.34 581.116 L2155.36 585.491 Z\" fill=\"#000000\" fill-rule=\"evenodd\" fill-opacity=\"1\" /><path clip-path=\"url(#clip670)\" d=\"M 0 0 M2180.55 591.788 L2180.55 607.436 L2176.29 607.436 L2176.29 591.927 Q2176.29 588.246 2174.86 586.417 Q2173.42 584.589 2170.55 584.589 Q2167.1 584.589 2165.11 586.788 Q2163.12 588.987 2163.12 592.783 L2163.12 607.436 L2158.84 607.436 L2158.84 581.51 L2163.12 581.51 L2163.12 585.538 Q2164.65 583.2 2166.71 582.042 Q2168.79 580.885 2171.5 580.885 Q2175.97 580.885 2178.26 583.663 Q2180.55 586.417 2180.55 591.788 Z\" fill=\"#000000\" fill-rule=\"evenodd\" fill-opacity=\"1\" /><path clip-path=\"url(#clip670)\" d=\"M 0 0 M2196.8 594.403 Q2191.64 594.403 2189.65 595.584 Q2187.66 596.764 2187.66 599.612 Q2187.66 601.88 2189.14 603.223 Q2190.64 604.542 2193.21 604.542 Q2196.75 604.542 2198.88 602.042 Q2201.04 599.519 2201.04 595.352 L2201.04 594.403 L2196.8 594.403 M2205.29 592.644 L2205.29 607.436 L2201.04 607.436 L2201.04 603.501 Q2199.58 605.862 2197.4 606.996 Q2195.23 608.107 2192.08 608.107 Q2188.1 608.107 2185.73 605.885 Q2183.4 603.639 2183.4 599.889 Q2183.4 595.514 2186.31 593.292 Q2189.25 591.07 2195.06 591.07 L2201.04 591.07 L2201.04 590.653 Q2201.04 587.714 2199.09 586.116 Q2197.17 584.496 2193.67 584.496 Q2191.45 584.496 2189.35 585.028 Q2187.24 585.561 2185.29 586.626 L2185.29 582.69 Q2187.63 581.788 2189.83 581.348 Q2192.03 580.885 2194.11 580.885 Q2199.74 580.885 2202.52 583.802 Q2205.29 586.718 2205.29 592.644 Z\" fill=\"#000000\" fill-rule=\"evenodd\" fill-opacity=\"1\" /><polyline clip-path=\"url(#clip670)\" style=\"stroke:#c68125; stroke-width:4; stroke-opacity:1; fill:none\" points=\"\n",
       "  1858.76,650.636 2001.6,650.636 \n",
       "  \"/>\n",
       "<path clip-path=\"url(#clip670)\" d=\"M 0 0 M2030.09 637.198 L2030.09 650.184 L2035.97 650.184 Q2039.23 650.184 2041.01 648.495 Q2042.8 646.805 2042.8 643.68 Q2042.8 640.578 2041.01 638.888 Q2039.23 637.198 2035.97 637.198 L2030.09 637.198 M2025.41 633.356 L2035.97 633.356 Q2041.78 633.356 2044.74 635.995 Q2047.73 638.61 2047.73 643.68 Q2047.73 648.795 2044.74 651.411 Q2041.78 654.027 2035.97 654.027 L2030.09 654.027 L2030.09 667.916 L2025.41 667.916 L2025.41 633.356 Z\" fill=\"#000000\" fill-rule=\"evenodd\" fill-opacity=\"1\" /><path clip-path=\"url(#clip670)\" d=\"M 0 0 M2065.32 631.897 L2065.32 635.439 L2061.24 635.439 Q2058.95 635.439 2058.05 636.365 Q2057.17 637.291 2057.17 639.698 L2057.17 641.99 L2064.18 641.99 L2064.18 645.3 L2057.17 645.3 L2057.17 667.916 L2052.89 667.916 L2052.89 645.3 L2048.81 645.3 L2048.81 641.99 L2052.89 641.99 L2052.89 640.184 Q2052.89 635.856 2054.9 633.888 Q2056.92 631.897 2061.29 631.897 L2065.32 631.897 Z\" fill=\"#000000\" fill-rule=\"evenodd\" fill-opacity=\"1\" /><path clip-path=\"url(#clip670)\" d=\"M 0 0 M2069.79 641.99 L2074.05 641.99 L2074.05 667.916 L2069.79 667.916 L2069.79 641.99 M2069.79 631.897 L2074.05 631.897 L2074.05 637.291 L2069.79 637.291 L2069.79 631.897 Z\" fill=\"#000000\" fill-rule=\"evenodd\" fill-opacity=\"1\" /><path clip-path=\"url(#clip670)\" d=\"M 0 0 M2076.66 641.99 L2096.89 641.99 L2096.89 645.879 L2080.87 664.513 L2096.89 664.513 L2096.89 667.916 L2076.08 667.916 L2076.08 664.027 L2092.1 645.393 L2076.66 645.393 L2076.66 641.99 Z\" fill=\"#000000\" fill-rule=\"evenodd\" fill-opacity=\"1\" /><path clip-path=\"url(#clip670)\" d=\"M 0 0 M2123.54 653.888 L2123.54 655.971 L2103.95 655.971 Q2104.23 660.369 2106.59 662.684 Q2108.98 664.976 2113.21 664.976 Q2115.67 664.976 2117.96 664.374 Q2120.27 663.772 2122.54 662.569 L2122.54 666.596 Q2120.25 667.568 2117.84 668.078 Q2115.43 668.587 2112.96 668.587 Q2106.75 668.587 2103.12 664.976 Q2099.51 661.365 2099.51 655.207 Q2099.51 648.842 2102.93 645.115 Q2106.38 641.365 2112.22 641.365 Q2117.45 641.365 2120.48 644.745 Q2123.54 648.101 2123.54 653.888 M2119.28 652.638 Q2119.23 649.143 2117.31 647.059 Q2115.41 644.976 2112.26 644.976 Q2108.7 644.976 2106.55 646.99 Q2104.42 649.004 2104.09 652.661 L2119.28 652.638 Z\" fill=\"#000000\" fill-rule=\"evenodd\" fill-opacity=\"1\" /><path clip-path=\"url(#clip670)\" d=\"M 0 0 M2143.03 645.971 Q2142.31 645.555 2141.45 645.37 Q2140.62 645.161 2139.6 645.161 Q2135.99 645.161 2134.05 647.522 Q2132.12 649.86 2132.12 654.258 L2132.12 667.916 L2127.84 667.916 L2127.84 641.99 L2132.12 641.99 L2132.12 646.018 Q2133.47 643.657 2135.62 642.522 Q2137.77 641.365 2140.85 641.365 Q2141.29 641.365 2141.82 641.434 Q2142.36 641.481 2143 641.596 L2143.03 645.971 Z\" fill=\"#000000\" fill-rule=\"evenodd\" fill-opacity=\"1\" /><polyline clip-path=\"url(#clip670)\" style=\"stroke:#00a98d; stroke-width:4; stroke-opacity:1; fill:none\" points=\"\n",
       "  1858.76,711.116 2001.6,711.116 \n",
       "  \"/>\n",
       "<path clip-path=\"url(#clip670)\" d=\"M 0 0 M2025.41 693.836 L2030.11 693.836 L2030.11 714.831 Q2030.11 720.387 2032.12 722.84 Q2034.14 725.271 2038.65 725.271 Q2043.14 725.271 2045.16 722.84 Q2047.17 720.387 2047.17 714.831 L2047.17 693.836 L2051.87 693.836 L2051.87 715.41 Q2051.87 722.169 2048.51 725.618 Q2045.18 729.067 2038.65 729.067 Q2032.1 729.067 2028.74 725.618 Q2025.41 722.169 2025.41 715.41 L2025.41 693.836 Z\" fill=\"#000000\" fill-rule=\"evenodd\" fill-opacity=\"1\" /><path clip-path=\"url(#clip670)\" d=\"M 0 0 M2077.89 712.748 L2077.89 728.396 L2073.63 728.396 L2073.63 712.887 Q2073.63 709.206 2072.19 707.377 Q2070.76 705.549 2067.89 705.549 Q2064.44 705.549 2062.45 707.748 Q2060.46 709.947 2060.46 713.743 L2060.46 728.396 L2056.18 728.396 L2056.18 702.47 L2060.46 702.47 L2060.46 706.498 Q2061.99 704.16 2064.05 703.002 Q2066.13 701.845 2068.84 701.845 Q2073.3 701.845 2075.6 704.623 Q2077.89 707.377 2077.89 712.748 Z\" fill=\"#000000\" fill-rule=\"evenodd\" fill-opacity=\"1\" /><path clip-path=\"url(#clip670)\" d=\"M 0 0 M2082.36 702.47 L2086.61 702.47 L2086.61 728.396 L2082.36 728.396 L2082.36 702.47 M2082.36 692.377 L2086.61 692.377 L2086.61 697.771 L2082.36 697.771 L2082.36 692.377 Z\" fill=\"#000000\" fill-rule=\"evenodd\" fill-opacity=\"1\" /><path clip-path=\"url(#clip670)\" d=\"M 0 0 M2095.3 695.109 L2095.3 702.47 L2104.07 702.47 L2104.07 705.78 L2095.3 705.78 L2095.3 719.854 Q2095.3 723.025 2096.15 723.928 Q2097.03 724.831 2099.69 724.831 L2104.07 724.831 L2104.07 728.396 L2099.69 728.396 Q2094.76 728.396 2092.89 726.567 Q2091.01 724.715 2091.01 719.854 L2091.01 705.78 L2087.89 705.78 L2087.89 702.47 L2091.01 702.47 L2091.01 695.109 L2095.3 695.109 Z\" fill=\"#000000\" fill-rule=\"evenodd\" fill-opacity=\"1\" /><path clip-path=\"url(#clip670)\" d=\"M 0 0 M2130.71 714.368 L2130.71 716.451 L2111.13 716.451 Q2111.41 720.849 2113.77 723.164 Q2116.15 725.456 2120.39 725.456 Q2122.84 725.456 2125.13 724.854 Q2127.45 724.252 2129.72 723.049 L2129.72 727.076 Q2127.42 728.048 2125.02 728.558 Q2122.61 729.067 2120.13 729.067 Q2113.93 729.067 2110.3 725.456 Q2106.68 721.845 2106.68 715.687 Q2106.68 709.322 2110.11 705.595 Q2113.56 701.845 2119.39 701.845 Q2124.62 701.845 2127.66 705.225 Q2130.71 708.581 2130.71 714.368 M2126.45 713.118 Q2126.41 709.623 2124.49 707.539 Q2122.59 705.456 2119.44 705.456 Q2115.87 705.456 2113.72 707.47 Q2111.59 709.484 2111.27 713.141 L2126.45 713.118 Z\" fill=\"#000000\" fill-rule=\"evenodd\" fill-opacity=\"1\" /><path clip-path=\"url(#clip670)\" d=\"M 0 0 M2152.24 706.405 L2152.24 692.377 L2156.5 692.377 L2156.5 728.396 L2152.24 728.396 L2152.24 724.507 Q2150.9 726.822 2148.84 727.956 Q2146.8 729.067 2143.93 729.067 Q2139.23 729.067 2136.27 725.317 Q2133.33 721.567 2133.33 715.456 Q2133.33 709.345 2136.27 705.595 Q2139.23 701.845 2143.93 701.845 Q2146.8 701.845 2148.84 702.979 Q2150.9 704.09 2152.24 706.405 M2137.73 715.456 Q2137.73 720.155 2139.65 722.84 Q2141.59 725.502 2144.97 725.502 Q2148.35 725.502 2150.3 722.84 Q2152.24 720.155 2152.24 715.456 Q2152.24 710.757 2150.3 708.095 Q2148.35 705.41 2144.97 705.41 Q2141.59 705.41 2139.65 708.095 Q2137.73 710.757 2137.73 715.456 Z\" fill=\"#000000\" fill-rule=\"evenodd\" fill-opacity=\"1\" /><polyline clip-path=\"url(#clip670)\" style=\"stroke:#8e971d; stroke-width:4; stroke-opacity:1; fill:none\" points=\"\n",
       "  1858.76,771.596 2001.6,771.596 \n",
       "  \"/>\n",
       "<path clip-path=\"url(#clip670)\" d=\"M 0 0 M2032.52 754.316 L2037.19 754.316 L2037.19 786.468 Q2037.19 792.718 2034.81 795.542 Q2032.45 798.366 2027.19 798.366 L2025.41 798.366 L2025.41 794.431 L2026.87 794.431 Q2029.97 794.431 2031.24 792.695 Q2032.52 790.959 2032.52 786.468 L2032.52 754.316 Z\" fill=\"#000000\" fill-rule=\"evenodd\" fill-opacity=\"1\" /><path clip-path=\"url(#clip670)\" d=\"M 0 0 M2051.71 765.936 Q2048.28 765.936 2046.29 768.621 Q2044.3 771.283 2044.3 775.936 Q2044.3 780.589 2046.27 783.274 Q2048.26 785.936 2051.71 785.936 Q2055.11 785.936 2057.1 783.251 Q2059.09 780.566 2059.09 775.936 Q2059.09 771.33 2057.1 768.644 Q2055.11 765.936 2051.71 765.936 M2051.71 762.325 Q2057.26 762.325 2060.43 765.936 Q2063.61 769.547 2063.61 775.936 Q2063.61 782.302 2060.43 785.936 Q2057.26 789.547 2051.71 789.547 Q2046.13 789.547 2042.96 785.936 Q2039.81 782.302 2039.81 775.936 Q2039.81 769.547 2042.96 765.936 Q2046.13 762.325 2051.71 762.325 Z\" fill=\"#000000\" fill-rule=\"evenodd\" fill-opacity=\"1\" /><path clip-path=\"url(#clip670)\" d=\"M 0 0 M2089.62 773.228 L2089.62 788.876 L2085.36 788.876 L2085.36 773.367 Q2085.36 769.686 2083.93 767.857 Q2082.49 766.029 2079.62 766.029 Q2076.18 766.029 2074.18 768.228 Q2072.19 770.427 2072.19 774.223 L2072.19 788.876 L2067.91 788.876 L2067.91 752.857 L2072.19 752.857 L2072.19 766.978 Q2073.72 764.64 2075.78 763.482 Q2077.86 762.325 2080.57 762.325 Q2085.04 762.325 2087.33 765.103 Q2089.62 767.857 2089.62 773.228 Z\" fill=\"#000000\" fill-rule=\"evenodd\" fill-opacity=\"1\" /><path clip-path=\"url(#clip670)\" d=\"M 0 0 M2115.64 773.228 L2115.64 788.876 L2111.38 788.876 L2111.38 773.367 Q2111.38 769.686 2109.95 767.857 Q2108.51 766.029 2105.64 766.029 Q2102.19 766.029 2100.2 768.228 Q2098.21 770.427 2098.21 774.223 L2098.21 788.876 L2093.93 788.876 L2093.93 762.95 L2098.21 762.95 L2098.21 766.978 Q2099.74 764.64 2101.8 763.482 Q2103.88 762.325 2106.59 762.325 Q2111.06 762.325 2113.35 765.103 Q2115.64 767.857 2115.64 773.228 Z\" fill=\"#000000\" fill-rule=\"evenodd\" fill-opacity=\"1\" /><path clip-path=\"url(#clip670)\" d=\"M 0 0 M2136.64 763.714 L2136.64 767.742 Q2134.83 766.816 2132.89 766.353 Q2130.94 765.89 2128.86 765.89 Q2125.69 765.89 2124.09 766.862 Q2122.52 767.834 2122.52 769.779 Q2122.52 771.26 2123.65 772.117 Q2124.79 772.95 2128.21 773.714 L2129.67 774.038 Q2134.21 775.01 2136.11 776.792 Q2138.03 778.552 2138.03 781.723 Q2138.03 785.334 2135.16 787.441 Q2132.31 789.547 2127.31 789.547 Q2125.23 789.547 2122.96 789.13 Q2120.71 788.737 2118.21 787.927 L2118.21 783.529 Q2120.57 784.755 2122.86 785.38 Q2125.16 785.982 2127.4 785.982 Q2130.41 785.982 2132.03 784.964 Q2133.65 783.922 2133.65 782.047 Q2133.65 780.311 2132.47 779.385 Q2131.31 778.459 2127.36 777.603 L2125.87 777.255 Q2121.92 776.422 2120.16 774.709 Q2118.4 772.973 2118.4 769.964 Q2118.4 766.306 2120.99 764.316 Q2123.58 762.325 2128.35 762.325 Q2130.71 762.325 2132.8 762.672 Q2134.88 763.019 2136.64 763.714 Z\" fill=\"#000000\" fill-rule=\"evenodd\" fill-opacity=\"1\" /><path clip-path=\"url(#clip670)\" d=\"M 0 0 M2152.54 765.936 Q2149.11 765.936 2147.12 768.621 Q2145.13 771.283 2145.13 775.936 Q2145.13 780.589 2147.1 783.274 Q2149.09 785.936 2152.54 785.936 Q2155.94 785.936 2157.93 783.251 Q2159.92 780.566 2159.92 775.936 Q2159.92 771.33 2157.93 768.644 Q2155.94 765.936 2152.54 765.936 M2152.54 762.325 Q2158.1 762.325 2161.27 765.936 Q2164.44 769.547 2164.44 775.936 Q2164.44 782.302 2161.27 785.936 Q2158.1 789.547 2152.54 789.547 Q2146.96 789.547 2143.79 785.936 Q2140.64 782.302 2140.64 775.936 Q2140.64 769.547 2143.79 765.936 Q2146.96 762.325 2152.54 762.325 Z\" fill=\"#000000\" fill-rule=\"evenodd\" fill-opacity=\"1\" /><path clip-path=\"url(#clip670)\" d=\"M 0 0 M2190.46 773.228 L2190.46 788.876 L2186.2 788.876 L2186.2 773.367 Q2186.2 769.686 2184.76 767.857 Q2183.33 766.029 2180.46 766.029 Q2177.01 766.029 2175.02 768.228 Q2173.03 770.427 2173.03 774.223 L2173.03 788.876 L2168.74 788.876 L2168.74 762.95 L2173.03 762.95 L2173.03 766.978 Q2174.55 764.64 2176.61 763.482 Q2178.7 762.325 2181.41 762.325 Q2185.87 762.325 2188.17 765.103 Q2190.46 767.857 2190.46 773.228 Z\" fill=\"#000000\" fill-rule=\"evenodd\" fill-opacity=\"1\" /></svg>\n"
      ]
     },
     "execution_count": 102,
     "metadata": {},
     "output_type": "execute_result"
    }
   ],
   "source": [
    "fig = plot(linestyle = :dot, title = \"Change of Absolute Error as Lambda Changes(Lasso)\",xlabel = \"lambda\", ylabel = \"mean absolute error\")\n",
    "findlambda1(Anthem, fig, split1, \"Anthem\", AnthemMa)\n",
    "findlambda1(Cardinal, fig, split1, \"Cardinal\", CardinalMa)\n",
    "findlambda1(Cigna, fig, split1, \"Cigna\", CignaMa)\n",
    "findlambda1(CVS, fig, split1, \"CVS\", CVSMa)\n",
    "findlambda1(Gilead, fig, split1, \"Gilead\", GileadMa)\n",
    "findlambda1(McKesson, fig, split1, \"McKesson\", McKessonMa)\n",
    "findlambda1(Moderna, fig, split1, \"Moderna\", ModernaMa)\n",
    "findlambda1(Pfizer, fig, split1, \"Pfizer\", PfizerMa)\n",
    "findlambda1(United, fig, split1, \"United\", UnitedMa)\n",
    "findlambda1(Johnson, fig, split1, \"Johnson\", JohnsonMa)"
   ]
  },
  {
   "cell_type": "code",
   "execution_count": 87,
   "metadata": {},
   "outputs": [
    {
     "ename": "LoadError",
     "evalue": "UndefVarError: Ytrain not defined",
     "output_type": "error",
     "traceback": [
      "UndefVarError: Ytrain not defined",
      "",
      "Stacktrace:",
      " [1] top-level scope at In[87]:1",
      " [2] include_string(::Function, ::Module, ::String, ::String) at ./loading.jl:1091"
     ]
    }
   ],
   "source": [
    "n = length(Ytrain)\n",
    "loss = 1/n*L1Loss()\n",
    "\n",
    "# we form λ|| ⋅ ||^2 by multiplying the QuadReg() function by λ\n",
    "λ = .1\n",
    "reg = λ*QuadReg()\n",
    "\n",
    "w_cur = proxgrad(loss, reg, Xtrain, Ytrain, maxiters=1000)\n",
    "\n",
    "pred = Xtest*w_cur\n",
    "\n",
    "date = [5:44]\n",
    "plot(date, Ytest, color = :red,  label = \"Actual Stock Price\")\n",
    "plot!(date, pred, color = :blue, label = \"AR1 Model\")"
   ]
  },
  {
   "cell_type": "code",
   "execution_count": null,
   "metadata": {},
   "outputs": [],
   "source": [
    "abs_err(Ytest,pred)"
   ]
  },
  {
   "cell_type": "code",
   "execution_count": null,
   "metadata": {},
   "outputs": [],
   "source": [
    "w_cur"
   ]
  },
  {
   "cell_type": "code",
   "execution_count": null,
   "metadata": {},
   "outputs": [],
   "source": [
    "n = length(Ytrain)\n",
    "loss = 1/n* QuantileLoss(0.3)\n",
    "\n",
    "# we form λ|| ⋅ ||^2 by multiplying the QuadReg() function by λ\n",
    "λ = .1\n",
    "reg = λ*QuadReg()\n",
    "\n",
    "w_cur = proxgrad(loss, reg, Xtrain, Ytrain, maxiters=1000)\n",
    "\n",
    "pred = Xtest*w_cur\n",
    "\n",
    "date = [5:44]\n",
    "plot(date, Ytest, color = :red,  label = \"Actual Stock Price\")\n",
    "plot!(date, pred, color = :blue, label = \"AR1 Model\")"
   ]
  },
  {
   "cell_type": "code",
   "execution_count": null,
   "metadata": {},
   "outputs": [],
   "source": [
    "w_cur"
   ]
  },
  {
   "cell_type": "code",
   "execution_count": null,
   "metadata": {},
   "outputs": [],
   "source": [
    "num_round = 20\n",
    "bst = xgboost(Xtrain, num_round, label = Ytrain, eta = 1, max_depth = 10000)"
   ]
  },
  {
   "cell_type": "code",
   "execution_count": null,
   "metadata": {},
   "outputs": [],
   "source": [
    "pred = XGBoost.predict(bst, Xtest);"
   ]
  },
  {
   "cell_type": "code",
   "execution_count": null,
   "metadata": {},
   "outputs": [],
   "source": [
    "plot(date, Ytest, color = :red,  label = \"Actual Stock Price\")\n",
    "plot!(date, pred, color = :blue, label = \"AR1 Model\")"
   ]
  },
  {
   "cell_type": "code",
   "execution_count": null,
   "metadata": {},
   "outputs": [],
   "source": [
    "abs_err(Ytest,pred)"
   ]
  },
  {
   "cell_type": "code",
   "execution_count": null,
   "metadata": {
    "scrolled": true
   },
   "outputs": [],
   "source": [
    "analysis(Cardinal, sentiment)"
   ]
  },
  {
   "cell_type": "code",
   "execution_count": null,
   "metadata": {},
   "outputs": [],
   "source": [
    "analysis(Cigna, sentiment)"
   ]
  },
  {
   "cell_type": "code",
   "execution_count": null,
   "metadata": {},
   "outputs": [],
   "source": [
    "analysis(CVS, sentiment)"
   ]
  },
  {
   "cell_type": "code",
   "execution_count": null,
   "metadata": {},
   "outputs": [],
   "source": [
    "analysis(Johnson, sentiment)"
   ]
  },
  {
   "cell_type": "code",
   "execution_count": null,
   "metadata": {},
   "outputs": [],
   "source": [
    "analysis(Gilead, sentiment)"
   ]
  },
  {
   "cell_type": "code",
   "execution_count": null,
   "metadata": {},
   "outputs": [],
   "source": [
    "analysis(McKesson, sentiment)"
   ]
  },
  {
   "cell_type": "code",
   "execution_count": null,
   "metadata": {},
   "outputs": [],
   "source": [
    "analysis(Moderna, sentiment)"
   ]
  },
  {
   "cell_type": "code",
   "execution_count": null,
   "metadata": {},
   "outputs": [],
   "source": [
    "analysis(Pfizer, sentiment)"
   ]
  },
  {
   "cell_type": "code",
   "execution_count": null,
   "metadata": {},
   "outputs": [],
   "source": [
    "analysis(United, sentiment)"
   ]
  },
  {
   "cell_type": "code",
   "execution_count": null,
   "metadata": {},
   "outputs": [],
   "source": []
  }
 ],
 "metadata": {
  "kernelspec": {
   "display_name": "Julia 1.5.1",
   "language": "julia",
   "name": "julia-1.5"
  },
  "language_info": {
   "file_extension": ".jl",
   "mimetype": "application/julia",
   "name": "julia",
   "version": "1.5.1"
  }
 },
 "nbformat": 4,
 "nbformat_minor": 4
}
