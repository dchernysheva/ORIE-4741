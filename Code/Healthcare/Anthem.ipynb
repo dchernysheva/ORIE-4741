{
 "cells": [
  {
   "cell_type": "code",
   "execution_count": 1,
   "metadata": {},
   "outputs": [],
   "source": [
    "using CSV, Plots, Random, LinearAlgebra, Statistics, DataFrames, ARFIMA"
   ]
  },
  {
   "cell_type": "code",
   "execution_count": 2,
   "metadata": {},
   "outputs": [
    {
     "data": {
      "text/html": [
       "<table class=\"data-frame\"><thead><tr><th></th><th>TotalSentimentScore</th><th>Vaccine</th><th>Death</th><th>Shut</th><th>Date</th></tr><tr><th></th><th>Float64</th><th>Int64</th><th>Int64</th><th>Int64</th><th>String</th></tr></thead><tbody><p>263 rows × 5 columns</p><tr><th>1</th><td>0.0858615</td><td>0</td><td>0</td><td>0</td><td>02/11/2020</td></tr><tr><th>2</th><td>-0.0980214</td><td>2</td><td>3</td><td>1</td><td>02/12/2020</td></tr><tr><th>3</th><td>-0.0931667</td><td>0</td><td>3</td><td>0</td><td>02/13/2020</td></tr><tr><th>4</th><td>0.00919</td><td>0</td><td>1</td><td>2</td><td>02/14/2020</td></tr><tr><th>5</th><td>0.0</td><td>1</td><td>0</td><td>0</td><td>02/15/2020</td></tr><tr><th>6</th><td>-0.1998</td><td>0</td><td>0</td><td>1</td><td>02/16/2020</td></tr><tr><th>7</th><td>-0.190725</td><td>1</td><td>0</td><td>0</td><td>02/17/2020</td></tr><tr><th>8</th><td>-0.0343133</td><td>0</td><td>2</td><td>0</td><td>02/18/2020</td></tr><tr><th>9</th><td>-0.144262</td><td>0</td><td>0</td><td>0</td><td>02/19/2020</td></tr><tr><th>10</th><td>-0.0162727</td><td>0</td><td>1</td><td>0</td><td>02/20/2020</td></tr><tr><th>11</th><td>-0.1702</td><td>0</td><td>0</td><td>0</td><td>02/21/2020</td></tr><tr><th>12</th><td>-0.0222375</td><td>3</td><td>1</td><td>1</td><td>02/22/2020</td></tr><tr><th>13</th><td>0.0131182</td><td>0</td><td>0</td><td>0</td><td>02/23/2020</td></tr><tr><th>14</th><td>-0.218642</td><td>1</td><td>1</td><td>0</td><td>02/24/2020</td></tr><tr><th>15</th><td>0.00606364</td><td>0</td><td>0</td><td>1</td><td>02/25/2020</td></tr><tr><th>16</th><td>-0.0903647</td><td>1</td><td>2</td><td>0</td><td>02/26/2020</td></tr><tr><th>17</th><td>0.0432111</td><td>2</td><td>0</td><td>1</td><td>02/27/2020</td></tr><tr><th>18</th><td>-0.0194889</td><td>2</td><td>1</td><td>1</td><td>02/28/2020</td></tr><tr><th>19</th><td>-0.131395</td><td>0</td><td>9</td><td>0</td><td>02/29/2020</td></tr><tr><th>20</th><td>-0.0813222</td><td>0</td><td>0</td><td>1</td><td>03/01/2020</td></tr><tr><th>21</th><td>-0.117297</td><td>2</td><td>1</td><td>2</td><td>03/02/2020</td></tr><tr><th>22</th><td>-0.11209</td><td>0</td><td>3</td><td>0</td><td>03/03/2020</td></tr><tr><th>23</th><td>-0.173153</td><td>1</td><td>4</td><td>2</td><td>03/04/2020</td></tr><tr><th>24</th><td>-0.0402525</td><td>0</td><td>5</td><td>0</td><td>03/05/2020</td></tr><tr><th>25</th><td>-0.103</td><td>0</td><td>4</td><td>2</td><td>03/06/2020</td></tr><tr><th>26</th><td>-0.1122</td><td>0</td><td>2</td><td>1</td><td>03/07/2020</td></tr><tr><th>27</th><td>-0.0177</td><td>1</td><td>1</td><td>0</td><td>03/08/2020</td></tr><tr><th>28</th><td>-0.099588</td><td>0</td><td>3</td><td>3</td><td>03/09/2020</td></tr><tr><th>29</th><td>-0.128652</td><td>3</td><td>1</td><td>4</td><td>03/10/2020</td></tr><tr><th>30</th><td>0.018477</td><td>2</td><td>6</td><td>7</td><td>03/11/2020</td></tr><tr><th>&vellip;</th><td>&vellip;</td><td>&vellip;</td><td>&vellip;</td><td>&vellip;</td><td>&vellip;</td></tr></tbody></table>"
      ],
      "text/latex": [
       "\\begin{tabular}{r|ccccc}\n",
       "\t& TotalSentimentScore & Vaccine & Death & Shut & Date\\\\\n",
       "\t\\hline\n",
       "\t& Float64 & Int64 & Int64 & Int64 & String\\\\\n",
       "\t\\hline\n",
       "\t1 & 0.0858615 & 0 & 0 & 0 & 02/11/2020 \\\\\n",
       "\t2 & -0.0980214 & 2 & 3 & 1 & 02/12/2020 \\\\\n",
       "\t3 & -0.0931667 & 0 & 3 & 0 & 02/13/2020 \\\\\n",
       "\t4 & 0.00919 & 0 & 1 & 2 & 02/14/2020 \\\\\n",
       "\t5 & 0.0 & 1 & 0 & 0 & 02/15/2020 \\\\\n",
       "\t6 & -0.1998 & 0 & 0 & 1 & 02/16/2020 \\\\\n",
       "\t7 & -0.190725 & 1 & 0 & 0 & 02/17/2020 \\\\\n",
       "\t8 & -0.0343133 & 0 & 2 & 0 & 02/18/2020 \\\\\n",
       "\t9 & -0.144262 & 0 & 0 & 0 & 02/19/2020 \\\\\n",
       "\t10 & -0.0162727 & 0 & 1 & 0 & 02/20/2020 \\\\\n",
       "\t11 & -0.1702 & 0 & 0 & 0 & 02/21/2020 \\\\\n",
       "\t12 & -0.0222375 & 3 & 1 & 1 & 02/22/2020 \\\\\n",
       "\t13 & 0.0131182 & 0 & 0 & 0 & 02/23/2020 \\\\\n",
       "\t14 & -0.218642 & 1 & 1 & 0 & 02/24/2020 \\\\\n",
       "\t15 & 0.00606364 & 0 & 0 & 1 & 02/25/2020 \\\\\n",
       "\t16 & -0.0903647 & 1 & 2 & 0 & 02/26/2020 \\\\\n",
       "\t17 & 0.0432111 & 2 & 0 & 1 & 02/27/2020 \\\\\n",
       "\t18 & -0.0194889 & 2 & 1 & 1 & 02/28/2020 \\\\\n",
       "\t19 & -0.131395 & 0 & 9 & 0 & 02/29/2020 \\\\\n",
       "\t20 & -0.0813222 & 0 & 0 & 1 & 03/01/2020 \\\\\n",
       "\t21 & -0.117297 & 2 & 1 & 2 & 03/02/2020 \\\\\n",
       "\t22 & -0.11209 & 0 & 3 & 0 & 03/03/2020 \\\\\n",
       "\t23 & -0.173153 & 1 & 4 & 2 & 03/04/2020 \\\\\n",
       "\t24 & -0.0402525 & 0 & 5 & 0 & 03/05/2020 \\\\\n",
       "\t25 & -0.103 & 0 & 4 & 2 & 03/06/2020 \\\\\n",
       "\t26 & -0.1122 & 0 & 2 & 1 & 03/07/2020 \\\\\n",
       "\t27 & -0.0177 & 1 & 1 & 0 & 03/08/2020 \\\\\n",
       "\t28 & -0.099588 & 0 & 3 & 3 & 03/09/2020 \\\\\n",
       "\t29 & -0.128652 & 3 & 1 & 4 & 03/10/2020 \\\\\n",
       "\t30 & 0.018477 & 2 & 6 & 7 & 03/11/2020 \\\\\n",
       "\t$\\dots$ & $\\dots$ & $\\dots$ & $\\dots$ & $\\dots$ & $\\dots$ \\\\\n",
       "\\end{tabular}\n"
      ],
      "text/plain": [
       "263×5 DataFrame\n",
       "│ Row │ TotalSentimentScore │ Vaccine │ Death │ Shut  │ Date       │\n",
       "│     │ \u001b[90mFloat64\u001b[39m             │ \u001b[90mInt64\u001b[39m   │ \u001b[90mInt64\u001b[39m │ \u001b[90mInt64\u001b[39m │ \u001b[90mString\u001b[39m     │\n",
       "├─────┼─────────────────────┼─────────┼───────┼───────┼────────────┤\n",
       "│ 1   │ 0.0858615           │ 0       │ 0     │ 0     │ 02/11/2020 │\n",
       "│ 2   │ -0.0980214          │ 2       │ 3     │ 1     │ 02/12/2020 │\n",
       "│ 3   │ -0.0931667          │ 0       │ 3     │ 0     │ 02/13/2020 │\n",
       "│ 4   │ 0.00919             │ 0       │ 1     │ 2     │ 02/14/2020 │\n",
       "│ 5   │ 0.0                 │ 1       │ 0     │ 0     │ 02/15/2020 │\n",
       "│ 6   │ -0.1998             │ 0       │ 0     │ 1     │ 02/16/2020 │\n",
       "│ 7   │ -0.190725           │ 1       │ 0     │ 0     │ 02/17/2020 │\n",
       "│ 8   │ -0.0343133          │ 0       │ 2     │ 0     │ 02/18/2020 │\n",
       "│ 9   │ -0.144262           │ 0       │ 0     │ 0     │ 02/19/2020 │\n",
       "│ 10  │ -0.0162727          │ 0       │ 1     │ 0     │ 02/20/2020 │\n",
       "⋮\n",
       "│ 253 │ -0.0074186          │ 5       │ 2     │ 4     │ 10/20/2020 │\n",
       "│ 254 │ -0.0994814          │ 16      │ 17    │ 0     │ 10/21/2020 │\n",
       "│ 255 │ 0.0726509           │ 4       │ 1     │ 3     │ 10/22/2020 │\n",
       "│ 256 │ -0.0800933          │ 4       │ 7     │ 3     │ 10/23/2020 │\n",
       "│ 257 │ -0.0457233          │ 1       │ 1     │ 1     │ 10/24/2020 │\n",
       "│ 258 │ -0.0489087          │ 3       │ 1     │ 3     │ 10/25/2020 │\n",
       "│ 259 │ -0.0450962          │ 6       │ 4     │ 3     │ 10/26/2020 │\n",
       "│ 260 │ -0.109511           │ 5       │ 8     │ 2     │ 10/27/2020 │\n",
       "│ 261 │ -0.0308831          │ 4       │ 4     │ 8     │ 10/28/2020 │\n",
       "│ 262 │ -0.0524837          │ 3       │ 1     │ 6     │ 10/29/2020 │\n",
       "│ 263 │ 0.143944            │ 1       │ 0     │ 0     │ 10/30/2020 │"
      ]
     },
     "execution_count": 2,
     "metadata": {},
     "output_type": "execute_result"
    }
   ],
   "source": [
    "sentiment = CSV.read(\"sentiment1.csv\")"
   ]
  },
  {
   "cell_type": "code",
   "execution_count": 19,
   "metadata": {},
   "outputs": [
    {
     "data": {
      "text/html": [
       "<table class=\"data-frame\"><thead><tr><th></th><th>Column1</th></tr><tr><th></th><th>Float64</th></tr></thead><tbody><p>263 rows × 1 columns</p><tr><th>1</th><td>279.91</td></tr><tr><th>2</th><td>296.0</td></tr><tr><th>3</th><td>298.87</td></tr><tr><th>4</th><td>297.82</td></tr><tr><th>5</th><td>298.978</td></tr><tr><th>6</th><td>300.135</td></tr><tr><th>7</th><td>301.293</td></tr><tr><th>8</th><td>302.45</td></tr><tr><th>9</th><td>304.06</td></tr><tr><th>10</th><td>293.94</td></tr><tr><th>11</th><td>294.71</td></tr><tr><th>12</th><td>288.973</td></tr><tr><th>13</th><td>283.237</td></tr><tr><th>14</th><td>277.5</td></tr><tr><th>15</th><td>267.4</td></tr><tr><th>16</th><td>268.15</td></tr><tr><th>17</th><td>257.86</td></tr><tr><th>18</th><td>257.09</td></tr><tr><th>19</th><td>261.817</td></tr><tr><th>20</th><td>266.543</td></tr><tr><th>21</th><td>271.27</td></tr><tr><th>22</th><td>256.38</td></tr><tr><th>23</th><td>296.42</td></tr><tr><th>24</th><td>287.16</td></tr><tr><th>25</th><td>282.19</td></tr><tr><th>26</th><td>278.067</td></tr><tr><th>27</th><td>273.943</td></tr><tr><th>28</th><td>269.82</td></tr><tr><th>29</th><td>286.05</td></tr><tr><th>30</th><td>281.69</td></tr><tr><th>&vellip;</th><td>&vellip;</td></tr></tbody></table>"
      ],
      "text/latex": [
       "\\begin{tabular}{r|c}\n",
       "\t& Column1\\\\\n",
       "\t\\hline\n",
       "\t& Float64\\\\\n",
       "\t\\hline\n",
       "\t1 & 279.91 \\\\\n",
       "\t2 & 296.0 \\\\\n",
       "\t3 & 298.87 \\\\\n",
       "\t4 & 297.82 \\\\\n",
       "\t5 & 298.978 \\\\\n",
       "\t6 & 300.135 \\\\\n",
       "\t7 & 301.293 \\\\\n",
       "\t8 & 302.45 \\\\\n",
       "\t9 & 304.06 \\\\\n",
       "\t10 & 293.94 \\\\\n",
       "\t11 & 294.71 \\\\\n",
       "\t12 & 288.973 \\\\\n",
       "\t13 & 283.237 \\\\\n",
       "\t14 & 277.5 \\\\\n",
       "\t15 & 267.4 \\\\\n",
       "\t16 & 268.15 \\\\\n",
       "\t17 & 257.86 \\\\\n",
       "\t18 & 257.09 \\\\\n",
       "\t19 & 261.817 \\\\\n",
       "\t20 & 266.543 \\\\\n",
       "\t21 & 271.27 \\\\\n",
       "\t22 & 256.38 \\\\\n",
       "\t23 & 296.42 \\\\\n",
       "\t24 & 287.16 \\\\\n",
       "\t25 & 282.19 \\\\\n",
       "\t26 & 278.067 \\\\\n",
       "\t27 & 273.943 \\\\\n",
       "\t28 & 269.82 \\\\\n",
       "\t29 & 286.05 \\\\\n",
       "\t30 & 281.69 \\\\\n",
       "\t$\\dots$ & $\\dots$ \\\\\n",
       "\\end{tabular}\n"
      ],
      "text/plain": [
       "263×1 DataFrame\n",
       "│ Row │ Column1 │\n",
       "│     │ \u001b[90mFloat64\u001b[39m │\n",
       "├─────┼─────────┤\n",
       "│ 1   │ 279.91  │\n",
       "│ 2   │ 296.0   │\n",
       "│ 3   │ 298.87  │\n",
       "│ 4   │ 297.82  │\n",
       "│ 5   │ 298.978 │\n",
       "│ 6   │ 300.135 │\n",
       "│ 7   │ 301.293 │\n",
       "│ 8   │ 302.45  │\n",
       "│ 9   │ 304.06  │\n",
       "│ 10  │ 293.94  │\n",
       "⋮\n",
       "│ 253 │ 291.19  │\n",
       "│ 254 │ 296.16  │\n",
       "│ 255 │ 305.17  │\n",
       "│ 256 │ 310.76  │\n",
       "│ 257 │ 307.09  │\n",
       "│ 258 │ 303.42  │\n",
       "│ 259 │ 299.75  │\n",
       "│ 260 │ 298.88  │\n",
       "│ 261 │ 285.8   │\n",
       "│ 262 │ 273.26  │\n",
       "│ 263 │ 272.8   │"
      ]
     },
     "execution_count": 19,
     "metadata": {},
     "output_type": "execute_result"
    }
   ],
   "source": [
    "stock = CSV.read(\"Anthem.csv\",header = false)"
   ]
  },
  {
   "cell_type": "code",
   "execution_count": 20,
   "metadata": {},
   "outputs": [
    {
     "data": {
      "text/plain": [
       "6-element Array{Int64,1}:\n",
       "  43\n",
       "  87\n",
       " 131\n",
       " 175\n",
       " 219\n",
       " 263"
      ]
     },
     "execution_count": 20,
     "metadata": {},
     "output_type": "execute_result"
    }
   ],
   "source": [
    "# index for 5-fold\n",
    "split = [43,43 + 44,43+ 44*2,43 + 44*3, 43 + 44*4,43 + 44*5]"
   ]
  },
  {
   "cell_type": "code",
   "execution_count": 24,
   "metadata": {},
   "outputs": [
    {
     "data": {
      "text/plain": [
       "263-element Array{Float64,1}:\n",
       " 279.910004\n",
       " 296.0\n",
       " 298.869995\n",
       " 297.820007\n",
       " 298.9775083\n",
       " 300.1350095\n",
       " 301.2925108\n",
       " 302.450012\n",
       " 304.059998\n",
       " 293.940002\n",
       " 294.709991\n",
       " 288.9733273\n",
       " 283.2366637\n",
       "   ⋮\n",
       " 292.209991\n",
       " 291.190002\n",
       " 296.160004\n",
       " 305.170013\n",
       " 310.76001\n",
       " 307.0900067\n",
       " 303.4200033\n",
       " 299.75\n",
       " 298.880005\n",
       " 285.799988\n",
       " 273.26001\n",
       " 272.799988"
      ]
     },
     "execution_count": 24,
     "metadata": {},
     "output_type": "execute_result"
    }
   ],
   "source": [
    "stock[1]"
   ]
  },
  {
   "cell_type": "code",
   "execution_count": 22,
   "metadata": {},
   "outputs": [
    {
     "data": {
      "text/plain": [
       "abs_err (generic function with 1 method)"
      ]
     },
     "execution_count": 22,
     "metadata": {},
     "output_type": "execute_result"
    }
   ],
   "source": [
    "function abs_err(y,pred)\n",
    "    return mean(abs.(y-pred))\n",
    "end"
   ]
  },
  {
   "cell_type": "code",
   "execution_count": 41,
   "metadata": {},
   "outputs": [
    {
     "name": "stdout",
     "output_type": "stream",
     "text": [
      "[206.960007, 200.869995, 191.589996, 185.9533283, 180.3166607, 174.679993, 196.839996]\n",
      "[237.2182624266238, 224.26490817539917, 217.5629274955046, 205.2170738842855, 185.6993023891064, 174.42066333846378, 175.44544300219096]\n",
      "[261.549988, 264.119995, 266.099996, 268.079997, 270.059998, 268.220001, 280.609985, 280.730011, 269.570007, 270.0466713, 270.5233357, 271.0, 275.070007, 270.619995, 265.730011]\n",
      "[254.30948519379075, 250.67284096918615, 267.3817297963545, 265.1383951792109, 263.8995264368742, 268.34368545084186, 267.6484190466771, 272.6912557651994, 274.10533000154106, 266.41123890644457, 270.99772405585026, 262.09046904132475, 270.03298575094243, 275.60218938877955, 268.785887405016]\n",
      "[291.369995, 294.109985, 292.7499897, 291.3899943, 290.029999, 294.200012, 289.269989, 282.089996, 287.890015, 292.123342, 296.356669, 300.589996, 291.01001, 288.540009, 264.540009, 265.73999, 264.6033223, 263.4666547, 262.329987, 267.429993, 265.720001, 265.529999, 266.429993, 266.0233257]\n",
      "[285.8558044185683, 289.8277761598906, 296.72888926117065, 297.69944898228647, 290.3138814427978, 289.3562398981449, 292.1873462349294, 290.24395298218957, 285.82845768522157, 291.01754228702873, 291.49905465390657, 292.5209433714503, 295.227104901252, 288.48952149724784, 284.69830869924056, 265.2177042201359, 263.03589793091487, 263.0899570805446, 256.6096303686431, 259.7136881979779, 261.88036446889333, 255.68364390609986, 257.6359552402743, 266.42618964121976]\n",
      "[267.0, 267.5, 268.0, 268.5, 269.0, 264.890015, 262.540009, 255.0, 255.0, 255.8599957, 256.7199913, 257.579987, 263.470001, 267.279999, 264.089996, 266.369995, 263.91333, 261.456665, 259.0, 265.709991, 268.089996, 269.929993, 270.48999, 268.3233233, 266.1566567, 263.98999, 265.230011, 281.559998, 277.190002, 273.799988, 272.7833253, 271.7666627, 270.75]\n",
      "[262.3008960147824, 263.21700792225965, 267.5369715581975, 265.65949870833964, 264.96209442633483, 263.2217045242826, 264.5096776592902, 263.1344672396804, 256.20472435262354, 255.39087630761836, 256.28411825080474, 255.19901086754254, 254.60037445716125, 259.41236363008795, 258.1688413825254, 263.90267572988273, 267.7388983286572, 262.1242707678659, 253.84738634030398, 256.84241478020783, 262.73172075825056, 266.3011623495911, 267.3958257981102, 268.9123607233713, 269.28257663342134, 262.0476859100228, 261.6082748409799, 264.8666368127827, 279.330779058984, 275.590576272863, 273.1833552640515, 271.4188301827555, 272.56782414412913]\n",
      "[271.480011, 276.660004, 277.3900047, 278.1200053, 278.850006, 280.329987, 283.179993, 282.329987, 283.230011, 283.1900023, 283.1499937, 283.109985, 282.450012, 283.399994, 281.75, 284.630005, 282.8066713, 280.9833377, 279.160004, 276.470001, 270.209991, 274.589996, 277.279999, 278.693329, 280.106659, 281.519989, 273.079987, 279.970001, 277.0, 276.220001, 273.9674985, 271.714996, 269.4624935, 267.209991, 267.420013, 260.839996, 258.029999, 260.5533347, 263.0766703, 265.600006, 260.149994, 263.619995]\n",
      "[275.25875461339194, 269.83701582493285, 276.05274101477346, 278.34203967615076, 277.2279586605596, 270.4262194168144, 278.25425354295953, 280.0085087814352, 279.5020646341153, 278.4794692345857, 280.0722389262731, 281.9408980470672, 280.3258555652672, 278.9888965782234, 282.0050939156099, 280.3027201183116, 284.278465089568, 283.3848325786782, 278.8755505743756, 275.73204228035706, 276.28663460048585, 270.08034774278025, 270.6941101708795, 276.81977014660856, 278.90080071171025, 278.1151106719266, 282.284272977041, 271.13620746877416, 275.64495306481416, 274.5103120447357, 275.83367017301737, 273.11426543902166, 271.8138902351155, 268.4175402350125, 266.6917117617514, 264.87711645582925, 262.6742710676887, 258.57976095912096, 258.90769838065114, 262.08404433564766, 264.3836827594944, 258.16492925953065]\n"
     ]
    }
   ],
   "source": [
    "num_of_model = 3\n",
    "mse = zeros(num_of_model,5)\n",
    "w = zeros(18)\n",
    "for i in 1:5\n",
    "    w_set = []\n",
    "    # setting train and validation set\n",
    "    split_cur = split[i]\n",
    "    split2 = Int(round(split_cur*4/5))\n",
    "        \n",
    "    stock_train = stock[1][1:split2]\n",
    "    stock_val = stock[1][split2 + 1:split_cur]\n",
    "        \n",
    "    sent_train = sentiment[1][1:split2]\n",
    "    sent_val = sentiment[1][split2 + 1:split_cur]\n",
    "        \n",
    "    death_train = sentiment[3][1:split2]\n",
    "    death_val = sentiment[3][split2 + 1:split_cur]\n",
    "        \n",
    "    vac_train = sentiment[2][1:split2]\n",
    "    vac_val = sentiment[2][split2 + 1:split_cur]\n",
    "        \n",
    "    shut_train = sentiment[4][1:split2]\n",
    "    shut_val = sentiment[4][split2 + 1:split_cur]\n",
    "    \n",
    "    #Naive Model, w[1:5]\n",
    "    Xtrain = [sent_train death_train vac_train shut_train ones(length(sent_train))]\n",
    "    Xval = [sent_val death_val vac_val shut_val ones(length(sent_val))]\n",
    "    Ytrain = stock_train\n",
    "    Yval = stock_val\n",
    "    \n",
    "    w_cur = Xtrain\\Ytrain\n",
    "    w_set = vcat(w_set, w_cur)\n",
    "    pred = Xval*w_cur\n",
    "    mse[1,i] = abs_err(Yval,pred)\n",
    "    \n",
    "    #AR1 Model, w[6:11]\n",
    "    Xtrain = [sent_train[2:end] stock_train[1:end-1] death_train[2:end] vac_train[2:end] shut_train[2:end] ones(length(sent_train)-1)]\n",
    "    Xval = [sent_val[2:end] stock_val[1:end-1] death_val[2:end] vac_val[2:end] shut_val[2:end] ones(length(sent_val)-1)]\n",
    "    Ytrain = stock_train[2:end]\n",
    "    Yval = stock_val[2:end]\n",
    "    \n",
    "    w_cur = Xtrain\\Ytrain\n",
    "    w_set = vcat(w_set, w_cur)\n",
    "    pred = Xval*w_cur\n",
    "    mse[2,i] = abs_err(Yval,pred)\n",
    "    \n",
    "    # AR2 Model, w[12:18]\n",
    "    Xtrain = [sent_train[3:end] stock_train[2:end-1] stock_train[1:end-2] death_train[3:end] vac_train[3:end] shut_train[3:end] ones(length(sent_train)-2)]\n",
    "    Xval = [sent_val[3:end] stock_val[2:end-1] stock_val[1:end-2] death_val[3:end] vac_val[3:end] shut_val[3:end] ones(length(sent_val)-2)]\n",
    "    Ytrain = stock_train[3:end]\n",
    "    Yval = stock_val[3:end]\n",
    "    \n",
    "    w_cur = Xtrain\\Ytrain\n",
    "    w_set = vcat(w_set, w_cur)\n",
    "    pred = Xval*w_cur\n",
    "    mse[3,i] = abs_err(Yval,pred)\n",
    "    w = hcat(w,w_set)\n",
    "end"
   ]
  },
  {
   "cell_type": "code",
   "execution_count": 42,
   "metadata": {},
   "outputs": [
    {
     "data": {
      "text/plain": [
       "3×5 Array{Float64,2}:\n",
       " 51.9352  28.0873   13.6328   9.45674  9.12706\n",
       " 18.501    6.01871   5.02105  3.52973  3.36717\n",
       " 17.9895   5.52168   4.81623  3.65989  3.3327"
      ]
     },
     "execution_count": 42,
     "metadata": {},
     "output_type": "execute_result"
    }
   ],
   "source": [
    "mse"
   ]
  },
  {
   "cell_type": "code",
   "execution_count": 43,
   "metadata": {},
   "outputs": [
    {
     "data": {
      "text/plain": [
       "3×1 Array{Float64,2}:\n",
       " 22.44780794130933\n",
       "  7.287525197851982\n",
       "  7.0639976249576435"
      ]
     },
     "execution_count": 43,
     "metadata": {},
     "output_type": "execute_result"
    }
   ],
   "source": [
    "avg_mse = mean(mse, dims=2)"
   ]
  },
  {
   "cell_type": "code",
   "execution_count": 49,
   "metadata": {},
   "outputs": [
    {
     "name": "stdout",
     "output_type": "stream",
     "text": [
      "Selected: model 3, estimated error is: 6.0059497268731, Validation Error is :7.0639976249576435"
     ]
    }
   ],
   "source": [
    "final_model = findmin(avg_mse)[2][1]\n",
    "test_mse = zeros(5)\n",
    "model = [\"model 1\", \"model 2\", \"model 3\"]\n",
    "for i in 1:5\n",
    "    #Fixed index\n",
    "    stock_test = stock[1][split[i]+1:split[i+1]]\n",
    "    sent_test = sentiment[1][split[i]+1:split[i+1]]\n",
    "    death_test = sentiment[3][split[i]+1:split[i+1]]\n",
    "    vac_test = sentiment[2][split[i]+1:split[i+1]]\n",
    "    shut_test = sentiment[4][split[i]+1:split[i+1]]\n",
    "    \n",
    "    if final_model == 1\n",
    "        Xtest = [sent_test death_test vac_test shut_test ones(length(sent_test))]\n",
    "        Ytest = stock_test\n",
    "    \n",
    "        w_cur = w[1:5, i+1]\n",
    "        pred = Xtest*w_cur\n",
    "        test_mse[i] = abs_err(Ytest,pred)\n",
    "        \n",
    "    elseif final_model == 2\n",
    "        Xtest = [sent_test[2:end] stock_test[1:end-1] death_test[2:end] vac_test[2:end] shut_test[2:end] ones(length(stock_test)-1)]\n",
    "        Ytest = stock_test[2:end]\n",
    "        \n",
    "        w_cur = w[6:11, i+1]\n",
    "        pred = Xtest*w_cur\n",
    "        test_mse[i] = abs_err(Ytest,pred)\n",
    "        \n",
    "    elseif final_model == 3\n",
    "        Xtest = [sent_test[3:end] stock_test[2:end-1] stock_test[1:end-2] death_test[3:end] vac_test[3:end] shut_test[3:end] ones(length(stock_test)-2)]\n",
    "        Ytest = stock_test[3:end]\n",
    "        \n",
    "        w_cur = w[12:18, i+1]\n",
    "        pred = Xtest*w_cur\n",
    "        test_mse[i] = abs_err(Ytest,pred)\n",
    "    else\n",
    "        print(\"error\")\n",
    "    end\n",
    "end\n",
    "print(\"Selected: \", model[final_model], \", estimated error is: \",mean(test_mse), \", Validation Error is :\", findmin(avg_mse)[1])"
   ]
  },
  {
   "cell_type": "code",
   "execution_count": null,
   "metadata": {},
   "outputs": [],
   "source": []
  }
 ],
 "metadata": {
  "kernelspec": {
   "display_name": "Julia 1.5.1",
   "language": "julia",
   "name": "julia-1.5"
  },
  "language_info": {
   "file_extension": ".jl",
   "mimetype": "application/julia",
   "name": "julia",
   "version": "1.5.1"
  }
 },
 "nbformat": 4,
 "nbformat_minor": 4
}
