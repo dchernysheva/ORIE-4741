{
 "cells": [
  {
   "cell_type": "code",
   "execution_count": 60,
   "metadata": {},
   "outputs": [],
   "source": [
    "using CSV, Plots, Random, LinearAlgebra, Statistics, DataFrames"
   ]
  },
  {
   "cell_type": "code",
   "execution_count": 61,
   "metadata": {},
   "outputs": [],
   "source": [
    "sentiments = CSV.read(\"sentiment.csv\")[1]\n",
    "zoom = CSV.read(\"zoom_adjclose.csv\")[1]\n",
    "facebook = CSV.read(\"facebook_adjclose.csv\")[1]\n",
    "amazon = CSV.read(\"amazon_adjclose.csv\")[1]\n",
    "cisco = CSV.read(\"cisco_adjclose.csv\")[1]\n",
    "netflix = CSV.read(\"netflix_adjclose.csv\")[1]\n",
    "intel = CSV.read(\"intel_adjclose.csv\")[1]\n",
    "tesla = CSV.read(\"tesla_adjclose.csv\")[1]\n",
    "alibaba = CSV.read(\"alibaba_adjclose.csv\")[1]\n",
    "microsoft = CSV.read(\"microsoft_adjclose.csv\")[1]\n",
    "nvidia = CSV.read(\"nvidia_adjclose.csv\")[1];"
   ]
  },
  {
   "cell_type": "code",
   "execution_count": 62,
   "metadata": {},
   "outputs": [
    {
     "data": {
      "text/plain": [
       "abs_err (generic function with 1 method)"
      ]
     },
     "execution_count": 62,
     "metadata": {},
     "output_type": "execute_result"
    }
   ],
   "source": [
    "function abs_err(y,pred)   # absolute error\n",
    "    return mean(abs.(y-pred))\n",
    "end"
   ]
  },
  {
   "cell_type": "code",
   "execution_count": 63,
   "metadata": {},
   "outputs": [
    {
     "data": {
      "text/plain": [
       "select_best_model (generic function with 1 method)"
      ]
     },
     "execution_count": 63,
     "metadata": {},
     "output_type": "execute_result"
    }
   ],
   "source": [
    "num_of_model = 3\n",
    "split = [43, 43+44, 43+44*2, 43+44*3, 43+44*4, 43+44*5]  # index for 5-fold\n",
    "\n",
    "function select_best_model(stock)  # using k-fold cross validation\n",
    "    err = zeros(num_of_model,5)\n",
    "    w = zeros(9)\n",
    "    \n",
    "    for i in 1:5\n",
    "        w_set = []\n",
    "        # setting train and validation set\n",
    "        split_cur = split[i]\n",
    "        split2 = Int(round(split_cur*4/5))\n",
    "        stock_train = stock[1:split2]\n",
    "        stock_val = stock[split2 + 1:split_cur]\n",
    "        sent_train = sentiments[1:split2]\n",
    "        sent_val = sentiments[split2 + 1:split_cur]\n",
    "    \n",
    "        # Naive Model, w[1:2]\n",
    "        Xtrain = [sent_train ones(length(sent_train))]\n",
    "        Xval = [sent_val ones(length(sent_val))]\n",
    "        Ytrain = stock_train\n",
    "        Yval = stock_val\n",
    "    \n",
    "        w_cur = Xtrain\\Ytrain\n",
    "        w_set = vcat(w_set, w_cur)\n",
    "        pred = Xval*w_cur\n",
    "        err[1,i] = abs_err(Yval,pred)\n",
    "    \n",
    "        # AR1 Model, w[3:5]\n",
    "        Xtrain = [sent_train[2:end] stock_train[1:end-1] ones(length(sent_train)-1)]\n",
    "        Xval = [sent_val[2:end] stock_val[1:end-1] ones(length(sent_val)-1)]\n",
    "        Ytrain = stock_train[2:end]\n",
    "        Yval = stock_val[2:end]\n",
    "    \n",
    "        w_cur = Xtrain\\Ytrain\n",
    "        w_set = vcat(w_set, w_cur)\n",
    "        pred = Xval*w_cur\n",
    "        err[2,i] = abs_err(Yval,pred)\n",
    "    \n",
    "        # AR2 Model, w[6:9]\n",
    "        Xtrain = [sent_train[3:end] stock_train[2:end-1] stock_train[1:end-2] ones(length(sent_train)-2)]\n",
    "        Xval = [sent_val[3:end] stock_val[2:end-1] stock_val[1:end-2] ones(length(sent_val)-2)]\n",
    "        Ytrain = stock_train[3:end]\n",
    "        Yval = stock_val[3:end]\n",
    "    \n",
    "        w_cur = Xtrain\\Ytrain\n",
    "        w_set = vcat(w_set, w_cur)\n",
    "        pred = Xval*w_cur\n",
    "        err[3,i] = abs_err(Yval,pred)\n",
    "        w = hcat(w,w_set)\n",
    "    end\n",
    "    \n",
    "    avg_err = mean(err, dims=2)   # avg_abs_err\n",
    "    final_model = findmin(avg_err)[2][1]   # select model with min abs error\n",
    "    test_err = zeros(5)\n",
    "    model = [\"Naive Model\", \"AR1 Model\", \"AR2 Model\"]\n",
    "    \n",
    "    for i in 1:5\n",
    "        stock_test = stock[split[2]-44:split[2]]\n",
    "        sent_test = sentiments[split[2]-44:split[2]]\n",
    "    \n",
    "        if final_model == 1   # Naive Model\n",
    "            Xtest = [sent_test ones(length(sent_test))]\n",
    "            Ytest = stock_test\n",
    "    \n",
    "            w_cur = w[1:2, i+1]\n",
    "            pred = Xtest*w_cur\n",
    "            test_err[i] = abs_err(Ytest,pred)\n",
    "        \n",
    "        elseif final_model == 2   # AR1 Model\n",
    "            Xtest = [sent_test[2:end] stock_test[1:end-1] ones(length(stock_test)-1)]\n",
    "            Ytest = stock_test[2:end]\n",
    "        \n",
    "            w_cur = w[3:5, i+1]\n",
    "            pred = Xtest*w_cur\n",
    "            test_err[i] = abs_err(Ytest,pred)\n",
    "        \n",
    "        elseif final_model == 3   # AR2 Model\n",
    "            Xtest = [sent_test[3:end] stock_test[2:end-1] stock_test[1:end-2] ones(length(stock_test)-2)]\n",
    "            Ytest = stock_test[3:end]\n",
    "        \n",
    "            w_cur = w[6:9, i+1]\n",
    "            pred = Xtest*w_cur\n",
    "            test_err[i] = abs_err(Ytest,pred)\n",
    "        \n",
    "        else\n",
    "            print(\"error\")\n",
    "        end\n",
    "    end\n",
    "    string(\"selected model: \", model[final_model], \", estimated error is: \", mean(test_err))\n",
    "end"
   ]
  },
  {
   "cell_type": "code",
   "execution_count": 64,
   "metadata": {},
   "outputs": [
    {
     "name": "stdout",
     "output_type": "stream",
     "text": [
      "Zoom's selected model: AR1 Model, estimated error is: 5.262542472978059"
     ]
    }
   ],
   "source": [
    "print(string(\"Zoom's \", select_best_model(zoom)))"
   ]
  },
  {
   "cell_type": "code",
   "execution_count": 65,
   "metadata": {},
   "outputs": [
    {
     "name": "stdout",
     "output_type": "stream",
     "text": [
      "Facebook's selected model: AR2 Model, estimated error is: 3.60482317762198"
     ]
    }
   ],
   "source": [
    "print(string(\"Facebook's \", select_best_model(facebook)))"
   ]
  },
  {
   "cell_type": "code",
   "execution_count": 66,
   "metadata": {},
   "outputs": [
    {
     "name": "stdout",
     "output_type": "stream",
     "text": [
      "Amazon's selected model: AR1 Model, estimated error is: 38.69454988436996"
     ]
    }
   ],
   "source": [
    "print(string(\"Amazon's \", select_best_model(amazon)))"
   ]
  },
  {
   "cell_type": "code",
   "execution_count": 67,
   "metadata": {},
   "outputs": [
    {
     "name": "stdout",
     "output_type": "stream",
     "text": [
      "Cisco's selected model: AR1 Model, estimated error is: 0.7080081210430337"
     ]
    }
   ],
   "source": [
    "print(string(\"Cisco's \", select_best_model(cisco)))"
   ]
  },
  {
   "cell_type": "code",
   "execution_count": 68,
   "metadata": {},
   "outputs": [
    {
     "name": "stdout",
     "output_type": "stream",
     "text": [
      "Netflix's selected model: AR2 Model, estimated error is: 7.438791900378485"
     ]
    }
   ],
   "source": [
    "print(string(\"Netflix's \", select_best_model(netflix)))"
   ]
  },
  {
   "cell_type": "code",
   "execution_count": 69,
   "metadata": {},
   "outputs": [
    {
     "name": "stdout",
     "output_type": "stream",
     "text": [
      "Intel's selected model: AR2 Model, estimated error is: 1.1471729741465313"
     ]
    }
   ],
   "source": [
    "print(string(\"Intel's \", select_best_model(intel)))"
   ]
  },
  {
   "cell_type": "code",
   "execution_count": 70,
   "metadata": {},
   "outputs": [
    {
     "name": "stdout",
     "output_type": "stream",
     "text": [
      "Tesla's selected model: AR1 Model, estimated error is: 4.469760184403543"
     ]
    }
   ],
   "source": [
    "print(string(\"Tesla's \", select_best_model(tesla)))"
   ]
  },
  {
   "cell_type": "code",
   "execution_count": 71,
   "metadata": {},
   "outputs": [
    {
     "name": "stdout",
     "output_type": "stream",
     "text": [
      "Alibaba's selected model: AR2 Model, estimated error is: 2.5954142978046635"
     ]
    }
   ],
   "source": [
    "print(string(\"Alibaba's \", select_best_model(alibaba)))"
   ]
  },
  {
   "cell_type": "code",
   "execution_count": 72,
   "metadata": {},
   "outputs": [
    {
     "name": "stdout",
     "output_type": "stream",
     "text": [
      "Microsoft's selected model: AR2 Model, estimated error is: 2.9370369678142176"
     ]
    }
   ],
   "source": [
    "print(string(\"Microsoft's \", select_best_model(microsoft)))"
   ]
  },
  {
   "cell_type": "code",
   "execution_count": 73,
   "metadata": {},
   "outputs": [
    {
     "name": "stdout",
     "output_type": "stream",
     "text": [
      "Nvidia's selected model: AR2 Model, estimated error is: 5.976192919151061"
     ]
    }
   ],
   "source": [
    "print(string(\"Nvidia's \", select_best_model(nvidia)))"
   ]
  }
 ],
 "metadata": {
  "kernelspec": {
   "display_name": "Julia 1.5.1",
   "language": "julia",
   "name": "julia-1.5"
  },
  "language_info": {
   "file_extension": ".jl",
   "mimetype": "application/julia",
   "name": "julia",
   "version": "1.5.1"
  }
 },
 "nbformat": 4,
 "nbformat_minor": 4
}
